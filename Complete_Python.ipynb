{
  "cells": [
    {
      "cell_type": "markdown",
      "metadata": {
        "id": "0ocxNQhA7ioV"
      },
      "source": [
        "# 1. Introduction to Python"
      ]
    },
    {
      "cell_type": "markdown",
      "metadata": {
        "id": "YHnNkEWWn196"
      },
      "source": [
        "## Background Information\n",
        "<div>\n",
        "    <p>\n",
        "        <ul>\n",
        "            <li>Started in 1991</li>\n",
        "            <li>Created by Guido van Rossum</li>\n",
        "            <li>Used for Data Science, Web Development, and Automation</li>\n",
        "            <li>Open Source</li>\n",
        "            <li>Huge Community</li>\n",
        "        </ul>\n",
        "    </p>\n",
        "</div>"
      ]
    },
    {
      "cell_type": "markdown",
      "metadata": {
        "id": "4Rx1gQUHJHrp"
      },
      "source": [
        "## Reasons for Growth of Python\n",
        "<div>\n",
        "    <div>\n",
        "        <ul>\n",
        "            <li>Increase in the amount of data available.</li>\n",
        "            <li>Python is relatively easy to use.</li>\n",
        "            <li>Because of the ease of use, people outside the Computer Science background are also picking it.</li>\n",
        "            <li>Universities are switching to Open Source languages like Python and R.</li>\n",
        "        </ul>\n",
        "    </div>\n",
        "</div>"
      ]
    },
    {
      "cell_type": "markdown",
      "metadata": {
        "id": "uld6oSBQdSB9"
      },
      "source": [
        "## Python Version\n",
        "<p>We can check which version of Python is installed on our machine using the command <code>python --version</code> or <code>python3 --version</code>. If the Python version is not displayed, then we will need to download and install Python from the official website.</p>"
      ]
    },
    {
      "cell_type": "markdown",
      "metadata": {
        "id": "8AVv8sSCikvZ"
      },
      "source": [
        "## Python Interactive Version\n",
        "<div>\n",
        "    <p>We can access and use the Python's interactive version using the <code>python</code> or <code>python3</code> command in Terminal or Command Prompt or Window Powershell.</p>\n",
        "    <p>We can execute the Python Statements directly in the interactive version.</p>\n",
        "    <p>We can obtain the Copyright information using the <code>copyright()</code> command.</p>\n",
        "    <p>We can obtain the information about credits using the <code>credits()</code> command which which will give us the names of the companies which participated in Python Development.</p>\n",
        "    <p>We can come out of the interactive version using the <code>exit()</code> command in the interactive version.</p>\n",
        "</div>"
      ]
    },
    {
      "cell_type": "markdown",
      "metadata": {
        "id": "JjsHnnQSbrOh"
      },
      "source": [
        "# 2. IDEs & Code Editors\n",
        "<p>Some of the most common IDEs and Code Editors for Python Development are:</p>\n",
        "<ol>\n",
        "    <li><img src=\"https://drive.google.com/uc?id=105zeCkO3dLbBqEv9BHxlWOeUbf_OcyY5\" alt=\"PyCharm IDE\" height=\"20px\"> PyCharm</li>\n",
        "    <li><img src=\"https://drive.google.com/uc?id=1wInpWNaOBQZbbjyNs8Pg6k7tUMzxpAWt\" alt=\"Visual Studio Code\" height=\"20px\"> Visual Studio Code + Code Runner Extension</li>\n",
        "    <li><img src=\"https://drive.google.com/uc?id=1yuhVD5lvqKe8sJrnRnHDYvYlkBxpbCZb\" alt=\"Atom Code Editor\" height=\"20px\"> Atom</li>\n",
        "    <li><img src=\"https://drive.google.com/uc?id=13m5hr14MGzMpaK_EvRdVixdYQb8w5iHA\" alt=\"Sublime Text\" height=\"20px\"> Sublime Text</li>\n",
        "    <li><img src=\"https://drive.google.com/uc?id=1QSwcWioVSZe7MLGihXoKNiiJH78BzJpu\" alt=\"Anaconda Navigator\" height=\"20px\"> Anaconda</li>\n",
        "    <li><img src=\"https://drive.google.com/uc?id=17xtDT_0NtVcsiOiGrXxrY1FzBqcW29YO\" alt=\"Jupyter Notebook\" height=\"20px\"> Jupyter Notebook</li>\n",
        "</ol>"
      ]
    },
    {
      "cell_type": "markdown",
      "metadata": {
        "id": "UDxD7Q4LoWHX"
      },
      "source": [
        "## Software - Anaconda\n",
        "<div>\n",
        "    <div>\n",
        "        <p>Anaconda is a free and open-source distribution of thye Python and R programming language for scientific computing, that aims to simplify package management and deployment. A lot of Python packages are pre-installed with this software.</p>\n",
        "    </div>\n",
        "</div>"
      ]
    },
    {
      "cell_type": "markdown",
      "metadata": {
        "id": "QRiYuSylbdDo"
      },
      "source": [
        "## Software - Jupyter\n",
        "<div>\n",
        "    <div>\n",
        "        <p>The Jupyter Notebook is an open-source web application that allows you to create and share documents that contain live code, equations, visualizations and narrative text. The name Jupyter comes from the following programming languages: Julia, Python and R.</p>\n",
        "    </div>\n",
        "</div>"
      ]
    },
    {
      "cell_type": "markdown",
      "metadata": {
        "id": "hHU70advn8Hk"
      },
      "source": [
        "# 3. Interpreted and Compiled Languages"
      ]
    },
    {
      "cell_type": "markdown",
      "metadata": {
        "id": "oSsLs2Z064R5"
      },
      "source": [
        "### Interpreted Languages: Advantages and Disadvantages\n",
        "<table>\n",
        "    <thead>\n",
        "        <tr>\n",
        "            <td>Advantages</td>\n",
        "            <td>Disadvantages</td>\n",
        "        </tr>\n",
        "    </thead>\n",
        "    <tbody>\n",
        "        <tr>\n",
        "            <td>Dynamic Typing</td>\n",
        "            <td>No type checking</td>\n",
        "        </tr>\n",
        "        <tr>\n",
        "            <td>Fast Turnaround Time</td>\n",
        "            <td>Slow Performance</td>\n",
        "        </tr>\n",
        "        <tr>\n",
        "            <td>Portability</td>\n",
        "            <td>Execution is dependent on the environment and language version</td>\n",
        "        </tr>\n",
        "        <tr>\n",
        "            <td>Focused execution</td>\n",
        "            <td>Limited hardware control and Memory Management</td>\n",
        "        </tr>\n",
        "        <tr>\n",
        "            <td>Easy to debug, simple functionality</td>\n",
        "            <td></td>\n",
        "        </tr>\n",
        "    </tbody>\n",
        "</table>"
      ]
    },
    {
      "cell_type": "markdown",
      "metadata": {
        "id": "-VMO5upeoEcI"
      },
      "source": [
        "### Compiled Languages: Advantages and Disadvantages\n",
        "<table>\n",
        "    <thead>\n",
        "        <tr>\n",
        "            <td>Advantages</td>\n",
        "            <td>Disadvantages</td>\n",
        "        </tr>\n",
        "    </thead>\n",
        "    <tbody>\n",
        "        <tr>\n",
        "            <td>Fast Execution speed</td>\n",
        "            <td>Hardware specific</td>\n",
        "        </tr>\n",
        "        <tr>\n",
        "            <td>Easier access to hardware</td>\n",
        "            <td>Require compilation before execution</td>\n",
        "        </tr>\n",
        "        <tr>\n",
        "            <td>Efficient at Memory Management</td>\n",
        "            <td>Higher Coding Standards</td>\n",
        "        </tr>\n",
        "        <tr>\n",
        "            <td>Self-contained Languages</td>\n",
        "            <td>Slow Turnaround Time</td>\n",
        "        </tr>\n",
        "        <tr>\n",
        "            <td>Large Debugging Toolbox</td>\n",
        "            <td></td>\n",
        "        </tr>\n",
        "    </tbody>\n",
        "</table>"
      ]
    },
    {
      "cell_type": "markdown",
      "metadata": {
        "id": "sRVuONLiFj_b"
      },
      "source": [
        "# 4. Tiobe Index\n",
        "<div>\n",
        "    <div>\n",
        "        <table>\n",
        "            <thead>\n",
        "                <tr>\n",
        "                    <td>Oct 2020</td>\n",
        "                    <td>Oct 2019</td>\n",
        "                    <td>Programming Language</td>\n",
        "                    <td>Rantings</td>\n",
        "                    <td>Change</td>\n",
        "                </tr>\n",
        "            </thead>\n",
        "            <tbody>\n",
        "                <tr>\n",
        "                    <td>1</td>\n",
        "                    <td>2</td>\n",
        "                    <td>C</td>\n",
        "                    <td>16.95%</td>\n",
        "                    <td>0.77%</td>\n",
        "                </tr>\n",
        "                <tr>\n",
        "                    <td>2</td>\n",
        "                    <td>1</td>\n",
        "                    <td>Java</td>\n",
        "                    <td>12.56%</td>\n",
        "                    <td>-4.32%</td>\n",
        "                </tr>\n",
        "                <tr>\n",
        "                    <td>3</td>\n",
        "                    <td>3</td>\n",
        "                    <td>Python</td>\n",
        "                    <td>11.28%</td>\n",
        "                    <td>+2.19%</td>\n",
        "                </tr>\n",
        "                <tr>\n",
        "                    <td>4</td>\n",
        "                    <td>4</td>\n",
        "                    <td>C++</td>\n",
        "                    <td>6.94%</td>\n",
        "                    <td>+0.71%</td>\n",
        "                </tr>\n",
        "                <tr>\n",
        "                    <td>5</td>\n",
        "                    <td>5</td>\n",
        "                    <td>C#</td>\n",
        "                    <td>4.16%</td>\n",
        "                    <td>+0.30%</td>\n",
        "                </tr>\n",
        "                <tr>\n",
        "                    <td>6</td>\n",
        "                    <td>6</td>\n",
        "                    <td>Visual Basic</td>\n",
        "                    <td>3.97%</td>\n",
        "                    <td>+0.23%</td>\n",
        "                </tr>\n",
        "                <tr>\n",
        "                    <td>8</td>\n",
        "                    <td>9</td>\n",
        "                    <td>PHP</td>\n",
        "                    <td>2.09%</td>\n",
        "                    <td>+0.18%</td>\n",
        "                </tr>\n",
        "                <tr>\n",
        "                    <td>9</td>\n",
        "                    <td>15</td>\n",
        "                    <td>R</td>\n",
        "                    <td>1.99%</td>\n",
        "                    <td>+0.73%</td>\n",
        "                </tr>\n",
        "                <tr>\n",
        "                    <td>10</td>\n",
        "                    <td>8</td>\n",
        "                    <td>SQL</td>\n",
        "                    <td>1.57%</td>\n",
        "                    <td>-0.37%</td>\n",
        "                </tr>\n",
        "            </tbody>\n",
        "        </table>\n",
        "    </div>\n",
        "</div>\n"
      ]
    },
    {
      "cell_type": "markdown",
      "metadata": {
        "id": "SklXdkAZkSeP"
      },
      "source": [
        "# 5. Basic Concepts in Python"
      ]
    },
    {
      "cell_type": "markdown",
      "metadata": {
        "id": "dojAADVxkUcI"
      },
      "source": [
        "## Key Concepts in Python"
      ]
    },
    {
      "cell_type": "markdown",
      "metadata": {
        "id": "4yPvSMhxoO67"
      },
      "source": [
        "### Objects\n",
        "<div>\n",
        "    <p>Python is an Object-oriented Programming Language. All Entities (Strings, Integers, Functions etc.) in Python are <b style = \"color: red;\">Objects</b>. An <span style = \"color: redl\">Object</span> is always an instance of a specific <span style = \"color: blue;\">Class</span>.</p>\n",
        "</div>"
      ]
    },
    {
      "cell_type": "markdown",
      "metadata": {
        "id": "uaxOIUsqot0A"
      },
      "source": [
        "### Classes\n",
        "<div>\n",
        "    <p>A <b style = \"color: blue;\">Class</b> is a template or prototype for creating objects. We can create as <span style = \"color: red\">many</span> object based on the <span style = \"color: blue\">same</span> class but these would be independent and different from each other. We can perform different operations using different objects. Each such object is called Instance of that specific class.</p>\n",
        "</div>"
      ]
    },
    {
      "cell_type": "markdown",
      "metadata": {
        "id": "xEL69mzYwJ46"
      },
      "source": [
        "### Attributes\n",
        "<div>\n",
        "    <p class=\"content\">Each object has <b style = \"color: red\">Attributes</b>. An Object Attribute is called a <b style=\"color: blue;\">Method</b> if its value is a <b style=\"color: red;\">Function</b>. Each object would have: Own Attributes and Inherited Attributes.</p>\n",
        "</div>"
      ]
    },
    {
      "cell_type": "markdown",
      "metadata": {
        "id": "2uj9KOrkkd3z"
      },
      "source": [
        "## Main Data Types in Python\n",
        "<div>\n",
        "    <p>Some of the main data types in Python are:</p>\n",
        "    <ul>\n",
        "        <li>String</li>\n",
        "        <li>Integer</li>\n",
        "        <li>Boolean</li>\n",
        "        <li>List: These are ordered sequences of elements. The order of elements in the list does matter.</li>\n",
        "        <li>Dictionary: It is a set of Key-value pairs. The keys are mentioned within <code>''</code> or <code>\"\"</code>. We can modify the values in dictionaries.</li>\n",
        "    </ul>\n",
        "</div>"
      ]
    },
    {
      "cell_type": "markdown",
      "metadata": {
        "id": "ZvhF0CYKkUcK"
      },
      "source": [
        "### Strings"
      ]
    },
    {
      "cell_type": "code",
      "execution_count": null,
      "metadata": {
        "id": "IMMXZGB2kUcK",
        "outputId": "1ad5b859-0cc8-42d6-d17c-c4231bd0647d",
        "colab": {
          "base_uri": "https://localhost:8080/"
        }
      },
      "outputs": [
        {
          "output_type": "stream",
          "name": "stdout",
          "text": [
            "Hello, world!\n",
            "Hello, world!\n"
          ]
        }
      ],
      "source": [
        "print('Hello, world!')\n",
        "print(\"Hello, world!\")"
      ]
    },
    {
      "cell_type": "markdown",
      "metadata": {
        "id": "7dAs7mknkUcM"
      },
      "source": [
        "### Integers"
      ]
    },
    {
      "cell_type": "code",
      "execution_count": null,
      "metadata": {
        "id": "ql8nX1-GkUcM",
        "outputId": "2adc330e-837f-4bde-90cc-7661f7bc35bc",
        "colab": {
          "base_uri": "https://localhost:8080/"
        }
      },
      "outputs": [
        {
          "output_type": "stream",
          "name": "stdout",
          "text": [
            "1\n",
            "-1\n"
          ]
        }
      ],
      "source": [
        "print(1)\n",
        "print(-1)"
      ]
    },
    {
      "cell_type": "markdown",
      "metadata": {
        "id": "k5KC74x9kUcN"
      },
      "source": [
        "### Booleans\n",
        "<div>\n",
        "    <p>The Boolean values begin with a capital alphabet. If we use lowercase alphabets, then Python will throw an error as Python will interpret them as names of variables.</p>\n",
        "</div>"
      ]
    },
    {
      "cell_type": "code",
      "execution_count": null,
      "metadata": {
        "id": "yeg9S2DzkUcN",
        "outputId": "af0da6b1-0865-4708-e78d-2c18a5ee3189",
        "colab": {
          "base_uri": "https://localhost:8080/"
        }
      },
      "outputs": [
        {
          "output_type": "stream",
          "name": "stdout",
          "text": [
            "True\n",
            "False\n"
          ]
        }
      ],
      "source": [
        "print(True)\n",
        "print(False)"
      ]
    },
    {
      "cell_type": "markdown",
      "metadata": {
        "id": "DZnN9GcbkUcO"
      },
      "source": [
        "### Lists"
      ]
    },
    {
      "cell_type": "code",
      "execution_count": null,
      "metadata": {
        "id": "QvhK9fQpkUcO",
        "outputId": "d9ff2877-66d7-4e83-b7d5-c2d34843378e",
        "colab": {
          "base_uri": "https://localhost:8080/"
        }
      },
      "outputs": [
        {
          "output_type": "stream",
          "name": "stdout",
          "text": [
            "Empty List: []\n"
          ]
        }
      ],
      "source": [
        "# Empty List\n",
        "print(\"Empty List: {}\".format([]))"
      ]
    },
    {
      "cell_type": "code",
      "execution_count": null,
      "metadata": {
        "id": "TMsdrX9EkUcO",
        "outputId": "754fe37d-2fd8-4238-b0a5-33baef910d43",
        "colab": {
          "base_uri": "https://localhost:8080/"
        }
      },
      "outputs": [
        {
          "output_type": "stream",
          "name": "stdout",
          "text": [
            "Elements in the List: [1, 2, 3, 4, 5]\n"
          ]
        }
      ],
      "source": [
        "# List with Elements\n",
        "print(\"Elements in the List: {}\".format([1,2,3,4,5]))"
      ]
    },
    {
      "cell_type": "markdown",
      "metadata": {
        "id": "ti7dgmnckUcP"
      },
      "source": [
        "### Dictionaries"
      ]
    },
    {
      "cell_type": "code",
      "execution_count": null,
      "metadata": {
        "id": "sLtqrGyDkUcP",
        "outputId": "77ab397b-ebdd-4004-f9d3-4de779f67e7d",
        "colab": {
          "base_uri": "https://localhost:8080/"
        }
      },
      "outputs": [
        {
          "output_type": "stream",
          "name": "stdout",
          "text": [
            "Empty List: {}\n"
          ]
        }
      ],
      "source": [
        "# Empty Dictionary\n",
        "print(\"Empty List: {}\".format({}))"
      ]
    },
    {
      "cell_type": "code",
      "execution_count": null,
      "metadata": {
        "id": "lauwc3EkkUcP",
        "outputId": "6d413b76-0079-4e2c-c843-a78e87cf2d16",
        "colab": {
          "base_uri": "https://localhost:8080/"
        }
      },
      "outputs": [
        {
          "output_type": "stream",
          "name": "stdout",
          "text": [
            "Empty List: {'key': 1}\n"
          ]
        }
      ],
      "source": [
        "# Non-empty Dictionary\n",
        "print(\"Empty List: {}\".format({'key': 1}))"
      ]
    },
    {
      "cell_type": "markdown",
      "metadata": {
        "id": "hhQEyPaDkUcQ"
      },
      "source": [
        "<p>We can create a dictionary in multiple lines as well.</p>"
      ]
    },
    {
      "cell_type": "code",
      "execution_count": null,
      "metadata": {
        "id": "G3Qz8Vx1kUcQ",
        "outputId": "d28e1a13-ca01-4770-fcd7-6694be03f2bf",
        "colab": {
          "base_uri": "https://localhost:8080/"
        }
      },
      "outputs": [
        {
          "output_type": "stream",
          "name": "stdout",
          "text": [
            "Empty List: {'key_1': 1, 'key_2': 2}\n"
          ]
        }
      ],
      "source": [
        "# Non-empty Dictionary\n",
        "dictionary = {\n",
        "                'key_1': 1,\n",
        "                'key_2': 2\n",
        "             }\n",
        "print(\"Empty List: {}\".format(dictionary))"
      ]
    },
    {
      "cell_type": "markdown",
      "metadata": {
        "id": "TewWWvNikblL"
      },
      "source": [
        "# 6. Expressions and Instructions"
      ]
    },
    {
      "cell_type": "markdown",
      "metadata": {
        "id": "zQkjD5ZtgwAe"
      },
      "source": [
        "## Simple Arithmetic Operations\n",
        "<div>    \n",
        "    <div>\n",
        "        <p>Use the cells below to make the following calculations:</p>\n",
        "        <ol>\n",
        "            <li>20 plus 30 (the code is given, just run the cell)</li>\n",
        "            <li>20 minus 30</li>\n",
        "            <li>20 times 30</li>\n",
        "            <li>20 divided by 30</li>\n",
        "            <li>20 to the power 30 (*hint*: use two asterisks: `**`)</li>\n",
        "        </ol>\n",
        "    </div>\n",
        "</div>"
      ]
    },
    {
      "cell_type": "code",
      "execution_count": null,
      "metadata": {
        "id": "i4RPM5R4hOan",
        "outputId": "f1d88744-e5ca-47aa-f676-62c171ffaac9",
        "colab": {
          "base_uri": "https://localhost:8080/"
        }
      },
      "outputs": [
        {
          "output_type": "execute_result",
          "data": {
            "text/plain": [
              "50"
            ]
          },
          "metadata": {},
          "execution_count": 9
        }
      ],
      "source": [
        "# Addition\n",
        "20 + 30"
      ]
    },
    {
      "cell_type": "code",
      "execution_count": null,
      "metadata": {
        "id": "8ikao2GlhOTg",
        "outputId": "31c2e828-804f-4092-f8af-e861473e59eb",
        "colab": {
          "base_uri": "https://localhost:8080/"
        }
      },
      "outputs": [
        {
          "output_type": "execute_result",
          "data": {
            "text/plain": [
              "-10"
            ]
          },
          "metadata": {},
          "execution_count": 10
        }
      ],
      "source": [
        "# Subtraction\n",
        "20 - 30"
      ]
    },
    {
      "cell_type": "code",
      "execution_count": null,
      "metadata": {
        "id": "iIP7pCBIhONN",
        "outputId": "c77a030e-eaed-4390-e088-0df124a9a450",
        "colab": {
          "base_uri": "https://localhost:8080/"
        }
      },
      "outputs": [
        {
          "output_type": "execute_result",
          "data": {
            "text/plain": [
              "600"
            ]
          },
          "metadata": {},
          "execution_count": 11
        }
      ],
      "source": [
        "# Multiplication\n",
        "20 * 30"
      ]
    },
    {
      "cell_type": "code",
      "execution_count": null,
      "metadata": {
        "id": "EebvQi6ehOFe",
        "outputId": "cb250d7a-784f-4934-e4f6-dea396d7bec6",
        "colab": {
          "base_uri": "https://localhost:8080/"
        }
      },
      "outputs": [
        {
          "output_type": "execute_result",
          "data": {
            "text/plain": [
              "0.6666666666666666"
            ]
          },
          "metadata": {},
          "execution_count": 12
        }
      ],
      "source": [
        "# Division\n",
        "20 / 30"
      ]
    },
    {
      "cell_type": "code",
      "execution_count": null,
      "metadata": {
        "id": "3Ja4CsGRhNKX",
        "outputId": "9b259cd1-c2f6-4a48-ffe3-b6c7d886c6cb",
        "colab": {
          "base_uri": "https://localhost:8080/"
        }
      },
      "outputs": [
        {
          "output_type": "execute_result",
          "data": {
            "text/plain": [
              "1073741824000000000000000000000000000000"
            ]
          },
          "metadata": {},
          "execution_count": 13
        }
      ],
      "source": [
        "# Exponent\n",
        "20 ** 30"
      ]
    },
    {
      "cell_type": "markdown",
      "metadata": {
        "id": "qQLO75AahrBx"
      },
      "source": [
        "## Variables\n",
        "<div>\n",
        "    <div>\n",
        "        <ol>\n",
        "            <li>Create a variable `a` and assign the value `20`, so `a = 20`</li>\n",
        "            <li>Create a variable `b` and assign the value `30`</li>\n",
        "            <li>Add `a` and `b`, the outcome should be 50</li>\n",
        "            <li>Multiply `a` by `b`, the outcome should be 600</li>\n",
        "        </ol>\n",
        "    </div>\n",
        "</div>"
      ]
    },
    {
      "cell_type": "code",
      "execution_count": null,
      "metadata": {
        "id": "JAu4qcdJh_-c"
      },
      "outputs": [],
      "source": [
        "# Create a variable `a` and assign the value `20`, so `a = 20`\n",
        "a = 20"
      ]
    },
    {
      "cell_type": "code",
      "execution_count": null,
      "metadata": {
        "id": "Kv7A7zsrh_1l"
      },
      "outputs": [],
      "source": [
        "# Create a variable `b` and assign the value `30`\n",
        "b = 30"
      ]
    },
    {
      "cell_type": "code",
      "execution_count": null,
      "metadata": {
        "id": "xc5W56A7h_y-",
        "outputId": "225e556f-5753-44f1-ed7c-f0b8b833a147",
        "colab": {
          "base_uri": "https://localhost:8080/"
        }
      },
      "outputs": [
        {
          "output_type": "execute_result",
          "data": {
            "text/plain": [
              "50"
            ]
          },
          "metadata": {},
          "execution_count": 16
        }
      ],
      "source": [
        "# Add `a` and `b`, the outcome should be 50\n",
        "a + b"
      ]
    },
    {
      "cell_type": "code",
      "execution_count": null,
      "metadata": {
        "id": "6uxTq7Dkh_C0",
        "outputId": "41097085-c743-4283-eda1-a9ce049a2033",
        "colab": {
          "base_uri": "https://localhost:8080/"
        }
      },
      "outputs": [
        {
          "output_type": "execute_result",
          "data": {
            "text/plain": [
              "600"
            ]
          },
          "metadata": {},
          "execution_count": 17
        }
      ],
      "source": [
        "# Multiply `a` by `b`, the outcome should be 600\n",
        "a * b"
      ]
    },
    {
      "cell_type": "code",
      "execution_count": null,
      "metadata": {
        "id": "ZnD4VjUf5FZq",
        "outputId": "22efeb32-d86c-4f49-ce12-c67259cfefbb",
        "colab": {
          "base_uri": "https://localhost:8080/"
        }
      },
      "outputs": [
        {
          "output_type": "stream",
          "name": "stdout",
          "text": [
            "500\n"
          ]
        }
      ],
      "source": [
        "# Reassign and print\n",
        "x = 100\n",
        "y = 5\n",
        "print(x * y)"
      ]
    },
    {
      "cell_type": "code",
      "execution_count": null,
      "metadata": {
        "id": "5BlGD41Q5cH3"
      },
      "outputs": [],
      "source": [
        "# Print undeclared variable\n",
        "# print(c)\n",
        "# uncomment the above statement to see the output"
      ]
    },
    {
      "cell_type": "markdown",
      "metadata": {
        "id": "F4UKveRo5gYB"
      },
      "source": [
        "The output obtained for the above case is:\n",
        "\n",
        "---------------------------------------------------------------------------\n",
        "\n",
        "NameError                                 Traceback (most recent call last)<br>\n",
        "<ipython-input-1-c0be985ee631> in <cell line: 2>()<br>\n",
        "&nbsp;&nbsp;&nbsp;&nbsp;&nbsp;&nbsp;&nbsp;1 # Print undeclared variable<br>\n",
        "----> 2 print(c)\n",
        "\n",
        "NameError: name 'c' is not defined"
      ]
    },
    {
      "cell_type": "markdown",
      "metadata": {
        "id": "wy3DoOvtiazX"
      },
      "source": [
        "Calculate the value of `c` in $a^{2}$ + $b^{2}$ = $c^{2}$? (Pythagorean Theorem)"
      ]
    },
    {
      "cell_type": "code",
      "execution_count": null,
      "metadata": {
        "id": "CFIG1JTeiRbK",
        "outputId": "3487b06b-4442-468e-d95b-5f6746309889",
        "colab": {
          "base_uri": "https://localhost:8080/"
        }
      },
      "outputs": [
        {
          "output_type": "stream",
          "name": "stdout",
          "text": [
            "5.0\n"
          ]
        }
      ],
      "source": [
        "a = 4\n",
        "b = 3\n",
        "c = ((a ** 2) + (b ** 2)) ** 0.5\n",
        "print(c)"
      ]
    },
    {
      "cell_type": "markdown",
      "metadata": {
        "id": "-akiesQbW64H"
      },
      "source": [
        "## <code>print()</code> Statement"
      ]
    },
    {
      "cell_type": "markdown",
      "metadata": {
        "id": "U-RZcXW7VwyY"
      },
      "source": [
        "Every <code>print()</code> statement uses it's own line. For example:"
      ]
    },
    {
      "cell_type": "code",
      "execution_count": null,
      "metadata": {
        "id": "_OLCkS9OV30K",
        "outputId": "ee70f129-a4e7-46ff-bb0c-0a453d1c7875",
        "colab": {
          "base_uri": "https://localhost:8080/"
        }
      },
      "outputs": [
        {
          "output_type": "stream",
          "name": "stdout",
          "text": [
            "4\n",
            "5\n"
          ]
        }
      ],
      "source": [
        "x = 4\n",
        "y = 5\n",
        "print(x)\n",
        "print(y)"
      ]
    },
    {
      "cell_type": "markdown",
      "metadata": {
        "id": "3BOsx6ckXAOh"
      },
      "source": [
        "### Using Separator"
      ]
    },
    {
      "cell_type": "markdown",
      "metadata": {
        "id": "O1psH8W9WH6B"
      },
      "source": [
        "We can print the values together as well, using <code>','</code>, which will place a space between the values of the variables as:"
      ]
    },
    {
      "cell_type": "code",
      "execution_count": null,
      "metadata": {
        "id": "Ao8rf360WMaL",
        "outputId": "c7e86659-0403-4d56-a7c2-8c619c017365",
        "colab": {
          "base_uri": "https://localhost:8080/"
        }
      },
      "outputs": [
        {
          "output_type": "stream",
          "name": "stdout",
          "text": [
            "New Delhi India\n"
          ]
        }
      ],
      "source": [
        "city = \"New Delhi\"\n",
        "country = \"India\"\n",
        "print(city, country)"
      ]
    },
    {
      "cell_type": "markdown",
      "metadata": {
        "id": "AKfLJMzpWiHr"
      },
      "source": [
        "<p>The above way to print is a default way to print using the separator but we can add some parameters as well, for example:</p>"
      ]
    },
    {
      "cell_type": "code",
      "execution_count": null,
      "metadata": {
        "id": "UCzbky1HWvyr",
        "outputId": "f05e940f-2b5b-439d-f3ec-a552c541cc4b",
        "colab": {
          "base_uri": "https://localhost:8080/"
        }
      },
      "outputs": [
        {
          "output_type": "stream",
          "name": "stdout",
          "text": [
            "New Delhi : India\n"
          ]
        }
      ],
      "source": [
        "print(city, country, sep=\" : \")"
      ]
    },
    {
      "cell_type": "markdown",
      "metadata": {
        "id": "whzIPbxLpCg4"
      },
      "source": [
        "### Using End-of-Line\n",
        "<p>By default, we have the <code>\\n</code> as the default character but we can change it by assigning the required value to the using the <code>end</code> parameter of <code>print()</code> statement.</p>"
      ]
    },
    {
      "cell_type": "code",
      "execution_count": null,
      "metadata": {
        "id": "ufuQRy0qXFxs",
        "outputId": "14e890a2-5a83-4cf4-ade6-5e8d4fd9dd17",
        "colab": {
          "base_uri": "https://localhost:8080/"
        }
      },
      "outputs": [
        {
          "output_type": "stream",
          "name": "stdout",
          "text": [
            "New Delhi.India\n"
          ]
        }
      ],
      "source": [
        "print(city, end=\".\")\n",
        "print(country)"
      ]
    },
    {
      "cell_type": "markdown",
      "metadata": {
        "id": "m0Pz31ZoX9AL"
      },
      "source": [
        "<p>Since we changed the end-of-line character for the first statement, we can see it in the output that both the values are printed in the same line.</p>"
      ]
    },
    {
      "cell_type": "markdown",
      "metadata": {
        "id": "b8wlUrYaZDMB"
      },
      "source": [
        "# Introduction to Functions and Built-in Functions in Python"
      ]
    },
    {
      "cell_type": "markdown",
      "metadata": {
        "id": "uRntCf-HkUce"
      },
      "source": [
        "## User-defined Functions"
      ]
    },
    {
      "cell_type": "markdown",
      "metadata": {
        "id": "z-m4-Lx6kUce"
      },
      "source": [
        "<div>\n",
        "    <p>We can create our own functions in Python as:</p>\n",
        "    <pre><code>\n",
        "        def my_function(a, b):\n",
        "            a = a + 1\n",
        "            c = a + b\n",
        "            return c\n",
        "    </code></pre>\n",
        "    <p>The user=defined functions consist of the following:</p>\n",
        "    <ol>\n",
        "        <li>Function Name</li>\n",
        "        <li>Function Parameters</li>\n",
        "        <li>Function Body</li>\n",
        "        <li>Colon after Parenthesis</li>\n",
        "        <li>Return statement</li>\n",
        "    </ol>\n",
        "    <p>If we do not mention the return statement, then Python will just return <code>null</code> as the return value.</p>\n",
        "</div>"
      ]
    },
    {
      "cell_type": "markdown",
      "metadata": {
        "id": "-q_nbfO9kUcf"
      },
      "source": [
        "## Built-in Functions"
      ]
    },
    {
      "cell_type": "markdown",
      "metadata": {
        "id": "C4zJwm6IkUcf"
      },
      "source": [
        "<div>\n",
        "    <p><code>print()</code> is one of the built-in function. We use the parenthesis <code>()</code> to call a function. Usually when we call a function, we have to pass an argument. Let's see what happens when we try to print information about <code>print</code> function as:</p>\n",
        "</div>"
      ]
    },
    {
      "cell_type": "code",
      "execution_count": null,
      "metadata": {
        "id": "aDFEJ96vkUcf",
        "outputId": "1afbfe4a-c7ec-4095-a9ef-41a4c968bcbc",
        "colab": {
          "base_uri": "https://localhost:8080/"
        }
      },
      "outputs": [
        {
          "output_type": "stream",
          "name": "stdout",
          "text": [
            "<built-in function print>\n"
          ]
        }
      ],
      "source": [
        "print(print)"
      ]
    },
    {
      "cell_type": "markdown",
      "metadata": {
        "id": "Mrkh-KpIkUcf"
      },
      "source": [
        "<div>\n",
        "    <p>If we were to try this with all the other built-in functions, then we will receive the same result.</p>\n",
        "    <p>We can access all the available attributes using the <code>.</code> operator as:</p>\n",
        "</div>"
      ]
    },
    {
      "cell_type": "code",
      "execution_count": null,
      "metadata": {
        "id": "xTMnVC4xkUcg",
        "colab": {
          "base_uri": "https://localhost:8080/"
        },
        "outputId": "da03c686-f16e-40e2-bfee-5c0512327845"
      },
      "outputs": [
        {
          "output_type": "stream",
          "name": "stdout",
          "text": [
            "AASHISH\n"
          ]
        }
      ],
      "source": [
        "name = 'Aashish'\n",
        "print(name.upper())"
      ]
    },
    {
      "cell_type": "markdown",
      "source": [
        "<div>\n",
        "    <p>Here, <code>upper</code> is an attribute and it is a <span style = \"color:green;\">Method</span>. It is called and used using the Dot Operator.</p>\n",
        "</div>"
      ],
      "metadata": {
        "id": "0Mm9QW6NVoy-"
      }
    },
    {
      "cell_type": "markdown",
      "source": [
        "## Defining and Using Functions\n",
        "<div>\n",
        "    <p>Functions in Python are created using the <code>def</code> keyword. So, we can use the following syntax:</p>\n",
        "</div>\n",
        "\n",
        "```python\n",
        "def FUNCTION_NAME():\n",
        "    FUNCTION_STATEMENTS\n",
        "\n",
        "# Calling the Function\n",
        "FUNCTION_NAME()\n",
        "```\n",
        "\n",
        "<div>\n",
        "    <p>We can pass parameters to the function as:</p>\n",
        "</div>\n",
        "\n",
        "```python\n",
        "def FUNCTION_NAME(parameter1, parameter2):\n",
        "    FUNCTION_STATEMENTS\n",
        "    print(\"Parameter 1: {}\".format(parameter1))\n",
        "    print(\"Parameter 2: {}\".format(parameter2))\n",
        "\n",
        "# Calling the Function\n",
        "FUNCTION_NAME(argument1, argument2)\n",
        "```\n",
        "\n",
        "<div>\n",
        "    <p>Example:</p>\n",
        "</div>"
      ],
      "metadata": {
        "id": "q3Q4zksl0iJu"
      }
    },
    {
      "cell_type": "code",
      "source": [
        "def add_numbers(a, b):\n",
        "    sum = a + b\n",
        "    print(\"Sum: {}\".format(sum))\n",
        "\n",
        "add_numbers(5, 10)"
      ],
      "metadata": {
        "colab": {
          "base_uri": "https://localhost:8080/"
        },
        "id": "_dacV5yo2zQ0",
        "outputId": "d4f30d20-06b1-4898-fa15-41c69141da90"
      },
      "execution_count": null,
      "outputs": [
        {
          "output_type": "stream",
          "name": "stdout",
          "text": [
            "Sum: 15\n"
          ]
        }
      ]
    },
    {
      "cell_type": "markdown",
      "source": [
        "<div>\n",
        "    <p>If we were to call the function with the arguments, then we will receive an error.</p>\n",
        "</div>"
      ],
      "metadata": {
        "id": "_hPEmJxg2z78"
      }
    },
    {
      "cell_type": "markdown",
      "source": [
        "## Using the <code>return</code> statement in Functions\n",
        "<div>\n",
        "    <p>We can create the function as:</p>\n",
        "</div>"
      ],
      "metadata": {
        "id": "KpposI-A3XoH"
      }
    },
    {
      "cell_type": "code",
      "source": [
        "def multiply_numbers(a, b):\n",
        "    product = a * b\n",
        "    return product\n",
        "\n",
        "result = multiply_numbers(5, 10)\n",
        "print(\"Product: {}\".format(result))"
      ],
      "metadata": {
        "colab": {
          "base_uri": "https://localhost:8080/"
        },
        "id": "b0T8_KX93nnJ",
        "outputId": "3a58a2a1-89dc-4ad6-fd2e-87364ed28f6e"
      },
      "execution_count": null,
      "outputs": [
        {
          "output_type": "stream",
          "name": "stdout",
          "text": [
            "Product: 50\n"
          ]
        }
      ]
    },
    {
      "cell_type": "markdown",
      "source": [
        "<div>\n",
        "    <p>Now, suppose we do not add the return statement to the above function as:</p>\n",
        "</div>\n",
        "\n",
        "```python\n",
        "def multiply_numbers(a, b):\n",
        "    product = a * b\n",
        "\n",
        "result = multiply_numbers(5, 10)\n",
        "print(\"Product: {}\".format(result))\n",
        "```\n",
        "\n",
        "<div>\n",
        "    <p>In this case, we will receive <code>None</code> as the result. <code>None</code> is the default value which is returned by any statement.</p>\n",
        "    <p>Once, we have provided the <code>return</code> statement, we cannot provide anymore statements in that method. So, the <code>return</code> statement is the last statement to be executed in any method. This is because as soon as the function returns the value, the control is given back to the point of execution where that function was called from. Due to this, for the statements provided after the <code>return</code> statement, we will recieve Error/Warning stating, \"This code is unreachable\".</p>\n",
        "</div>"
      ],
      "metadata": {
        "id": "hxaBfmak4Wxr"
      }
    },
    {
      "cell_type": "markdown",
      "metadata": {
        "id": "vWgDoRVnkUcg"
      },
      "source": [
        "## Common Built-in Functions"
      ]
    },
    {
      "cell_type": "markdown",
      "source": [
        "### Print Function\n",
        "<div>\n",
        "    <p>This is the most commonly used built-in function. We have the definition for it as:</p>\n",
        "</div>\n",
        "\n",
        "```python\n",
        "def print(\n",
        "    *values: object, sep: string, end: string, file: file, flush: boolean\n",
        ") -> None: ...\n",
        "```\n",
        "\n",
        "<div>\n",
        "    <p>In the above method, we can see that the return type of the function is <code>None</code>. This method will always return <code>None</code> no matter what we pass to the function. We have the documentation as:</p>\n",
        "</div>\n",
        "\n",
        "```python\n",
        "def print(\n",
        "    *values: object,\n",
        "    sep: str | None = ...,\n",
        "    end: str | None = ...,  \n",
        "    file: SupportsWrite[str] | None = ...,\n",
        "    flush: bool = ...\n",
        ") -> None: ...\n",
        "```\n",
        "\n",
        "<div>\n",
        "    <p><b>Description </b>: The function prints the values to a stream, or to sys.stdout by default. We have the following parameters:</p>\n",
        "    <ul>\n",
        "        <li><b><code>sep</code></b>: string inserted between values, default is a space.</li>\n",
        "        <li><b><code>end</code></b>: string appended after the last value, default a newline.</li>\n",
        "        <li><b><code>file</code></b>: a file-like object (stream); defaults to the current <code>sys.stdout</code>.</li>\n",
        "        <li><b><code>flush</code></b>: whether to forcibly flush the stream.</li>\n",
        "    </ul>\n",
        "</div>"
      ],
      "metadata": {
        "id": "xeW7VXS-6HiL"
      }
    },
    {
      "cell_type": "code",
      "source": [
        "print(\"Name: {}\".format(\"Aashish Bansal\"))"
      ],
      "metadata": {
        "colab": {
          "base_uri": "https://localhost:8080/"
        },
        "id": "H9X9hve06QFZ",
        "outputId": "bd92c3cf-3705-4a6f-885f-6dff73772189"
      },
      "execution_count": null,
      "outputs": [
        {
          "output_type": "stream",
          "name": "stdout",
          "text": [
            "Name: Aashish Bansal\n"
          ]
        }
      ]
    },
    {
      "cell_type": "markdown",
      "metadata": {
        "id": "1KuMZuPhrfAm"
      },
      "source": [
        "### Absolute Value\n",
        "<p><code>abs()</code> returns the absolute value of a number.</p>"
      ]
    },
    {
      "cell_type": "code",
      "execution_count": null,
      "metadata": {
        "id": "hhJQRY85ryoB",
        "outputId": "be88a6ef-09bc-4b4a-c5e7-00087f42f2eb",
        "colab": {
          "base_uri": "https://localhost:8080/"
        }
      },
      "outputs": [
        {
          "output_type": "stream",
          "name": "stdout",
          "text": [
            "42\n"
          ]
        }
      ],
      "source": [
        "Absolute_value = abs(-42)\n",
        "print(Absolute_value)"
      ]
    },
    {
      "cell_type": "markdown",
      "metadata": {
        "id": "L5Z65LldtiuY"
      },
      "source": [
        "### Check Truth Values"
      ]
    },
    {
      "cell_type": "markdown",
      "metadata": {
        "id": "KSGHi1OFuOE3"
      },
      "source": [
        "<p><code>any()</code> returns True if at least one element of an iterable is True.</p>"
      ]
    },
    {
      "cell_type": "code",
      "execution_count": null,
      "metadata": {
        "id": "upfgLv6yuIst",
        "outputId": "b9c55f48-12f9-427a-f4f4-416fb1cfc15b",
        "colab": {
          "base_uri": "https://localhost:8080/"
        }
      },
      "outputs": [
        {
          "output_type": "stream",
          "name": "stdout",
          "text": [
            "True\n"
          ]
        }
      ],
      "source": [
        "Bool_list = [True, False, True, True]\n",
        "print(any(Bool_list))"
      ]
    },
    {
      "cell_type": "markdown",
      "metadata": {
        "id": "cUNKw-9DuWKE"
      },
      "source": [
        "<p><code>all()</code> returns True if all elements of an iterable are True.</p>"
      ]
    },
    {
      "cell_type": "code",
      "execution_count": null,
      "metadata": {
        "id": "31u-0gB3uXiR",
        "outputId": "6639046d-9eed-4315-9724-4b5b9c7fe4cc",
        "colab": {
          "base_uri": "https://localhost:8080/"
        }
      },
      "outputs": [
        {
          "output_type": "stream",
          "name": "stdout",
          "text": [
            "False\n"
          ]
        }
      ],
      "source": [
        "print(all(Bool_list))"
      ]
    },
    {
      "cell_type": "markdown",
      "metadata": {
        "id": "glnZSFHwuvdv"
      },
      "source": [
        "### Convert to Character and Unicode"
      ]
    },
    {
      "cell_type": "markdown",
      "metadata": {
        "id": "XtfwnD2hu3Ao"
      },
      "source": [
        "<p><code>chr()</code> converts an ASCII Value to a character.</p>"
      ]
    },
    {
      "cell_type": "code",
      "execution_count": null,
      "metadata": {
        "id": "fd3oqduEvHF-",
        "outputId": "b2923648-a638-4fa7-901f-1e8367275e9c",
        "colab": {
          "base_uri": "https://localhost:8080/"
        }
      },
      "outputs": [
        {
          "output_type": "stream",
          "name": "stdout",
          "text": [
            "A\n"
          ]
        }
      ],
      "source": [
        "Char_value = chr(65)\n",
        "print(Char_value)"
      ]
    },
    {
      "cell_type": "markdown",
      "metadata": {
        "id": "YoLAlpm2vGfL"
      },
      "source": [
        "<p><code>ord()</code> returns the Unicode code point of a character.</p>"
      ]
    },
    {
      "cell_type": "code",
      "execution_count": null,
      "metadata": {
        "id": "yLxvlt2Uvd9P",
        "outputId": "bf341812-8938-4ab6-e1c0-7c005ad4be4e",
        "colab": {
          "base_uri": "https://localhost:8080/"
        }
      },
      "outputs": [
        {
          "output_type": "stream",
          "name": "stdout",
          "text": [
            "8364\n"
          ]
        }
      ],
      "source": [
        "Unicode_value = ord('€')\n",
        "print(Unicode_value)"
      ]
    },
    {
      "cell_type": "markdown",
      "metadata": {
        "id": "JEWJngN7oNK9"
      },
      "source": [
        "### Determine Length\n",
        "<p>The <code>len()</code> function returns the number of items in an object. It works with sequences like strings, lists, and tuples.</p>"
      ]
    },
    {
      "cell_type": "code",
      "execution_count": null,
      "metadata": {
        "colab": {
          "base_uri": "https://localhost:8080/"
        },
        "id": "ypXcT7F36JdC",
        "outputId": "cceaad65-e080-4846-b062-836e0f89608a"
      },
      "outputs": [
        {
          "output_type": "stream",
          "name": "stdout",
          "text": [
            "14\n"
          ]
        }
      ],
      "source": [
        "string_length = len(\"Hello, Python!\")\n",
        "print(string_length)"
      ]
    },
    {
      "cell_type": "code",
      "execution_count": null,
      "metadata": {
        "id": "PB6_hpLco64K",
        "outputId": "c098af4a-6d9d-413e-8fe0-205bec223b4d",
        "colab": {
          "base_uri": "https://localhost:8080/"
        }
      },
      "outputs": [
        {
          "output_type": "stream",
          "name": "stdout",
          "text": [
            "5\n"
          ]
        }
      ],
      "source": [
        "list_length = len([1,2,3,4,5])\n",
        "print(list_length)"
      ]
    },
    {
      "cell_type": "markdown",
      "metadata": {
        "id": "UZvQkPu_qvKD"
      },
      "source": [
        "### Find Maximum and Minimum\n",
        "<p><code>max()</code> and <code>min()</code> return the maximum and minimum values of a sequence or multiple arguments.</p>"
      ]
    },
    {
      "cell_type": "code",
      "execution_count": null,
      "metadata": {
        "id": "bnGKnaNAkUck",
        "outputId": "21b25177-3497-4a1e-f3f5-3b1f974cd001",
        "colab": {
          "base_uri": "https://localhost:8080/"
        }
      },
      "outputs": [
        {
          "output_type": "stream",
          "name": "stdout",
          "text": [
            "Minimum value in the list: 5\n"
          ]
        }
      ],
      "source": [
        "x = min(5, 10, 25)\n",
        "print(\"Minimum value in the list: {}\".format(x))"
      ]
    },
    {
      "cell_type": "code",
      "execution_count": null,
      "metadata": {
        "id": "8OmpeQXNkUcl",
        "outputId": "7e6afde1-884c-4b31-ecf4-67d113bf52d5",
        "colab": {
          "base_uri": "https://localhost:8080/"
        }
      },
      "outputs": [
        {
          "output_type": "stream",
          "name": "stdout",
          "text": [
            "25\n",
            "Maximum value in the list: 25\n"
          ]
        }
      ],
      "source": [
        "y = max(5, 10, 25)\n",
        "print(y)\n",
        "print(\"Maximum value in the list: {}\".format(y))"
      ]
    },
    {
      "cell_type": "markdown",
      "metadata": {
        "id": "b4IIZthOpUw0"
      },
      "source": [
        "### Get Type Information\n",
        "<p><code>type()</code> returns the type of an object. It will provide the name of the class which is used for the creation of the specific object. This is particularly useful when dealing with dynamic typing in Python.</p>"
      ]
    },
    {
      "cell_type": "code",
      "execution_count": null,
      "metadata": {
        "id": "8hH5gQs7p7ES",
        "outputId": "223e803e-9799-43bc-a785-cc3a6d266c92",
        "colab": {
          "base_uri": "https://localhost:8080/"
        }
      },
      "outputs": [
        {
          "output_type": "stream",
          "name": "stdout",
          "text": [
            "<class 'int'>\n"
          ]
        }
      ],
      "source": [
        "Var_type = type(42)\n",
        "print(Var_type)"
      ]
    },
    {
      "cell_type": "code",
      "execution_count": null,
      "metadata": {
        "id": "X4DK4J0hqFAB",
        "outputId": "3b3c4144-e7a8-4e8d-da47-af5d70ca3bec",
        "colab": {
          "base_uri": "https://localhost:8080/"
        }
      },
      "outputs": [
        {
          "output_type": "stream",
          "name": "stdout",
          "text": [
            "<class 'str'>\n"
          ]
        }
      ],
      "source": [
        "Var_type_str = type(\"Hello\")\n",
        "print(Var_type_str)"
      ]
    },
    {
      "cell_type": "markdown",
      "metadata": {
        "id": "au6pM_YIkUcm"
      },
      "source": [
        "### List of Available Attributes for an Object"
      ]
    },
    {
      "cell_type": "markdown",
      "source": [
        "<div>\n",
        "    <p>We have the documentation for the <code>dir()</code> function as:</p>\n",
        "    <b>Syntax:</b>\n",
        "</div>\n",
        "\n",
        "```python\n",
        "def dir(__o: object = ...) -> list[str]\n",
        "```\n",
        "\n",
        "<div>\n",
        "    <p><code>dir([object]) -> list of strings</code></p>\n",
        "    <p>If called without an argument, return the names in the current scope. Else, return an alphabetized list of names comprising (some of) the attributes of the given object, and of attributes reachable from it. if the object supplies a method name <code>__dir__</code>, it will be used; otherwise the default <code>dir()</code> logic is used and returns.</p>\n",
        "    <p>for a module object: the module's attributes. for a class object: its attributes, and recursively the attributes of its bases.</p>\n",
        "    <p>for any other object: its attributes, its class' attributes, and recursively the attributes of its class' base classes.</p>\n",
        "</div>"
      ],
      "metadata": {
        "id": "vqmEaPdy8toR"
      }
    },
    {
      "cell_type": "markdown",
      "source": [
        "<div>\n",
        "    <p>We can use the <code>dir()</code> function to obtain the list of attributes which we are available along with an object.</p>\n",
        "</div>"
      ],
      "metadata": {
        "id": "KGNJTQtF_GDA"
      }
    },
    {
      "cell_type": "code",
      "execution_count": null,
      "metadata": {
        "id": "owYo9kUikUcm",
        "colab": {
          "base_uri": "https://localhost:8080/"
        },
        "outputId": "9f20dd8e-7a7d-4546-abc2-683ab63a8849"
      },
      "outputs": [
        {
          "output_type": "stream",
          "name": "stdout",
          "text": [
            "['__add__', '__class__', '__contains__', '__delattr__', '__dir__', '__doc__', '__eq__', '__format__', '__ge__', '__getattribute__', '__getitem__', '__getnewargs__', '__gt__', '__hash__', '__init__', '__init_subclass__', '__iter__', '__le__', '__len__', '__lt__', '__mod__', '__mul__', '__ne__', '__new__', '__reduce__', '__reduce_ex__', '__repr__', '__rmod__', '__rmul__', '__setattr__', '__sizeof__', '__str__', '__subclasshook__', 'capitalize', 'casefold', 'center', 'count', 'encode', 'endswith', 'expandtabs', 'find', 'format', 'format_map', 'index', 'isalnum', 'isalpha', 'isascii', 'isdecimal', 'isdigit', 'isidentifier', 'islower', 'isnumeric', 'isprintable', 'isspace', 'istitle', 'isupper', 'join', 'ljust', 'lower', 'lstrip', 'maketrans', 'partition', 'removeprefix', 'removesuffix', 'replace', 'rfind', 'rindex', 'rjust', 'rpartition', 'rsplit', 'rstrip', 'split', 'splitlines', 'startswith', 'strip', 'swapcase', 'title', 'translate', 'upper', 'zfill']\n"
          ]
        }
      ],
      "source": [
        "name = 'Aashish'\n",
        "print(dir(name))"
      ]
    },
    {
      "cell_type": "markdown",
      "metadata": {
        "id": "2UZO1T-_kUcm"
      },
      "source": [
        "<div>\n",
        "    <p>We can see that the Object in the above code is a string which is an instance of the built-in class. From the output, we can see the number of attributes which are available along with this object which we can use while creating the logic. Most of the attributes are also inherited attributes which are inherited by the <code>name</code> variable. This list also consists of the names of several built-in methods.</p>\n",
        "</div>"
      ]
    },
    {
      "cell_type": "markdown",
      "source": [
        "<div>\n",
        "    <p>Now, suppose we print the function <code>dir()</code>, then we receive the following output:</p>\n",
        "</div>"
      ],
      "metadata": {
        "id": "LHS-XF1n_ikV"
      }
    },
    {
      "cell_type": "code",
      "source": [
        "print(dir())"
      ],
      "metadata": {
        "colab": {
          "base_uri": "https://localhost:8080/"
        },
        "id": "t73K8nAB_uRM",
        "outputId": "fe3534cd-4de2-47fb-8d51-5b070fa4e163"
      },
      "execution_count": null,
      "outputs": [
        {
          "output_type": "stream",
          "name": "stdout",
          "text": [
            "['Absolute_value', 'Bool_list', 'Char_value', 'In', 'Out', 'Unicode_value', 'Var_type', 'Var_type_str', '_', '_10', '_11', '_12', '_13', '_16', '_17', '_9', '__', '___', '__builtin__', '__builtins__', '__doc__', '__loader__', '__name__', '__package__', '__spec__', '_dh', '_i', '_i1', '_i10', '_i11', '_i12', '_i13', '_i14', '_i15', '_i16', '_i17', '_i18', '_i19', '_i2', '_i20', '_i21', '_i22', '_i23', '_i24', '_i25', '_i26', '_i27', '_i28', '_i29', '_i3', '_i30', '_i31', '_i32', '_i33', '_i34', '_i35', '_i36', '_i37', '_i38', '_i39', '_i4', '_i40', '_i41', '_i42', '_i5', '_i6', '_i7', '_i8', '_i9', '_ih', '_ii', '_iii', '_oh', 'a', 'add_numbers', 'b', 'c', 'city', 'country', 'dictionary', 'exit', 'get_ipython', 'list_length', 'multiply_numbers', 'name', 'quit', 'result', 'string_length', 'x', 'y']\n"
          ]
        }
      ]
    },
    {
      "cell_type": "markdown",
      "source": [
        "<div>\n",
        "    <p>So, this is the list of strings. This is the list of names which are available in the current scope. This is, basically, the list of variables which are directly accessible in the program.</p>\n",
        "    <p>Suppose we call the <code>__name__</code> value as:</p>\n",
        "</div>"
      ],
      "metadata": {
        "id": "tiFpQUX5_vgV"
      }
    },
    {
      "cell_type": "code",
      "source": [
        "print(__name__)"
      ],
      "metadata": {
        "colab": {
          "base_uri": "https://localhost:8080/"
        },
        "id": "SAFSK_o8AZJp",
        "outputId": "650d82ab-efdc-4922-9776-90415cfa91ae"
      },
      "execution_count": null,
      "outputs": [
        {
          "output_type": "stream",
          "name": "stdout",
          "text": [
            "__main__\n"
          ]
        }
      ]
    },
    {
      "cell_type": "markdown",
      "source": [
        "<div>\n",
        "    <p>This is the value obtained from the main file.</p>\n",
        "    <p>Suppose we call the <code>__builtins__</code> value as:</p>\n",
        "</div>"
      ],
      "metadata": {
        "id": "qq0usz_fBEOd"
      }
    },
    {
      "cell_type": "code",
      "source": [
        "print(__builtins__)"
      ],
      "metadata": {
        "colab": {
          "base_uri": "https://localhost:8080/"
        },
        "id": "c9TgXTtPBVZF",
        "outputId": "93a174c4-3919-4147-fa0c-330203f9c0da"
      },
      "execution_count": null,
      "outputs": [
        {
          "output_type": "stream",
          "name": "stdout",
          "text": [
            "<module 'builtins' (built-in)>\n"
          ]
        }
      ]
    },
    {
      "cell_type": "markdown",
      "source": [
        "<div>\n",
        "    <p>Here, we can see that this is a module. This module is built-in into Python and it contains all the built-in functions in Python.</p>\n",
        "</div>"
      ],
      "metadata": {
        "id": "Ht0wX9etBZY4"
      }
    },
    {
      "cell_type": "markdown",
      "source": [
        "<div>\n",
        "    <p>Now, we can obtain the list of values available for a specific method as:</p>\n",
        "</div>"
      ],
      "metadata": {
        "id": "UG6Od0qQBpH-"
      }
    },
    {
      "cell_type": "code",
      "source": [
        "print(dir(__builtins__))"
      ],
      "metadata": {
        "colab": {
          "base_uri": "https://localhost:8080/"
        },
        "id": "sfcERlfjBwhS",
        "outputId": "64cbd603-6173-45a2-d09f-2fe1b4ecf31e"
      },
      "execution_count": null,
      "outputs": [
        {
          "output_type": "stream",
          "name": "stdout",
          "text": [
            "['ArithmeticError', 'AssertionError', 'AttributeError', 'BaseException', 'BlockingIOError', 'BrokenPipeError', 'BufferError', 'BytesWarning', 'ChildProcessError', 'ConnectionAbortedError', 'ConnectionError', 'ConnectionRefusedError', 'ConnectionResetError', 'DeprecationWarning', 'EOFError', 'Ellipsis', 'EncodingWarning', 'EnvironmentError', 'Exception', 'False', 'FileExistsError', 'FileNotFoundError', 'FloatingPointError', 'FutureWarning', 'GeneratorExit', 'IOError', 'ImportError', 'ImportWarning', 'IndentationError', 'IndexError', 'InterruptedError', 'IsADirectoryError', 'KeyError', 'KeyboardInterrupt', 'LookupError', 'MemoryError', 'ModuleNotFoundError', 'NameError', 'None', 'NotADirectoryError', 'NotImplemented', 'NotImplementedError', 'OSError', 'OverflowError', 'PendingDeprecationWarning', 'PermissionError', 'ProcessLookupError', 'RecursionError', 'ReferenceError', 'ResourceWarning', 'RuntimeError', 'RuntimeWarning', 'StopAsyncIteration', 'StopIteration', 'SyntaxError', 'SyntaxWarning', 'SystemError', 'SystemExit', 'TabError', 'TimeoutError', 'True', 'TypeError', 'UnboundLocalError', 'UnicodeDecodeError', 'UnicodeEncodeError', 'UnicodeError', 'UnicodeTranslateError', 'UnicodeWarning', 'UserWarning', 'ValueError', 'Warning', 'ZeroDivisionError', '__IPYTHON__', '__build_class__', '__debug__', '__doc__', '__import__', '__loader__', '__name__', '__package__', '__spec__', 'abs', 'aiter', 'all', 'anext', 'any', 'ascii', 'bin', 'bool', 'breakpoint', 'bytearray', 'bytes', 'callable', 'chr', 'classmethod', 'compile', 'complex', 'copyright', 'credits', 'delattr', 'dict', 'dir', 'display', 'divmod', 'enumerate', 'eval', 'exec', 'execfile', 'filter', 'float', 'format', 'frozenset', 'get_ipython', 'getattr', 'globals', 'hasattr', 'hash', 'help', 'hex', 'id', 'input', 'int', 'isinstance', 'issubclass', 'iter', 'len', 'license', 'list', 'locals', 'map', 'max', 'memoryview', 'min', 'next', 'object', 'oct', 'open', 'ord', 'pow', 'print', 'property', 'range', 'repr', 'reversed', 'round', 'runfile', 'set', 'setattr', 'slice', 'sorted', 'staticmethod', 'str', 'sum', 'super', 'tuple', 'type', 'vars', 'zip']\n"
          ]
        }
      ]
    },
    {
      "cell_type": "markdown",
      "source": [
        "<div>\n",
        "    <p>This provides a list of different variables and functions available for the object.</p>\n",
        "</div>"
      ],
      "metadata": {
        "id": "knWkeJ3aB_-x"
      }
    },
    {
      "cell_type": "markdown",
      "metadata": {
        "id": "jI0yg18SkUcm"
      },
      "source": [
        "### Obtain Input from the User"
      ]
    },
    {
      "cell_type": "markdown",
      "source": [
        "<div>\n",
        "    <p>We have the documentation for the <code>input()</code> function as:</p>\n",
        "    <b>Syntax:</b>\n",
        "</div>\n",
        "\n",
        "```python\n",
        "def input(__prompt: Any = ...) -> str\n",
        "```\n",
        "\n",
        "<div>\n",
        "    <p><b>Description</b>: Read a string from standard input. The trailing newline is stripped.</p>\n",
        "    <p>The prompt string, if given, is printed to standard output without a trailing newline before reading input.</p>\n",
        "    <p>If the user hits EOF (*nix: Ctrl-D, Windows: Ctrl-Z+Return), raise EOFError. On *nix systems, readline is used if available.</p>\n",
        "</div>"
      ],
      "metadata": {
        "id": "kJDg3s5I-HsR"
      }
    },
    {
      "cell_type": "markdown",
      "source": [
        "<div>\n",
        "    <p>We can take an input from the user using the <code>input()</code> method. We can take input in the terminal of the application when we execute it. We can provide a prompt within the <code>()</code> which the user will be able to see. This method will take the value and assign it to the variable.</p>\n",
        "</div>"
      ],
      "metadata": {
        "id": "zkQsOpnc_ZzK"
      }
    },
    {
      "cell_type": "code",
      "execution_count": null,
      "metadata": {
        "id": "c3QtOfgCkUcn",
        "outputId": "7a964715-aa31-4c1b-9406-d7b602b64e36",
        "colab": {
          "base_uri": "https://localhost:8080/"
        }
      },
      "outputs": [
        {
          "output_type": "stream",
          "name": "stdout",
          "text": [
            "Enter your name:\n",
            "Aashish\n",
            "Hello, Aashish\n"
          ]
        }
      ],
      "source": [
        "print('Enter your name:')\n",
        "x = input()\n",
        "print('Hello, ' + x)"
      ]
    },
    {
      "cell_type": "code",
      "execution_count": null,
      "metadata": {
        "id": "Za6BDAYTkUcn",
        "colab": {
          "base_uri": "https://localhost:8080/"
        },
        "outputId": "43ad69ea-05b4-4fed-b7d4-9d71d0b522fc"
      },
      "outputs": [
        {
          "output_type": "stream",
          "name": "stdout",
          "text": [
            "Enter your name:Aashish\n",
            "Hello, Aashish\n"
          ]
        }
      ],
      "source": [
        "x = input('Enter your name:')\n",
        "print('Hello, ' + x)"
      ]
    },
    {
      "cell_type": "markdown",
      "metadata": {
        "id": "q4XaHKaTkUcn"
      },
      "source": [
        "<div>\n",
        "    <p>We need to remember that the <code>input()</code> function will always return a String. We can see that as:</p>\n",
        "</div>"
      ]
    },
    {
      "cell_type": "code",
      "source": [
        "x = input('Enter your name:')\n",
        "print('Hello, ' + x)\n",
        "print(\"Type of input is: {}\\n\".format(type(x)))\n",
        "\n",
        "x = input('Enter a number:')\n",
        "print('Number: ' + x)\n",
        "print(\"Type of input is: {}\".format(type(x)))"
      ],
      "metadata": {
        "colab": {
          "base_uri": "https://localhost:8080/"
        },
        "id": "qCHEdx0_E4JA",
        "outputId": "e454b8a7-76a1-4438-95a2-ec45f1ca6add"
      },
      "execution_count": null,
      "outputs": [
        {
          "output_type": "stream",
          "name": "stdout",
          "text": [
            "Enter your name:Aashish\n",
            "Hello, Aashish\n",
            "Type of input is: <class 'str'>\n",
            "\n",
            "Enter a number:1\n",
            "Number: 1\n",
            "Type of input is: <class 'str'>\n"
          ]
        }
      ]
    },
    {
      "cell_type": "markdown",
      "source": [
        "<div><p>We can convert the value of <code>input()</code> to a specific type using the built-in functions as:</p></div>"
      ],
      "metadata": {
        "id": "kKeb2DQGiP8O"
      }
    },
    {
      "cell_type": "code",
      "source": [
        "num = int(input(\"Enter any number: \"))\n",
        "print(\"Value of 'num': {}\\n\".format(num))\n",
        "print(\"Type of 'num': {}\".format(type(num)))"
      ],
      "metadata": {
        "colab": {
          "base_uri": "https://localhost:8080/"
        },
        "id": "vCakMRy4iXe6",
        "outputId": "c00fcf06-e152-4d47-bdde-09f667fb9d06"
      },
      "execution_count": null,
      "outputs": [
        {
          "output_type": "stream",
          "name": "stdout",
          "text": [
            "Enter any number: 1\n",
            "Value of 'num': 1\n",
            "\n",
            "Type of 'num': <class 'int'>\n"
          ]
        }
      ]
    },
    {
      "cell_type": "markdown",
      "metadata": {
        "id": "ZugJ3x0lkUcn"
      },
      "source": [
        "### Obtain Location of Spcific Object in Memory\n",
        "<div>\n",
        "    <p>We can use the <code>id()</code> function to obtain the location of a specific object in the memory.</p>\n",
        "</div>"
      ]
    },
    {
      "cell_type": "code",
      "execution_count": null,
      "metadata": {
        "id": "5rSkY9PrkUco",
        "outputId": "48902eb9-10ec-49b4-a049-101a00e78078",
        "colab": {
          "base_uri": "https://localhost:8080/"
        }
      },
      "outputs": [
        {
          "output_type": "stream",
          "name": "stdout",
          "text": [
            "The Memory Location where 'x' is stored is: 132932801420096\n"
          ]
        }
      ],
      "source": [
        "x = ('apple', 'banana', 'cherry')\n",
        "y = id(x)\n",
        "print(\"The Memory Location where 'x' is stored is: {}\".format(y))"
      ]
    },
    {
      "cell_type": "markdown",
      "metadata": {
        "id": "esSB2zbosAjd"
      },
      "source": [
        "### Round a Number\n",
        "<p><code>round()</code> rounds a floating-point number to the nearest integer.</p>"
      ]
    },
    {
      "cell_type": "code",
      "execution_count": null,
      "metadata": {
        "id": "sRleOxoPsYiM",
        "outputId": "490f00f3-b68d-481a-c06a-c58a4057b01a",
        "colab": {
          "base_uri": "https://localhost:8080/"
        }
      },
      "outputs": [
        {
          "output_type": "stream",
          "name": "stdout",
          "text": [
            "3\n"
          ]
        }
      ],
      "source": [
        "Rounded_value = round(3.14159)\n",
        "print(Rounded_value)"
      ]
    },
    {
      "cell_type": "markdown",
      "metadata": {
        "id": "x-t1zz4-sn-a"
      },
      "source": [
        "### Sort Iterable\n",
        "<p><code>sorted()</code> returns a sorted list from the specified iterable.</p>"
      ]
    },
    {
      "cell_type": "code",
      "execution_count": null,
      "metadata": {
        "id": "DUEILpf3tDvI",
        "outputId": "7c7bd179-4ef3-4bc7-8f31-9ec0960f3a43",
        "colab": {
          "base_uri": "https://localhost:8080/"
        }
      },
      "outputs": [
        {
          "output_type": "stream",
          "name": "stdout",
          "text": [
            "[1, 2, 3, 5, 8]\n"
          ]
        }
      ],
      "source": [
        "Unsorted_list = [5,1,8,3,2]\n",
        "Sorted_list = sorted(Unsorted_list)\n",
        "print(Sorted_list)"
      ]
    },
    {
      "cell_type": "markdown",
      "metadata": {
        "id": "bylI7OkbxjT_"
      },
      "source": [
        "### Sum of Elements\n",
        "<p><code>sum()</code> calculates the sum of all items in an iterable.</p>"
      ]
    },
    {
      "cell_type": "code",
      "execution_count": null,
      "metadata": {
        "id": "bGIXePlPrO72",
        "scrolled": true,
        "outputId": "b27f6ce1-66b8-497f-9165-0056227a45c9",
        "colab": {
          "base_uri": "https://localhost:8080/"
        }
      },
      "outputs": [
        {
          "output_type": "stream",
          "name": "stdout",
          "text": [
            "15\n"
          ]
        }
      ],
      "source": [
        "Numbers = [1,2,3,4,5]\n",
        "Sum_result = sum(Numbers)\n",
        "print(Sum_result)"
      ]
    },
    {
      "cell_type": "markdown",
      "metadata": {
        "id": "dNuODd5GkUcp"
      },
      "source": [
        "# 7. Code Formatting and PEP8"
      ]
    },
    {
      "cell_type": "markdown",
      "metadata": {
        "id": "1x8f5yVbkUcq"
      },
      "source": [
        "## Code Indentations"
      ]
    },
    {
      "cell_type": "markdown",
      "source": [
        "<div>\n",
        "    <p><b>Indents</b> in Python play an important role because with the help of indentation, Python tends to understand about the beginning and ending of a particular block of code. For example, if we create a function, we will have to indent the function body. So, the following code represents the correct syntax:</p>\n",
        "</div>\n",
        "\n",
        "```python\n",
        "def print_name_function(name):\n",
        "    print(name)\n",
        "```\n",
        "\n",
        "<div>\n",
        "    <p>The following code represents the incorrect syntax:</p>\n",
        "</div>\n",
        "\n",
        "```python\n",
        "def print_name_function(name):\n",
        "print(name)\n",
        "```\n",
        "\n",
        "<div>\n",
        "    <p>The above code will throw the following error:</p>\n",
        "    <code>IndentationError: expected an indented block</code>\n",
        "</div>\n",
        "<div>\n",
        "    <p>We should keep the indentation consistent across the complete program.</p>\n",
        "</div>"
      ],
      "metadata": {
        "id": "ayJT5LoVF_f7"
      }
    },
    {
      "cell_type": "markdown",
      "metadata": {
        "id": "XcPRuV4dkUcq"
      },
      "source": [
        "## Working with Indentations"
      ]
    },
    {
      "cell_type": "markdown",
      "source": [
        "<div>\n",
        "    <p>Suppose we have the following function:</p>\n",
        "</div>"
      ],
      "metadata": {
        "id": "l0fjKZXjHhSQ"
      }
    },
    {
      "cell_type": "code",
      "execution_count": null,
      "metadata": {
        "id": "iC0G4DIQkUcq"
      },
      "outputs": [],
      "source": [
        "def print_num(num):\n",
        "    print(num)"
      ]
    },
    {
      "cell_type": "code",
      "source": [
        "print_num(5)"
      ],
      "metadata": {
        "colab": {
          "base_uri": "https://localhost:8080/"
        },
        "id": "_6fXHtn2HzGJ",
        "outputId": "26fac749-ee10-479c-e322-6f15b5251ecc"
      },
      "execution_count": null,
      "outputs": [
        {
          "output_type": "stream",
          "name": "stdout",
          "text": [
            "5\n"
          ]
        }
      ]
    },
    {
      "cell_type": "markdown",
      "source": [
        "<div>\n",
        "    <p>We can see that there were no errors or warnings thrown by the function, which means that the code is correct and it gave the expected output.</p>\n",
        "</div>"
      ],
      "metadata": {
        "id": "weemO3i9H3hg"
      }
    },
    {
      "cell_type": "markdown",
      "metadata": {
        "id": "yQB3mkGhkUcq"
      },
      "source": [
        "## Following PEP8 Guidelines"
      ]
    },
    {
      "cell_type": "markdown",
      "source": [
        "<div>\n",
        "    <p><b>PEP</b> stands for <b>Python Enhancement Proposal</b>. It is just a document descibing recommendations for writing Python code.</p>\n",
        "    <p><b>URL</b>: <a href=\"https://peps.python.org/pep-0008/\" target=\"_blank\">https://peps.python.org/pep-0008/</a></p>\n",
        "    <p>The above documentation contains a lot of guidelines and recommendations for writing python code.</p>\n",
        "    <p>Some of the basic rules according to PEP8 are:</p>\n",
        "    <ul>\n",
        "        <li>Use <b>spaces</b> for indentations, not Tab.</li>\n",
        "        <li>The length of the lines should not be more than <b>79 characters</b>.</li>\n",
        "        <li><b>Functions</b> and <b>classes</b> must be separated from other lines of code by <b>two empty lines</b>.</li>\n",
        "        <li>Module imports should be on separate lines.</li>\n",
        "        <li><b>Comments</b> at the <b>end of the code line</b> should be separated by at least <b>two spaces</b>.</li>\n",
        "        <li><b>E117</b>: Over-indented. This will not throw any error and it means that we can potentially use more spaces.</li>\n",
        "        <li><b>E201</b>: Whitespace after '('. This means that we should not add any whitespace(s) before/after the actual argument(s).</li>\n",
        "        <li><b>E305</b>: Expected 2 blank lines after class or function definition.</li>\n",
        "    </ul>\n",
        "</div>"
      ],
      "metadata": {
        "id": "NVQMFTzDID4A"
      }
    },
    {
      "cell_type": "markdown",
      "metadata": {
        "id": "SOdbqqDKkUcr"
      },
      "source": [
        "# 8. Comments"
      ]
    },
    {
      "cell_type": "markdown",
      "metadata": {
        "id": "ap1iTMcnkUcr"
      },
      "source": [
        "## Comments\n",
        "<div>\n",
        "    <p>Using Comments, we can some block(s) of text which are ignored by the Python interpreter. We can add comment anywhere in teh code.</p>\n",
        "    <p>There are three different types of Comments in Python:</p>\n",
        "    <ol>\n",
        "        <li><b>Single-line Comment</b>: This comment is over a single line.</li>\n",
        "        <li><b>Multi-line Comment</b>: This comment is over multiple lines.</li>\n",
        "        <li><b>Code with Comment</b>: This is a comment after a code statement.</li>\n",
        "    </ol>\n",
        "</div>"
      ]
    },
    {
      "cell_type": "markdown",
      "metadata": {
        "id": "I3b5E_uBkUcr"
      },
      "source": [
        "## Adding Comments to Code"
      ]
    },
    {
      "cell_type": "code",
      "execution_count": null,
      "metadata": {
        "id": "BKakhQJQkUcr"
      },
      "outputs": [],
      "source": [
        "# This is a Single Line Comment"
      ]
    },
    {
      "cell_type": "code",
      "source": [
        "# This is a Muti-line\n",
        "# Comment\n",
        "\n",
        "'''\n",
        "This is also a\n",
        "multi-line comment.\n",
        "(This is actually a Documentation Comment.)\n",
        "'''\n",
        "\n",
        "\"\"\"\n",
        "Even this is a\n",
        "multi-line comment.\n",
        "(This is actually a Documentation Comment.)\n",
        "\"\"\""
      ],
      "metadata": {
        "colab": {
          "base_uri": "https://localhost:8080/",
          "height": 35
        },
        "id": "Tpdi75MYO8of",
        "outputId": "497d5052-8b7d-45c8-c5f5-e5a75e5ccfa9"
      },
      "execution_count": null,
      "outputs": [
        {
          "output_type": "execute_result",
          "data": {
            "text/plain": [
              "'\\nEven this is a \\nmulti-line comment.\\n(This is actually a Documentation Comment.)\\n'"
            ],
            "application/vnd.google.colaboratory.intrinsic+json": {
              "type": "string"
            }
          },
          "metadata": {},
          "execution_count": 58
        }
      ]
    },
    {
      "cell_type": "code",
      "source": [
        "print(1) # This is a Code with Comment statement"
      ],
      "metadata": {
        "colab": {
          "base_uri": "https://localhost:8080/"
        },
        "id": "b9nPZIddPC0j",
        "outputId": "10f3e312-c71d-4460-8b01-00cb3b8b2583"
      },
      "execution_count": null,
      "outputs": [
        {
          "output_type": "stream",
          "name": "stdout",
          "text": [
            "1\n"
          ]
        }
      ]
    },
    {
      "cell_type": "markdown",
      "metadata": {
        "id": "UXIJBaUJkUcs"
      },
      "source": [
        "# 9. Expressions and Instructions"
      ]
    },
    {
      "cell_type": "markdown",
      "metadata": {
        "id": "z9lhhOKrkUcs"
      },
      "source": [
        "## Understanding Expressions"
      ]
    },
    {
      "cell_type": "markdown",
      "source": [
        "<div>\n",
        "    <p>The result of an <b>Expression</b> is the <b>value</b>. Examples of expressions:</p>\n",
        "</div>"
      ],
      "metadata": {
        "id": "TV7iIrIZP-Gn"
      }
    },
    {
      "cell_type": "code",
      "execution_count": null,
      "metadata": {
        "id": "PjrRq-IvkUcs",
        "colab": {
          "base_uri": "https://localhost:8080/"
        },
        "outputId": "e4269687-d842-44d0-a7f3-17fe88c80dfa"
      },
      "outputs": [
        {
          "output_type": "execute_result",
          "data": {
            "text/plain": [
              "8"
            ]
          },
          "metadata": {},
          "execution_count": 60
        }
      ],
      "source": [
        "5 + 3 # 8 - Sum of the values"
      ]
    },
    {
      "cell_type": "code",
      "source": [
        "a > b # True or False"
      ],
      "metadata": {
        "colab": {
          "base_uri": "https://localhost:8080/"
        },
        "id": "PF2NWR8FQZDL",
        "outputId": "6e7bcc45-2e81-4090-9c7a-7ef4cd0ab0d5"
      },
      "execution_count": null,
      "outputs": [
        {
          "output_type": "execute_result",
          "data": {
            "text/plain": [
              "True"
            ]
          },
          "metadata": {},
          "execution_count": 61
        }
      ]
    },
    {
      "cell_type": "code",
      "source": [
        "'Hello ' + 'World' # 'Hello World"
      ],
      "metadata": {
        "colab": {
          "base_uri": "https://localhost:8080/",
          "height": 35
        },
        "id": "DbQJcPhOQgRW",
        "outputId": "d4a20375-fff9-4dbe-8d26-2a23d03db852"
      },
      "execution_count": null,
      "outputs": [
        {
          "output_type": "execute_result",
          "data": {
            "text/plain": [
              "'Hello World'"
            ],
            "application/vnd.google.colaboratory.intrinsic+json": {
              "type": "string"
            }
          },
          "metadata": {},
          "execution_count": 62
        }
      ]
    },
    {
      "cell_type": "code",
      "source": [
        "print_num(10) # Function result"
      ],
      "metadata": {
        "colab": {
          "base_uri": "https://localhost:8080/"
        },
        "id": "F0llb7KjQq2p",
        "outputId": "f3baaef9-ccd2-4e6f-a6ec-1ed077299af7"
      },
      "execution_count": null,
      "outputs": [
        {
          "output_type": "stream",
          "name": "stdout",
          "text": [
            "10\n"
          ]
        }
      ]
    },
    {
      "cell_type": "markdown",
      "source": [
        "<div><p>Even function calls are expressions because each function returns a specific value.</p></div>"
      ],
      "metadata": {
        "id": "gTPYuLS0Qv02"
      }
    },
    {
      "cell_type": "markdown",
      "metadata": {
        "id": "skXL_wxwkUcs"
      },
      "source": [
        "## Understanding Statements"
      ]
    },
    {
      "cell_type": "markdown",
      "source": [
        "<div>\n",
        "    <p><b>Statement</b> performs <b>Actions</b>.</p>\n",
        "    <p>Examples of Statements: </p>\n",
        "</div>"
      ],
      "metadata": {
        "id": "OXnsxa-aQ_sE"
      }
    },
    {
      "cell_type": "code",
      "execution_count": null,
      "metadata": {
        "id": "4CPDK4uPkUcs"
      },
      "outputs": [],
      "source": [
        "# Assigning a value\n",
        "my_name = \"Aashish\""
      ]
    },
    {
      "cell_type": "code",
      "source": [
        "# Conditional Statement\n",
        "if(my_name):\n",
        "    print(\"My Name: {}\".format(my_name))"
      ],
      "metadata": {
        "colab": {
          "base_uri": "https://localhost:8080/"
        },
        "id": "m-UCew5wgQEI",
        "outputId": "fb7682cd-6de8-437d-cf20-23833d0a3482"
      },
      "execution_count": null,
      "outputs": [
        {
          "output_type": "stream",
          "name": "stdout",
          "text": [
            "My Name: Aashish\n"
          ]
        }
      ]
    },
    {
      "cell_type": "markdown",
      "source": [
        "<div><p>In a Conditional Statement, we must provide a valid Expression for evaluation.</p></div>"
      ],
      "metadata": {
        "id": "_4Kzy0tlgdh6"
      }
    },
    {
      "cell_type": "code",
      "source": [
        "# Importing a module\n",
        "import datetime"
      ],
      "metadata": {
        "id": "YHY9rA3ggpFN"
      },
      "execution_count": null,
      "outputs": []
    },
    {
      "cell_type": "markdown",
      "metadata": {
        "id": "k1U6Sw3ikUcs"
      },
      "source": [
        "## Using Expressions"
      ]
    },
    {
      "cell_type": "markdown",
      "source": [
        "<div><p>Some ecamples of expressions are:</p></div>"
      ],
      "metadata": {
        "id": "zgviG3amg8ob"
      }
    },
    {
      "cell_type": "code",
      "execution_count": null,
      "metadata": {
        "id": "Z1RtGoqzkUcs",
        "colab": {
          "base_uri": "https://localhost:8080/"
        },
        "outputId": "a9c2c12d-9b8f-4400-851a-a5fad855b32e"
      },
      "outputs": [
        {
          "output_type": "stream",
          "name": "stdout",
          "text": [
            "Value of 'a': 5.0\n"
          ]
        }
      ],
      "source": [
        "a = 10 / 2\n",
        "print(\"Value of 'a': {}\".format(a))"
      ]
    },
    {
      "cell_type": "markdown",
      "source": [
        "<div><p>The return type of division operation is a floating-point value by default.</p></div>"
      ],
      "metadata": {
        "id": "XnJ-hkgyhLlP"
      }
    },
    {
      "cell_type": "code",
      "source": [
        "result = print()\n",
        "print(\"Value of 'result': {}\".format(result))"
      ],
      "metadata": {
        "colab": {
          "base_uri": "https://localhost:8080/"
        },
        "id": "4TJdinx0hXdK",
        "outputId": "db208370-0a43-45db-f5c6-a46ac0b1562c"
      },
      "execution_count": null,
      "outputs": [
        {
          "output_type": "stream",
          "name": "stdout",
          "text": [
            "\n",
            "Value of 'result': None\n"
          ]
        }
      ]
    },
    {
      "cell_type": "code",
      "source": [
        "print(\"Value from 'print()': {}\".format(print()))"
      ],
      "metadata": {
        "colab": {
          "base_uri": "https://localhost:8080/"
        },
        "id": "nt6Orwvhh9y4",
        "outputId": "7704532d-4ce9-4313-ef53-cb26cdcd39b6"
      },
      "execution_count": null,
      "outputs": [
        {
          "output_type": "stream",
          "name": "stdout",
          "text": [
            "\n",
            "Value from 'print()': None\n"
          ]
        }
      ]
    },
    {
      "cell_type": "markdown",
      "source": [
        "<div>\n",
        "    <p>We obtain this result because the <code>print()</code> statement has a return type of <code>None</code>. With this, we can say that each Function Call is an Expression because we can assign each of them to a variable and then use the result somewhere else.</p>\n",
        "</div>"
      ],
      "metadata": {
        "id": "FQZmtTEIhfa_"
      }
    },
    {
      "cell_type": "markdown",
      "source": [
        "<div><p>We can convert the value of <code>input()</code> to a specific type using the built-in functions as:</p></div>"
      ],
      "metadata": {
        "id": "6eqZPoOViItI"
      }
    },
    {
      "cell_type": "code",
      "source": [
        "num = int(input(\"Enter any number: \"))\n",
        "print(\"Value of 'num': {}\\n\".format(num))\n",
        "print(\"Type of 'num': {}\".format(type(num)))"
      ],
      "metadata": {
        "colab": {
          "base_uri": "https://localhost:8080/"
        },
        "id": "PWmymolni0Ft",
        "outputId": "fba1b083-4d69-4c1d-f8b7-ad26ac1be4ed"
      },
      "execution_count": null,
      "outputs": [
        {
          "output_type": "stream",
          "name": "stdout",
          "text": [
            "Enter any number: 1\n",
            "Value of 'num': 1\n",
            "\n",
            "Type of 'num': <class 'int'>\n"
          ]
        }
      ]
    },
    {
      "cell_type": "markdown",
      "source": [
        "<div><p>In the above code, we have the following expression:</p></div>\n",
        "\n",
        "```python\n",
        "input(\"Enter any number: \")\n",
        "```\n",
        "\n",
        "<div>\n",
        "    <p>Here, <code>int()</code> was expecting an expression as an argument.</p>\n",
        "    <p>We cannot add a function declaration or <code>if</code> statement to a <code>print()</code> statement because it is expecting an expression where the method declaration is actually statement(s).</p>\n",
        "    <p>We will also receive an error if we try to assign a value within a <code>print()</code> statement stating, \"Unexpected Argument\".</p>\n",
        "</div>"
      ],
      "metadata": {
        "id": "sxfjVQAwi2j0"
      }
    },
    {
      "cell_type": "markdown",
      "metadata": {
        "id": "2KR1t5ZkkUct"
      },
      "source": [
        "## Using Statements"
      ]
    },
    {
      "cell_type": "code",
      "execution_count": null,
      "metadata": {
        "id": "OZQWEE9xkUct"
      },
      "outputs": [],
      "source": [
        "# Statement\n",
        "a = 10"
      ]
    },
    {
      "cell_type": "code",
      "source": [
        "# if Statement\n",
        "if(10>2):\n",
        "    print(True)"
      ],
      "metadata": {
        "colab": {
          "base_uri": "https://localhost:8080/"
        },
        "id": "1PhciBT6kEow",
        "outputId": "f00c2983-a2c2-44bc-fa70-73a96d30ae4b"
      },
      "execution_count": null,
      "outputs": [
        {
          "output_type": "stream",
          "name": "stdout",
          "text": [
            "True\n"
          ]
        }
      ]
    },
    {
      "cell_type": "markdown",
      "source": [
        "<div><p>We will receive an error with the following statement:</p></div>\n",
        "\n",
        "```python\n",
        "print(if(10>2):\n",
        "    print(True))\n",
        "```"
      ],
      "metadata": {
        "id": "MafwdwbIlHfT"
      }
    },
    {
      "cell_type": "code",
      "source": [
        "# Function declaration is also a Statement\n",
        "def print_name(name):\n",
        "    print(\"Name: {}\".format(name))\n",
        "\n",
        "print_name(\"Aashish\")"
      ],
      "metadata": {
        "colab": {
          "base_uri": "https://localhost:8080/"
        },
        "id": "1ef8Q1GIkKAj",
        "outputId": "9d9ff5b5-4c80-4ff3-f9f2-b4c236f669aa"
      },
      "execution_count": null,
      "outputs": [
        {
          "output_type": "stream",
          "name": "stdout",
          "text": [
            "Name: Aashish\n"
          ]
        }
      ]
    },
    {
      "cell_type": "markdown",
      "source": [
        "<div><p>We will receive an error with the following statement:</p></div>\n",
        "\n",
        "```python\n",
        "print(def print_name(name):\n",
        "    print(\"Name: {}\".format(name)))\n",
        "```"
      ],
      "metadata": {
        "id": "UwzkY-mFlMO1"
      }
    },
    {
      "cell_type": "code",
      "source": [
        "# Import Statement\n",
        "import datetime\n",
        "# Here, we are importing one module to the current module.\n",
        "\n",
        "print(\"Value of 'MAXYEAR' Attribute: {}\".format(datetime.MAXYEAR))"
      ],
      "metadata": {
        "colab": {
          "base_uri": "https://localhost:8080/"
        },
        "id": "dLHXoJ1-kaR6",
        "outputId": "77b5520e-38d9-4bc3-c900-6bf774514548"
      },
      "execution_count": null,
      "outputs": [
        {
          "output_type": "stream",
          "name": "stdout",
          "text": [
            "Value of 'MAXYEAR' Attribute: 9999\n"
          ]
        }
      ]
    },
    {
      "cell_type": "markdown",
      "source": [
        "<div><p>We will receive an error with the following statement:</p></div>\n",
        "\n",
        "```python\n",
        "print(import datetime)\n",
        "```"
      ],
      "metadata": {
        "id": "YMfY0rhSk0r8"
      }
    },
    {
      "cell_type": "markdown",
      "metadata": {
        "id": "AbzzBftDkUct"
      },
      "source": [
        "# 10. Variables"
      ]
    },
    {
      "cell_type": "markdown",
      "metadata": {
        "id": "kAC6zLFlkUct"
      },
      "source": [
        "## Variables"
      ]
    },
    {
      "cell_type": "markdown",
      "source": [
        "<div>\n",
        "    <p>Variables make it possible to <b>keep values</b> for future access. They are like a storage for particular values. Technically, in Python, each variable is a pointer to a specific object in memory. Via specific variable, we can always go to that object, then read or modify that value. We can access these values using the Variable Name.</p>\n",
        "    <p>Naming conventions:</p>\n",
        "    <ul>\n",
        "        <li><b>Snake Case</b>: Mostly used for variables, functions, methods, modules. Example Syntax: <code>snake_case</code>.</li>\n",
        "        <li><b>Camel Case/Pascal Case</b>: Mostly used for Classes. Example Syntax: <code>PascalCase</code>.</li>\n",
        "        <li><b>Dashed Names</b>: Mostly used for package names. Example Syntax: <code>my-package</code>.</li>\n",
        "        <li><b>Upper Cased Snake Case</b>: Mostly used for Constant Variables. Example Syntax: <code>DB_PASSWORD</code>.</li>\n",
        "    </ul>\n",
        "    <p><b>Constant Variables</b> will have the same value throughout the program lifecycle.These values are generally assigned before the actual program execution begins.</p>\n",
        "</div>"
      ],
      "metadata": {
        "id": "S4Law2S2lZ6a"
      }
    },
    {
      "cell_type": "markdown",
      "source": [
        "## Declaration and Assignment"
      ],
      "metadata": {
        "id": "PhMhVulToU90"
      }
    },
    {
      "cell_type": "markdown",
      "source": [
        "<div><p>We can use the following syntax for declaring and assigning values:</p></div>\n",
        "\n",
        "```python\n",
        "NAME_OF_THE_VARIABLE = VALUE_TO_BE_ASSIGNED\n",
        "```\n",
        "\n",
        "<div><p>Example:</p></div>\n",
        "\n",
        "```python\n",
        "my_number = 10\n",
        "```\n",
        "\n",
        "<div><p>In Python, this is done on a single line of code. Here, <code>NAME_OF_THE_VARIABLE</code> is the ID of the object. We can always find the ID of the object using the built-in <code>id()</code> function.</p></div>"
      ],
      "metadata": {
        "id": "_ubn9qzHoZ3O"
      }
    },
    {
      "cell_type": "markdown",
      "source": [
        "<div><p>Python is a <b>dynamically</b> typed language which means we can assign any value to the variable without providing the data type as:</p></div>"
      ],
      "metadata": {
        "id": "oUax0cjBpV2c"
      }
    },
    {
      "cell_type": "code",
      "execution_count": null,
      "metadata": {
        "id": "GkB2IJKdkUct"
      },
      "outputs": [],
      "source": [
        "my_variable = 10\n",
        "my_variable = 'Aashish'\n",
        "my_variable = True"
      ]
    },
    {
      "cell_type": "markdown",
      "source": [
        "<div><p>The type of the variable is determined by the type of assigned <b>value</b>.</p></div>"
      ],
      "metadata": {
        "id": "twKd-mYPpt5a"
      }
    },
    {
      "cell_type": "code",
      "source": [
        "my_variable = 10\n",
        "print(\"Value in 'my_variable': {}\\n\".format(my_variable))\n",
        "\n",
        "my_variable = 'Aashish'\n",
        "print(\"Value in 'my_variable': {}\\n\".format(my_variable))\n",
        "\n",
        "my_variable = True\n",
        "print(\"Value in 'my_variable': {}\".format(my_variable))"
      ],
      "metadata": {
        "colab": {
          "base_uri": "https://localhost:8080/"
        },
        "id": "NlON6Djxp43M",
        "outputId": "5eabe0ec-b652-4f4e-8e22-cfc62767b51d"
      },
      "execution_count": null,
      "outputs": [
        {
          "output_type": "stream",
          "name": "stdout",
          "text": [
            "Value in 'my_variable': 10\n",
            "\n",
            "Value in 'my_variable': Aashish\n",
            "\n",
            "Value in 'my_variable': True\n"
          ]
        }
      ]
    },
    {
      "cell_type": "markdown",
      "source": [
        "<div><p>Every entity in Python is an object, and when we create an object, then Python creates an instance of the built-in class of the type of the value assigned to the variable.</p></div>"
      ],
      "metadata": {
        "id": "ZiaWaYDh4ILe"
      }
    },
    {
      "cell_type": "code",
      "source": [
        "# Instance of Integer class\n",
        "my_number = 10\n",
        "\n",
        "# Instance of String class\n",
        "my_string = 'abc'"
      ],
      "metadata": {
        "id": "DGkgCq854bRq"
      },
      "execution_count": null,
      "outputs": []
    },
    {
      "cell_type": "markdown",
      "metadata": {
        "id": "6l3mPkEdkUct"
      },
      "source": [
        "## Defining and using Variables"
      ]
    },
    {
      "cell_type": "markdown",
      "source": [
        "<div><p>Example:</p></div>"
      ],
      "metadata": {
        "id": "jhKLwGhM49hJ"
      }
    },
    {
      "cell_type": "code",
      "execution_count": null,
      "metadata": {
        "id": "gZGkTTeZkUcu",
        "colab": {
          "base_uri": "https://localhost:8080/"
        },
        "outputId": "ce41605e-e98f-4c39-e419-038ca8084157"
      },
      "outputs": [
        {
          "output_type": "stream",
          "name": "stdout",
          "text": [
            "New York\n",
            "None\n",
            "Washington DC\n",
            "None\n"
          ]
        }
      ],
      "source": [
        "def print_city(city):\n",
        "    print(city)\n",
        "\n",
        "favorite_city = \"New York\"\n",
        "print_city(print_city(favorite_city))\n",
        "\n",
        "favorite_city = \"Washington DC\"\n",
        "print_city(print_city(favorite_city))"
      ]
    },
    {
      "cell_type": "markdown",
      "metadata": {
        "id": "ACDPW6HrkUcu"
      },
      "source": [
        "# 11. Data Types and Structures"
      ]
    },
    {
      "cell_type": "markdown",
      "metadata": {
        "id": "utOo-OdzkUcu"
      },
      "source": [
        "## Understanding Dynamic Typing"
      ]
    },
    {
      "cell_type": "markdown",
      "source": [
        "<div>\n",
        "    <p>Examples of Static Typeing:</p>\n",
        "</div>\n",
        "\n",
        "```c\n",
        "String a = 'abc'\n",
        "int b = 10\n",
        "b = 'xyz' // Error\n",
        "```\n",
        "\n",
        "<div>\n",
        "    <p>Examples of Dynamic Typeing:</p>\n",
        "</div>\n",
        "\n",
        "```python\n",
        "a = 'abc' # str\n",
        "a = 10    # int\n",
        "```\n",
        "\n",
        "<div>\n",
        "    <p>So, we can see a basic different between Statically and Dynamically typed languages is that in Static Typing, we cannot change the type of the variable whereas in Dynammic Typing, we can change the type of the variable.</p>\n",
        "    <p>Example:</p>\n",
        "</div>"
      ],
      "metadata": {
        "id": "3q42Dc_V5_I6"
      }
    },
    {
      "cell_type": "code",
      "execution_count": null,
      "metadata": {
        "id": "GOf7Wcz9kUcu",
        "colab": {
          "base_uri": "https://localhost:8080/"
        },
        "outputId": "938bd68e-563a-4545-c8a5-3ed4c4b89ad5"
      },
      "outputs": [
        {
          "output_type": "stream",
          "name": "stdout",
          "text": [
            "Aashish\n"
          ]
        }
      ],
      "source": [
        "def print_name(name):\n",
        "    print(name)\n",
        "\n",
        "print_name('Aashish')\n",
        "# Aashish\n",
        "\n",
        "print_name = 10\n",
        "\n",
        "# print_name('Aashish')\n",
        "# TypeError: 'int' object is not callable"
      ]
    },
    {
      "cell_type": "markdown",
      "source": [
        "<div>\n",
        "    <p>\n",
        "        <b>Rules for working with Variables:</b>\n",
        "        <ul>\n",
        "            <li>Always choose <b>meaningful</b> names.</li>\n",
        "            <li>In variable names, use a noun, such as <b>name</b>, <b>comments</b>, <code><b>new_photos</b></code>, etc. <b>The variable name should answer the question, \"What does it contain?\"</b></li>\n",
        "            <li>Names of functions and methods begin with a verb, for example, <code><b>get_data</b></code>, <code><b>create_request</b></code>, <code><b>merge_names</b></code>, etc. <b>The function name should answer the question, \"What does it perform or return?\"</b></li>\n",
        "        </ul>\n",
        "    </p>\n",
        "</div>"
      ],
      "metadata": {
        "id": "yzMdhUMM7bZn"
      }
    },
    {
      "cell_type": "markdown",
      "metadata": {
        "id": "RuJ3Bj6zkUcu"
      },
      "source": [
        "## Types and Data Structures Overview"
      ]
    },
    {
      "cell_type": "markdown",
      "source": [
        "<div>\n",
        "    <p>There are <b>no primitive types</b> in python. There are <b>mutable</b> and <b>immutable</b> objects in Python:</p>\n",
        "    <ol>\n",
        "        <li>\n",
        "            <b>Mutable Object</b>:  Examples: Lists, Dictionaries, etc.\n",
        "            <span>The object is mutable if we are able to modify this object.  Types of Mutable Objects:</span>\n",
        "            <ul>\n",
        "                <li>List (<code>list</code>)</li>\n",
        "                <li>Dictionary (<code>dict</code>)</li>\n",
        "                <li>Set (<code>set</code>)</li>\n",
        "                <li>User-defined classes</li>\n",
        "            </ul>\n",
        "            <span></span>\n",
        "        </li>\n",
        "        <li>\n",
        "            <b>Immutable Object</b>:\n",
        "            <span> The object is immutable if we cannot modify the object. Types of Immutable Objects:</span>\n",
        "            <ul>\n",
        "                <li>String (<code>str</code>)</li>\n",
        "                <li>Integer (<code>int</code>)</li>\n",
        "                <li>Boolean (<code>bool</code>)</li>\n",
        "                <li>Decimal Numbers (<code>float</code>)</li>\n",
        "                <li>Tuple (<code>tuple</code>)</li>\n",
        "                <li>None (<code>NoneType</code>)</li>\n",
        "            </ul>\n",
        "            <span>We cannot modify the objects of any of the above types in python but we can create another object of the same type.</span>\n",
        "        </li>\n",
        "    </ol>\n",
        "    <p></p>\n",
        "</div>"
      ],
      "metadata": {
        "id": "RtTijOsu-Nuv"
      }
    },
    {
      "cell_type": "markdown",
      "metadata": {
        "id": "TW2WYqDqkUcv"
      },
      "source": [
        "## Variables and Objects"
      ]
    },
    {
      "cell_type": "markdown",
      "source": [
        "<div>\n",
        "    <p>There is memory in each computer and when we create variable, we assign a specific value to the variable and we give a name to the variable. We know that every value in Python is an object and such object is created in the memory of the computer. When we create a new variable, then a new object is created for that variable in the computer memory. Here, variables and variable names are just pointers to specific memory locations as they point to specific objects. There are different objects in the memory and, there are different variables which point to specific locations in memory. Also, each object in memory has its location (called ID). It is placed in memory where the object is stored. This means that each variable contains a <b>Reference</b> to the Object. This applies to all variables in Python because each value in Python is an object.</p>\n",
        "    <p>We can obtain the address of an object as:</p>\n",
        "</div>\n",
        "\n",
        "```python\n",
        "id(NAME_OF_THE_VARIABLE)\n",
        "```\n",
        "\n",
        "<div>\n",
        "    <p>We can print the Object Address as:</p>\n",
        "</div>"
      ],
      "metadata": {
        "id": "JhEuvD45BWuO"
      }
    },
    {
      "cell_type": "code",
      "execution_count": null,
      "metadata": {
        "id": "PlUg9RNZkUcv",
        "colab": {
          "base_uri": "https://localhost:8080/"
        },
        "outputId": "55fcd585-cfe8-4b6c-cea5-d3030464f530"
      },
      "outputs": [
        {
          "output_type": "stream",
          "name": "stdout",
          "text": [
            "Object Address: 132932828511024\n"
          ]
        }
      ],
      "source": [
        "my_name = \"Aashish\"\n",
        "print(\"Object Address: {}\".format(id(my_name)))"
      ]
    },
    {
      "cell_type": "markdown",
      "source": [
        "<div><p>Examples:</p></div>"
      ],
      "metadata": {
        "id": "GUuH-cXoEPGx"
      }
    },
    {
      "cell_type": "code",
      "source": [
        "my_number = 10\n",
        "print(\"Object Address: {}\".format(id(my_number)))"
      ],
      "metadata": {
        "colab": {
          "base_uri": "https://localhost:8080/"
        },
        "id": "ZBRghtLTEUD-",
        "outputId": "067a9c5b-0caa-496b-824a-c4fc2d7c0824"
      },
      "execution_count": null,
      "outputs": [
        {
          "output_type": "stream",
          "name": "stdout",
          "text": [
            "Object Address: 132933257724432\n"
          ]
        }
      ]
    },
    {
      "cell_type": "code",
      "source": [
        "my_string = 'abc'\n",
        "print(\"Object Address: {}\".format(id(my_string)))"
      ],
      "metadata": {
        "colab": {
          "base_uri": "https://localhost:8080/"
        },
        "id": "Iw7wmxixETd1",
        "outputId": "70513825-ee9d-4390-aafb-6be33af6cdce"
      },
      "execution_count": null,
      "outputs": [
        {
          "output_type": "stream",
          "name": "stdout",
          "text": [
            "Object Address: 132933256548592\n"
          ]
        }
      ]
    },
    {
      "cell_type": "markdown",
      "source": [
        "<div>\n",
        "    <p>It is also possible that the variables refer to one object in the memory. It is possible if they contain pointer to the same object in memory. For example:</p>\n",
        "</div>"
      ],
      "metadata": {
        "id": "IGG2wXwpEnFg"
      }
    },
    {
      "cell_type": "code",
      "source": [
        "my_number = 10\n",
        "print(\"Object Address: {}\".format(id(my_number)))"
      ],
      "metadata": {
        "colab": {
          "base_uri": "https://localhost:8080/"
        },
        "id": "ZR-dv3GsFBfr",
        "outputId": "6343bd39-3c29-4aff-a03d-7d5d3416bb15"
      },
      "execution_count": null,
      "outputs": [
        {
          "output_type": "stream",
          "name": "stdout",
          "text": [
            "Object Address: 132933257724432\n"
          ]
        }
      ]
    },
    {
      "cell_type": "code",
      "source": [
        "other_number = my_number\n",
        "print(\"Object Address: {}\".format(id(other_number)))"
      ],
      "metadata": {
        "colab": {
          "base_uri": "https://localhost:8080/"
        },
        "id": "y8Qw0waZFAew",
        "outputId": "916b3c00-ecb2-440b-b759-5e5698fceb66"
      },
      "execution_count": null,
      "outputs": [
        {
          "output_type": "stream",
          "name": "stdout",
          "text": [
            "Object Address: 132933257724432\n"
          ]
        }
      ]
    },
    {
      "cell_type": "markdown",
      "source": [
        "<div>\n",
        "    <p>In the above example, we can see the ID of <code>my_number</code> and <code>other_number</code> is the same. We are receiving the same location of the object in memory because, here, we are simply copying a pointer (a pointer to a specific object in memory). This means that the Object addresses are the same for both of them.</p>\n",
        "</div>"
      ],
      "metadata": {
        "id": "rjn3LxVCFT1z"
      }
    },
    {
      "cell_type": "markdown",
      "metadata": {
        "id": "WupzFargkUcv"
      },
      "source": [
        "## Using the Built-in <code>id()</code> Function"
      ]
    },
    {
      "cell_type": "markdown",
      "source": [
        "<div>\n",
        "    <p>It allows us to get the ID of any object in Python. We know that even <code>print</code> is an object, so we can obtain the ID of the <code>print</code> as:</p>\n",
        "</div>"
      ],
      "metadata": {
        "id": "vMPsIIvfg9ad"
      }
    },
    {
      "cell_type": "code",
      "source": [
        "print(\"ID of print Object: {}\".format(id(print)))"
      ],
      "metadata": {
        "colab": {
          "base_uri": "https://localhost:8080/"
        },
        "id": "RI4AQGKBhZCg",
        "outputId": "b7db2de3-f03f-48a4-f3d6-b8bd43dc59f0"
      },
      "execution_count": null,
      "outputs": [
        {
          "output_type": "stream",
          "name": "stdout",
          "text": [
            "ID of print Object: 132933258335536\n"
          ]
        }
      ]
    },
    {
      "cell_type": "markdown",
      "source": [
        "<div><p>We can obtain the ID of the user-defined variables as:</p></div>"
      ],
      "metadata": {
        "id": "Zvi41vHRhk6o"
      }
    },
    {
      "cell_type": "code",
      "source": [
        "my_name = 'Aashish'\n",
        "print(\"ID of my_name Object: {}\".format(id(my_name)))"
      ],
      "metadata": {
        "colab": {
          "base_uri": "https://localhost:8080/"
        },
        "id": "rNsWRaYMhqgy",
        "outputId": "5a29b90d-1865-4be3-e76a-f71e7e4f6f61"
      },
      "execution_count": null,
      "outputs": [
        {
          "output_type": "stream",
          "name": "stdout",
          "text": [
            "ID of my_name Object: 132932828511024\n"
          ]
        }
      ]
    },
    {
      "cell_type": "code",
      "source": [
        "my_num = 1\n",
        "print(\"ID of my_name Object: {}\".format(id(my_num)))"
      ],
      "metadata": {
        "colab": {
          "base_uri": "https://localhost:8080/"
        },
        "id": "AlRuyBNCh2Vb",
        "outputId": "f7791129-1e74-4fc4-f9c4-0733748512cc"
      },
      "execution_count": null,
      "outputs": [
        {
          "output_type": "stream",
          "name": "stdout",
          "text": [
            "ID of my_name Object: 132933257724144\n"
          ]
        }
      ]
    },
    {
      "cell_type": "code",
      "source": [
        "other_num = my_num\n",
        "print(\"ID of my_name Object: {}\".format(id(other_num)))"
      ],
      "metadata": {
        "colab": {
          "base_uri": "https://localhost:8080/"
        },
        "id": "bUF5kvLWh-im",
        "outputId": "f6529fde-0e25-4810-ac93-47b433b2a4d7"
      },
      "execution_count": null,
      "outputs": [
        {
          "output_type": "stream",
          "name": "stdout",
          "text": [
            "ID of my_name Object: 132933257724144\n"
          ]
        }
      ]
    },
    {
      "cell_type": "markdown",
      "source": [
        "<div><p>From the above, we can see that ID of <code>my_num</code> and <code>other_num</code> are same which means that they point to the same location in memory. This means that there is only one location where the value <code>1</code> is stored but there are two pointers to that number. We can compare them as:</p></div>"
      ],
      "metadata": {
        "id": "gWETNdz_iG4i"
      }
    },
    {
      "cell_type": "code",
      "source": [
        "print(\"Result of ID Comparison: {}\".format((id(my_num) == id(other_num))))"
      ],
      "metadata": {
        "colab": {
          "base_uri": "https://localhost:8080/"
        },
        "id": "cv2axNXBiuj9",
        "outputId": "cdac4f73-22b0-4c88-8f4a-b4bcb806777d"
      },
      "execution_count": null,
      "outputs": [
        {
          "output_type": "stream",
          "name": "stdout",
          "text": [
            "ID Comparison: True\n"
          ]
        }
      ]
    },
    {
      "cell_type": "markdown",
      "metadata": {
        "id": "qwY_qeFckUcv"
      },
      "source": [
        "## Exploring Core Data Classes (str, int, bool, list, dict)"
      ]
    },
    {
      "cell_type": "markdown",
      "source": [
        "<div>\n",
        "    <p>We can determine if a particular variable is an instance of a specific class or not as:</p>\n",
        "</div>"
      ],
      "metadata": {
        "id": "66_4TIsEjzej"
      }
    },
    {
      "cell_type": "code",
      "execution_count": null,
      "metadata": {
        "id": "fX6lTYJqkUcw",
        "colab": {
          "base_uri": "https://localhost:8080/"
        },
        "outputId": "6b638ff9-51e1-4467-b58f-166e4e8d76c9"
      },
      "outputs": [
        {
          "output_type": "stream",
          "name": "stdout",
          "text": [
            "Type of 'my_num': <class 'int'>\n"
          ]
        }
      ],
      "source": [
        "# Declaring Variable:\n",
        "my_num = 1\n",
        "\n",
        "# Determining Type\n",
        "print(\"Type of 'my_num': {}\".format(type(my_num)))"
      ]
    },
    {
      "cell_type": "markdown",
      "source": [
        "<div>\n",
        "    <p>In the above output, we can see that the <code>type()</code> function returns us an <code>int</code> because the value <code>1</code> is an object which is an instance of the built-in <code>int</code> class. We can even compare the instance classes as:</p>\n",
        "</div>"
      ],
      "metadata": {
        "id": "EKqp7xfEmzQl"
      }
    },
    {
      "cell_type": "code",
      "source": [
        "print(\"Comparison of 'my_num' and instance class: {}\".format((type(my_num) == int)))"
      ],
      "metadata": {
        "colab": {
          "base_uri": "https://localhost:8080/"
        },
        "id": "1zSyaPidnRjv",
        "outputId": "3783547e-4d82-483d-cf54-88045385e773"
      },
      "execution_count": null,
      "outputs": [
        {
          "output_type": "stream",
          "name": "stdout",
          "text": [
            "Comparison of 'my_num' and instance class: True\n"
          ]
        }
      ]
    },
    {
      "cell_type": "markdown",
      "source": [
        "<div>\n",
        "    <p>While making the comparison, we are using the class <code>int</code> without any quotations, which means that we are providing the name of the class itself and not a string value for comparison.</p>\n",
        "    <p>We can see that we receive <code>True</code> because the <code>type()</code> function returns the object's type type which in this case is <code>int</code> and hence it matches.</p>\n",
        "    <p>We can even obtain the type of the instance classes as:</p>\n",
        "</div>"
      ],
      "metadata": {
        "id": "IPGW5nFXnbVN"
      }
    },
    {
      "cell_type": "code",
      "source": [
        "print(\"Type of instance class 'int': {}\".format(type(int)))"
      ],
      "metadata": {
        "colab": {
          "base_uri": "https://localhost:8080/"
        },
        "id": "D-xBmKK2oO1s",
        "outputId": "dd394b93-d89e-4bfb-bc5b-ad56c9257593"
      },
      "execution_count": null,
      "outputs": [
        {
          "output_type": "stream",
          "name": "stdout",
          "text": [
            "Type of instance class 'int': <class 'type'>\n"
          ]
        }
      ]
    },
    {
      "cell_type": "markdown",
      "source": [
        "<div>\n",
        "    <p>Here, we can see the class as <code>type</code>. When we obtain such output, then it means that the specific object is a class and it is used for the creation of instances for that class.</p>\n",
        "    <p>We can check the same for other instance classes as:</p>\n",
        "</div>"
      ],
      "metadata": {
        "id": "fBYDrFl8o1Df"
      }
    },
    {
      "cell_type": "code",
      "source": [
        "print(\"Type of instance class 'int': {}\".format(type(int)))\n",
        "print(\"Type of instance class 'str': {}\".format(type(str)))\n",
        "print(\"Type of instance class 'bool': {}\".format(type(bool)))\n",
        "print(\"Type of instance class 'list': {}\".format(type(list)))\n",
        "print(\"Type of instance class 'dict': {}\".format(type(dict)))"
      ],
      "metadata": {
        "colab": {
          "base_uri": "https://localhost:8080/"
        },
        "id": "-tt4LxfDo02m",
        "outputId": "0f2c8c96-5628-48ca-fc50-b7821df9f5db"
      },
      "execution_count": null,
      "outputs": [
        {
          "output_type": "stream",
          "name": "stdout",
          "text": [
            "Type of instance class 'int': <class 'type'>\n",
            "Type of instance class 'str': <class 'type'>\n",
            "Type of instance class 'bool': <class 'type'>\n",
            "Type of instance class 'list': <class 'type'>\n",
            "Type of instance class 'dict': <class 'type'>\n"
          ]
        }
      ]
    },
    {
      "cell_type": "markdown",
      "source": [
        "<div>\n",
        "    <p>This proves that all these variables represents classes and they are built-in classes for creation or different objects of different types.</p>\n",
        "</div>"
      ],
      "metadata": {
        "id": "nQ_83oKBrzLg"
      }
    },
    {
      "cell_type": "markdown",
      "metadata": {
        "id": "QnjAihwykUcw"
      },
      "source": [
        "## Using the Built-in <code>isinstance()</code> Function"
      ]
    },
    {
      "cell_type": "markdown",
      "source": [
        "<div>\n",
        "    <p><b>Return: </b>Return whether an object is an instance of a class or of a subclass thereof.</p>\n",
        "    <p><b>Description:</b> A tuple, as in <code>isinstance(x, (A, B, ...))</code>, may be given as the target to check against. This is equivalent to <code>isinstance(x, A)</code> or <code>isinstance(x, B)</code> or ... etc.</p>\n",
        "    <p>We have the <b>definition</b> as:</p>\n",
        "</div>\n",
        "\n",
        "```python\n",
        "def isinstance(\n",
        "    __obj: object,\n",
        "    __class_or_tuple: type | tuple[type | tuple[Any, ...], ...]\n",
        ")\n",
        "```\n",
        "\n",
        "<div><p>For example, we can check whether a particular value is an instance of a specific class or not as:</p></div>"
      ],
      "metadata": {
        "id": "EUML3493sLXC"
      }
    },
    {
      "cell_type": "code",
      "execution_count": null,
      "metadata": {
        "id": "IRFuLAQSkUcw",
        "colab": {
          "base_uri": "https://localhost:8080/"
        },
        "outputId": "adc0e26e-2a9f-4f36-de08-a99b4bb7cab7"
      },
      "outputs": [
        {
          "output_type": "stream",
          "name": "stdout",
          "text": [
            "Result: True\n",
            "Result: True\n",
            "Result: True\n"
          ]
        }
      ],
      "source": [
        "print(\"Result: {}\".format(isinstance(1, int)))\n",
        "print(\"Result: {}\".format(isinstance(1, object)))\n",
        "print(\"Result: {}\".format(isinstance('1', str)))"
      ]
    },
    {
      "cell_type": "markdown",
      "source": [
        "<div><p>So, we can see that each of the values are instance of the built-in object class.</p></div>"
      ],
      "metadata": {
        "id": "VbLRrNf2t-Bc"
      }
    },
    {
      "cell_type": "markdown",
      "metadata": {
        "id": "IcuDG2dHkUcw"
      },
      "source": [
        "# 12. Strings"
      ]
    },
    {
      "cell_type": "markdown",
      "metadata": {
        "id": "Hgl1GzT6kUcw"
      },
      "source": [
        "## Strings"
      ]
    },
    {
      "cell_type": "markdown",
      "source": [
        "<div>\n",
        "    <p><b>String</b> is a sequence of characters.</p>\n",
        "</div>"
      ],
      "metadata": {
        "id": "Wce6V5i_xH9S"
      }
    },
    {
      "cell_type": "markdown",
      "source": [
        "### Structure and Syntax"
      ],
      "metadata": {
        "id": "mFAqe98cxPdo"
      }
    },
    {
      "cell_type": "code",
      "execution_count": null,
      "metadata": {
        "id": "kHYl7b7LkUcw"
      },
      "outputs": [],
      "source": [
        "my_name = 'Aashish'\n",
        "print(my_name)"
      ]
    },
    {
      "cell_type": "markdown",
      "source": [
        "<div><p>In the above example, we have created a string <code>Aashish</code> and assigned it to the above variable <code>my_name</code>.</p></div>"
      ],
      "metadata": {
        "id": "i6I-kFmWxZSj"
      }
    },
    {
      "cell_type": "code",
      "source": [
        "greetings = \"Hello from Python!!\"\n",
        "print(greetings)"
      ],
      "metadata": {
        "colab": {
          "base_uri": "https://localhost:8080/"
        },
        "id": "T1Zn6NBTxq3z",
        "outputId": "bf8236f3-aa52-4a61-ca91-89744c413a68"
      },
      "execution_count": null,
      "outputs": [
        {
          "output_type": "stream",
          "name": "stdout",
          "text": [
            "Hello from Python!!\n"
          ]
        }
      ]
    },
    {
      "cell_type": "markdown",
      "source": [
        "<div><p>We can create a multi-line string as:</p></div>"
      ],
      "metadata": {
        "id": "ENvvd4HTyDtW"
      }
    },
    {
      "cell_type": "code",
      "source": [
        "info_msg = \"\"\"You are\n",
        "learning the easiest\n",
        "programming language -\n",
        "Python!\"\"\"\n",
        "\n",
        "print(info_msg)"
      ],
      "metadata": {
        "colab": {
          "base_uri": "https://localhost:8080/"
        },
        "id": "Zf0LnVqJyHGM",
        "outputId": "74ef221c-e188-4db0-a7d9-d834ca6cc541"
      },
      "execution_count": null,
      "outputs": [
        {
          "output_type": "stream",
          "name": "stdout",
          "text": [
            "You are \n",
            "learning the easiest \n",
            "programming language - \n",
            "Python!\n"
          ]
        }
      ]
    },
    {
      "cell_type": "markdown",
      "source": [
        "### Built-in Functions and Strings"
      ],
      "metadata": {
        "id": "-F0E3djVybWn"
      }
    },
    {
      "cell_type": "markdown",
      "source": [
        "#### Length of String"
      ],
      "metadata": {
        "id": "NcO3m7BMyhj_"
      }
    },
    {
      "cell_type": "code",
      "source": [
        "my_name = 'Aashish'\n",
        "print(\"Length of String: {}\".format(len(my_name)))"
      ],
      "metadata": {
        "colab": {
          "base_uri": "https://localhost:8080/"
        },
        "id": "kdE2ovRPyfCn",
        "outputId": "b0d6825b-705b-4c8f-9292-d862834763b0"
      },
      "execution_count": null,
      "outputs": [
        {
          "output_type": "stream",
          "name": "stdout",
          "text": [
            "Length of String: 7\n"
          ]
        }
      ]
    },
    {
      "cell_type": "markdown",
      "source": [
        "#### First Character of String"
      ],
      "metadata": {
        "id": "g-7nocbHysFv"
      }
    },
    {
      "cell_type": "code",
      "source": [
        "my_name = 'Aashish'\n",
        "print(\"First Character of String: {}\".format(my_name[0]))"
      ],
      "metadata": {
        "colab": {
          "base_uri": "https://localhost:8080/"
        },
        "id": "VtM6l-m9yuYq",
        "outputId": "b1283dfc-3cf2-410b-bf60-83bb170fe73f"
      },
      "execution_count": null,
      "outputs": [
        {
          "output_type": "stream",
          "name": "stdout",
          "text": [
            "First Character of String: A\n"
          ]
        }
      ]
    },
    {
      "cell_type": "markdown",
      "source": [
        "#### Substring from the String"
      ],
      "metadata": {
        "id": "_zcZErZOy2rL"
      }
    },
    {
      "cell_type": "code",
      "source": [
        "my_name = 'Aashish'\n",
        "print(\"Substring from the String: {}\".format(my_name[3:6]))"
      ],
      "metadata": {
        "colab": {
          "base_uri": "https://localhost:8080/"
        },
        "id": "XJftk1-qy6PW",
        "outputId": "83259345-b6ac-47de-f2ce-9bb16fa628af"
      },
      "execution_count": null,
      "outputs": [
        {
          "output_type": "stream",
          "name": "stdout",
          "text": [
            "Substring from the String: his\n"
          ]
        }
      ]
    },
    {
      "cell_type": "markdown",
      "source": [
        "### String Methods"
      ],
      "metadata": {
        "id": "BPnvRGAEzWpS"
      }
    },
    {
      "cell_type": "markdown",
      "source": [
        "<div>\n",
        "    <p>The methods which are accessible using the Dot Operator tend to create a new instance of the class. Some of the methods which we have are:</p>\n",
        "    <ul>\n",
        "        <li><code>capitalize()</code></li>\n",
        "        <li><code>count()</code></li>\n",
        "        <li><code>index()</code></li>\n",
        "        <li><code>lower()</code></li>\n",
        "        <li><code>replace()</code></li>\n",
        "        <li><code>upper()</code></li>\n",
        "    </ul>\n",
        "</div>"
      ],
      "metadata": {
        "id": "g0K59tKN1g-1"
      }
    },
    {
      "cell_type": "markdown",
      "metadata": {
        "id": "yyiwtfSOkUcw"
      },
      "source": [
        "## String Manipulation"
      ]
    },
    {
      "cell_type": "markdown",
      "source": [
        "<div><p>Example:</p></div>"
      ],
      "metadata": {
        "id": "ca0hLVgs2ZTn"
      }
    },
    {
      "cell_type": "code",
      "source": [
        "long_str = 'This is a very log string'\n",
        "\n",
        "print(\"String: {}\".format(long_str))\n",
        "print(\"Type of String: {}\".format(type(long_str)))\n",
        "print(\"Checking if Type is String: {}\".format((type(long_str) == str)))\n",
        "print(\"ID of String: {}\".format(id(long_str)))"
      ],
      "metadata": {
        "colab": {
          "base_uri": "https://localhost:8080/"
        },
        "id": "qJ8GCAaE28rc",
        "outputId": "473f4a11-6d61-44d1-ab62-5bea0fadd078"
      },
      "execution_count": null,
      "outputs": [
        {
          "output_type": "stream",
          "name": "stdout",
          "text": [
            "String: This is a very log string\n",
            "Type of String: <class 'str'>\n",
            "Checking if Type is String: True\n",
            "ID of String: 132932476065376\n"
          ]
        }
      ]
    },
    {
      "cell_type": "code",
      "execution_count": null,
      "metadata": {
        "id": "m-DmL_pbkUcx",
        "colab": {
          "base_uri": "https://localhost:8080/"
        },
        "outputId": "0a7fdfd3-a16d-43e5-cdce-867348f3578b"
      },
      "outputs": [
        {
          "output_type": "stream",
          "name": "stdout",
          "text": [
            "String: This is a very log string\n",
            "Type of String: <class 'str'>\n",
            "Checking if Type is String: True\n",
            "ID of String: 132932801650624\n"
          ]
        }
      ],
      "source": [
        "long_str = \"This is a very log string\"\n",
        "\n",
        "print(\"String: {}\".format(long_str))\n",
        "print(\"Type of String: {}\".format(type(long_str)))\n",
        "print(\"Checking if Type is String: {}\".format((type(long_str) == str)))\n",
        "print(\"ID of String: {}\".format(id(long_str)))"
      ]
    },
    {
      "cell_type": "markdown",
      "source": [
        "<div><p>To use an apostrophe inside the string, we will need to use the Escape Character for the String to recognize it. For example:</p></div>"
      ],
      "metadata": {
        "id": "n4I2cted3GnA"
      }
    },
    {
      "cell_type": "code",
      "source": [
        "# long_str = 'It's a great day today' ## Error\n",
        "long_str = 'It\\'s a great day today'\n",
        "\n",
        "print(\"String: {}\".format(long_str))\n",
        "print(\"Type of String: {}\".format(type(long_str)))\n",
        "print(\"Checking if Type is String: {}\".format((type(long_str) == str)))\n",
        "print(\"ID of String: {}\".format(id(long_str)))"
      ],
      "metadata": {
        "colab": {
          "base_uri": "https://localhost:8080/"
        },
        "id": "xe8WlESw3WPs",
        "outputId": "b3309887-7873-4ede-d0b2-07edd7f3984f"
      },
      "execution_count": null,
      "outputs": [
        {
          "output_type": "stream",
          "name": "stdout",
          "text": [
            "String: It's a great day today\n",
            "Type of String: <class 'str'>\n",
            "Checking if Type is String: True\n",
            "ID of String: 132932475859664\n"
          ]
        }
      ]
    },
    {
      "cell_type": "code",
      "source": [
        "long_str = \"It\\'s a great day today\"\n",
        "\n",
        "print(\"String: {}\".format(long_str))\n",
        "print(\"Type of String: {}\".format(type(long_str)))\n",
        "print(\"Checking if Type is String: {}\".format((type(long_str) == str)))\n",
        "print(\"ID of String: {}\".format(id(long_str)))"
      ],
      "metadata": {
        "colab": {
          "base_uri": "https://localhost:8080/"
        },
        "id": "JtLXlSKk3k6P",
        "outputId": "ef16cd0a-987b-4cdb-c139-f70f2cd79087"
      },
      "execution_count": null,
      "outputs": [
        {
          "output_type": "stream",
          "name": "stdout",
          "text": [
            "String: It's a great day today\n",
            "Type of String: <class 'str'>\n",
            "Checking if Type is String: True\n",
            "ID of String: 132932476062976\n"
          ]
        }
      ]
    },
    {
      "cell_type": "markdown",
      "source": [
        "<div><p>But we need to use the Escape Character only if we are using single quotes. If we are using double quotes, then it is not necessary for us to use the Escape Character. For Example:</p></div>"
      ],
      "metadata": {
        "id": "40xwMf5f3tzE"
      }
    },
    {
      "cell_type": "code",
      "source": [
        "long_str = \"It's a great day today\"\n",
        "\n",
        "print(\"String: {}\".format(long_str))\n",
        "print(\"Type of String: {}\".format(type(long_str)))\n",
        "print(\"Checking if Type is String: {}\".format((type(long_str) == str)))\n",
        "print(\"ID of String: {}\".format(id(long_str)))"
      ],
      "metadata": {
        "colab": {
          "base_uri": "https://localhost:8080/"
        },
        "id": "DoVCVPOr3orh",
        "outputId": "ed8c4eba-9a9d-4677-9cf2-8b8b48af709e"
      },
      "execution_count": null,
      "outputs": [
        {
          "output_type": "stream",
          "name": "stdout",
          "text": [
            "String: It's a great day today\n",
            "Type of String: <class 'str'>\n",
            "Checking if Type is String: True\n",
            "ID of String: 132932475874928\n"
          ]
        }
      ]
    },
    {
      "cell_type": "markdown",
      "source": [
        "<div><p>We can split the string into multiple lines as:</p></div>"
      ],
      "metadata": {
        "id": "NdQbjbOZ4NHu"
      }
    },
    {
      "cell_type": "code",
      "source": [
        "long_str = \"This is a \" \\\n",
        "            \"very log string\"\n",
        "\n",
        "print(\"String: {}\".format(long_str))\n",
        "print(\"Type of String: {}\".format(type(long_str)))\n",
        "print(\"Checking if Type is String: {}\".format((type(long_str) == str)))\n",
        "print(\"ID of String: {}\".format(id(long_str)))"
      ],
      "metadata": {
        "colab": {
          "base_uri": "https://localhost:8080/"
        },
        "id": "2MR0HQx84SmP",
        "outputId": "53a0c10d-53a8-4c30-f32e-4d3c08236cd0"
      },
      "execution_count": null,
      "outputs": [
        {
          "output_type": "stream",
          "name": "stdout",
          "text": [
            "String: This is a very log string\n",
            "Type of String: <class 'str'>\n",
            "Checking if Type is String: True\n",
            "ID of String: 132932843901680\n"
          ]
        }
      ]
    },
    {
      "cell_type": "markdown",
      "metadata": {
        "id": "SsUKAkvYkUcx"
      },
      "source": [
        "## String Methods"
      ]
    },
    {
      "cell_type": "markdown",
      "source": [
        "### Access First Character of String"
      ],
      "metadata": {
        "id": "U0h6OheABgUb"
      }
    },
    {
      "cell_type": "code",
      "source": [
        "my_comment = \"This is a short comment.\"\n",
        "print(\"First Character of String: {}\".format(my_comment[0]))"
      ],
      "metadata": {
        "colab": {
          "base_uri": "https://localhost:8080/"
        },
        "id": "WKjjgru2BlVw",
        "outputId": "cd3ca64a-9c2e-491b-9034-c07d6a5c0872"
      },
      "execution_count": null,
      "outputs": [
        {
          "output_type": "stream",
          "name": "stdout",
          "text": [
            "First Character of String: T\n"
          ]
        }
      ]
    },
    {
      "cell_type": "markdown",
      "source": [
        "### Access any Character of String"
      ],
      "metadata": {
        "id": "_8XuFxFsBsYY"
      }
    },
    {
      "cell_type": "code",
      "source": [
        "my_comment = \"This is a short comment.\"\n",
        "print(\"Second Character of String: {}\".format(my_comment[2]))\n",
        "print(\"Fifth Character of String: {}\".format(my_comment[5]))\n",
        "print(\"Tenth Character of String: {}\".format(my_comment[10]))\n",
        "print(\"Last Character of String: {}\".format(my_comment[len(my_comment)-1]))"
      ],
      "metadata": {
        "colab": {
          "base_uri": "https://localhost:8080/"
        },
        "id": "gXDb_S5lBuOf",
        "outputId": "146af26b-2def-416c-a9b1-e04137ba3b46"
      },
      "execution_count": null,
      "outputs": [
        {
          "output_type": "stream",
          "name": "stdout",
          "text": [
            "Second Character of String: i\n",
            "Fifth Character of String: i\n",
            "Tenth Character of String: s\n",
            "Last Character of String: .\n"
          ]
        }
      ]
    },
    {
      "cell_type": "markdown",
      "source": [
        "### Count Method"
      ],
      "metadata": {
        "id": "7Qclsr_j9jKX"
      }
    },
    {
      "cell_type": "markdown",
      "source": [
        "<div>\n",
        "    <p><b>Description:</b> It returns the number of non-overlapping occurrences of substring <code>sub</code> in string <code>S[start:end]</code>. Optional arguments <code>start</code> and <code>end</code> are interpreted as in slice notation.</p>\n",
        "    <p><b>Documentation:</b></p>\n",
        "</div>\n",
        "\n",
        "```python\n",
        "NAME_OF_VARIABLE.count(\n",
        "    sub[, start[, end]]\n",
        ") -> int\n",
        "```\n",
        "\n",
        "<div>\n",
        "    <p>For example, suppose we want to count the number of occurences of spaces (' ') in the string:</p>\n",
        "</div>"
      ],
      "metadata": {
        "id": "PZaHMULlAXzv"
      }
    },
    {
      "cell_type": "code",
      "source": [
        "my_comment = \"This is a short comment.\"\n",
        "print(\"Number of Spaces in the String: {}\".format(my_comment.count(' ')))"
      ],
      "metadata": {
        "colab": {
          "base_uri": "https://localhost:8080/"
        },
        "id": "wuJ7vhLG9lEI",
        "outputId": "cfc045aa-9ee8-4fe4-812c-090c65e1eaf3"
      },
      "execution_count": null,
      "outputs": [
        {
          "output_type": "stream",
          "name": "stdout",
          "text": [
            "Number of Spaces in the String: 4\n"
          ]
        }
      ]
    },
    {
      "cell_type": "markdown",
      "source": [
        "### Find in String\n",
        "<div><p>Suppose we want to find the word <code>short</code> in the string, then we can use the <code>find()</code> method as:</p></div>"
      ],
      "metadata": {
        "id": "hl9QUJCwDnp0"
      }
    },
    {
      "cell_type": "code",
      "source": [
        "my_comment = \"This is a short comment.\"\n",
        "print(\"Found at position: {}\".format(my_comment.find('short')))"
      ],
      "metadata": {
        "colab": {
          "base_uri": "https://localhost:8080/"
        },
        "id": "ktHQGj8uDple",
        "outputId": "70937798-58ba-462b-a55b-96b9ef55f859"
      },
      "execution_count": null,
      "outputs": [
        {
          "output_type": "stream",
          "name": "stdout",
          "text": [
            "Found at position: 10\n"
          ]
        }
      ]
    },
    {
      "cell_type": "markdown",
      "source": [
        "<div><p>We can see that it returns the starting index of the first character of the provided string as soon as the provided string is found. It will return <code>-1</code> if the provided substring is not present in the string as:</p></div>"
      ],
      "metadata": {
        "id": "VZCayWqiEIC6"
      }
    },
    {
      "cell_type": "code",
      "source": [
        "my_comment = \"This is a short comment.\"\n",
        "print(\"Found at position: {}\".format(my_comment.find('long')))"
      ],
      "metadata": {
        "colab": {
          "base_uri": "https://localhost:8080/"
        },
        "id": "yGIoKTB_EiD1",
        "outputId": "fef21bcc-c2d2-4bd5-ac96-26bc307791e9"
      },
      "execution_count": null,
      "outputs": [
        {
          "output_type": "stream",
          "name": "stdout",
          "text": [
            "Found at position: -1\n"
          ]
        }
      ]
    },
    {
      "cell_type": "markdown",
      "source": [
        "### Length of String"
      ],
      "metadata": {
        "id": "NU_sgqE97DDF"
      }
    },
    {
      "cell_type": "code",
      "execution_count": null,
      "metadata": {
        "id": "d0oiv-72kUcx",
        "colab": {
          "base_uri": "https://localhost:8080/"
        },
        "outputId": "d97619cb-3fbb-4639-97b7-7772b81cab33"
      },
      "outputs": [
        {
          "output_type": "stream",
          "name": "stdout",
          "text": [
            "Length of String: 24\n"
          ]
        }
      ],
      "source": [
        "my_comment = \"This is a short comment.\"\n",
        "print(\"Length of String: {}\".format(len(my_comment)))"
      ]
    },
    {
      "cell_type": "markdown",
      "source": [
        "### Replace Method"
      ],
      "metadata": {
        "id": "LfGhoTyg7bLs"
      }
    },
    {
      "cell_type": "markdown",
      "source": [
        "<div>\n",
        "    <p><b>Description:</b> It returns a copy with all occurrences of substring old replaced by new.</p>\n",
        "    <p><b>Documentation:</b></p>\n",
        "</div>\n",
        "\n",
        "```python\n",
        "NAME_OF_VARIABLE.replace(\n",
        "    self: str,\n",
        "    __old: str,\n",
        "    __new: str,\n",
        "    __count: SupportsIndex = ...\n",
        ") -> str\n",
        "```\n",
        "\n",
        "<div>\n",
        "    <p>Here, <code>count</code> represents the maximum number of occurrences to replace. Here, <code>-1</code> is the default value which means replace all the occurrences.</p>\n",
        "    <p>If the optional argument <code>count</code> is given, only the first count occurrences are replaced.</p>\n",
        "    <p>For example, suppose we want to replace the word <code>short</code> with <code>long</code>, then we perform that as:</p>\n",
        "</div>"
      ],
      "metadata": {
        "id": "KK-Kh6Oz7gFq"
      }
    },
    {
      "cell_type": "code",
      "source": [
        "new_comment = my_comment.replace('short', 'long')\n",
        "print(\"New String: {}\".format(new_comment))"
      ],
      "metadata": {
        "colab": {
          "base_uri": "https://localhost:8080/"
        },
        "id": "v35XSkON7cvq",
        "outputId": "4bc24b62-4294-4be7-a53a-168bd057944b"
      },
      "execution_count": null,
      "outputs": [
        {
          "output_type": "stream",
          "name": "stdout",
          "text": [
            "New String: This is a long comment.\n"
          ]
        }
      ]
    },
    {
      "cell_type": "markdown",
      "source": [
        "### Split Method"
      ],
      "metadata": {
        "id": "SruGSFBmEst9"
      }
    },
    {
      "cell_type": "markdown",
      "source": [
        "<div>\n",
        "    <p><b>Return:</b> It returns a list of the substrings in the string, using <code>sep</code> as the separator string.</p>\n",
        "    <p><b>Documentation Syntax</b>: </p>\n",
        "</div>\n",
        "\n",
        "```python\n",
        "def split(\n",
        "    self,\n",
        "    sep: str | None = ...,\n",
        "    maxsplit: SupportsIndex = ...\n",
        ") -> list[str]\n",
        "```\n",
        "\n",
        "<div>\n",
        "    <p><b>Description of Arguments:</b></p>\n",
        "    <ul>\n",
        "        <li>\n",
        "            <b><code>sep</code></b>:\n",
        "            <ul>\n",
        "                <li>It is the separator used to split the string.</li>\n",
        "                <li>When set to <code>None</code> (the default value), it will split on any whitespace character and will discard empty strings from the result.</li>\n",
        "            </ul>\n",
        "        </li>\n",
        "        <li>\n",
        "            <b><code>maxsplit</code></b>:\n",
        "            <ul>\n",
        "                <li>Maximum number of splits (starting from the left).</li>\n",
        "                <li>-1 (the default value) means no limit.</li>\n",
        "            </ul>\n",
        "        </li>\n",
        "    </ul>\n",
        "</div>"
      ],
      "metadata": {
        "id": "gM9UC91NEu0S"
      }
    },
    {
      "cell_type": "code",
      "source": [
        "my_comment = \"This is a short comment.\"\n",
        "print(\"Found at position: {}\".format(my_comment.split(' ')))"
      ],
      "metadata": {
        "colab": {
          "base_uri": "https://localhost:8080/"
        },
        "id": "EyCTowN9EvS1",
        "outputId": "57bce766-ec3b-49e4-ef52-c13f9755703b"
      },
      "execution_count": null,
      "outputs": [
        {
          "output_type": "stream",
          "name": "stdout",
          "text": [
            "Found at position: ['This', 'is', 'a', 'short', 'comment.']\n"
          ]
        }
      ]
    },
    {
      "cell_type": "markdown",
      "source": [
        "### Substring from the String"
      ],
      "metadata": {
        "id": "5TR431MrCIhY"
      }
    },
    {
      "cell_type": "markdown",
      "source": [
        "<div><p>In this, the last character is not inclusive.</p></div>"
      ],
      "metadata": {
        "id": "nTgrw7uYCW4a"
      }
    },
    {
      "cell_type": "code",
      "source": [
        "my_comment = \"This is a short comment.\"\n",
        "print(\"Substring from the String: {}\".format(my_comment[3:6]))"
      ],
      "metadata": {
        "colab": {
          "base_uri": "https://localhost:8080/"
        },
        "id": "WJjS5cxvCMWv",
        "outputId": "87339886-ab25-4608-c37b-44af7a2a4aa4"
      },
      "execution_count": null,
      "outputs": [
        {
          "output_type": "stream",
          "name": "stdout",
          "text": [
            "Substring from the String: s i\n"
          ]
        }
      ]
    },
    {
      "cell_type": "markdown",
      "source": [
        "### Substring starting from a specific point"
      ],
      "metadata": {
        "id": "0CikQ7gnChLl"
      }
    },
    {
      "cell_type": "code",
      "source": [
        "my_comment = \"This is a short comment.\"\n",
        "print(\"Substring from the String: {}\".format(my_comment[3:]))"
      ],
      "metadata": {
        "colab": {
          "base_uri": "https://localhost:8080/"
        },
        "id": "i6ADYtv6CnKJ",
        "outputId": "5f4178c7-9e58-456f-b2a4-8f36cf139052"
      },
      "execution_count": null,
      "outputs": [
        {
          "output_type": "stream",
          "name": "stdout",
          "text": [
            "Substring from the String: s is a short comment.\n"
          ]
        }
      ]
    },
    {
      "cell_type": "markdown",
      "source": [
        "### Substring with a certain number of characters\n",
        "<div><p>For example, we want to obtain a substring with the first 10 characters.</p></div>"
      ],
      "metadata": {
        "id": "XwmdvjkECrwK"
      }
    },
    {
      "cell_type": "code",
      "source": [
        "my_comment = \"This is a short comment.\"\n",
        "print(\"Substring from the String: {}\".format(my_comment[:10]))"
      ],
      "metadata": {
        "colab": {
          "base_uri": "https://localhost:8080/"
        },
        "id": "NQ9ejrnBC4LC",
        "outputId": "6f311677-787e-4ee2-ac2b-f76673071ad6"
      },
      "execution_count": null,
      "outputs": [
        {
          "output_type": "stream",
          "name": "stdout",
          "text": [
            "Substring from the String: This is a \n"
          ]
        }
      ]
    },
    {
      "cell_type": "markdown",
      "source": [
        "### Substring starting from the beginning till a specific point from the end\n",
        "<div><p>We can obtain a substring from the beginning to the last know character as:</p></div>"
      ],
      "metadata": {
        "id": "kgXIsb20DDAR"
      }
    },
    {
      "cell_type": "code",
      "source": [
        "my_comment = \"This is a short comment.\"\n",
        "print(\"Substring from the String: {}\".format(my_comment[:-1]))"
      ],
      "metadata": {
        "colab": {
          "base_uri": "https://localhost:8080/"
        },
        "id": "lkwy449XDQ7i",
        "outputId": "c78616d5-b971-492a-973b-d4d33292b225"
      },
      "execution_count": null,
      "outputs": [
        {
          "output_type": "stream",
          "name": "stdout",
          "text": [
            "Substring from the String: This is a short comment\n"
          ]
        }
      ]
    },
    {
      "cell_type": "code",
      "source": [
        "my_comment = \"This is a short comment.\"\n",
        "print(\"Substring from the String: {}\".format(my_comment[:-10]))"
      ],
      "metadata": {
        "colab": {
          "base_uri": "https://localhost:8080/"
        },
        "id": "ztts0DF0DV7F",
        "outputId": "b3082716-d241-4a29-c985-555fbd5084df"
      },
      "execution_count": null,
      "outputs": [
        {
          "output_type": "stream",
          "name": "stdout",
          "text": [
            "Substring from the String: This is a shor\n"
          ]
        }
      ]
    },
    {
      "cell_type": "markdown",
      "metadata": {
        "id": "PQBdC0e8kUcx"
      },
      "source": [
        "# 13. String Concatenation"
      ]
    },
    {
      "cell_type": "markdown",
      "metadata": {
        "id": "mmLxOxjLkUcy"
      },
      "source": [
        "## String Concatenation"
      ]
    },
    {
      "cell_type": "markdown",
      "source": [
        "### Using Plus Operator"
      ],
      "metadata": {
        "id": "JXLdYVZKtMWg"
      }
    },
    {
      "cell_type": "markdown",
      "source": [
        "<div>\n",
        "    <p>To concatenate two different strings, we can ues the <b>Plus (<code>+</code>) Operator</b>, for example:</p>\n",
        "</div>"
      ],
      "metadata": {
        "id": "dlVZVMJEr0wC"
      }
    },
    {
      "cell_type": "code",
      "execution_count": null,
      "metadata": {
        "id": "qKSxitJCkUcy",
        "colab": {
          "base_uri": "https://localhost:8080/"
        },
        "outputId": "d984b8f2-ac4b-4e52-ae39-3b18f1331493"
      },
      "outputs": [
        {
          "output_type": "stream",
          "name": "stdout",
          "text": [
            "String after concatenation: Hello Python\n"
          ]
        }
      ],
      "source": [
        "string1 = \"Hello \"\n",
        "string2 = \"Python\"\n",
        "print(\"String after concatenation: {}\".format((string1 + string2)))"
      ]
    },
    {
      "cell_type": "markdown",
      "source": [
        "<div>\n",
        "    <p>We can even utilize variables in strings as:</p>\n",
        "</div>"
      ],
      "metadata": {
        "id": "xAAH5QuksRmP"
      }
    },
    {
      "cell_type": "code",
      "source": [
        "hello = \"Hello\"\n",
        "world = \"World\"\n",
        "\n",
        "greeting = hello + ' ' + world\n",
        "\n",
        "print(\"String after concatenation (using + Operator): {}\".format(greeting))"
      ],
      "metadata": {
        "colab": {
          "base_uri": "https://localhost:8080/"
        },
        "id": "bPPRo4BcsW9n",
        "outputId": "bd96b652-49cd-4e4b-9e74-314f206ce828"
      },
      "execution_count": null,
      "outputs": [
        {
          "output_type": "stream",
          "name": "stdout",
          "text": [
            "String after concatenation (using + Operator): Hello World\n"
          ]
        }
      ]
    },
    {
      "cell_type": "markdown",
      "source": [
        "<div>\n",
        "    <p>Adding a space manually between words is not very convinient when we are creating longer strings. In order to avoid making mistakes, we can use <b>String Formatting</b>.</p>\n",
        "</div>"
      ],
      "metadata": {
        "id": "Ipu-3e9dsuW5"
      }
    },
    {
      "cell_type": "markdown",
      "source": [
        "### String Formatting"
      ],
      "metadata": {
        "id": "a_WS5ULjtPww"
      }
    },
    {
      "cell_type": "markdown",
      "source": [
        "<div>\n",
        "    <p>We can create a formatted string using the following method:</p>\n",
        "</div>"
      ],
      "metadata": {
        "id": "doi3i4I5tSY0"
      }
    },
    {
      "cell_type": "code",
      "source": [
        "hello = \"Hello\"\n",
        "world = \"World\"\n",
        "\n",
        "greeting = f\"{hello} {world}\"\n",
        "\n",
        "print(\"String after concatenation (using String Formatting): {}\".format(greeting))"
      ],
      "metadata": {
        "colab": {
          "base_uri": "https://localhost:8080/"
        },
        "id": "rXk6-7Vfta1M",
        "outputId": "68a0b1cd-5fd8-41fd-8f04-dd026cc185ab"
      },
      "execution_count": null,
      "outputs": [
        {
          "output_type": "stream",
          "name": "stdout",
          "text": [
            "String after concatenation (using String Formatting): Hello World\n"
          ]
        }
      ]
    },
    {
      "cell_type": "markdown",
      "source": [
        "<div>\n",
        "    <p>In String Formatting, we can even call a function or use any expression within the string instead of using a variable which makes it's use more convinient as compared to the Plus Operator.</p>\n",
        "</div>"
      ],
      "metadata": {
        "id": "BLcqqeWrt41C"
      }
    },
    {
      "cell_type": "markdown",
      "metadata": {
        "id": "BvXNvnxAkUcy"
      },
      "source": [
        "## Concatenating Strings using the <code>+</code> Operator"
      ]
    },
    {
      "cell_type": "markdown",
      "source": [
        "<div><p>Example:</p></div>"
      ],
      "metadata": {
        "id": "AB4Qn57duZpf"
      }
    },
    {
      "cell_type": "code",
      "execution_count": null,
      "metadata": {
        "id": "OUogKMGjkUcy",
        "colab": {
          "base_uri": "https://localhost:8080/"
        },
        "outputId": "baa0fb9b-1a49-48a8-f349-da896591266a"
      },
      "outputs": [
        {
          "output_type": "stream",
          "name": "stdout",
          "text": [
            "Aashish plays Basketball at 8o'clock.\n"
          ]
        }
      ],
      "source": [
        "my_name = \"Aashish\"\n",
        "my_sport = \"Basketball\"\n",
        "time = 8\n",
        "\n",
        "info = my_name + ' plays ' + my_sport + ' at ' + str(time) + ' o\\'clock.'\n",
        "\n",
        "print(info)"
      ]
    },
    {
      "cell_type": "markdown",
      "source": [
        "<div><p>While using + Operator, we need to ensure that all the parts which we are concatenating are of string data type otherwise the interpreter will throw an error.</p></div>"
      ],
      "metadata": {
        "id": "kOv3uvC9u7Eu"
      }
    },
    {
      "cell_type": "markdown",
      "metadata": {
        "id": "INOtoXtIkUcy"
      },
      "source": [
        "## Using f-strings for String Formatting"
      ]
    },
    {
      "cell_type": "markdown",
      "source": [
        "<div><p>Examples:</p></div>"
      ],
      "metadata": {
        "id": "mFLv1LJ9vace"
      }
    },
    {
      "cell_type": "code",
      "execution_count": null,
      "metadata": {
        "id": "-8Fkl3bdkUcy",
        "colab": {
          "base_uri": "https://localhost:8080/"
        },
        "outputId": "00e17398-60fd-451b-f449-be8e84f1b661"
      },
      "outputs": [
        {
          "output_type": "stream",
          "name": "stdout",
          "text": [
            "Aashish plays Basketball at 8 o'clock.\n"
          ]
        }
      ],
      "source": [
        "my_name = \"Aashish\"\n",
        "my_sport = \"Basketball\"\n",
        "time = 8\n",
        "\n",
        "info = f\"{my_name} plays {my_sport} at {str(time)} o\\'clock.\"\n",
        "\n",
        "print(info)"
      ]
    },
    {
      "cell_type": "markdown",
      "source": [
        "<div><p>While using + Operator, we need not ensure that all the parts which we are concatenating are of string data type because string formatting will handle it automatically, so the below code will not throw any error:</p></div>"
      ],
      "metadata": {
        "id": "GRkdyBfov112"
      }
    },
    {
      "cell_type": "code",
      "source": [
        "my_name = \"Aashish\"\n",
        "my_sport = \"Basketball\"\n",
        "time = 8\n",
        "\n",
        "info = f\"{my_name} plays {my_sport} at {time} o\\'clock.\"\n",
        "\n",
        "print(info)"
      ],
      "metadata": {
        "colab": {
          "base_uri": "https://localhost:8080/"
        },
        "id": "805Bq0RywC5A",
        "outputId": "7b89f1f7-dc7f-4ba4-9232-042d0e2baab8"
      },
      "execution_count": null,
      "outputs": [
        {
          "output_type": "stream",
          "name": "stdout",
          "text": [
            "Aashish plays Basketball at 8 o'clock.\n"
          ]
        }
      ]
    },
    {
      "cell_type": "markdown",
      "source": [
        "<div><p>So, with String Formatting, we can use data of different data types as well (for example, we can use lists directly).</p></div>"
      ],
      "metadata": {
        "id": "tuxoMfBCwMoT"
      }
    },
    {
      "cell_type": "markdown",
      "metadata": {
        "id": "OYVxGM2MkUcy"
      },
      "source": [
        "## Alternative String Formatting Methods"
      ]
    },
    {
      "cell_type": "markdown",
      "source": [
        "### Using the <code>format()</code> Method\n",
        "<div><p>Example:</p></div>"
      ],
      "metadata": {
        "id": "fAnrAoF0wxcx"
      }
    },
    {
      "cell_type": "code",
      "execution_count": null,
      "metadata": {
        "id": "bsrE2jFnkUcz",
        "colab": {
          "base_uri": "https://localhost:8080/"
        },
        "outputId": "e76a33e0-c24e-499f-cd34-6622c7f81702"
      },
      "outputs": [
        {
          "output_type": "stream",
          "name": "stdout",
          "text": [
            "Aashish plays Basketball at 8 o'clock.\n"
          ]
        }
      ],
      "source": [
        "my_name = \"Aashish\"\n",
        "my_sport = \"Basketball\"\n",
        "time = 8\n",
        "\n",
        "info = \"{} plays {} at {} o\\'clock.\".format(my_name, my_sport, time)\n",
        "\n",
        "print(info)"
      ]
    },
    {
      "cell_type": "markdown",
      "source": [
        "### String Interpolation\n",
        "<div><p>Example:</p></div>"
      ],
      "metadata": {
        "id": "39OGIOoxxIXn"
      }
    },
    {
      "cell_type": "code",
      "source": [
        "my_name = \"Aashish\"\n",
        "my_sport = \"Basketball\"\n",
        "time = 8\n",
        "\n",
        "info = \"%s plays %s at %s o\\'clock.\" % (my_name, my_sport, time)\n",
        "\n",
        "print(info)"
      ],
      "metadata": {
        "colab": {
          "base_uri": "https://localhost:8080/"
        },
        "id": "-p5eFoRLxMlS",
        "outputId": "05a4cee0-ad18-48db-cafb-a1340cb97a83"
      },
      "execution_count": null,
      "outputs": [
        {
          "output_type": "stream",
          "name": "stdout",
          "text": [
            "Aashish plays Basketball at 8 o'clock.\n"
          ]
        }
      ]
    },
    {
      "cell_type": "markdown",
      "metadata": {
        "id": "uOMPs6IlkUcz"
      },
      "source": [
        "# 14. Numeric Types"
      ]
    },
    {
      "cell_type": "markdown",
      "metadata": {
        "id": "W6gLV24CkUcz"
      },
      "source": [
        "## Integers"
      ]
    },
    {
      "cell_type": "markdown",
      "source": [
        "<div>\n",
        "    <p>Every number which does not have the decimal part is called an Integer. Each such number is an instance of the built-in class <code>int</code>.</p>\n",
        "</div>"
      ],
      "metadata": {
        "id": "SSptLS-fxgw0"
      }
    },
    {
      "cell_type": "markdown",
      "source": [
        "### Structure and Syntax"
      ],
      "metadata": {
        "id": "Q-njxruGx6Jh"
      }
    },
    {
      "cell_type": "code",
      "execution_count": null,
      "metadata": {
        "id": "XHl5fu5ikUcz",
        "colab": {
          "base_uri": "https://localhost:8080/"
        },
        "outputId": "7e666a67-48d6-4083-b146-82e559936642"
      },
      "outputs": [
        {
          "output_type": "stream",
          "name": "stdout",
          "text": [
            "No. of Jobs: 10\n",
            "Type of Variable: <class 'int'>\n"
          ]
        }
      ],
      "source": [
        "jobs_qty = 10\n",
        "\n",
        "print(\"No. of Jobs: {}\".format(jobs_qty))\n",
        "print(\"Type of Variable: {}\".format(type(jobs_qty)))"
      ]
    },
    {
      "cell_type": "markdown",
      "source": [
        "### Conversion of Input"
      ],
      "metadata": {
        "id": "YdBwLsJiUXeg"
      }
    },
    {
      "cell_type": "markdown",
      "source": [
        "<div><p>Even if we want to take an integer input, it will be taken as a string value, by default, and we will need to explicitly convert to the required type as:</p></div>"
      ],
      "metadata": {
        "id": "m8ojA1P7TeJP"
      }
    },
    {
      "cell_type": "code",
      "source": [
        "jobs_qty = input(\"Enter the number of jobs: \")\n",
        "print(\"No. of Jobs: {}\".format(jobs_qty))\n",
        "print(\"Type of Variable: {}\".format(type(jobs_qty)))\n",
        "jobs_qty = int(jobs_qty)\n",
        "print(\"No. of Jobs: {}\".format(jobs_qty))\n",
        "print(\"Type of Variable: {}\".format(type(jobs_qty)))"
      ],
      "metadata": {
        "colab": {
          "base_uri": "https://localhost:8080/"
        },
        "id": "Mjyw-WVrTq6-",
        "outputId": "69decd62-a4ca-42f0-e0f2-af408473dafa"
      },
      "execution_count": null,
      "outputs": [
        {
          "output_type": "stream",
          "name": "stdout",
          "text": [
            "No. of Jobs: 10\n",
            "Type of Variable: <class 'int'>\n",
            "Enter the number of jobs: 10\n",
            "No. of Jobs: 10\n",
            "Type of Variable: <class 'str'>\n",
            "No. of Jobs: 10\n",
            "Type of Variable: <class 'int'>\n"
          ]
        }
      ]
    },
    {
      "cell_type": "markdown",
      "source": [
        "### Exponentiation"
      ],
      "metadata": {
        "id": "Tj0FkTRmUa8h"
      }
    },
    {
      "cell_type": "code",
      "source": [
        "base = 5\n",
        "power = 3\n",
        "\n",
        "print(\"5 power 3: {}\".format(pow(base, power)))\n",
        "print(\"5 power 3: {}\".format(base**power))"
      ],
      "metadata": {
        "colab": {
          "base_uri": "https://localhost:8080/"
        },
        "id": "SG1AmgsZUcv8",
        "outputId": "c3cf34b6-b341-4e37-b2ff-b313e28eeac9"
      },
      "execution_count": null,
      "outputs": [
        {
          "output_type": "stream",
          "name": "stdout",
          "text": [
            "5 power 3: 125\n",
            "5 power 3: 125\n"
          ]
        }
      ]
    },
    {
      "cell_type": "markdown",
      "source": [
        "### Long Numbers\n",
        "\n",
        "<div><p>We can represent long numbers using underscore (<code>_</code>) in between. This will help in making the number more clear to read. We are allowed to use only one underscore between two digits and using more than one underscore will throw an error.</p></div>"
      ],
      "metadata": {
        "id": "LN4x9ZB4UsfA"
      }
    },
    {
      "cell_type": "code",
      "source": [
        "one_million = 1_000_000\n",
        "\n",
        "print(\"One Million: {}\".format(one_million))"
      ],
      "metadata": {
        "colab": {
          "base_uri": "https://localhost:8080/"
        },
        "id": "oQN1aVD5UuaU",
        "outputId": "9dc8f70b-6643-41be-f795-53d26d825208"
      },
      "execution_count": null,
      "outputs": [
        {
          "output_type": "stream",
          "name": "stdout",
          "text": [
            "One Million: 1000000\n"
          ]
        }
      ]
    },
    {
      "cell_type": "code",
      "source": [
        "a_number = 3_427\n",
        "\n",
        "print(\"A Number: {}\".format(a_number))"
      ],
      "metadata": {
        "colab": {
          "base_uri": "https://localhost:8080/"
        },
        "id": "vknZbFlGU5C5",
        "outputId": "bfb0e503-adf3-4f8f-bc14-f4d42b331ea8"
      },
      "execution_count": null,
      "outputs": [
        {
          "output_type": "stream",
          "name": "stdout",
          "text": [
            "A Number: 3427\n"
          ]
        }
      ]
    },
    {
      "cell_type": "markdown",
      "metadata": {
        "id": "kVjkWNm9kUcz"
      },
      "source": [
        "## Integer Manipulation"
      ]
    },
    {
      "cell_type": "markdown",
      "source": [
        "### Conversion of Input"
      ],
      "metadata": {
        "id": "KrMyf2AfWal8"
      }
    },
    {
      "cell_type": "markdown",
      "source": [
        "<div><p>Even if we want to take an integer input, it will be taken as a string value, by default, and we will need to explicitly convert to the required type as:</p></div>"
      ],
      "metadata": {
        "id": "n_uxT6JrWJo-"
      }
    },
    {
      "cell_type": "code",
      "execution_count": null,
      "metadata": {
        "id": "eYy9JbL4kUcz",
        "colab": {
          "base_uri": "https://localhost:8080/"
        },
        "outputId": "8cc6d7b8-c420-4457-9011-80a2e8219fb1"
      },
      "outputs": [
        {
          "output_type": "stream",
          "name": "stdout",
          "text": [
            "Enter the number of jobs: 10\n",
            "No. of Jobs: 10\n",
            "Type of Variable: <class 'str'>\n",
            "No. of Jobs: 10\n",
            "Type of Variable: <class 'int'>\n"
          ]
        }
      ],
      "source": [
        "jobs_qty = input(\"Enter the number of jobs: \")\n",
        "print(\"No. of Jobs: {}\".format(jobs_qty))\n",
        "print(\"Type of Variable: {}\".format(type(jobs_qty)))\n",
        "jobs_qty = int(jobs_qty)\n",
        "print(\"No. of Jobs: {}\".format(jobs_qty))\n",
        "print(\"Type of Variable: {}\".format(type(jobs_qty)))"
      ]
    },
    {
      "cell_type": "markdown",
      "source": [
        "### Invalid Input\n",
        "\n",
        "<div><p>We would be thrown with an error if we were to provide an input which is not an integer when we try to convert it into an integer, for example:</p></div>"
      ],
      "metadata": {
        "id": "WoeVC3hzWbY5"
      }
    },
    {
      "cell_type": "code",
      "source": [
        "input_str = input(\"Enter a number: \")\n",
        "print(\"Type of input: {}\".format(type(input_str)))\n",
        "try:\n",
        "    input_num = int(input_str) # Error\n",
        "    print(\"Type of input: {}\".format(type(input_num)))\n",
        "except ValueError:\n",
        "    print(\"Not able to convert to int\")"
      ],
      "metadata": {
        "colab": {
          "base_uri": "https://localhost:8080/"
        },
        "id": "HE_6lhZcWpKu",
        "outputId": "0099a515-82c0-473a-f0e7-ea64c7748c9e"
      },
      "execution_count": null,
      "outputs": [
        {
          "output_type": "stream",
          "name": "stdout",
          "text": [
            "Enter a number: abc\n",
            "Type of input: <class 'str'>\n",
            "Not able to convert to int\n"
          ]
        }
      ]
    },
    {
      "cell_type": "markdown",
      "metadata": {
        "id": "9CiL3meDkUcz"
      },
      "source": [
        "## Float Numbers"
      ]
    },
    {
      "cell_type": "markdown",
      "source": [
        "<div>\n",
        "    <p>Numbers with a Decimal point are <b>Floating Point</b> numbers.</p>\n",
        "</div>"
      ],
      "metadata": {
        "id": "FD03MbZaXb76"
      }
    },
    {
      "cell_type": "markdown",
      "source": [
        "### Structure and Syntax"
      ],
      "metadata": {
        "id": "_poIV7GDXtUr"
      }
    },
    {
      "cell_type": "code",
      "execution_count": null,
      "metadata": {
        "id": "HaB1pU1ykUc0",
        "colab": {
          "base_uri": "https://localhost:8080/"
        },
        "outputId": "0429691d-0a48-4f54-d59e-f9ac555a6c14"
      },
      "outputs": [
        {
          "output_type": "stream",
          "name": "stdout",
          "text": [
            "Average Price: 17.25\n",
            "Type of Value: <class 'float'>\n"
          ]
        }
      ],
      "source": [
        "average_price = 17.25\n",
        "\n",
        "print(\"Average Price: {}\".format(average_price))\n",
        "print(\"Type of Value: {}\".format(type(average_price)))"
      ]
    },
    {
      "cell_type": "markdown",
      "source": [
        "### Conversion of Numbers\n",
        "\n",
        "<div><p>We can convert a number to a floating-point number using the <code>float()</code> function as:</p></div>"
      ],
      "metadata": {
        "id": "1hqYl35UYJCy"
      }
    },
    {
      "cell_type": "code",
      "source": [
        "average_price = 28.75\n",
        "\n",
        "price(int())\n",
        "\n",
        "print(\"Average Price: {}\".format(average_price))\n",
        "print(\"Type of Value: {}\".format(type(average_price)))"
      ],
      "metadata": {
        "id": "YGmJv7GXYW0S"
      },
      "execution_count": null,
      "outputs": []
    },
    {
      "cell_type": "markdown",
      "metadata": {
        "id": "CC9im7ibkUc0"
      },
      "source": [
        "## Floating-point Number Manipulation"
      ]
    },
    {
      "cell_type": "code",
      "execution_count": null,
      "metadata": {
        "id": "GG-ULP9okUc0"
      },
      "outputs": [],
      "source": []
    },
    {
      "cell_type": "markdown",
      "metadata": {
        "id": "B1KWJIIBkUc1"
      },
      "source": [
        "## Working with Complex Numbers"
      ]
    },
    {
      "cell_type": "code",
      "execution_count": null,
      "metadata": {
        "id": "XmD25ndbkUc1"
      },
      "outputs": [],
      "source": []
    },
    {
      "cell_type": "markdown",
      "metadata": {
        "id": "0C1wYqbxkUc1"
      },
      "source": [
        "# 15. Boolean Values"
      ]
    },
    {
      "cell_type": "markdown",
      "metadata": {
        "id": "Lo9VeWlfkUc1"
      },
      "source": [
        "## Boolean Values"
      ]
    },
    {
      "cell_type": "code",
      "execution_count": null,
      "metadata": {
        "id": "WR3koSrPkUc1"
      },
      "outputs": [],
      "source": []
    },
    {
      "cell_type": "code",
      "execution_count": null,
      "metadata": {
        "id": "9pPLKkPTkUc2"
      },
      "outputs": [],
      "source": []
    },
    {
      "cell_type": "markdown",
      "metadata": {
        "id": "HdXLqrXwkUc2"
      },
      "source": [
        "## Working with Boolean Values"
      ]
    },
    {
      "cell_type": "code",
      "execution_count": null,
      "metadata": {
        "id": "ZxSjygFDkUc2"
      },
      "outputs": [],
      "source": []
    },
    {
      "cell_type": "markdown",
      "metadata": {
        "id": "i7lEa8k6kUc2"
      },
      "source": [
        "## Type Conversion"
      ]
    },
    {
      "cell_type": "code",
      "execution_count": null,
      "metadata": {
        "id": "T2ynesskkUc2"
      },
      "outputs": [],
      "source": []
    },
    {
      "cell_type": "markdown",
      "metadata": {
        "id": "-tLxJGhRkUc2"
      },
      "source": [
        "# 16. Magic Methods"
      ]
    },
    {
      "cell_type": "markdown",
      "metadata": {
        "id": "0YmU-TUVkUc3"
      },
      "source": [
        "## Magic Methods"
      ]
    },
    {
      "cell_type": "code",
      "execution_count": null,
      "metadata": {
        "id": "PMQBSBZLkUc3"
      },
      "outputs": [],
      "source": []
    },
    {
      "cell_type": "markdown",
      "metadata": {
        "id": "pIaublWekUc3"
      },
      "source": [
        "## Utilizing Magic Attributes and Methods"
      ]
    },
    {
      "cell_type": "code",
      "execution_count": null,
      "metadata": {
        "id": "leKRrZPkkUc3"
      },
      "outputs": [],
      "source": []
    },
    {
      "cell_type": "markdown",
      "metadata": {
        "id": "rAhA3JBwkUc4"
      },
      "source": [
        "# 17. Lists"
      ]
    },
    {
      "cell_type": "markdown",
      "metadata": {
        "id": "MDLi0ukvkUc4"
      },
      "source": [
        "## Lists"
      ]
    },
    {
      "cell_type": "code",
      "execution_count": null,
      "metadata": {
        "id": "QNM59F-okUc4"
      },
      "outputs": [],
      "source": []
    },
    {
      "cell_type": "markdown",
      "metadata": {
        "id": "bGj6TmMrkUc4"
      },
      "source": [
        "## List Methods"
      ]
    },
    {
      "cell_type": "code",
      "execution_count": null,
      "metadata": {
        "id": "P3zvPRAFkUc4"
      },
      "outputs": [],
      "source": []
    },
    {
      "cell_type": "markdown",
      "metadata": {
        "id": "cyLZru1kkUc4"
      },
      "source": [
        "## Working with Lists"
      ]
    },
    {
      "cell_type": "code",
      "execution_count": null,
      "metadata": {
        "id": "94lGGO1BkUc4"
      },
      "outputs": [],
      "source": []
    },
    {
      "cell_type": "markdown",
      "metadata": {
        "id": "B2h6YNVbkUc4"
      },
      "source": [
        "## Copying Lists"
      ]
    },
    {
      "cell_type": "code",
      "execution_count": null,
      "metadata": {
        "id": "JCMre-iTkUc5"
      },
      "outputs": [],
      "source": []
    },
    {
      "cell_type": "markdown",
      "metadata": {
        "id": "66lQRSzOkUc5"
      },
      "source": [
        "# 18. Dictionaries"
      ]
    },
    {
      "cell_type": "markdown",
      "metadata": {
        "id": "oR2Rn3BakUc5"
      },
      "source": [
        "## Dictionaries"
      ]
    },
    {
      "cell_type": "code",
      "execution_count": null,
      "metadata": {
        "id": "zJLSLo6CkUc5"
      },
      "outputs": [],
      "source": []
    },
    {
      "cell_type": "markdown",
      "metadata": {
        "id": "mhWSQsbCkUc5"
      },
      "source": [
        "## Manipulating Dictionaries"
      ]
    },
    {
      "cell_type": "code",
      "execution_count": null,
      "metadata": {
        "id": "WSLL_U55kUc5"
      },
      "outputs": [],
      "source": []
    },
    {
      "cell_type": "markdown",
      "metadata": {
        "id": "nWiZHUhykUc6"
      },
      "source": [
        "## Dictionary Methods"
      ]
    },
    {
      "cell_type": "code",
      "execution_count": null,
      "metadata": {
        "id": "f7Vcm6qfkUc6"
      },
      "outputs": [],
      "source": []
    },
    {
      "cell_type": "markdown",
      "metadata": {
        "id": "Iam3CBRnkUc6"
      },
      "source": [
        "## Other Operations with Dictionaries"
      ]
    },
    {
      "cell_type": "code",
      "execution_count": null,
      "metadata": {
        "id": "4_lbxZGSkUc6"
      },
      "outputs": [],
      "source": []
    },
    {
      "cell_type": "markdown",
      "metadata": {
        "id": "_drkqXXokUc7"
      },
      "source": [
        "## Converting Other Types to a Dictionary"
      ]
    },
    {
      "cell_type": "code",
      "execution_count": null,
      "metadata": {
        "id": "QobTAxKakUc7"
      },
      "outputs": [],
      "source": []
    },
    {
      "cell_type": "markdown",
      "metadata": {
        "id": "O04CBVNukUc7"
      },
      "source": [
        "## Working with Dictionaries"
      ]
    },
    {
      "cell_type": "code",
      "execution_count": null,
      "metadata": {
        "id": "A8mrdXMPkUc7"
      },
      "outputs": [],
      "source": []
    },
    {
      "cell_type": "markdown",
      "metadata": {
        "id": "rW0m08U0kUc7"
      },
      "source": [
        "# 19. Tuples"
      ]
    },
    {
      "cell_type": "markdown",
      "metadata": {
        "id": "MrblVENVkUc7"
      },
      "source": [
        "## Tuples"
      ]
    },
    {
      "cell_type": "code",
      "execution_count": null,
      "metadata": {
        "id": "244h6sMikUc7"
      },
      "outputs": [],
      "source": []
    },
    {
      "cell_type": "markdown",
      "metadata": {
        "id": "uVPGJkXOkUc8"
      },
      "source": [
        "## Tuple Manipulation"
      ]
    },
    {
      "cell_type": "code",
      "execution_count": null,
      "metadata": {
        "id": "F_8oaWIMkUc8"
      },
      "outputs": [],
      "source": []
    },
    {
      "cell_type": "markdown",
      "metadata": {
        "id": "_pWsB9bNkUc8"
      },
      "source": [
        "# 20. Sets"
      ]
    },
    {
      "cell_type": "markdown",
      "metadata": {
        "id": "my2gufzdkUc8"
      },
      "source": [
        "## Sets"
      ]
    },
    {
      "cell_type": "code",
      "execution_count": null,
      "metadata": {
        "id": "B5FcetMbkUc8"
      },
      "outputs": [],
      "source": []
    },
    {
      "cell_type": "code",
      "execution_count": null,
      "metadata": {
        "id": "xZl52r65kUc8"
      },
      "outputs": [],
      "source": []
    },
    {
      "cell_type": "markdown",
      "metadata": {
        "id": "ES7yuwhnkUc8"
      },
      "source": [
        "## Working with Sets"
      ]
    },
    {
      "cell_type": "code",
      "execution_count": null,
      "metadata": {
        "id": "6qUcKdZikUc9"
      },
      "outputs": [],
      "source": []
    },
    {
      "cell_type": "markdown",
      "metadata": {
        "id": "p6ZPzYxEkUc9"
      },
      "source": [
        "## Understanding Set Theory"
      ]
    },
    {
      "cell_type": "code",
      "execution_count": null,
      "metadata": {
        "id": "csvSuK6OkUc9"
      },
      "outputs": [],
      "source": []
    },
    {
      "cell_type": "markdown",
      "metadata": {
        "id": "wEymBnECkUc9"
      },
      "source": [
        "## Set Methods"
      ]
    },
    {
      "cell_type": "code",
      "execution_count": null,
      "metadata": {
        "id": "hmi6DTW6kUc9"
      },
      "outputs": [],
      "source": []
    },
    {
      "cell_type": "markdown",
      "metadata": {
        "id": "cq615xQSkUc-"
      },
      "source": [
        "## Usage of the Sets Methods"
      ]
    },
    {
      "cell_type": "code",
      "execution_count": null,
      "metadata": {
        "id": "cUCEZ1q5kUc-"
      },
      "outputs": [],
      "source": []
    },
    {
      "cell_type": "markdown",
      "metadata": {
        "id": "4hmhzchGkUc-"
      },
      "source": [
        "## Calculating Symmetric Difference of Sets"
      ]
    },
    {
      "cell_type": "code",
      "execution_count": null,
      "metadata": {
        "id": "f0GRsANhkUc-"
      },
      "outputs": [],
      "source": []
    },
    {
      "cell_type": "markdown",
      "metadata": {
        "id": "U1iljliJkUc-"
      },
      "source": [
        "## Working with Sets"
      ]
    },
    {
      "cell_type": "code",
      "execution_count": null,
      "metadata": {
        "id": "_Mdc0uc9kUc_"
      },
      "outputs": [],
      "source": []
    },
    {
      "cell_type": "markdown",
      "metadata": {
        "id": "NZcj0UUQkUc_"
      },
      "source": [
        "# 21. Ranges"
      ]
    },
    {
      "cell_type": "markdown",
      "metadata": {
        "id": "T66IfT-MkUc_"
      },
      "source": [
        "## Ranges"
      ]
    },
    {
      "cell_type": "code",
      "execution_count": null,
      "metadata": {
        "id": "ChK_3mwkkUc_"
      },
      "outputs": [],
      "source": []
    },
    {
      "cell_type": "markdown",
      "metadata": {
        "id": "3Huy_j45kUc_"
      },
      "source": [
        "## Range Manipulation"
      ]
    },
    {
      "cell_type": "code",
      "execution_count": null,
      "metadata": {
        "id": "8tRDFDjgkUc_"
      },
      "outputs": [],
      "source": []
    },
    {
      "cell_type": "markdown",
      "metadata": {
        "id": "EvC4qucRkUdA"
      },
      "source": [
        "## Range Methods and Attributes"
      ]
    },
    {
      "cell_type": "code",
      "execution_count": null,
      "metadata": {
        "id": "6usDOFvikUdA"
      },
      "outputs": [],
      "source": []
    },
    {
      "cell_type": "markdown",
      "metadata": {
        "id": "fmgOxMRYkUdA"
      },
      "source": [
        "# 22. Working with Sequences"
      ]
    },
    {
      "cell_type": "markdown",
      "metadata": {
        "id": "xunjIcmukUdA"
      },
      "source": [
        "## Built-in Functions for Sequences"
      ]
    },
    {
      "cell_type": "code",
      "execution_count": null,
      "metadata": {
        "id": "BywE4WrQkUdA"
      },
      "outputs": [],
      "source": []
    },
    {
      "cell_type": "markdown",
      "metadata": {
        "id": "VN-7A-ulkUdA"
      },
      "source": [
        "## Built-in <code>zip()</code> Function"
      ]
    },
    {
      "cell_type": "code",
      "execution_count": null,
      "metadata": {
        "id": "pgOiwleSkUdB"
      },
      "outputs": [],
      "source": []
    },
    {
      "cell_type": "markdown",
      "metadata": {
        "id": "bfNlZhPYkUdB"
      },
      "source": [
        "## Working with Zip Objects"
      ]
    },
    {
      "cell_type": "code",
      "execution_count": null,
      "metadata": {
        "id": "np2jp5HxkUdB"
      },
      "outputs": [],
      "source": []
    },
    {
      "cell_type": "markdown",
      "metadata": {
        "id": "RR5tYbalkUdB"
      },
      "source": [
        "## Converting a Zip Object to a Dictionary"
      ]
    },
    {
      "cell_type": "code",
      "execution_count": null,
      "metadata": {
        "id": "3_5Bc6JIkUdB"
      },
      "outputs": [],
      "source": []
    },
    {
      "cell_type": "markdown",
      "metadata": {
        "id": "_z5YuGsPkUdB"
      },
      "source": [
        "## Comparison of Different Sequences"
      ]
    },
    {
      "cell_type": "code",
      "execution_count": null,
      "metadata": {
        "id": "1XfC-YGhkUdC"
      },
      "outputs": [],
      "source": []
    },
    {
      "cell_type": "markdown",
      "metadata": {
        "id": "nolAfhlckUdC"
      },
      "source": [
        "# 23. Modifying Objects in Python"
      ]
    },
    {
      "cell_type": "code",
      "execution_count": null,
      "metadata": {
        "id": "q51o_GLmkUdC"
      },
      "outputs": [],
      "source": []
    },
    {
      "cell_type": "markdown",
      "metadata": {
        "id": "6t_X5Ay2kUdC"
      },
      "source": [
        "## Understanding Immutable Objects in Python"
      ]
    },
    {
      "cell_type": "code",
      "execution_count": null,
      "metadata": {
        "id": "S2pwZFQ2kUdC"
      },
      "outputs": [],
      "source": []
    },
    {
      "cell_type": "markdown",
      "metadata": {
        "id": "qYqZwhCdkUdD"
      },
      "source": [
        "## Understanding Mutable Objects in Python"
      ]
    },
    {
      "cell_type": "code",
      "execution_count": null,
      "metadata": {
        "id": "XRTCsVn6kUdD"
      },
      "outputs": [],
      "source": []
    },
    {
      "cell_type": "markdown",
      "metadata": {
        "id": "9d3a2cDGkUdD"
      },
      "source": [
        "## Strategies to Prevent Object Mutation"
      ]
    },
    {
      "cell_type": "code",
      "execution_count": null,
      "metadata": {
        "id": "K2cKWVAgkUdD"
      },
      "outputs": [],
      "source": []
    },
    {
      "cell_type": "markdown",
      "metadata": {
        "id": "0MHgy0jukUdE"
      },
      "source": [
        "## Creating Deep Copies of Objects"
      ]
    },
    {
      "cell_type": "code",
      "execution_count": null,
      "metadata": {
        "id": "c39g4o3ykUdE"
      },
      "outputs": [],
      "source": []
    },
    {
      "cell_type": "markdown",
      "metadata": {
        "id": "O7aBpGj-kUdE"
      },
      "source": [
        "# 24. Functions"
      ]
    },
    {
      "cell_type": "code",
      "execution_count": null,
      "metadata": {
        "id": "aWhcdj9IkUdE"
      },
      "outputs": [],
      "source": []
    },
    {
      "cell_type": "markdown",
      "metadata": {
        "id": "6eqaUvy7kUdE"
      },
      "source": [
        "## Functions"
      ]
    },
    {
      "cell_type": "code",
      "execution_count": null,
      "metadata": {
        "id": "KE7C0WTxkUdF"
      },
      "outputs": [],
      "source": []
    },
    {
      "cell_type": "markdown",
      "metadata": {
        "id": "erSUWzjBkUdF"
      },
      "source": [
        "## Calling Functions, Arguments vs Parameters"
      ]
    },
    {
      "cell_type": "code",
      "execution_count": null,
      "metadata": {
        "id": "1rTJLk6nkUdF"
      },
      "outputs": [],
      "source": []
    },
    {
      "cell_type": "markdown",
      "metadata": {
        "id": "2DVHt2vpkUdF"
      },
      "source": [
        "## Shortest Function in Python"
      ]
    },
    {
      "cell_type": "code",
      "execution_count": null,
      "metadata": {
        "id": "lchOOaG-kUdF"
      },
      "outputs": [],
      "source": []
    },
    {
      "cell_type": "markdown",
      "metadata": {
        "id": "SjFTd8DJkUdF"
      },
      "source": [
        "# 25. Function Arguments"
      ]
    },
    {
      "cell_type": "code",
      "execution_count": null,
      "metadata": {
        "id": "NcHA0xUskUdG"
      },
      "outputs": [],
      "source": []
    },
    {
      "cell_type": "markdown",
      "metadata": {
        "id": "rdriQ2qPkUdG"
      },
      "source": [
        "## Mutable and Immutable Arguments in Function Calls"
      ]
    },
    {
      "cell_type": "code",
      "execution_count": null,
      "metadata": {
        "id": "-W0z1lYOkUdG"
      },
      "outputs": [],
      "source": []
    },
    {
      "cell_type": "markdown",
      "metadata": {
        "id": "3xztDfwhkUdG"
      },
      "source": [
        "## Using Mutable and Immutable Objects as Function Arguments"
      ]
    },
    {
      "cell_type": "code",
      "execution_count": null,
      "metadata": {
        "id": "AOWay37CkUdG"
      },
      "outputs": [],
      "source": []
    },
    {
      "cell_type": "markdown",
      "metadata": {
        "id": "5Yq5PWiykUdG"
      },
      "source": [
        "## Mandatory and Optional Positional Arguments"
      ]
    },
    {
      "cell_type": "code",
      "execution_count": null,
      "metadata": {
        "id": "8asES2bukUdG"
      },
      "outputs": [],
      "source": []
    },
    {
      "cell_type": "markdown",
      "metadata": {
        "id": "FBlDdrcgkUdH"
      },
      "source": [
        "## Functions Manipulation"
      ]
    },
    {
      "cell_type": "code",
      "execution_count": null,
      "metadata": {
        "id": "V60C4HYWkUdH"
      },
      "outputs": [],
      "source": []
    },
    {
      "cell_type": "markdown",
      "metadata": {
        "id": "6zyu81jskUdH"
      },
      "source": [
        "## Function Arguments"
      ]
    },
    {
      "cell_type": "code",
      "execution_count": null,
      "metadata": {
        "id": "xwjEUKijkUdH"
      },
      "outputs": [],
      "source": []
    },
    {
      "cell_type": "markdown",
      "metadata": {
        "id": "l187O6W1kUdH"
      },
      "source": [
        "# 26. Args and kwargs in Functions"
      ]
    },
    {
      "cell_type": "markdown",
      "metadata": {
        "id": "Nurc7SDLkUdH"
      },
      "source": [
        "## Using <code>*args</code> to Gather Positional Arguments into a Tuple"
      ]
    },
    {
      "cell_type": "code",
      "execution_count": null,
      "metadata": {
        "id": "WQuVYrUzkUdH"
      },
      "outputs": [],
      "source": []
    },
    {
      "cell_type": "code",
      "execution_count": null,
      "metadata": {
        "id": "e8JMI3R0kUdI"
      },
      "outputs": [],
      "source": []
    },
    {
      "cell_type": "markdown",
      "metadata": {
        "id": "1sSW6h0EkUdI"
      },
      "source": [
        "## Keyword Arguments"
      ]
    },
    {
      "cell_type": "code",
      "execution_count": null,
      "metadata": {
        "id": "kgQvAHVSkUdI"
      },
      "outputs": [],
      "source": []
    },
    {
      "cell_type": "markdown",
      "metadata": {
        "id": "j3VufRoGkUdI"
      },
      "source": [
        "## Working with Keyword Arguments"
      ]
    },
    {
      "cell_type": "code",
      "execution_count": null,
      "metadata": {
        "id": "4h9jPJzjkUdI"
      },
      "outputs": [],
      "source": []
    },
    {
      "cell_type": "markdown",
      "metadata": {
        "id": "7JRr2zCQkUdI"
      },
      "source": [
        "## Using <code>*kwargs</code> to Merge Keyword Arguments in a Dictionary"
      ]
    },
    {
      "cell_type": "code",
      "execution_count": null,
      "metadata": {
        "id": "Ealqxx3LkUdI"
      },
      "outputs": [],
      "source": []
    },
    {
      "cell_type": "markdown",
      "metadata": {
        "id": "booSlQoykUdJ"
      },
      "source": [
        "## Manipulating Function Arguments"
      ]
    },
    {
      "cell_type": "code",
      "execution_count": null,
      "metadata": {
        "id": "JsYlV-LzkUdJ"
      },
      "outputs": [],
      "source": []
    },
    {
      "cell_type": "markdown",
      "metadata": {
        "id": "kZVw2p9ukUdJ"
      },
      "source": [
        "## Args and kwargs"
      ]
    },
    {
      "cell_type": "code",
      "execution_count": null,
      "metadata": {
        "id": "8DO24HKlkUdJ"
      },
      "outputs": [],
      "source": []
    },
    {
      "cell_type": "markdown",
      "metadata": {
        "id": "xmjNI-WbkUdJ"
      },
      "source": [
        "## Gathering Positional Arguments into the <code>*args</code> Tuple"
      ]
    },
    {
      "cell_type": "code",
      "execution_count": null,
      "metadata": {
        "id": "_wfyoGCSkUdJ"
      },
      "outputs": [],
      "source": []
    },
    {
      "cell_type": "markdown",
      "metadata": {
        "id": "Y9gtp9GvkUdJ"
      },
      "source": [
        "## Gathering All Keyword Arguments into the <code>**kwargs</code> Dictionary"
      ]
    },
    {
      "cell_type": "code",
      "execution_count": null,
      "metadata": {
        "id": "9x0amPYXkUdK"
      },
      "outputs": [],
      "source": []
    },
    {
      "cell_type": "markdown",
      "metadata": {
        "id": "Olh0EHNskUdK"
      },
      "source": [
        "# 27. Default Function Parameters"
      ]
    },
    {
      "cell_type": "code",
      "execution_count": null,
      "metadata": {
        "id": "nJyigUFhkUdK"
      },
      "outputs": [],
      "source": []
    },
    {
      "cell_type": "markdown",
      "metadata": {
        "id": "RS9Y7H-kkUdK"
      },
      "source": [
        "## Default Functon Parameters"
      ]
    },
    {
      "cell_type": "code",
      "execution_count": null,
      "metadata": {
        "id": "fksHAXqPkUdK"
      },
      "outputs": [],
      "source": []
    },
    {
      "cell_type": "markdown",
      "metadata": {
        "id": "8Gu6a8gEkUdK"
      },
      "source": [
        "## Using Default Function Parameters"
      ]
    },
    {
      "cell_type": "code",
      "execution_count": null,
      "metadata": {
        "id": "CGVSd9MnkUdK"
      },
      "outputs": [],
      "source": []
    },
    {
      "cell_type": "markdown",
      "metadata": {
        "id": "-TY9drXqkUdL"
      },
      "source": [
        "# 28. Docstrings"
      ]
    },
    {
      "cell_type": "code",
      "execution_count": null,
      "metadata": {
        "id": "BjSvZskekUdL"
      },
      "outputs": [],
      "source": []
    },
    {
      "cell_type": "markdown",
      "metadata": {
        "id": "3x83uM9kkUdL"
      },
      "source": [
        "## Docstrings"
      ]
    },
    {
      "cell_type": "code",
      "execution_count": null,
      "metadata": {
        "id": "Nna_wO_kkUdM"
      },
      "outputs": [],
      "source": []
    },
    {
      "cell_type": "markdown",
      "metadata": {
        "id": "k70WVyX3kUdM"
      },
      "source": [
        "## Writing and Using Docstrings"
      ]
    },
    {
      "cell_type": "code",
      "execution_count": null,
      "metadata": {
        "id": "c1ktXVYokUdM"
      },
      "outputs": [],
      "source": []
    },
    {
      "cell_type": "markdown",
      "metadata": {
        "id": "8xEPoQEQkUdM"
      },
      "source": [
        "## Exploring Docstrings"
      ]
    },
    {
      "cell_type": "code",
      "execution_count": null,
      "metadata": {
        "id": "XXq-kWbvkUdM"
      },
      "outputs": [],
      "source": []
    },
    {
      "cell_type": "markdown",
      "metadata": {
        "id": "SqhejNfEkUdN"
      },
      "source": [
        "## Adding Docstrings to Functions"
      ]
    },
    {
      "cell_type": "code",
      "execution_count": null,
      "metadata": {
        "id": "YrDnLQyWkUdN"
      },
      "outputs": [],
      "source": []
    },
    {
      "cell_type": "markdown",
      "metadata": {
        "id": "v6corAJfkUdN"
      },
      "source": [
        "# 29. Callback Functions"
      ]
    },
    {
      "cell_type": "code",
      "execution_count": null,
      "metadata": {
        "id": "q99VjUgkkUdR"
      },
      "outputs": [],
      "source": []
    },
    {
      "cell_type": "markdown",
      "metadata": {
        "id": "AawwNdyJkUdR"
      },
      "source": [
        "## Callback Functions"
      ]
    },
    {
      "cell_type": "code",
      "execution_count": null,
      "metadata": {
        "id": "tjojzW2XkUdS"
      },
      "outputs": [],
      "source": []
    },
    {
      "cell_type": "markdown",
      "metadata": {
        "id": "0RGkKA22kUdS"
      },
      "source": [
        "## Rules for Working with Functions"
      ]
    },
    {
      "cell_type": "code",
      "execution_count": null,
      "metadata": {
        "id": "gJShnx-5kUdS"
      },
      "outputs": [],
      "source": []
    },
    {
      "cell_type": "markdown",
      "metadata": {
        "id": "tXJCdKJ3kUdS"
      },
      "source": [
        "# 30. Global and Local Variables"
      ]
    },
    {
      "cell_type": "code",
      "execution_count": null,
      "metadata": {
        "id": "v2fZg-j8kUdS"
      },
      "outputs": [],
      "source": []
    },
    {
      "cell_type": "code",
      "execution_count": null,
      "metadata": {
        "id": "xJwBqGFukUdS"
      },
      "outputs": [],
      "source": []
    },
    {
      "cell_type": "code",
      "execution_count": null,
      "metadata": {
        "id": "j8ndBOWVkUdS"
      },
      "outputs": [],
      "source": []
    },
    {
      "cell_type": "code",
      "execution_count": null,
      "metadata": {
        "id": "cz1l0-YCkUdT"
      },
      "outputs": [],
      "source": []
    },
    {
      "cell_type": "code",
      "execution_count": null,
      "metadata": {
        "id": "OfgFsFtOkUdT"
      },
      "outputs": [],
      "source": []
    },
    {
      "cell_type": "markdown",
      "metadata": {
        "id": "1LNvNpvA-AtM"
      },
      "source": [
        "# AI Tool Landscape"
      ]
    },
    {
      "cell_type": "markdown",
      "metadata": {
        "id": "KYNsFlcXo5_u"
      },
      "source": [
        "## AI Landscape\n",
        "<div>\n",
        "    <ul>\n",
        "        <li><b>Developing at high pace</b>: Due to advances in hardware, infrastructure, and models</li>\n",
        "        <li><b>Tools that make AI easy</b>: Modern tools allow focus on major architectural decisions</li>\n",
        "        <li><b>Python Integration</b>: Python is widely used for AI prototyping and inside products</li>\n",
        "    <ul>\n",
        "</div>"
      ]
    },
    {
      "cell_type": "markdown",
      "metadata": {
        "id": "WxPKE3Xqo70x"
      },
      "source": [
        "## Types of AI Tools\n",
        "\n",
        "<div>\n",
        "    <ul>\n",
        "        <li><b>Data Gathering</b> (Spark, Hadoop)</li>\n",
        "        <li><b>Data Pre-processing </b> (R, Pandas)</li>\n",
        "        <li><b>Model Building</b> (Tensor Flow, Keras)</li>\n",
        "        <li><b>Model Management</b> (MetaFlow, MLFlow)</li>\n",
        "        <li><b>Model Production</b> (TFServing, Azure Kubernetes Services)</li>\n",
        "        <li><b>Data Analytics and Visualisation</b> (Tableau, Ploty)</li>\n",
        "    </ul>\n",
        "</div>"
      ]
    },
    {
      "cell_type": "code",
      "execution_count": null,
      "metadata": {
        "id": "a7dR4uu-63tW"
      },
      "outputs": [],
      "source": []
    }
  ],
  "metadata": {
    "colab": {
      "provenance": []
    },
    "kernelspec": {
      "display_name": "Python 3 (ipykernel)",
      "language": "python",
      "name": "python3"
    },
    "language_info": {
      "codemirror_mode": {
        "name": "ipython",
        "version": 3
      },
      "file_extension": ".py",
      "mimetype": "text/x-python",
      "name": "python",
      "nbconvert_exporter": "python",
      "pygments_lexer": "ipython3",
      "version": "3.11.5"
    }
  },
  "nbformat": 4,
  "nbformat_minor": 0
}