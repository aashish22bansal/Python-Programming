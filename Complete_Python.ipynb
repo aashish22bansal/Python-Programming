{
  "cells": [
    {
      "cell_type": "markdown",
      "metadata": {
        "id": "0ocxNQhA7ioV"
      },
      "source": [
        "# 1. Introduction to Python"
      ]
    },
    {
      "cell_type": "markdown",
      "metadata": {
        "id": "YHnNkEWWn196"
      },
      "source": [
        "## Background Information\n",
        "<div>\n",
        "    <p>\n",
        "        <ul>\n",
        "            <li>Started in 1991</li>\n",
        "            <li>Created by Guido van Rossum</li>\n",
        "            <li>Used for Data Science, Web Development, and Automation</li>\n",
        "            <li>Open Source</li>\n",
        "            <li>Huge Community</li>\n",
        "        </ul>\n",
        "    </p>\n",
        "</div>"
      ]
    },
    {
      "cell_type": "markdown",
      "metadata": {
        "id": "4Rx1gQUHJHrp"
      },
      "source": [
        "## Reasons for Growth of Python\n",
        "<div>\n",
        "    <div>\n",
        "        <ul>\n",
        "            <li>Increase in the amount of data available.</li>\n",
        "            <li>Python is relatively easy to use.</li>\n",
        "            <li>Because of the ease of use, people outside the Computer Science background are also picking it.</li>\n",
        "            <li>Universities are switching to Open Source languages like Python and R.</li>\n",
        "        </ul>\n",
        "    </div>\n",
        "</div>"
      ]
    },
    {
      "cell_type": "markdown",
      "metadata": {
        "id": "uld6oSBQdSB9"
      },
      "source": [
        "## Python Version\n",
        "<p>We can check which version of Python is installed on our machine using the command <code>python --version</code> or <code>python3 --version</code>. If the Python version is not displayed, then we will need to download and install Python from the official website.</p>"
      ]
    },
    {
      "cell_type": "markdown",
      "metadata": {
        "id": "8AVv8sSCikvZ"
      },
      "source": [
        "## Python Interactive Version\n",
        "<div>\n",
        "    <p>We can access and use the Python's interactive version using the <code>python</code> or <code>python3</code> command in Terminal or Command Prompt or Window Powershell.</p>\n",
        "    <p>We can execute the Python Statements directly in the interactive version.</p>\n",
        "    <p>We can obtain the Copyright information using the <code>copyright()</code> command.</p>\n",
        "    <p>We can obtain the information about credits using the <code>credits()</code> command which which will give us the names of the companies which participated in Python Development.</p>\n",
        "    <p>We can come out of the interactive version using the <code>exit()</code> command in the interactive version.</p>\n",
        "</div>"
      ]
    },
    {
      "cell_type": "markdown",
      "metadata": {
        "id": "JjsHnnQSbrOh"
      },
      "source": [
        "# 2. IDEs & Code Editors\n",
        "<p>Some of the most common IDEs and Code Editors for Python Development are:</p>\n",
        "<ol>\n",
        "    <li><img src=\"https://drive.google.com/uc?id=105zeCkO3dLbBqEv9BHxlWOeUbf_OcyY5\" alt=\"PyCharm IDE\" height=\"20px\"> PyCharm</li>\n",
        "    <li><img src=\"https://drive.google.com/uc?id=1wInpWNaOBQZbbjyNs8Pg6k7tUMzxpAWt\" alt=\"Visual Studio Code\" height=\"20px\"> Visual Studio Code + Code Runner Extension</li>\n",
        "    <li><img src=\"https://drive.google.com/uc?id=1yuhVD5lvqKe8sJrnRnHDYvYlkBxpbCZb\" alt=\"Atom Code Editor\" height=\"20px\"> Atom</li>\n",
        "    <li><img src=\"https://drive.google.com/uc?id=13m5hr14MGzMpaK_EvRdVixdYQb8w5iHA\" alt=\"Sublime Text\" height=\"20px\"> Sublime Text</li>\n",
        "    <li><img src=\"https://drive.google.com/uc?id=1QSwcWioVSZe7MLGihXoKNiiJH78BzJpu\" alt=\"Anaconda Navigator\" height=\"20px\"> Anaconda</li>\n",
        "    <li><img src=\"https://drive.google.com/uc?id=17xtDT_0NtVcsiOiGrXxrY1FzBqcW29YO\" alt=\"Jupyter Notebook\" height=\"20px\"> Jupyter Notebook</li>\n",
        "</ol>"
      ]
    },
    {
      "cell_type": "markdown",
      "metadata": {
        "id": "UDxD7Q4LoWHX"
      },
      "source": [
        "## Software - Anaconda\n",
        "<div>\n",
        "    <div>\n",
        "        <p>Anaconda is a free and open-source distribution of thye Python and R programming language for scientific computing, that aims to simplify package management and deployment. A lot of Python packages are pre-installed with this software.</p>\n",
        "    </div>\n",
        "</div>"
      ]
    },
    {
      "cell_type": "markdown",
      "metadata": {
        "id": "QRiYuSylbdDo"
      },
      "source": [
        "## Software - Jupyter\n",
        "<div>\n",
        "    <div>\n",
        "        <p>The Jupyter Notebook is an open-source web application that allows you to create and share documents that contain live code, equations, visualizations and narrative text. The name Jupyter comes from the following programming languages: Julia, Python and R.</p>\n",
        "    </div>\n",
        "</div>"
      ]
    },
    {
      "cell_type": "markdown",
      "metadata": {
        "id": "hHU70advn8Hk"
      },
      "source": [
        "# 3. Interpreted and Compiled Languages"
      ]
    },
    {
      "cell_type": "markdown",
      "metadata": {
        "id": "oSsLs2Z064R5"
      },
      "source": [
        "### Interpreted Languages: Advantages and Disadvantages\n",
        "<table>\n",
        "    <thead>\n",
        "        <tr>\n",
        "            <td>Advantages</td>\n",
        "            <td>Disadvantages</td>\n",
        "        </tr>\n",
        "    </thead>\n",
        "    <tbody>\n",
        "        <tr>\n",
        "            <td>Dynamic Typing</td>\n",
        "            <td>No type checking</td>\n",
        "        </tr>\n",
        "        <tr>\n",
        "            <td>Fast Turnaround Time</td>\n",
        "            <td>Slow Performance</td>\n",
        "        </tr>\n",
        "        <tr>\n",
        "            <td>Portability</td>\n",
        "            <td>Execution is dependent on the environment and language version</td>\n",
        "        </tr>\n",
        "        <tr>\n",
        "            <td>Focused execution</td>\n",
        "            <td>Limited hardware control and Memory Management</td>\n",
        "        </tr>\n",
        "        <tr>\n",
        "            <td>Easy to debug, simple functionality</td>\n",
        "            <td></td>\n",
        "        </tr>\n",
        "    </tbody>\n",
        "</table>"
      ]
    },
    {
      "cell_type": "markdown",
      "metadata": {
        "id": "-VMO5upeoEcI"
      },
      "source": [
        "### Compiled Languages: Advantages and Disadvantages\n",
        "<table>\n",
        "    <thead>\n",
        "        <tr>\n",
        "            <td>Advantages</td>\n",
        "            <td>Disadvantages</td>\n",
        "        </tr>\n",
        "    </thead>\n",
        "    <tbody>\n",
        "        <tr>\n",
        "            <td>Fast Execution speed</td>\n",
        "            <td>Hardware specific</td>\n",
        "        </tr>\n",
        "        <tr>\n",
        "            <td>Easier access to hardware</td>\n",
        "            <td>Require compilation before execution</td>\n",
        "        </tr>\n",
        "        <tr>\n",
        "            <td>Efficient at Memory Management</td>\n",
        "            <td>Higher Coding Standards</td>\n",
        "        </tr>\n",
        "        <tr>\n",
        "            <td>Self-contained Languages</td>\n",
        "            <td>Slow Turnaround Time</td>\n",
        "        </tr>\n",
        "        <tr>\n",
        "            <td>Large Debugging Toolbox</td>\n",
        "            <td></td>\n",
        "        </tr>\n",
        "    </tbody>\n",
        "</table>"
      ]
    },
    {
      "cell_type": "markdown",
      "metadata": {
        "id": "sRVuONLiFj_b"
      },
      "source": [
        "# 4. Tiobe Index\n",
        "<div>\n",
        "    <div>\n",
        "        <table>\n",
        "            <thead>\n",
        "                <tr>\n",
        "                    <td>Oct 2020</td>\n",
        "                    <td>Oct 2019</td>\n",
        "                    <td>Programming Language</td>\n",
        "                    <td>Rantings</td>\n",
        "                    <td>Change</td>\n",
        "                </tr>\n",
        "            </thead>\n",
        "            <tbody>\n",
        "                <tr>\n",
        "                    <td>1</td>\n",
        "                    <td>2</td>\n",
        "                    <td>C</td>\n",
        "                    <td>16.95%</td>\n",
        "                    <td>0.77%</td>\n",
        "                </tr>\n",
        "                <tr>\n",
        "                    <td>2</td>\n",
        "                    <td>1</td>\n",
        "                    <td>Java</td>\n",
        "                    <td>12.56%</td>\n",
        "                    <td>-4.32%</td>\n",
        "                </tr>\n",
        "                <tr>\n",
        "                    <td>3</td>\n",
        "                    <td>3</td>\n",
        "                    <td>Python</td>\n",
        "                    <td>11.28%</td>\n",
        "                    <td>+2.19%</td>\n",
        "                </tr>\n",
        "                <tr>\n",
        "                    <td>4</td>\n",
        "                    <td>4</td>\n",
        "                    <td>C++</td>\n",
        "                    <td>6.94%</td>\n",
        "                    <td>+0.71%</td>\n",
        "                </tr>\n",
        "                <tr>\n",
        "                    <td>5</td>\n",
        "                    <td>5</td>\n",
        "                    <td>C#</td>\n",
        "                    <td>4.16%</td>\n",
        "                    <td>+0.30%</td>\n",
        "                </tr>\n",
        "                <tr>\n",
        "                    <td>6</td>\n",
        "                    <td>6</td>\n",
        "                    <td>Visual Basic</td>\n",
        "                    <td>3.97%</td>\n",
        "                    <td>+0.23%</td>\n",
        "                </tr>\n",
        "                <tr>\n",
        "                    <td>8</td>\n",
        "                    <td>9</td>\n",
        "                    <td>PHP</td>\n",
        "                    <td>2.09%</td>\n",
        "                    <td>+0.18%</td>\n",
        "                </tr>\n",
        "                <tr>\n",
        "                    <td>9</td>\n",
        "                    <td>15</td>\n",
        "                    <td>R</td>\n",
        "                    <td>1.99%</td>\n",
        "                    <td>+0.73%</td>\n",
        "                </tr>\n",
        "                <tr>\n",
        "                    <td>10</td>\n",
        "                    <td>8</td>\n",
        "                    <td>SQL</td>\n",
        "                    <td>1.57%</td>\n",
        "                    <td>-0.37%</td>\n",
        "                </tr>\n",
        "            </tbody>\n",
        "        </table>\n",
        "    </div>\n",
        "</div>\n"
      ]
    },
    {
      "cell_type": "markdown",
      "metadata": {
        "id": "SklXdkAZkSeP"
      },
      "source": [
        "# 5. Basic Concepts in Python"
      ]
    },
    {
      "cell_type": "markdown",
      "metadata": {
        "id": "dojAADVxkUcI"
      },
      "source": [
        "## Key Concepts in Python"
      ]
    },
    {
      "cell_type": "markdown",
      "metadata": {
        "id": "4yPvSMhxoO67"
      },
      "source": [
        "### Objects\n",
        "<div>\n",
        "    <p>Python is an Object-oriented Programming Language. All Entities (Strings, Integers, Functions etc.) in Python are <b style = \"color: red;\">Objects</b>. An <span style = \"color: redl\">Object</span> is always an instance of a specific <span style = \"color: blue;\">Class</span>.</p>\n",
        "</div>"
      ]
    },
    {
      "cell_type": "markdown",
      "metadata": {
        "id": "uaxOIUsqot0A"
      },
      "source": [
        "### Classes\n",
        "<div>\n",
        "    <p>A <b style = \"color: blue;\">Class</b> is a template or prototype for creating objects. We can create as <span style = \"color: red\">many</span> object based on the <span style = \"color: blue\">same</span> class but these would be independent and different from each other. We can perform different operations using different objects. Each such object is called Instance of that specific class.</p>\n",
        "</div>"
      ]
    },
    {
      "cell_type": "markdown",
      "metadata": {
        "id": "xEL69mzYwJ46"
      },
      "source": [
        "### Attributes\n",
        "<div>\n",
        "    <p class=\"content\">Each object has <b style = \"color: red\">Attributes</b>. An Object Attribute is called a <b style=\"color: blue;\">Method</b> if its value is a <b style=\"color: red;\">Function</b>. Each object would have: Own Attributes and Inherited Attributes.</p>\n",
        "</div>"
      ]
    },
    {
      "cell_type": "markdown",
      "metadata": {
        "id": "2uj9KOrkkd3z"
      },
      "source": [
        "## Main Data Types in Python\n",
        "<div>\n",
        "    <p>Some of the main data types in Python are:</p>\n",
        "    <ul>\n",
        "        <li>String</li>\n",
        "        <li>Integer</li>\n",
        "        <li>Boolean</li>\n",
        "        <li>List: These are ordered sequences of elements. The order of elements in the list does matter.</li>\n",
        "        <li>Dictionary: It is a set of Key-value pairs. The keys are mentioned within <code>''</code> or <code>\"\"</code>. We can modify the values in dictionaries.</li>\n",
        "    </ul>\n",
        "</div>"
      ]
    },
    {
      "cell_type": "markdown",
      "metadata": {
        "id": "ZvhF0CYKkUcK"
      },
      "source": [
        "### Strings"
      ]
    },
    {
      "cell_type": "code",
      "execution_count": 1,
      "metadata": {
        "id": "IMMXZGB2kUcK",
        "outputId": "c3e99c72-1ef4-4728-8d37-0f61a08309fc",
        "colab": {
          "base_uri": "https://localhost:8080/"
        }
      },
      "outputs": [
        {
          "output_type": "stream",
          "name": "stdout",
          "text": [
            "Hello, world!\n",
            "Hello, world!\n"
          ]
        }
      ],
      "source": [
        "print('Hello, world!')\n",
        "print(\"Hello, world!\")"
      ]
    },
    {
      "cell_type": "markdown",
      "metadata": {
        "id": "7dAs7mknkUcM"
      },
      "source": [
        "### Integers"
      ]
    },
    {
      "cell_type": "code",
      "execution_count": 2,
      "metadata": {
        "id": "ql8nX1-GkUcM",
        "outputId": "22dad953-d40c-4caf-8bd5-d2d687041ccc",
        "colab": {
          "base_uri": "https://localhost:8080/"
        }
      },
      "outputs": [
        {
          "output_type": "stream",
          "name": "stdout",
          "text": [
            "1\n",
            "-1\n"
          ]
        }
      ],
      "source": [
        "print(1)\n",
        "print(-1)"
      ]
    },
    {
      "cell_type": "markdown",
      "metadata": {
        "id": "k5KC74x9kUcN"
      },
      "source": [
        "### Booleans\n",
        "<div>\n",
        "    <p>The Boolean values begin with a capital alphabet. If we use lowercase alphabets, then Python will throw an error as Python will interpret them as names of variables.</p>\n",
        "</div>"
      ]
    },
    {
      "cell_type": "code",
      "execution_count": 3,
      "metadata": {
        "id": "yeg9S2DzkUcN",
        "outputId": "4bcb0f20-e604-49e6-fecd-f47d4faa5aa3",
        "colab": {
          "base_uri": "https://localhost:8080/"
        }
      },
      "outputs": [
        {
          "output_type": "stream",
          "name": "stdout",
          "text": [
            "True\n",
            "False\n"
          ]
        }
      ],
      "source": [
        "print(True)\n",
        "print(False)"
      ]
    },
    {
      "cell_type": "markdown",
      "metadata": {
        "id": "DZnN9GcbkUcO"
      },
      "source": [
        "### Lists"
      ]
    },
    {
      "cell_type": "code",
      "execution_count": 4,
      "metadata": {
        "id": "QvhK9fQpkUcO",
        "outputId": "d34a438d-22c1-44ea-e5c9-924053f82149",
        "colab": {
          "base_uri": "https://localhost:8080/"
        }
      },
      "outputs": [
        {
          "output_type": "stream",
          "name": "stdout",
          "text": [
            "Empty List: []\n"
          ]
        }
      ],
      "source": [
        "# Empty List\n",
        "print(\"Empty List: {}\".format([]))"
      ]
    },
    {
      "cell_type": "code",
      "execution_count": 5,
      "metadata": {
        "id": "TMsdrX9EkUcO",
        "outputId": "7781978f-abb8-4087-f50a-6a4ed389cc6f",
        "colab": {
          "base_uri": "https://localhost:8080/"
        }
      },
      "outputs": [
        {
          "output_type": "stream",
          "name": "stdout",
          "text": [
            "Elements in the List: [1, 2, 3, 4, 5]\n"
          ]
        }
      ],
      "source": [
        "# List with Elements\n",
        "print(\"Elements in the List: {}\".format([1,2,3,4,5]))"
      ]
    },
    {
      "cell_type": "markdown",
      "metadata": {
        "id": "ti7dgmnckUcP"
      },
      "source": [
        "### Dictionaries"
      ]
    },
    {
      "cell_type": "code",
      "execution_count": 6,
      "metadata": {
        "id": "sLtqrGyDkUcP",
        "outputId": "a3e76400-6a4d-481e-c5a6-96b9f51ecc63",
        "colab": {
          "base_uri": "https://localhost:8080/"
        }
      },
      "outputs": [
        {
          "output_type": "stream",
          "name": "stdout",
          "text": [
            "Empty List: {}\n"
          ]
        }
      ],
      "source": [
        "# Empty Dictionary\n",
        "print(\"Empty List: {}\".format({}))"
      ]
    },
    {
      "cell_type": "code",
      "execution_count": 7,
      "metadata": {
        "id": "lauwc3EkkUcP",
        "outputId": "c7d2b6bc-dcd1-40ab-9a4d-f759789e1e82",
        "colab": {
          "base_uri": "https://localhost:8080/"
        }
      },
      "outputs": [
        {
          "output_type": "stream",
          "name": "stdout",
          "text": [
            "Empty List: {'key': 1}\n"
          ]
        }
      ],
      "source": [
        "# Non-empty Dictionary\n",
        "print(\"Empty List: {}\".format({'key': 1}))"
      ]
    },
    {
      "cell_type": "markdown",
      "metadata": {
        "id": "hhQEyPaDkUcQ"
      },
      "source": [
        "<p>We can create a dictionary in multiple lines as well.</p>"
      ]
    },
    {
      "cell_type": "code",
      "execution_count": 8,
      "metadata": {
        "id": "G3Qz8Vx1kUcQ",
        "outputId": "30f49ac3-09f4-4ffe-d66d-c16676a6ad79",
        "colab": {
          "base_uri": "https://localhost:8080/"
        }
      },
      "outputs": [
        {
          "output_type": "stream",
          "name": "stdout",
          "text": [
            "Empty List: {'key_1': 1, 'key_2': 2}\n"
          ]
        }
      ],
      "source": [
        "# Non-empty Dictionary\n",
        "dictionary = {\n",
        "                'key_1': 1,\n",
        "                'key_2': 2\n",
        "             }\n",
        "print(\"Empty List: {}\".format(dictionary))"
      ]
    },
    {
      "cell_type": "markdown",
      "metadata": {
        "id": "TewWWvNikblL"
      },
      "source": [
        "# 6. Expressions and Instructions"
      ]
    },
    {
      "cell_type": "markdown",
      "metadata": {
        "id": "zQkjD5ZtgwAe"
      },
      "source": [
        "## Simple Arithmetic Operations\n",
        "<div>    \n",
        "    <div>\n",
        "        <p>Use the cells below to make the following calculations:</p>\n",
        "        <ol>\n",
        "            <li>20 plus 30 (the code is given, just run the cell)</li>\n",
        "            <li>20 minus 30</li>\n",
        "            <li>20 times 30</li>\n",
        "            <li>20 divided by 30</li>\n",
        "            <li>20 to the power 30 (*hint*: use two asterisks: `**`)</li>\n",
        "        </ol>\n",
        "    </div>\n",
        "</div>"
      ]
    },
    {
      "cell_type": "code",
      "execution_count": 9,
      "metadata": {
        "id": "i4RPM5R4hOan",
        "outputId": "027ad39c-2db5-45a0-c5b9-18deac12d4b6",
        "colab": {
          "base_uri": "https://localhost:8080/"
        }
      },
      "outputs": [
        {
          "output_type": "execute_result",
          "data": {
            "text/plain": [
              "50"
            ]
          },
          "metadata": {},
          "execution_count": 9
        }
      ],
      "source": [
        "# Addition\n",
        "20 + 30"
      ]
    },
    {
      "cell_type": "code",
      "execution_count": 10,
      "metadata": {
        "id": "8ikao2GlhOTg",
        "outputId": "bc2d97ed-c0ae-4f8a-b34b-c7d676d43bd4",
        "colab": {
          "base_uri": "https://localhost:8080/"
        }
      },
      "outputs": [
        {
          "output_type": "execute_result",
          "data": {
            "text/plain": [
              "-10"
            ]
          },
          "metadata": {},
          "execution_count": 10
        }
      ],
      "source": [
        "# Subtraction\n",
        "20 - 30"
      ]
    },
    {
      "cell_type": "code",
      "execution_count": 11,
      "metadata": {
        "id": "iIP7pCBIhONN",
        "outputId": "559067cd-26cb-4a53-c1ed-b54957a787cc",
        "colab": {
          "base_uri": "https://localhost:8080/"
        }
      },
      "outputs": [
        {
          "output_type": "execute_result",
          "data": {
            "text/plain": [
              "600"
            ]
          },
          "metadata": {},
          "execution_count": 11
        }
      ],
      "source": [
        "# Multiplication\n",
        "20 * 30"
      ]
    },
    {
      "cell_type": "code",
      "execution_count": 12,
      "metadata": {
        "id": "EebvQi6ehOFe",
        "outputId": "b40d5aa2-c94e-45fd-9f2f-04c7647c1a94",
        "colab": {
          "base_uri": "https://localhost:8080/"
        }
      },
      "outputs": [
        {
          "output_type": "execute_result",
          "data": {
            "text/plain": [
              "0.6666666666666666"
            ]
          },
          "metadata": {},
          "execution_count": 12
        }
      ],
      "source": [
        "# Division\n",
        "20 / 30"
      ]
    },
    {
      "cell_type": "code",
      "execution_count": 13,
      "metadata": {
        "id": "3Ja4CsGRhNKX",
        "outputId": "4198ccf4-4f68-4298-9905-423ff8fe6f8d",
        "colab": {
          "base_uri": "https://localhost:8080/"
        }
      },
      "outputs": [
        {
          "output_type": "execute_result",
          "data": {
            "text/plain": [
              "1073741824000000000000000000000000000000"
            ]
          },
          "metadata": {},
          "execution_count": 13
        }
      ],
      "source": [
        "# Exponent\n",
        "20 ** 30"
      ]
    },
    {
      "cell_type": "markdown",
      "metadata": {
        "id": "qQLO75AahrBx"
      },
      "source": [
        "## Variables\n",
        "<div>\n",
        "    <div>\n",
        "        <ol>\n",
        "            <li>Create a variable `a` and assign the value `20`, so `a = 20`</li>\n",
        "            <li>Create a variable `b` and assign the value `30`</li>\n",
        "            <li>Add `a` and `b`, the outcome should be 50</li>\n",
        "            <li>Multiply `a` by `b`, the outcome should be 600</li>\n",
        "        </ol>\n",
        "    </div>\n",
        "</div>"
      ]
    },
    {
      "cell_type": "code",
      "execution_count": 14,
      "metadata": {
        "id": "JAu4qcdJh_-c"
      },
      "outputs": [],
      "source": [
        "# Create a variable `a` and assign the value `20`, so `a = 20`\n",
        "a = 20"
      ]
    },
    {
      "cell_type": "code",
      "execution_count": 15,
      "metadata": {
        "id": "Kv7A7zsrh_1l"
      },
      "outputs": [],
      "source": [
        "# Create a variable `b` and assign the value `30`\n",
        "b = 30"
      ]
    },
    {
      "cell_type": "code",
      "execution_count": 16,
      "metadata": {
        "id": "xc5W56A7h_y-",
        "outputId": "e87b28d3-1173-4bd2-bd47-b7f71f20c0ee",
        "colab": {
          "base_uri": "https://localhost:8080/"
        }
      },
      "outputs": [
        {
          "output_type": "execute_result",
          "data": {
            "text/plain": [
              "50"
            ]
          },
          "metadata": {},
          "execution_count": 16
        }
      ],
      "source": [
        "# Add `a` and `b`, the outcome should be 50\n",
        "a + b"
      ]
    },
    {
      "cell_type": "code",
      "execution_count": 17,
      "metadata": {
        "id": "6uxTq7Dkh_C0",
        "outputId": "e28b2d2b-e172-4c66-c059-1a17830fa3ab",
        "colab": {
          "base_uri": "https://localhost:8080/"
        }
      },
      "outputs": [
        {
          "output_type": "execute_result",
          "data": {
            "text/plain": [
              "600"
            ]
          },
          "metadata": {},
          "execution_count": 17
        }
      ],
      "source": [
        "# Multiply `a` by `b`, the outcome should be 600\n",
        "a * b"
      ]
    },
    {
      "cell_type": "code",
      "execution_count": 19,
      "metadata": {
        "id": "ZnD4VjUf5FZq",
        "outputId": "c1518314-65ae-49d6-ee9e-4554c1c4d988",
        "colab": {
          "base_uri": "https://localhost:8080/"
        }
      },
      "outputs": [
        {
          "output_type": "stream",
          "name": "stdout",
          "text": [
            "500\n"
          ]
        }
      ],
      "source": [
        "# Reassign and print\n",
        "x = 100\n",
        "y = 5\n",
        "print(x * y)"
      ]
    },
    {
      "cell_type": "code",
      "execution_count": 20,
      "metadata": {
        "id": "5BlGD41Q5cH3"
      },
      "outputs": [],
      "source": [
        "# Print undeclared variable\n",
        "# print(c)\n",
        "# uncomment the above statement to see the output"
      ]
    },
    {
      "cell_type": "markdown",
      "metadata": {
        "id": "F4UKveRo5gYB"
      },
      "source": [
        "The output obtained for the above case is:\n",
        "\n",
        "---------------------------------------------------------------------------\n",
        "\n",
        "NameError                                 Traceback (most recent call last)<br>\n",
        "<ipython-input-1-c0be985ee631> in <cell line: 2>()<br>\n",
        "&nbsp;&nbsp;&nbsp;&nbsp;&nbsp;&nbsp;&nbsp;1 # Print undeclared variable<br>\n",
        "----> 2 print(c)\n",
        "\n",
        "NameError: name 'c' is not defined"
      ]
    },
    {
      "cell_type": "markdown",
      "metadata": {
        "id": "wy3DoOvtiazX"
      },
      "source": [
        "Calculate the value of `c` in $a^{2}$ + $b^{2}$ = $c^{2}$? (Pythagorean Theorem)"
      ]
    },
    {
      "cell_type": "code",
      "execution_count": 21,
      "metadata": {
        "id": "CFIG1JTeiRbK",
        "outputId": "dd1f1d9b-0f54-4957-d22b-f4c872e2b26b",
        "colab": {
          "base_uri": "https://localhost:8080/"
        }
      },
      "outputs": [
        {
          "output_type": "stream",
          "name": "stdout",
          "text": [
            "5.0\n"
          ]
        }
      ],
      "source": [
        "a = 4\n",
        "b = 3\n",
        "c = ((a ** 2) + (b ** 2)) ** 0.5\n",
        "print(c)"
      ]
    },
    {
      "cell_type": "markdown",
      "metadata": {
        "id": "-akiesQbW64H"
      },
      "source": [
        "## <code>print()</code> Statement"
      ]
    },
    {
      "cell_type": "markdown",
      "metadata": {
        "id": "U-RZcXW7VwyY"
      },
      "source": [
        "Every <code>print()</code> statement uses it's own line. For example:"
      ]
    },
    {
      "cell_type": "code",
      "execution_count": 22,
      "metadata": {
        "id": "_OLCkS9OV30K",
        "outputId": "1b4c1efd-cd11-4243-aebd-9ab21c94f815",
        "colab": {
          "base_uri": "https://localhost:8080/"
        }
      },
      "outputs": [
        {
          "output_type": "stream",
          "name": "stdout",
          "text": [
            "4\n",
            "5\n"
          ]
        }
      ],
      "source": [
        "x = 4\n",
        "y = 5\n",
        "print(x)\n",
        "print(y)"
      ]
    },
    {
      "cell_type": "markdown",
      "metadata": {
        "id": "3BOsx6ckXAOh"
      },
      "source": [
        "### Using Separator"
      ]
    },
    {
      "cell_type": "markdown",
      "metadata": {
        "id": "O1psH8W9WH6B"
      },
      "source": [
        "We can print the values together as well, using <code>','</code>, which will place a space between the values of the variables as:"
      ]
    },
    {
      "cell_type": "code",
      "execution_count": 23,
      "metadata": {
        "id": "Ao8rf360WMaL",
        "outputId": "ccd2e1c2-7424-4dad-aea9-6f37b4d8de8f",
        "colab": {
          "base_uri": "https://localhost:8080/"
        }
      },
      "outputs": [
        {
          "output_type": "stream",
          "name": "stdout",
          "text": [
            "New Delhi India\n"
          ]
        }
      ],
      "source": [
        "city = \"New Delhi\"\n",
        "country = \"India\"\n",
        "print(city, country)"
      ]
    },
    {
      "cell_type": "markdown",
      "metadata": {
        "id": "AKfLJMzpWiHr"
      },
      "source": [
        "<p>The above way to print is a default way to print using the separator but we can add some parameters as well, for example:</p>"
      ]
    },
    {
      "cell_type": "code",
      "execution_count": 24,
      "metadata": {
        "id": "UCzbky1HWvyr",
        "outputId": "fb884c7e-baf7-4422-b0d8-4615a71918cb",
        "colab": {
          "base_uri": "https://localhost:8080/"
        }
      },
      "outputs": [
        {
          "output_type": "stream",
          "name": "stdout",
          "text": [
            "New Delhi : India\n"
          ]
        }
      ],
      "source": [
        "print(city, country, sep=\" : \")"
      ]
    },
    {
      "cell_type": "markdown",
      "metadata": {
        "id": "whzIPbxLpCg4"
      },
      "source": [
        "### Using End-of-Line\n",
        "<p>By default, we have the <code>\\n</code> as the default character but we can change it by assigning the required value to the using the <code>end</code> parameter of <code>print()</code> statement.</p>"
      ]
    },
    {
      "cell_type": "code",
      "execution_count": 25,
      "metadata": {
        "id": "ufuQRy0qXFxs",
        "outputId": "ed5a56b3-d662-4695-b4aa-67642071cd4b",
        "colab": {
          "base_uri": "https://localhost:8080/"
        }
      },
      "outputs": [
        {
          "output_type": "stream",
          "name": "stdout",
          "text": [
            "New Delhi.India\n"
          ]
        }
      ],
      "source": [
        "print(city, end=\".\")\n",
        "print(country)"
      ]
    },
    {
      "cell_type": "markdown",
      "metadata": {
        "id": "m0Pz31ZoX9AL"
      },
      "source": [
        "<p>Since we changed the end-of-line character for the first statement, we can see it in the output that both the values are printed in the same line.</p>"
      ]
    },
    {
      "cell_type": "markdown",
      "metadata": {
        "id": "b8wlUrYaZDMB"
      },
      "source": [
        "# Introduction to Functions and Built-in Functions in Python"
      ]
    },
    {
      "cell_type": "markdown",
      "metadata": {
        "id": "uRntCf-HkUce"
      },
      "source": [
        "## User-defined Functions"
      ]
    },
    {
      "cell_type": "markdown",
      "metadata": {
        "id": "z-m4-Lx6kUce"
      },
      "source": [
        "<div>\n",
        "    <p>We can create our own functions in Python as:</p>\n",
        "    <pre><code>\n",
        "        def my_function(a, b):\n",
        "            a = a + 1\n",
        "            c = a + b\n",
        "            return c\n",
        "    </code></pre>\n",
        "    <p>The user=defined functions consist of the following:</p>\n",
        "    <ol>\n",
        "        <li>Function Name</li>\n",
        "        <li>Function Parameters</li>\n",
        "        <li>Function Body</li>\n",
        "        <li>Colon after Parenthesis</li>\n",
        "        <li>Return statement</li>\n",
        "    </ol>\n",
        "    <p>If we do not mention the return statement, then Python will just return <code>null</code> as the return value.</p>\n",
        "</div>"
      ]
    },
    {
      "cell_type": "markdown",
      "metadata": {
        "id": "-q_nbfO9kUcf"
      },
      "source": [
        "## Built-in Functions"
      ]
    },
    {
      "cell_type": "markdown",
      "metadata": {
        "id": "C4zJwm6IkUcf"
      },
      "source": [
        "<div>\n",
        "    <p><code>print()</code> is one of the built-in function. We use the parenthesis <code>()</code> to call a function. Usually when we call a function, we have to pass an argument. Let's see what happens when we try to print information about <code>print</code> function as:</p>\n",
        "</div>"
      ]
    },
    {
      "cell_type": "code",
      "execution_count": 26,
      "metadata": {
        "id": "aDFEJ96vkUcf",
        "outputId": "f15d5217-2173-43fa-bb49-7cbaa40cc720",
        "colab": {
          "base_uri": "https://localhost:8080/"
        }
      },
      "outputs": [
        {
          "output_type": "stream",
          "name": "stdout",
          "text": [
            "<built-in function print>\n"
          ]
        }
      ],
      "source": [
        "print(print)"
      ]
    },
    {
      "cell_type": "markdown",
      "metadata": {
        "id": "Mrkh-KpIkUcf"
      },
      "source": [
        "<div>\n",
        "    <p>If we were to try this with all the other built-in functions, then we will receive the same result.</p>\n",
        "    <p>We can access all the available attributes using the <code>.</code> operator as:</p>\n",
        "</div>"
      ]
    },
    {
      "cell_type": "code",
      "execution_count": 27,
      "metadata": {
        "id": "xTMnVC4xkUcg",
        "colab": {
          "base_uri": "https://localhost:8080/"
        },
        "outputId": "4e40505a-d91f-41de-b446-1ee507bb1e5f"
      },
      "outputs": [
        {
          "output_type": "stream",
          "name": "stdout",
          "text": [
            "AASHISH\n"
          ]
        }
      ],
      "source": [
        "name = 'Aashish'\n",
        "print(name.upper())"
      ]
    },
    {
      "cell_type": "markdown",
      "source": [
        "<div>\n",
        "    <p>Here, <code>upper</code> is an attribute and it is a <span style = \"color:green;\">Method</span>. It is called and used using the Dot Operator.</p>\n",
        "</div>"
      ],
      "metadata": {
        "id": "0Mm9QW6NVoy-"
      }
    },
    {
      "cell_type": "markdown",
      "source": [
        "## Defining and Using Functions\n",
        "<div>\n",
        "    <p>Functions in Python are created using the <code>def</code> keyword. So, we can use the following syntax:</p>\n",
        "</div>\n",
        "\n",
        "```python\n",
        "def FUNCTION_NAME():\n",
        "    FUNCTION_STATEMENTS\n",
        "\n",
        "# Calling the Function\n",
        "FUNCTION_NAME()\n",
        "```\n",
        "\n",
        "<div>\n",
        "    <p>We can pass parameters to the function as:</p>\n",
        "</div>\n",
        "\n",
        "```python\n",
        "def FUNCTION_NAME(parameter1, parameter2):\n",
        "    FUNCTION_STATEMENTS\n",
        "    print(\"Parameter 1: {}\".format(parameter1))\n",
        "    print(\"Parameter 2: {}\".format(parameter2))\n",
        "\n",
        "# Calling the Function\n",
        "FUNCTION_NAME(argument1, argument2)\n",
        "```\n",
        "\n",
        "<div>\n",
        "    <p>Example:</p>\n",
        "</div>"
      ],
      "metadata": {
        "id": "q3Q4zksl0iJu"
      }
    },
    {
      "cell_type": "code",
      "source": [
        "def add_numbers(a, b):\n",
        "    sum = a + b\n",
        "    print(\"Sum: {}\".format(sum))\n",
        "\n",
        "add_numbers(5, 10)"
      ],
      "metadata": {
        "colab": {
          "base_uri": "https://localhost:8080/"
        },
        "id": "_dacV5yo2zQ0",
        "outputId": "a26dd8f3-1692-4a98-d318-eb71c76be6eb"
      },
      "execution_count": 28,
      "outputs": [
        {
          "output_type": "stream",
          "name": "stdout",
          "text": [
            "Sum: 15\n"
          ]
        }
      ]
    },
    {
      "cell_type": "markdown",
      "source": [
        "<div>\n",
        "    <p>If we were to call the function with the arguments, then we will receive an error.</p>\n",
        "</div>"
      ],
      "metadata": {
        "id": "_hPEmJxg2z78"
      }
    },
    {
      "cell_type": "markdown",
      "source": [
        "## Using the <code>return</code> statement in Functions\n",
        "<div>\n",
        "    <p>We can create the function as:</p>\n",
        "</div>"
      ],
      "metadata": {
        "id": "KpposI-A3XoH"
      }
    },
    {
      "cell_type": "code",
      "source": [
        "def multiply_numbers(a, b):\n",
        "    product = a * b\n",
        "    return product\n",
        "\n",
        "result = multiply_numbers(5, 10)\n",
        "print(\"Product: {}\".format(result))"
      ],
      "metadata": {
        "colab": {
          "base_uri": "https://localhost:8080/"
        },
        "id": "b0T8_KX93nnJ",
        "outputId": "a773aedb-f2f0-4b1b-f0a7-3ee39df80f79"
      },
      "execution_count": 29,
      "outputs": [
        {
          "output_type": "stream",
          "name": "stdout",
          "text": [
            "Product: 50\n"
          ]
        }
      ]
    },
    {
      "cell_type": "markdown",
      "source": [
        "<div>\n",
        "    <p>Now, suppose we do not add the return statement to the above function as:</p>\n",
        "</div>\n",
        "\n",
        "```python\n",
        "def multiply_numbers(a, b):\n",
        "    product = a * b\n",
        "\n",
        "result = multiply_numbers(5, 10)\n",
        "print(\"Product: {}\".format(result))\n",
        "```\n",
        "\n",
        "<div>\n",
        "    <p>In this case, we will receive <code>None</code> as the result. <code>None</code> is the default value which is returned by any statement.</p>\n",
        "    <p>Once, we have provided the <code>return</code> statement, we cannot provide anymore statements in that method. So, the <code>return</code> statement is the last statement to be executed in any method. This is because as soon as the function returns the value, the control is given back to the point of execution where that function was called from. Due to this, for the statements provided after the <code>return</code> statement, we will recieve Error/Warning stating, \"This code is unreachable\".</p>\n",
        "</div>"
      ],
      "metadata": {
        "id": "hxaBfmak4Wxr"
      }
    },
    {
      "cell_type": "markdown",
      "metadata": {
        "id": "vWgDoRVnkUcg"
      },
      "source": [
        "## Common Built-in Functions"
      ]
    },
    {
      "cell_type": "markdown",
      "source": [
        "### Print Function\n",
        "<div>\n",
        "    <p>This is the most commonly used built-in function. We have the definition for it as:</p>\n",
        "</div>\n",
        "\n",
        "```python\n",
        "def print(\n",
        "    *values: object, sep: string, end: string, file: file, flush: boolean\n",
        ") -> None: ...\n",
        "```\n",
        "\n",
        "<div>\n",
        "    <p>In the above method, we can see that the return type of the function is <code>None</code>. This method will always return <code>None</code> no matter what we pass to the function. We have the documentation as:</p>\n",
        "</div>\n",
        "\n",
        "```python\n",
        "def print(\n",
        "    *values: object,\n",
        "    sep: str | None = ...,\n",
        "    end: str | None = ...,  \n",
        "    file: SupportsWrite[str] | None = ...,\n",
        "    flush: bool = ...\n",
        ") -> None: ...\n",
        "```\n",
        "\n",
        "<div>\n",
        "    <p><b>Description </b>: The function prints the values to a stream, or to sys.stdout by default. We have the following parameters:</p>\n",
        "    <ul>\n",
        "        <li><b><code>sep</code></b>: string inserted between values, default is a space.</li>\n",
        "        <li><b><code>end</code></b>: string appended after the last value, default a newline.</li>\n",
        "        <li><b><code>file</code></b>: a file-like object (stream); defaults to the current <code>sys.stdout</code>.</li>\n",
        "        <li><b><code>flush</code></b>: whether to forcibly flush the stream.</li>\n",
        "    </ul>\n",
        "</div>"
      ],
      "metadata": {
        "id": "xeW7VXS-6HiL"
      }
    },
    {
      "cell_type": "code",
      "source": [
        "print(\"Name: {}\".format(\"Aashish Bansal\"))"
      ],
      "metadata": {
        "colab": {
          "base_uri": "https://localhost:8080/"
        },
        "id": "H9X9hve06QFZ",
        "outputId": "2ca71d86-0923-49bf-ab38-80ea52c9c757"
      },
      "execution_count": 30,
      "outputs": [
        {
          "output_type": "stream",
          "name": "stdout",
          "text": [
            "Name: Aashish Bansal\n"
          ]
        }
      ]
    },
    {
      "cell_type": "markdown",
      "metadata": {
        "id": "1KuMZuPhrfAm"
      },
      "source": [
        "### Absolute Value\n",
        "<p><code>abs()</code> returns the absolute value of a number.</p>"
      ]
    },
    {
      "cell_type": "code",
      "execution_count": 31,
      "metadata": {
        "id": "hhJQRY85ryoB",
        "outputId": "0af0b848-2b8f-4349-b5a8-32b57e8804eb",
        "colab": {
          "base_uri": "https://localhost:8080/"
        }
      },
      "outputs": [
        {
          "output_type": "stream",
          "name": "stdout",
          "text": [
            "42\n"
          ]
        }
      ],
      "source": [
        "Absolute_value = abs(-42)\n",
        "print(Absolute_value)"
      ]
    },
    {
      "cell_type": "markdown",
      "metadata": {
        "id": "L5Z65LldtiuY"
      },
      "source": [
        "### Check Truth Values"
      ]
    },
    {
      "cell_type": "markdown",
      "metadata": {
        "id": "KSGHi1OFuOE3"
      },
      "source": [
        "<p><code>any()</code> returns True if at least one element of an iterable is True.</p>"
      ]
    },
    {
      "cell_type": "code",
      "execution_count": 32,
      "metadata": {
        "id": "upfgLv6yuIst",
        "outputId": "f54f4639-ecdd-4a66-a95b-d120abe32bcc",
        "colab": {
          "base_uri": "https://localhost:8080/"
        }
      },
      "outputs": [
        {
          "output_type": "stream",
          "name": "stdout",
          "text": [
            "True\n"
          ]
        }
      ],
      "source": [
        "Bool_list = [True, False, True, True]\n",
        "print(any(Bool_list))"
      ]
    },
    {
      "cell_type": "markdown",
      "metadata": {
        "id": "cUNKw-9DuWKE"
      },
      "source": [
        "<p><code>all()</code> returns True if all elements of an iterable are True.</p>"
      ]
    },
    {
      "cell_type": "code",
      "execution_count": 33,
      "metadata": {
        "id": "31u-0gB3uXiR",
        "outputId": "47ae3a0b-91a7-4c7f-a9d3-f9a4b29ed2bc",
        "colab": {
          "base_uri": "https://localhost:8080/"
        }
      },
      "outputs": [
        {
          "output_type": "stream",
          "name": "stdout",
          "text": [
            "False\n"
          ]
        }
      ],
      "source": [
        "print(all(Bool_list))"
      ]
    },
    {
      "cell_type": "markdown",
      "metadata": {
        "id": "glnZSFHwuvdv"
      },
      "source": [
        "### Convert to Character and Unicode"
      ]
    },
    {
      "cell_type": "markdown",
      "metadata": {
        "id": "XtfwnD2hu3Ao"
      },
      "source": [
        "<p><code>chr()</code> converts an ASCII Value to a character.</p>"
      ]
    },
    {
      "cell_type": "code",
      "execution_count": 34,
      "metadata": {
        "id": "fd3oqduEvHF-",
        "outputId": "acd1bd8d-1340-445c-e86b-3f20fcf8d4a5",
        "colab": {
          "base_uri": "https://localhost:8080/"
        }
      },
      "outputs": [
        {
          "output_type": "stream",
          "name": "stdout",
          "text": [
            "A\n"
          ]
        }
      ],
      "source": [
        "Char_value = chr(65)\n",
        "print(Char_value)"
      ]
    },
    {
      "cell_type": "markdown",
      "metadata": {
        "id": "YoLAlpm2vGfL"
      },
      "source": [
        "<p><code>ord()</code> returns the Unicode code point of a character.</p>"
      ]
    },
    {
      "cell_type": "code",
      "execution_count": 35,
      "metadata": {
        "id": "yLxvlt2Uvd9P",
        "outputId": "7134b379-9cf2-44f9-994f-3659d0f36a3f",
        "colab": {
          "base_uri": "https://localhost:8080/"
        }
      },
      "outputs": [
        {
          "output_type": "stream",
          "name": "stdout",
          "text": [
            "8364\n"
          ]
        }
      ],
      "source": [
        "Unicode_value = ord('€')\n",
        "print(Unicode_value)"
      ]
    },
    {
      "cell_type": "markdown",
      "metadata": {
        "id": "JEWJngN7oNK9"
      },
      "source": [
        "### Determine Length\n",
        "<p>The <code>len()</code> function returns the number of items in an object. It works with sequences like strings, lists, and tuples.</p>"
      ]
    },
    {
      "cell_type": "code",
      "execution_count": 36,
      "metadata": {
        "colab": {
          "base_uri": "https://localhost:8080/"
        },
        "id": "ypXcT7F36JdC",
        "outputId": "8e15889a-4696-4ba7-fc6b-328b7e119210"
      },
      "outputs": [
        {
          "output_type": "stream",
          "name": "stdout",
          "text": [
            "14\n"
          ]
        }
      ],
      "source": [
        "string_length = len(\"Hello, Python!\")\n",
        "print(string_length)"
      ]
    },
    {
      "cell_type": "code",
      "execution_count": 37,
      "metadata": {
        "id": "PB6_hpLco64K",
        "outputId": "729a5997-bd44-425b-a20c-2b6886b732ef",
        "colab": {
          "base_uri": "https://localhost:8080/"
        }
      },
      "outputs": [
        {
          "output_type": "stream",
          "name": "stdout",
          "text": [
            "5\n"
          ]
        }
      ],
      "source": [
        "list_length = len([1,2,3,4,5])\n",
        "print(list_length)"
      ]
    },
    {
      "cell_type": "markdown",
      "metadata": {
        "id": "UZvQkPu_qvKD"
      },
      "source": [
        "### Find Maximum and Minimum\n",
        "<p><code>max()</code> and <code>min()</code> return the maximum and minimum values of a sequence or multiple arguments.</p>"
      ]
    },
    {
      "cell_type": "code",
      "execution_count": 38,
      "metadata": {
        "id": "bnGKnaNAkUck",
        "outputId": "375f629b-142f-47d4-c646-18208dbbb7da",
        "colab": {
          "base_uri": "https://localhost:8080/"
        }
      },
      "outputs": [
        {
          "output_type": "stream",
          "name": "stdout",
          "text": [
            "Minimum value in the list: 5\n"
          ]
        }
      ],
      "source": [
        "x = min(5, 10, 25)\n",
        "print(\"Minimum value in the list: {}\".format(x))"
      ]
    },
    {
      "cell_type": "code",
      "execution_count": 39,
      "metadata": {
        "id": "8OmpeQXNkUcl",
        "outputId": "f02b7e43-6ad9-4c1f-de94-ef8ce76009e1",
        "colab": {
          "base_uri": "https://localhost:8080/"
        }
      },
      "outputs": [
        {
          "output_type": "stream",
          "name": "stdout",
          "text": [
            "25\n",
            "Maximum value in the list: 25\n"
          ]
        }
      ],
      "source": [
        "y = max(5, 10, 25)\n",
        "print(y)\n",
        "print(\"Maximum value in the list: {}\".format(y))"
      ]
    },
    {
      "cell_type": "markdown",
      "metadata": {
        "id": "b4IIZthOpUw0"
      },
      "source": [
        "### Get Type Information\n",
        "<p><code>type()</code> returns the type of an object. It will provide the name of the class which is used for the creation of the specific object. This is particularly useful when dealing with dynamic typing in Python.</p>"
      ]
    },
    {
      "cell_type": "code",
      "execution_count": 40,
      "metadata": {
        "id": "8hH5gQs7p7ES",
        "outputId": "521bde7e-1b6f-44ab-97b3-0302be1f0d63",
        "colab": {
          "base_uri": "https://localhost:8080/"
        }
      },
      "outputs": [
        {
          "output_type": "stream",
          "name": "stdout",
          "text": [
            "<class 'int'>\n"
          ]
        }
      ],
      "source": [
        "Var_type = type(42)\n",
        "print(Var_type)"
      ]
    },
    {
      "cell_type": "code",
      "execution_count": 41,
      "metadata": {
        "id": "X4DK4J0hqFAB",
        "outputId": "f0871502-30c9-40a1-aab1-9d5d86301ed0",
        "colab": {
          "base_uri": "https://localhost:8080/"
        }
      },
      "outputs": [
        {
          "output_type": "stream",
          "name": "stdout",
          "text": [
            "<class 'str'>\n"
          ]
        }
      ],
      "source": [
        "Var_type_str = type(\"Hello\")\n",
        "print(Var_type_str)"
      ]
    },
    {
      "cell_type": "markdown",
      "metadata": {
        "id": "au6pM_YIkUcm"
      },
      "source": [
        "### List of Available Attributes for an Object"
      ]
    },
    {
      "cell_type": "markdown",
      "source": [
        "<div>\n",
        "    <p>We have the documentation for the <code>dir()</code> function as:</p>\n",
        "    <b>Syntax:</b>\n",
        "</div>\n",
        "\n",
        "```python\n",
        "def dir(__o: object = ...) -> list[str]\n",
        "```\n",
        "\n",
        "<div>\n",
        "    <p><code>dir([object]) -> list of strings</code></p>\n",
        "    <p>If called without an argument, return the names in the current scope. Else, return an alphabetized list of names comprising (some of) the attributes of the given object, and of attributes reachable from it. if the object supplies a method name <code>__dir__</code>, it will be used; otherwise the default <code>dir()</code> logic is used and returns.</p>\n",
        "    <p>for a module object: the module's attributes. for a class object: its attributes, and recursively the attributes of its bases.</p>\n",
        "    <p>for any other object: its attributes, its class' attributes, and recursively the attributes of its class' base classes.</p>\n",
        "</div>"
      ],
      "metadata": {
        "id": "vqmEaPdy8toR"
      }
    },
    {
      "cell_type": "markdown",
      "source": [
        "<div>\n",
        "    <p>We can use the <code>dir()</code> function to obtain the list of attributes which we are available along with an object.</p>\n",
        "</div>"
      ],
      "metadata": {
        "id": "KGNJTQtF_GDA"
      }
    },
    {
      "cell_type": "code",
      "execution_count": 42,
      "metadata": {
        "id": "owYo9kUikUcm",
        "colab": {
          "base_uri": "https://localhost:8080/"
        },
        "outputId": "6300eb73-242c-4262-aa2a-38b84a3d751f"
      },
      "outputs": [
        {
          "output_type": "stream",
          "name": "stdout",
          "text": [
            "['__add__', '__class__', '__contains__', '__delattr__', '__dir__', '__doc__', '__eq__', '__format__', '__ge__', '__getattribute__', '__getitem__', '__getnewargs__', '__gt__', '__hash__', '__init__', '__init_subclass__', '__iter__', '__le__', '__len__', '__lt__', '__mod__', '__mul__', '__ne__', '__new__', '__reduce__', '__reduce_ex__', '__repr__', '__rmod__', '__rmul__', '__setattr__', '__sizeof__', '__str__', '__subclasshook__', 'capitalize', 'casefold', 'center', 'count', 'encode', 'endswith', 'expandtabs', 'find', 'format', 'format_map', 'index', 'isalnum', 'isalpha', 'isascii', 'isdecimal', 'isdigit', 'isidentifier', 'islower', 'isnumeric', 'isprintable', 'isspace', 'istitle', 'isupper', 'join', 'ljust', 'lower', 'lstrip', 'maketrans', 'partition', 'removeprefix', 'removesuffix', 'replace', 'rfind', 'rindex', 'rjust', 'rpartition', 'rsplit', 'rstrip', 'split', 'splitlines', 'startswith', 'strip', 'swapcase', 'title', 'translate', 'upper', 'zfill']\n"
          ]
        }
      ],
      "source": [
        "name = 'Aashish'\n",
        "print(dir(name))"
      ]
    },
    {
      "cell_type": "markdown",
      "metadata": {
        "id": "2UZO1T-_kUcm"
      },
      "source": [
        "<div>\n",
        "    <p>We can see that the Object in the above code is a string which is an instance of the built-in class. From the output, we can see the number of attributes which are available along with this object which we can use while creating the logic. Most of the attributes are also inherited attributes which are inherited by the <code>name</code> variable. This list also consists of the names of several built-in methods.</p>\n",
        "</div>"
      ]
    },
    {
      "cell_type": "markdown",
      "source": [
        "<div>\n",
        "    <p>Now, suppose we print the function <code>dir()</code>, then we receive the following output:</p>\n",
        "</div>"
      ],
      "metadata": {
        "id": "LHS-XF1n_ikV"
      }
    },
    {
      "cell_type": "code",
      "source": [
        "print(dir())"
      ],
      "metadata": {
        "colab": {
          "base_uri": "https://localhost:8080/"
        },
        "id": "t73K8nAB_uRM",
        "outputId": "2bc02082-f36f-43c3-9d1b-68b5e562cfd9"
      },
      "execution_count": 43,
      "outputs": [
        {
          "output_type": "stream",
          "name": "stdout",
          "text": [
            "['Absolute_value', 'Bool_list', 'Char_value', 'In', 'Out', 'Unicode_value', 'Var_type', 'Var_type_str', '_', '_10', '_11', '_12', '_13', '_16', '_17', '_9', '__', '___', '__builtin__', '__builtins__', '__doc__', '__loader__', '__name__', '__package__', '__spec__', '_dh', '_i', '_i1', '_i10', '_i11', '_i12', '_i13', '_i14', '_i15', '_i16', '_i17', '_i18', '_i19', '_i2', '_i20', '_i21', '_i22', '_i23', '_i24', '_i25', '_i26', '_i27', '_i28', '_i29', '_i3', '_i30', '_i31', '_i32', '_i33', '_i34', '_i35', '_i36', '_i37', '_i38', '_i39', '_i4', '_i40', '_i41', '_i42', '_i43', '_i5', '_i6', '_i7', '_i8', '_i9', '_ih', '_ii', '_iii', '_oh', 'a', 'add_numbers', 'b', 'c', 'city', 'country', 'dictionary', 'exit', 'get_ipython', 'list_length', 'multiply_numbers', 'name', 'quit', 'result', 'string_length', 'x', 'y']\n"
          ]
        }
      ]
    },
    {
      "cell_type": "markdown",
      "source": [
        "<div>\n",
        "    <p>So, this is the list of strings. This is the list of names which are available in the current scope. This is, basically, the list of variables which are directly accessible in the program.</p>\n",
        "    <p>Suppose we call the <code>__name__</code> value as:</p>\n",
        "</div>"
      ],
      "metadata": {
        "id": "tiFpQUX5_vgV"
      }
    },
    {
      "cell_type": "code",
      "source": [
        "print(__name__)"
      ],
      "metadata": {
        "colab": {
          "base_uri": "https://localhost:8080/"
        },
        "id": "SAFSK_o8AZJp",
        "outputId": "2611d96a-d7f3-4888-ea92-751eed72f3bc"
      },
      "execution_count": 44,
      "outputs": [
        {
          "output_type": "stream",
          "name": "stdout",
          "text": [
            "__main__\n"
          ]
        }
      ]
    },
    {
      "cell_type": "markdown",
      "source": [
        "<div>\n",
        "    <p>This is the value obtained from the main file.</p>\n",
        "    <p>Suppose we call the <code>__builtins__</code> value as:</p>\n",
        "</div>"
      ],
      "metadata": {
        "id": "qq0usz_fBEOd"
      }
    },
    {
      "cell_type": "code",
      "source": [
        "print(__builtins__)"
      ],
      "metadata": {
        "colab": {
          "base_uri": "https://localhost:8080/"
        },
        "id": "c9TgXTtPBVZF",
        "outputId": "c49b9289-df31-40d6-ddeb-c326cea7c0d1"
      },
      "execution_count": 45,
      "outputs": [
        {
          "output_type": "stream",
          "name": "stdout",
          "text": [
            "<module 'builtins' (built-in)>\n"
          ]
        }
      ]
    },
    {
      "cell_type": "markdown",
      "source": [
        "<div>\n",
        "    <p>Here, we can see that this is a module. This module is built-in into Python and it contains all the built-in functions in Python.</p>\n",
        "</div>"
      ],
      "metadata": {
        "id": "Ht0wX9etBZY4"
      }
    },
    {
      "cell_type": "markdown",
      "source": [
        "<div>\n",
        "    <p>Now, we can obtain the list of values available for a specific method as:</p>\n",
        "</div>"
      ],
      "metadata": {
        "id": "UG6Od0qQBpH-"
      }
    },
    {
      "cell_type": "code",
      "source": [
        "print(dir(__builtins__))"
      ],
      "metadata": {
        "colab": {
          "base_uri": "https://localhost:8080/"
        },
        "id": "sfcERlfjBwhS",
        "outputId": "18bde0bf-37f8-47d6-a31b-c3004454ab59"
      },
      "execution_count": 46,
      "outputs": [
        {
          "output_type": "stream",
          "name": "stdout",
          "text": [
            "['ArithmeticError', 'AssertionError', 'AttributeError', 'BaseException', 'BlockingIOError', 'BrokenPipeError', 'BufferError', 'BytesWarning', 'ChildProcessError', 'ConnectionAbortedError', 'ConnectionError', 'ConnectionRefusedError', 'ConnectionResetError', 'DeprecationWarning', 'EOFError', 'Ellipsis', 'EncodingWarning', 'EnvironmentError', 'Exception', 'False', 'FileExistsError', 'FileNotFoundError', 'FloatingPointError', 'FutureWarning', 'GeneratorExit', 'IOError', 'ImportError', 'ImportWarning', 'IndentationError', 'IndexError', 'InterruptedError', 'IsADirectoryError', 'KeyError', 'KeyboardInterrupt', 'LookupError', 'MemoryError', 'ModuleNotFoundError', 'NameError', 'None', 'NotADirectoryError', 'NotImplemented', 'NotImplementedError', 'OSError', 'OverflowError', 'PendingDeprecationWarning', 'PermissionError', 'ProcessLookupError', 'RecursionError', 'ReferenceError', 'ResourceWarning', 'RuntimeError', 'RuntimeWarning', 'StopAsyncIteration', 'StopIteration', 'SyntaxError', 'SyntaxWarning', 'SystemError', 'SystemExit', 'TabError', 'TimeoutError', 'True', 'TypeError', 'UnboundLocalError', 'UnicodeDecodeError', 'UnicodeEncodeError', 'UnicodeError', 'UnicodeTranslateError', 'UnicodeWarning', 'UserWarning', 'ValueError', 'Warning', 'ZeroDivisionError', '__IPYTHON__', '__build_class__', '__debug__', '__doc__', '__import__', '__loader__', '__name__', '__package__', '__spec__', 'abs', 'aiter', 'all', 'anext', 'any', 'ascii', 'bin', 'bool', 'breakpoint', 'bytearray', 'bytes', 'callable', 'chr', 'classmethod', 'compile', 'complex', 'copyright', 'credits', 'delattr', 'dict', 'dir', 'display', 'divmod', 'enumerate', 'eval', 'exec', 'execfile', 'filter', 'float', 'format', 'frozenset', 'get_ipython', 'getattr', 'globals', 'hasattr', 'hash', 'help', 'hex', 'id', 'input', 'int', 'isinstance', 'issubclass', 'iter', 'len', 'license', 'list', 'locals', 'map', 'max', 'memoryview', 'min', 'next', 'object', 'oct', 'open', 'ord', 'pow', 'print', 'property', 'range', 'repr', 'reversed', 'round', 'runfile', 'set', 'setattr', 'slice', 'sorted', 'staticmethod', 'str', 'sum', 'super', 'tuple', 'type', 'vars', 'zip']\n"
          ]
        }
      ]
    },
    {
      "cell_type": "markdown",
      "source": [
        "<div>\n",
        "    <p>This provides a list of different variables and functions available for the object.</p>\n",
        "</div>"
      ],
      "metadata": {
        "id": "knWkeJ3aB_-x"
      }
    },
    {
      "cell_type": "markdown",
      "metadata": {
        "id": "jI0yg18SkUcm"
      },
      "source": [
        "### Obtain Input from the User"
      ]
    },
    {
      "cell_type": "markdown",
      "source": [
        "<div>\n",
        "    <p>We have the documentation for the <code>input()</code> function as:</p>\n",
        "    <b>Syntax:</b>\n",
        "</div>\n",
        "\n",
        "```python\n",
        "def input(__prompt: Any = ...) -> str\n",
        "```\n",
        "\n",
        "<div>\n",
        "    <p><b>Description</b>: Read a string from standard input. The trailing newline is stripped.</p>\n",
        "    <p>The prompt string, if given, is printed to standard output without a trailing newline before reading input.</p>\n",
        "    <p>If the user hits EOF (*nix: Ctrl-D, Windows: Ctrl-Z+Return), raise EOFError. On *nix systems, readline is used if available.</p>\n",
        "</div>"
      ],
      "metadata": {
        "id": "kJDg3s5I-HsR"
      }
    },
    {
      "cell_type": "markdown",
      "source": [
        "<div>\n",
        "    <p>We can take an input from the user using the <code>input()</code> method. We can take input in the terminal of the application when we execute it. We can provide a prompt within the <code>()</code> which the user will be able to see. This method will take the value and assign it to the variable.</p>\n",
        "</div>"
      ],
      "metadata": {
        "id": "zkQsOpnc_ZzK"
      }
    },
    {
      "cell_type": "code",
      "execution_count": 47,
      "metadata": {
        "id": "c3QtOfgCkUcn",
        "outputId": "257c3830-4358-432b-8fe7-10ba02e2f97a",
        "colab": {
          "base_uri": "https://localhost:8080/"
        }
      },
      "outputs": [
        {
          "output_type": "stream",
          "name": "stdout",
          "text": [
            "Enter your name:\n",
            "Aashish Bansal\n",
            "Hello, Aashish Bansal\n"
          ]
        }
      ],
      "source": [
        "print('Enter your name:')\n",
        "x = input()\n",
        "print('Hello, ' + x)"
      ]
    },
    {
      "cell_type": "code",
      "execution_count": 48,
      "metadata": {
        "id": "Za6BDAYTkUcn",
        "colab": {
          "base_uri": "https://localhost:8080/"
        },
        "outputId": "d4d7768b-89a6-42d0-90bf-caa23c0b73e3"
      },
      "outputs": [
        {
          "output_type": "stream",
          "name": "stdout",
          "text": [
            "Enter your name:Aashish\n",
            "Hello, Aashish\n"
          ]
        }
      ],
      "source": [
        "x = input('Enter your name:')\n",
        "print('Hello, ' + x)"
      ]
    },
    {
      "cell_type": "markdown",
      "metadata": {
        "id": "q4XaHKaTkUcn"
      },
      "source": [
        "<div>\n",
        "    <p>We need to remember that the <code>input()</code> function will always return a String. We can see that as:</p>\n",
        "</div>"
      ]
    },
    {
      "cell_type": "code",
      "source": [
        "x = input('Enter your name:')\n",
        "print('Hello, ' + x)\n",
        "print(\"Type of input is: {}\\n\".format(type(x)))\n",
        "\n",
        "x = input('Enter a number:')\n",
        "print('Number: ' + x)\n",
        "print(\"Type of input is: {}\".format(type(x)))"
      ],
      "metadata": {
        "colab": {
          "base_uri": "https://localhost:8080/"
        },
        "id": "qCHEdx0_E4JA",
        "outputId": "f7406368-25c6-4d97-bf0c-509f74b5520f"
      },
      "execution_count": 52,
      "outputs": [
        {
          "output_type": "stream",
          "name": "stdout",
          "text": [
            "Enter your name:Aashish\n",
            "Hello, Aashish\n",
            "Type of input is: <class 'str'>\n",
            "\n",
            "Enter a number:1\n",
            "Number: 1\n",
            "Type of input is: <class 'str'>\n"
          ]
        }
      ]
    },
    {
      "cell_type": "markdown",
      "metadata": {
        "id": "ZugJ3x0lkUcn"
      },
      "source": [
        "### Obtain Location of Spcific Object in Memory\n",
        "<div>\n",
        "    <p>We can use the <code>id()</code> function to obtain the location of a specific object in the memory.</p>\n",
        "</div>"
      ]
    },
    {
      "cell_type": "code",
      "execution_count": null,
      "metadata": {
        "id": "5rSkY9PrkUco",
        "outputId": "2dd4ba5a-f2ac-4c05-949f-9d6479f4188b"
      },
      "outputs": [
        {
          "name": "stdout",
          "output_type": "stream",
          "text": [
            "The Memory Location where 'x' is stored is: 1863600276224\n"
          ]
        }
      ],
      "source": [
        "x = ('apple', 'banana', 'cherry')\n",
        "y = id(x)\n",
        "print(\"The Memory Location where 'x' is stored is: {}\".format(y))"
      ]
    },
    {
      "cell_type": "markdown",
      "metadata": {
        "id": "esSB2zbosAjd"
      },
      "source": [
        "### Round a Number\n",
        "<p><code>round()</code> rounds a floating-point number to the nearest integer.</p>"
      ]
    },
    {
      "cell_type": "code",
      "execution_count": null,
      "metadata": {
        "id": "sRleOxoPsYiM",
        "outputId": "2c355ea1-d59b-43b2-ead2-bb1a309d2c11"
      },
      "outputs": [
        {
          "name": "stdout",
          "output_type": "stream",
          "text": [
            "3\n"
          ]
        }
      ],
      "source": [
        "Rounded_value = round(3.14159)\n",
        "print(Rounded_value)"
      ]
    },
    {
      "cell_type": "markdown",
      "metadata": {
        "id": "x-t1zz4-sn-a"
      },
      "source": [
        "### Sort Iterable\n",
        "<p><code>sorted()</code> returns a sorted list from the specified iterable.</p>"
      ]
    },
    {
      "cell_type": "code",
      "execution_count": null,
      "metadata": {
        "id": "DUEILpf3tDvI",
        "outputId": "3d846ac6-0005-4f56-986a-53c1b5c3c5ba"
      },
      "outputs": [
        {
          "name": "stdout",
          "output_type": "stream",
          "text": [
            "[1, 2, 3, 5, 8]\n"
          ]
        }
      ],
      "source": [
        "Unsorted_list = [5,1,8,3,2]\n",
        "Sorted_list = sorted(Unsorted_list)\n",
        "print(Sorted_list)"
      ]
    },
    {
      "cell_type": "markdown",
      "metadata": {
        "id": "bylI7OkbxjT_"
      },
      "source": [
        "### Sum of Elements\n",
        "<p><code>sum()</code> calculates the sum of all items in an iterable.</p>"
      ]
    },
    {
      "cell_type": "code",
      "execution_count": null,
      "metadata": {
        "id": "bGIXePlPrO72",
        "scrolled": true,
        "outputId": "7e3ceb0b-0764-4077-93d4-4ebbd0006582"
      },
      "outputs": [
        {
          "ename": "SyntaxError",
          "evalue": "invalid syntax. Perhaps you forgot a comma? (4259977696.py, line 1)",
          "output_type": "error",
          "traceback": [
            "\u001b[1;36m  Cell \u001b[1;32mIn[52], line 1\u001b[1;36m\u001b[0m\n\u001b[1;33m    Numbers = [1,2 3,4,5]\u001b[0m\n\u001b[1;37m                 ^\u001b[0m\n\u001b[1;31mSyntaxError\u001b[0m\u001b[1;31m:\u001b[0m invalid syntax. Perhaps you forgot a comma?\n"
          ]
        }
      ],
      "source": [
        "Numbers = [1,2 3,4,5]\n",
        "Sum_result = sum(Numbers)\n",
        "print(Sum_result)"
      ]
    },
    {
      "cell_type": "markdown",
      "metadata": {
        "id": "dNuODd5GkUcp"
      },
      "source": [
        "# 7. Code Formatting and PEP8"
      ]
    },
    {
      "cell_type": "markdown",
      "metadata": {
        "id": "1x8f5yVbkUcq"
      },
      "source": [
        "## Code Indentations"
      ]
    },
    {
      "cell_type": "markdown",
      "source": [
        "<div>\n",
        "    <p><b>Indents</b> in Python play an important role because with the help of indentation, Python tends to understand about the beginning and ending of a particular block of code. For example, if we create a function, we will have to indent the function body. So, the following code represents the correct syntax:</p>\n",
        "</div>\n",
        "\n",
        "```python\n",
        "def print_name_function(name):\n",
        "    print(name)\n",
        "```\n",
        "\n",
        "<div>\n",
        "    <p>The following code represents the incorrect syntax:</p>\n",
        "</div>\n",
        "\n",
        "```python\n",
        "def print_name_function(name):\n",
        "print(name)\n",
        "```\n",
        "\n",
        "<div>\n",
        "    <p>The above code will throw the following error:</p>\n",
        "    <code>IndentationError: expected an indented block</code>\n",
        "</div>\n",
        "<div>\n",
        "    <p>We should keep the indentation consistent across the complete program.</p>\n",
        "</div>"
      ],
      "metadata": {
        "id": "ayJT5LoVF_f7"
      }
    },
    {
      "cell_type": "markdown",
      "metadata": {
        "id": "XcPRuV4dkUcq"
      },
      "source": [
        "## Working with Indentations"
      ]
    },
    {
      "cell_type": "markdown",
      "source": [
        "<div>\n",
        "    <p>Suppose we have the following function:</p>\n",
        "</div>"
      ],
      "metadata": {
        "id": "l0fjKZXjHhSQ"
      }
    },
    {
      "cell_type": "code",
      "execution_count": 53,
      "metadata": {
        "id": "iC0G4DIQkUcq"
      },
      "outputs": [],
      "source": [
        "def print_num(num):\n",
        "    print(num)"
      ]
    },
    {
      "cell_type": "code",
      "source": [
        "print_num(5)"
      ],
      "metadata": {
        "colab": {
          "base_uri": "https://localhost:8080/"
        },
        "id": "_6fXHtn2HzGJ",
        "outputId": "00046819-e059-4ccb-e889-e57cbe57f94f"
      },
      "execution_count": 54,
      "outputs": [
        {
          "output_type": "stream",
          "name": "stdout",
          "text": [
            "5\n"
          ]
        }
      ]
    },
    {
      "cell_type": "markdown",
      "source": [
        "<div>\n",
        "    <p>We can see that there were no errors or warnings thrown by the function, which means that the code is correct and it gave the expected output.</p>\n",
        "</div>"
      ],
      "metadata": {
        "id": "weemO3i9H3hg"
      }
    },
    {
      "cell_type": "markdown",
      "metadata": {
        "id": "yQB3mkGhkUcq"
      },
      "source": [
        "## Following PEP8 Guidelines"
      ]
    },
    {
      "cell_type": "markdown",
      "source": [
        "<div>\n",
        "    <p><b>PEP</b> stands for <b>Python Enhancement Proposal</b>. It is just a document descibing recommendations for writing Python code.</p>\n",
        "    <p><b>URL</b>: <a href=\"https://peps.python.org/pep-0008/\" target=\"_blank\">https://peps.python.org/pep-0008/</a></p>\n",
        "    <p>The above documentation contains a lot of guidelines and recommendations for writing python code.</p>\n",
        "    <p>Some of the basic rules according to PEP8 are:</p>\n",
        "    <ul>\n",
        "        <li>Use <b>spaces</b> for indentations, not Tab.</li>\n",
        "        <li>The length of the lines should not be more than <b>79 characters</b>.</li>\n",
        "        <li><b>Functions</b> and <b>classes</b> must be separated from other lines of code by <b>two empty lines</b>.</li>\n",
        "        <li>Module imports should be on separate lines.</li>\n",
        "        <li><b>Comments</b> at the <b>end of the code line</b> should be separated by at least <b>two spaces</b>.</li>\n",
        "        <li><b>E117</b>: Over-indented. This will not throw any error and it means that we can potentially use more spaces.</li>\n",
        "        <li><b>E305</b>: Expected 2 blank lines after class or function definition.</li>\n",
        "    </ul>\n",
        "</div>"
      ],
      "metadata": {
        "id": "NVQMFTzDID4A"
      }
    },
    {
      "cell_type": "markdown",
      "metadata": {
        "id": "SOdbqqDKkUcr"
      },
      "source": [
        "# 8. Comments"
      ]
    },
    {
      "cell_type": "markdown",
      "metadata": {
        "id": "ap1iTMcnkUcr"
      },
      "source": [
        "## Comments"
      ]
    },
    {
      "cell_type": "code",
      "execution_count": null,
      "metadata": {
        "id": "BKakhQJQkUcr"
      },
      "outputs": [],
      "source": []
    },
    {
      "cell_type": "markdown",
      "metadata": {
        "id": "I3b5E_uBkUcr"
      },
      "source": [
        "## Adding Comments to Code"
      ]
    },
    {
      "cell_type": "code",
      "execution_count": null,
      "metadata": {
        "id": "DBhr6xl0kUcr"
      },
      "outputs": [],
      "source": []
    },
    {
      "cell_type": "markdown",
      "metadata": {
        "id": "UXIJBaUJkUcs"
      },
      "source": [
        "# 9. Expressions and Instructions"
      ]
    },
    {
      "cell_type": "markdown",
      "metadata": {
        "id": "z9lhhOKrkUcs"
      },
      "source": [
        "## Understanding Expressions"
      ]
    },
    {
      "cell_type": "code",
      "execution_count": null,
      "metadata": {
        "id": "PjrRq-IvkUcs"
      },
      "outputs": [],
      "source": []
    },
    {
      "cell_type": "markdown",
      "metadata": {
        "id": "skXL_wxwkUcs"
      },
      "source": [
        "## Understanding Statements"
      ]
    },
    {
      "cell_type": "code",
      "execution_count": null,
      "metadata": {
        "id": "4CPDK4uPkUcs"
      },
      "outputs": [],
      "source": []
    },
    {
      "cell_type": "markdown",
      "metadata": {
        "id": "k1U6Sw3ikUcs"
      },
      "source": [
        "## Using Expressions"
      ]
    },
    {
      "cell_type": "code",
      "execution_count": null,
      "metadata": {
        "id": "Z1RtGoqzkUcs"
      },
      "outputs": [],
      "source": []
    },
    {
      "cell_type": "markdown",
      "metadata": {
        "id": "2KR1t5ZkkUct"
      },
      "source": [
        "## Using Statements"
      ]
    },
    {
      "cell_type": "code",
      "execution_count": null,
      "metadata": {
        "id": "OZQWEE9xkUct"
      },
      "outputs": [],
      "source": []
    },
    {
      "cell_type": "markdown",
      "metadata": {
        "id": "AbzzBftDkUct"
      },
      "source": [
        "# 10. Variables"
      ]
    },
    {
      "cell_type": "markdown",
      "metadata": {
        "id": "kAC6zLFlkUct"
      },
      "source": [
        "## Variables"
      ]
    },
    {
      "cell_type": "code",
      "execution_count": null,
      "metadata": {
        "id": "GkB2IJKdkUct"
      },
      "outputs": [],
      "source": []
    },
    {
      "cell_type": "markdown",
      "metadata": {
        "id": "6l3mPkEdkUct"
      },
      "source": [
        "## Defining and using Variables"
      ]
    },
    {
      "cell_type": "code",
      "execution_count": null,
      "metadata": {
        "id": "gZGkTTeZkUcu"
      },
      "outputs": [],
      "source": []
    },
    {
      "cell_type": "markdown",
      "metadata": {
        "id": "ACDPW6HrkUcu"
      },
      "source": [
        "# 11. Data Types and Structures"
      ]
    },
    {
      "cell_type": "markdown",
      "metadata": {
        "id": "utOo-OdzkUcu"
      },
      "source": [
        "## Understanding Dynamic Typing"
      ]
    },
    {
      "cell_type": "code",
      "execution_count": null,
      "metadata": {
        "id": "GOf7Wcz9kUcu"
      },
      "outputs": [],
      "source": []
    },
    {
      "cell_type": "markdown",
      "metadata": {
        "id": "RuJ3Bj6zkUcu"
      },
      "source": [
        "## Types and Data Structures Overview"
      ]
    },
    {
      "cell_type": "code",
      "execution_count": null,
      "metadata": {
        "id": "fU04vKn9kUcv"
      },
      "outputs": [],
      "source": []
    },
    {
      "cell_type": "markdown",
      "metadata": {
        "id": "TW2WYqDqkUcv"
      },
      "source": [
        "## Variables and Objects"
      ]
    },
    {
      "cell_type": "code",
      "execution_count": null,
      "metadata": {
        "id": "PlUg9RNZkUcv"
      },
      "outputs": [],
      "source": []
    },
    {
      "cell_type": "markdown",
      "metadata": {
        "id": "WupzFargkUcv"
      },
      "source": [
        "## Using the Built-in <code>id()</code> Function"
      ]
    },
    {
      "cell_type": "code",
      "execution_count": null,
      "metadata": {
        "id": "_yF2m7OkkUcv"
      },
      "outputs": [],
      "source": []
    },
    {
      "cell_type": "markdown",
      "metadata": {
        "id": "qwY_qeFckUcv"
      },
      "source": [
        "## Exploring Core Data Classes (str, int, bool, list, dict)"
      ]
    },
    {
      "cell_type": "code",
      "execution_count": null,
      "metadata": {
        "id": "fX6lTYJqkUcw"
      },
      "outputs": [],
      "source": []
    },
    {
      "cell_type": "markdown",
      "metadata": {
        "id": "QnjAihwykUcw"
      },
      "source": [
        "## Using the Built-in <code>isinstance()</code> Function"
      ]
    },
    {
      "cell_type": "code",
      "execution_count": null,
      "metadata": {
        "id": "IRFuLAQSkUcw"
      },
      "outputs": [],
      "source": []
    },
    {
      "cell_type": "markdown",
      "metadata": {
        "id": "IcuDG2dHkUcw"
      },
      "source": [
        "# 12. Strings"
      ]
    },
    {
      "cell_type": "markdown",
      "metadata": {
        "id": "Hgl1GzT6kUcw"
      },
      "source": [
        "## Strings"
      ]
    },
    {
      "cell_type": "code",
      "execution_count": null,
      "metadata": {
        "id": "kHYl7b7LkUcw"
      },
      "outputs": [],
      "source": []
    },
    {
      "cell_type": "markdown",
      "metadata": {
        "id": "yyiwtfSOkUcw"
      },
      "source": [
        "## String Manipulation"
      ]
    },
    {
      "cell_type": "code",
      "execution_count": null,
      "metadata": {
        "id": "m-DmL_pbkUcx"
      },
      "outputs": [],
      "source": []
    },
    {
      "cell_type": "markdown",
      "metadata": {
        "id": "SsUKAkvYkUcx"
      },
      "source": [
        "## String Methods"
      ]
    },
    {
      "cell_type": "code",
      "execution_count": null,
      "metadata": {
        "id": "d0oiv-72kUcx"
      },
      "outputs": [],
      "source": []
    },
    {
      "cell_type": "markdown",
      "metadata": {
        "id": "PQBdC0e8kUcx"
      },
      "source": [
        "# 13. String Concatenation"
      ]
    },
    {
      "cell_type": "markdown",
      "metadata": {
        "id": "mmLxOxjLkUcy"
      },
      "source": [
        "## String Concatenation"
      ]
    },
    {
      "cell_type": "code",
      "execution_count": null,
      "metadata": {
        "id": "qKSxitJCkUcy"
      },
      "outputs": [],
      "source": []
    },
    {
      "cell_type": "markdown",
      "metadata": {
        "id": "BvXNvnxAkUcy"
      },
      "source": [
        "## Concatenating Strings using the <code>+</code> Operator"
      ]
    },
    {
      "cell_type": "code",
      "execution_count": null,
      "metadata": {
        "id": "OUogKMGjkUcy"
      },
      "outputs": [],
      "source": []
    },
    {
      "cell_type": "markdown",
      "metadata": {
        "id": "INOtoXtIkUcy"
      },
      "source": [
        "## Using f-strings for String Formatting"
      ]
    },
    {
      "cell_type": "code",
      "execution_count": null,
      "metadata": {
        "id": "-8Fkl3bdkUcy"
      },
      "outputs": [],
      "source": []
    },
    {
      "cell_type": "markdown",
      "metadata": {
        "id": "OYVxGM2MkUcy"
      },
      "source": [
        "## Alternative String Formatting Methods"
      ]
    },
    {
      "cell_type": "code",
      "execution_count": null,
      "metadata": {
        "id": "bsrE2jFnkUcz"
      },
      "outputs": [],
      "source": []
    },
    {
      "cell_type": "markdown",
      "metadata": {
        "id": "uOMPs6IlkUcz"
      },
      "source": [
        "# 14. Numeric Types"
      ]
    },
    {
      "cell_type": "markdown",
      "metadata": {
        "id": "W6gLV24CkUcz"
      },
      "source": [
        "## Integers"
      ]
    },
    {
      "cell_type": "code",
      "execution_count": null,
      "metadata": {
        "id": "XHl5fu5ikUcz"
      },
      "outputs": [],
      "source": []
    },
    {
      "cell_type": "markdown",
      "metadata": {
        "id": "kVjkWNm9kUcz"
      },
      "source": [
        "## Integer Manipulation"
      ]
    },
    {
      "cell_type": "code",
      "execution_count": null,
      "metadata": {
        "id": "eYy9JbL4kUcz"
      },
      "outputs": [],
      "source": []
    },
    {
      "cell_type": "markdown",
      "metadata": {
        "id": "9CiL3meDkUcz"
      },
      "source": [
        "## Float Numbers"
      ]
    },
    {
      "cell_type": "code",
      "execution_count": null,
      "metadata": {
        "id": "HaB1pU1ykUc0"
      },
      "outputs": [],
      "source": []
    },
    {
      "cell_type": "markdown",
      "metadata": {
        "id": "CC9im7ibkUc0"
      },
      "source": [
        "## Floating-point Number Manipulation"
      ]
    },
    {
      "cell_type": "code",
      "execution_count": null,
      "metadata": {
        "id": "GG-ULP9okUc0"
      },
      "outputs": [],
      "source": []
    },
    {
      "cell_type": "markdown",
      "metadata": {
        "id": "B1KWJIIBkUc1"
      },
      "source": [
        "## Working with Complex Numbers"
      ]
    },
    {
      "cell_type": "code",
      "execution_count": null,
      "metadata": {
        "id": "XmD25ndbkUc1"
      },
      "outputs": [],
      "source": []
    },
    {
      "cell_type": "markdown",
      "metadata": {
        "id": "0C1wYqbxkUc1"
      },
      "source": [
        "# 15. Boolean Values"
      ]
    },
    {
      "cell_type": "markdown",
      "metadata": {
        "id": "Lo9VeWlfkUc1"
      },
      "source": [
        "## Boolean Values"
      ]
    },
    {
      "cell_type": "code",
      "execution_count": null,
      "metadata": {
        "id": "WR3koSrPkUc1"
      },
      "outputs": [],
      "source": []
    },
    {
      "cell_type": "code",
      "execution_count": null,
      "metadata": {
        "id": "9pPLKkPTkUc2"
      },
      "outputs": [],
      "source": []
    },
    {
      "cell_type": "markdown",
      "metadata": {
        "id": "HdXLqrXwkUc2"
      },
      "source": [
        "## Working with Boolean Values"
      ]
    },
    {
      "cell_type": "code",
      "execution_count": null,
      "metadata": {
        "id": "ZxSjygFDkUc2"
      },
      "outputs": [],
      "source": []
    },
    {
      "cell_type": "markdown",
      "metadata": {
        "id": "i7lEa8k6kUc2"
      },
      "source": [
        "## Type Conversion"
      ]
    },
    {
      "cell_type": "code",
      "execution_count": null,
      "metadata": {
        "id": "T2ynesskkUc2"
      },
      "outputs": [],
      "source": []
    },
    {
      "cell_type": "markdown",
      "metadata": {
        "id": "-tLxJGhRkUc2"
      },
      "source": [
        "# 16. Magic Methods"
      ]
    },
    {
      "cell_type": "markdown",
      "metadata": {
        "id": "0YmU-TUVkUc3"
      },
      "source": [
        "## Magic Methods"
      ]
    },
    {
      "cell_type": "code",
      "execution_count": null,
      "metadata": {
        "id": "PMQBSBZLkUc3"
      },
      "outputs": [],
      "source": []
    },
    {
      "cell_type": "markdown",
      "metadata": {
        "id": "pIaublWekUc3"
      },
      "source": [
        "## Utilizing Magic Attributes and Methods"
      ]
    },
    {
      "cell_type": "code",
      "execution_count": null,
      "metadata": {
        "id": "leKRrZPkkUc3"
      },
      "outputs": [],
      "source": []
    },
    {
      "cell_type": "markdown",
      "metadata": {
        "id": "rAhA3JBwkUc4"
      },
      "source": [
        "# 17. Lists"
      ]
    },
    {
      "cell_type": "markdown",
      "metadata": {
        "id": "MDLi0ukvkUc4"
      },
      "source": [
        "## Lists"
      ]
    },
    {
      "cell_type": "code",
      "execution_count": null,
      "metadata": {
        "id": "QNM59F-okUc4"
      },
      "outputs": [],
      "source": []
    },
    {
      "cell_type": "markdown",
      "metadata": {
        "id": "bGj6TmMrkUc4"
      },
      "source": [
        "## List Methods"
      ]
    },
    {
      "cell_type": "code",
      "execution_count": null,
      "metadata": {
        "id": "P3zvPRAFkUc4"
      },
      "outputs": [],
      "source": []
    },
    {
      "cell_type": "markdown",
      "metadata": {
        "id": "cyLZru1kkUc4"
      },
      "source": [
        "## Working with Lists"
      ]
    },
    {
      "cell_type": "code",
      "execution_count": null,
      "metadata": {
        "id": "94lGGO1BkUc4"
      },
      "outputs": [],
      "source": []
    },
    {
      "cell_type": "markdown",
      "metadata": {
        "id": "B2h6YNVbkUc4"
      },
      "source": [
        "## Copying Lists"
      ]
    },
    {
      "cell_type": "code",
      "execution_count": null,
      "metadata": {
        "id": "JCMre-iTkUc5"
      },
      "outputs": [],
      "source": []
    },
    {
      "cell_type": "markdown",
      "metadata": {
        "id": "66lQRSzOkUc5"
      },
      "source": [
        "# 18. Dictionaries"
      ]
    },
    {
      "cell_type": "markdown",
      "metadata": {
        "id": "oR2Rn3BakUc5"
      },
      "source": [
        "## Dictionaries"
      ]
    },
    {
      "cell_type": "code",
      "execution_count": null,
      "metadata": {
        "id": "zJLSLo6CkUc5"
      },
      "outputs": [],
      "source": []
    },
    {
      "cell_type": "markdown",
      "metadata": {
        "id": "mhWSQsbCkUc5"
      },
      "source": [
        "## Manipulating Dictionaries"
      ]
    },
    {
      "cell_type": "code",
      "execution_count": null,
      "metadata": {
        "id": "WSLL_U55kUc5"
      },
      "outputs": [],
      "source": []
    },
    {
      "cell_type": "markdown",
      "metadata": {
        "id": "nWiZHUhykUc6"
      },
      "source": [
        "## Dictionary Methods"
      ]
    },
    {
      "cell_type": "code",
      "execution_count": null,
      "metadata": {
        "id": "f7Vcm6qfkUc6"
      },
      "outputs": [],
      "source": []
    },
    {
      "cell_type": "markdown",
      "metadata": {
        "id": "Iam3CBRnkUc6"
      },
      "source": [
        "## Other Operations with Dictionaries"
      ]
    },
    {
      "cell_type": "code",
      "execution_count": null,
      "metadata": {
        "id": "4_lbxZGSkUc6"
      },
      "outputs": [],
      "source": []
    },
    {
      "cell_type": "markdown",
      "metadata": {
        "id": "_drkqXXokUc7"
      },
      "source": [
        "## Converting Other Types to a Dictionary"
      ]
    },
    {
      "cell_type": "code",
      "execution_count": null,
      "metadata": {
        "id": "QobTAxKakUc7"
      },
      "outputs": [],
      "source": []
    },
    {
      "cell_type": "markdown",
      "metadata": {
        "id": "O04CBVNukUc7"
      },
      "source": [
        "## Working with Dictionaries"
      ]
    },
    {
      "cell_type": "code",
      "execution_count": null,
      "metadata": {
        "id": "A8mrdXMPkUc7"
      },
      "outputs": [],
      "source": []
    },
    {
      "cell_type": "markdown",
      "metadata": {
        "id": "rW0m08U0kUc7"
      },
      "source": [
        "# 19. Tuples"
      ]
    },
    {
      "cell_type": "markdown",
      "metadata": {
        "id": "MrblVENVkUc7"
      },
      "source": [
        "## Tuples"
      ]
    },
    {
      "cell_type": "code",
      "execution_count": null,
      "metadata": {
        "id": "244h6sMikUc7"
      },
      "outputs": [],
      "source": []
    },
    {
      "cell_type": "markdown",
      "metadata": {
        "id": "uVPGJkXOkUc8"
      },
      "source": [
        "## Tuple Manipulation"
      ]
    },
    {
      "cell_type": "code",
      "execution_count": null,
      "metadata": {
        "id": "F_8oaWIMkUc8"
      },
      "outputs": [],
      "source": []
    },
    {
      "cell_type": "markdown",
      "metadata": {
        "id": "_pWsB9bNkUc8"
      },
      "source": [
        "# 20. Sets"
      ]
    },
    {
      "cell_type": "markdown",
      "metadata": {
        "id": "my2gufzdkUc8"
      },
      "source": [
        "## Sets"
      ]
    },
    {
      "cell_type": "code",
      "execution_count": null,
      "metadata": {
        "id": "B5FcetMbkUc8"
      },
      "outputs": [],
      "source": []
    },
    {
      "cell_type": "code",
      "execution_count": null,
      "metadata": {
        "id": "xZl52r65kUc8"
      },
      "outputs": [],
      "source": []
    },
    {
      "cell_type": "markdown",
      "metadata": {
        "id": "ES7yuwhnkUc8"
      },
      "source": [
        "## Working with Sets"
      ]
    },
    {
      "cell_type": "code",
      "execution_count": null,
      "metadata": {
        "id": "6qUcKdZikUc9"
      },
      "outputs": [],
      "source": []
    },
    {
      "cell_type": "markdown",
      "metadata": {
        "id": "p6ZPzYxEkUc9"
      },
      "source": [
        "## Understanding Set Theory"
      ]
    },
    {
      "cell_type": "code",
      "execution_count": null,
      "metadata": {
        "id": "csvSuK6OkUc9"
      },
      "outputs": [],
      "source": []
    },
    {
      "cell_type": "markdown",
      "metadata": {
        "id": "wEymBnECkUc9"
      },
      "source": [
        "## Set Methods"
      ]
    },
    {
      "cell_type": "code",
      "execution_count": null,
      "metadata": {
        "id": "hmi6DTW6kUc9"
      },
      "outputs": [],
      "source": []
    },
    {
      "cell_type": "markdown",
      "metadata": {
        "id": "cq615xQSkUc-"
      },
      "source": [
        "## Usage of the Sets Methods"
      ]
    },
    {
      "cell_type": "code",
      "execution_count": null,
      "metadata": {
        "id": "cUCEZ1q5kUc-"
      },
      "outputs": [],
      "source": []
    },
    {
      "cell_type": "markdown",
      "metadata": {
        "id": "4hmhzchGkUc-"
      },
      "source": [
        "## Calculating Symmetric Difference of Sets"
      ]
    },
    {
      "cell_type": "code",
      "execution_count": null,
      "metadata": {
        "id": "f0GRsANhkUc-"
      },
      "outputs": [],
      "source": []
    },
    {
      "cell_type": "markdown",
      "metadata": {
        "id": "U1iljliJkUc-"
      },
      "source": [
        "## Working with Sets"
      ]
    },
    {
      "cell_type": "code",
      "execution_count": null,
      "metadata": {
        "id": "_Mdc0uc9kUc_"
      },
      "outputs": [],
      "source": []
    },
    {
      "cell_type": "markdown",
      "metadata": {
        "id": "NZcj0UUQkUc_"
      },
      "source": [
        "# 21. Ranges"
      ]
    },
    {
      "cell_type": "markdown",
      "metadata": {
        "id": "T66IfT-MkUc_"
      },
      "source": [
        "## Ranges"
      ]
    },
    {
      "cell_type": "code",
      "execution_count": null,
      "metadata": {
        "id": "ChK_3mwkkUc_"
      },
      "outputs": [],
      "source": []
    },
    {
      "cell_type": "markdown",
      "metadata": {
        "id": "3Huy_j45kUc_"
      },
      "source": [
        "## Range Manipulation"
      ]
    },
    {
      "cell_type": "code",
      "execution_count": null,
      "metadata": {
        "id": "8tRDFDjgkUc_"
      },
      "outputs": [],
      "source": []
    },
    {
      "cell_type": "markdown",
      "metadata": {
        "id": "EvC4qucRkUdA"
      },
      "source": [
        "## Range Methods and Attributes"
      ]
    },
    {
      "cell_type": "code",
      "execution_count": null,
      "metadata": {
        "id": "6usDOFvikUdA"
      },
      "outputs": [],
      "source": []
    },
    {
      "cell_type": "markdown",
      "metadata": {
        "id": "fmgOxMRYkUdA"
      },
      "source": [
        "# 22. Working with Sequences"
      ]
    },
    {
      "cell_type": "markdown",
      "metadata": {
        "id": "xunjIcmukUdA"
      },
      "source": [
        "## Built-in Functions for Sequences"
      ]
    },
    {
      "cell_type": "code",
      "execution_count": null,
      "metadata": {
        "id": "BywE4WrQkUdA"
      },
      "outputs": [],
      "source": []
    },
    {
      "cell_type": "markdown",
      "metadata": {
        "id": "VN-7A-ulkUdA"
      },
      "source": [
        "## Built-in <code>zip()</code> Function"
      ]
    },
    {
      "cell_type": "code",
      "execution_count": null,
      "metadata": {
        "id": "pgOiwleSkUdB"
      },
      "outputs": [],
      "source": []
    },
    {
      "cell_type": "markdown",
      "metadata": {
        "id": "bfNlZhPYkUdB"
      },
      "source": [
        "## Working with Zip Objects"
      ]
    },
    {
      "cell_type": "code",
      "execution_count": null,
      "metadata": {
        "id": "np2jp5HxkUdB"
      },
      "outputs": [],
      "source": []
    },
    {
      "cell_type": "markdown",
      "metadata": {
        "id": "RR5tYbalkUdB"
      },
      "source": [
        "## Converting a Zip Object to a Dictionary"
      ]
    },
    {
      "cell_type": "code",
      "execution_count": null,
      "metadata": {
        "id": "3_5Bc6JIkUdB"
      },
      "outputs": [],
      "source": []
    },
    {
      "cell_type": "markdown",
      "metadata": {
        "id": "_z5YuGsPkUdB"
      },
      "source": [
        "## Comparison of Different Sequences"
      ]
    },
    {
      "cell_type": "code",
      "execution_count": null,
      "metadata": {
        "id": "1XfC-YGhkUdC"
      },
      "outputs": [],
      "source": []
    },
    {
      "cell_type": "markdown",
      "metadata": {
        "id": "nolAfhlckUdC"
      },
      "source": [
        "# 23. Modifying Objects in Python"
      ]
    },
    {
      "cell_type": "code",
      "execution_count": null,
      "metadata": {
        "id": "q51o_GLmkUdC"
      },
      "outputs": [],
      "source": []
    },
    {
      "cell_type": "markdown",
      "metadata": {
        "id": "6t_X5Ay2kUdC"
      },
      "source": [
        "## Understanding Immutable Objects in Python"
      ]
    },
    {
      "cell_type": "code",
      "execution_count": null,
      "metadata": {
        "id": "S2pwZFQ2kUdC"
      },
      "outputs": [],
      "source": []
    },
    {
      "cell_type": "markdown",
      "metadata": {
        "id": "qYqZwhCdkUdD"
      },
      "source": [
        "## Understanding Mutable Objects in Python"
      ]
    },
    {
      "cell_type": "code",
      "execution_count": null,
      "metadata": {
        "id": "XRTCsVn6kUdD"
      },
      "outputs": [],
      "source": []
    },
    {
      "cell_type": "markdown",
      "metadata": {
        "id": "9d3a2cDGkUdD"
      },
      "source": [
        "## Strategies to Prevent Object Mutation"
      ]
    },
    {
      "cell_type": "code",
      "execution_count": null,
      "metadata": {
        "id": "K2cKWVAgkUdD"
      },
      "outputs": [],
      "source": []
    },
    {
      "cell_type": "markdown",
      "metadata": {
        "id": "0MHgy0jukUdE"
      },
      "source": [
        "## Creating Deep Copies of Objects"
      ]
    },
    {
      "cell_type": "code",
      "execution_count": null,
      "metadata": {
        "id": "c39g4o3ykUdE"
      },
      "outputs": [],
      "source": []
    },
    {
      "cell_type": "markdown",
      "metadata": {
        "id": "O7aBpGj-kUdE"
      },
      "source": [
        "# 24. Functions"
      ]
    },
    {
      "cell_type": "code",
      "execution_count": null,
      "metadata": {
        "id": "aWhcdj9IkUdE"
      },
      "outputs": [],
      "source": []
    },
    {
      "cell_type": "markdown",
      "metadata": {
        "id": "6eqaUvy7kUdE"
      },
      "source": [
        "## Functions"
      ]
    },
    {
      "cell_type": "code",
      "execution_count": null,
      "metadata": {
        "id": "KE7C0WTxkUdF"
      },
      "outputs": [],
      "source": []
    },
    {
      "cell_type": "markdown",
      "metadata": {
        "id": "erSUWzjBkUdF"
      },
      "source": [
        "## Calling Functions, Arguments vs Parameters"
      ]
    },
    {
      "cell_type": "code",
      "execution_count": null,
      "metadata": {
        "id": "1rTJLk6nkUdF"
      },
      "outputs": [],
      "source": []
    },
    {
      "cell_type": "markdown",
      "metadata": {
        "id": "2DVHt2vpkUdF"
      },
      "source": [
        "## Shortest Function in Python"
      ]
    },
    {
      "cell_type": "code",
      "execution_count": null,
      "metadata": {
        "id": "lchOOaG-kUdF"
      },
      "outputs": [],
      "source": []
    },
    {
      "cell_type": "markdown",
      "metadata": {
        "id": "SjFTd8DJkUdF"
      },
      "source": [
        "# 25. Function Arguments"
      ]
    },
    {
      "cell_type": "code",
      "execution_count": null,
      "metadata": {
        "id": "NcHA0xUskUdG"
      },
      "outputs": [],
      "source": []
    },
    {
      "cell_type": "markdown",
      "metadata": {
        "id": "rdriQ2qPkUdG"
      },
      "source": [
        "## Mutable and Immutable Arguments in Function Calls"
      ]
    },
    {
      "cell_type": "code",
      "execution_count": null,
      "metadata": {
        "id": "-W0z1lYOkUdG"
      },
      "outputs": [],
      "source": []
    },
    {
      "cell_type": "markdown",
      "metadata": {
        "id": "3xztDfwhkUdG"
      },
      "source": [
        "## Using Mutable and Immutable Objects as Function Arguments"
      ]
    },
    {
      "cell_type": "code",
      "execution_count": null,
      "metadata": {
        "id": "AOWay37CkUdG"
      },
      "outputs": [],
      "source": []
    },
    {
      "cell_type": "markdown",
      "metadata": {
        "id": "5Yq5PWiykUdG"
      },
      "source": [
        "## Mandatory and Optional Positional Arguments"
      ]
    },
    {
      "cell_type": "code",
      "execution_count": null,
      "metadata": {
        "id": "8asES2bukUdG"
      },
      "outputs": [],
      "source": []
    },
    {
      "cell_type": "markdown",
      "metadata": {
        "id": "FBlDdrcgkUdH"
      },
      "source": [
        "## Functions Manipulation"
      ]
    },
    {
      "cell_type": "code",
      "execution_count": null,
      "metadata": {
        "id": "V60C4HYWkUdH"
      },
      "outputs": [],
      "source": []
    },
    {
      "cell_type": "markdown",
      "metadata": {
        "id": "6zyu81jskUdH"
      },
      "source": [
        "## Function Arguments"
      ]
    },
    {
      "cell_type": "code",
      "execution_count": null,
      "metadata": {
        "id": "xwjEUKijkUdH"
      },
      "outputs": [],
      "source": []
    },
    {
      "cell_type": "markdown",
      "metadata": {
        "id": "l187O6W1kUdH"
      },
      "source": [
        "# 26. Args and kwargs in Functions"
      ]
    },
    {
      "cell_type": "markdown",
      "metadata": {
        "id": "Nurc7SDLkUdH"
      },
      "source": [
        "## Using <code>*args</code> to Gather Positional Arguments into a Tuple"
      ]
    },
    {
      "cell_type": "code",
      "execution_count": null,
      "metadata": {
        "id": "WQuVYrUzkUdH"
      },
      "outputs": [],
      "source": []
    },
    {
      "cell_type": "code",
      "execution_count": null,
      "metadata": {
        "id": "e8JMI3R0kUdI"
      },
      "outputs": [],
      "source": []
    },
    {
      "cell_type": "markdown",
      "metadata": {
        "id": "1sSW6h0EkUdI"
      },
      "source": [
        "## Keyword Arguments"
      ]
    },
    {
      "cell_type": "code",
      "execution_count": null,
      "metadata": {
        "id": "kgQvAHVSkUdI"
      },
      "outputs": [],
      "source": []
    },
    {
      "cell_type": "markdown",
      "metadata": {
        "id": "j3VufRoGkUdI"
      },
      "source": [
        "## Working with Keyword Arguments"
      ]
    },
    {
      "cell_type": "code",
      "execution_count": null,
      "metadata": {
        "id": "4h9jPJzjkUdI"
      },
      "outputs": [],
      "source": []
    },
    {
      "cell_type": "markdown",
      "metadata": {
        "id": "7JRr2zCQkUdI"
      },
      "source": [
        "## Using <code>*kwargs</code> to Merge Keyword Arguments in a Dictionary"
      ]
    },
    {
      "cell_type": "code",
      "execution_count": null,
      "metadata": {
        "id": "Ealqxx3LkUdI"
      },
      "outputs": [],
      "source": []
    },
    {
      "cell_type": "markdown",
      "metadata": {
        "id": "booSlQoykUdJ"
      },
      "source": [
        "## Manipulating Function Arguments"
      ]
    },
    {
      "cell_type": "code",
      "execution_count": null,
      "metadata": {
        "id": "JsYlV-LzkUdJ"
      },
      "outputs": [],
      "source": []
    },
    {
      "cell_type": "markdown",
      "metadata": {
        "id": "kZVw2p9ukUdJ"
      },
      "source": [
        "## Args and kwargs"
      ]
    },
    {
      "cell_type": "code",
      "execution_count": null,
      "metadata": {
        "id": "8DO24HKlkUdJ"
      },
      "outputs": [],
      "source": []
    },
    {
      "cell_type": "markdown",
      "metadata": {
        "id": "xmjNI-WbkUdJ"
      },
      "source": [
        "## Gathering Positional Arguments into the <code>*args</code> Tuple"
      ]
    },
    {
      "cell_type": "code",
      "execution_count": null,
      "metadata": {
        "id": "_wfyoGCSkUdJ"
      },
      "outputs": [],
      "source": []
    },
    {
      "cell_type": "markdown",
      "metadata": {
        "id": "Y9gtp9GvkUdJ"
      },
      "source": [
        "## Gathering All Keyword Arguments into the <code>**kwargs</code> Dictionary"
      ]
    },
    {
      "cell_type": "code",
      "execution_count": null,
      "metadata": {
        "id": "9x0amPYXkUdK"
      },
      "outputs": [],
      "source": []
    },
    {
      "cell_type": "markdown",
      "metadata": {
        "id": "Olh0EHNskUdK"
      },
      "source": [
        "# 27. Default Function Parameters"
      ]
    },
    {
      "cell_type": "code",
      "execution_count": null,
      "metadata": {
        "id": "nJyigUFhkUdK"
      },
      "outputs": [],
      "source": []
    },
    {
      "cell_type": "markdown",
      "metadata": {
        "id": "RS9Y7H-kkUdK"
      },
      "source": [
        "## Default Functon Parameters"
      ]
    },
    {
      "cell_type": "code",
      "execution_count": null,
      "metadata": {
        "id": "fksHAXqPkUdK"
      },
      "outputs": [],
      "source": []
    },
    {
      "cell_type": "markdown",
      "metadata": {
        "id": "8Gu6a8gEkUdK"
      },
      "source": [
        "## Using Default Function Parameters"
      ]
    },
    {
      "cell_type": "code",
      "execution_count": null,
      "metadata": {
        "id": "CGVSd9MnkUdK"
      },
      "outputs": [],
      "source": []
    },
    {
      "cell_type": "markdown",
      "metadata": {
        "id": "-TY9drXqkUdL"
      },
      "source": [
        "# 28. Docstrings"
      ]
    },
    {
      "cell_type": "code",
      "execution_count": null,
      "metadata": {
        "id": "BjSvZskekUdL"
      },
      "outputs": [],
      "source": []
    },
    {
      "cell_type": "markdown",
      "metadata": {
        "id": "3x83uM9kkUdL"
      },
      "source": [
        "## Docstrings"
      ]
    },
    {
      "cell_type": "code",
      "execution_count": null,
      "metadata": {
        "id": "Nna_wO_kkUdM"
      },
      "outputs": [],
      "source": []
    },
    {
      "cell_type": "markdown",
      "metadata": {
        "id": "k70WVyX3kUdM"
      },
      "source": [
        "## Writing and Using Docstrings"
      ]
    },
    {
      "cell_type": "code",
      "execution_count": null,
      "metadata": {
        "id": "c1ktXVYokUdM"
      },
      "outputs": [],
      "source": []
    },
    {
      "cell_type": "markdown",
      "metadata": {
        "id": "8xEPoQEQkUdM"
      },
      "source": [
        "## Exploring Docstrings"
      ]
    },
    {
      "cell_type": "code",
      "execution_count": null,
      "metadata": {
        "id": "XXq-kWbvkUdM"
      },
      "outputs": [],
      "source": []
    },
    {
      "cell_type": "markdown",
      "metadata": {
        "id": "SqhejNfEkUdN"
      },
      "source": [
        "## Adding Docstrings to Functions"
      ]
    },
    {
      "cell_type": "code",
      "execution_count": null,
      "metadata": {
        "id": "YrDnLQyWkUdN"
      },
      "outputs": [],
      "source": []
    },
    {
      "cell_type": "markdown",
      "metadata": {
        "id": "v6corAJfkUdN"
      },
      "source": [
        "# 29. Callback Functions"
      ]
    },
    {
      "cell_type": "code",
      "execution_count": null,
      "metadata": {
        "id": "q99VjUgkkUdR"
      },
      "outputs": [],
      "source": []
    },
    {
      "cell_type": "markdown",
      "metadata": {
        "id": "AawwNdyJkUdR"
      },
      "source": [
        "## Callback Functions"
      ]
    },
    {
      "cell_type": "code",
      "execution_count": null,
      "metadata": {
        "id": "tjojzW2XkUdS"
      },
      "outputs": [],
      "source": []
    },
    {
      "cell_type": "markdown",
      "metadata": {
        "id": "0RGkKA22kUdS"
      },
      "source": [
        "## Rules for Working with Functions"
      ]
    },
    {
      "cell_type": "code",
      "execution_count": null,
      "metadata": {
        "id": "gJShnx-5kUdS"
      },
      "outputs": [],
      "source": []
    },
    {
      "cell_type": "markdown",
      "metadata": {
        "id": "tXJCdKJ3kUdS"
      },
      "source": [
        "# 30. Global and Local Variables"
      ]
    },
    {
      "cell_type": "code",
      "execution_count": null,
      "metadata": {
        "id": "v2fZg-j8kUdS"
      },
      "outputs": [],
      "source": []
    },
    {
      "cell_type": "code",
      "execution_count": null,
      "metadata": {
        "id": "xJwBqGFukUdS"
      },
      "outputs": [],
      "source": []
    },
    {
      "cell_type": "code",
      "execution_count": null,
      "metadata": {
        "id": "j8ndBOWVkUdS"
      },
      "outputs": [],
      "source": []
    },
    {
      "cell_type": "code",
      "execution_count": null,
      "metadata": {
        "id": "cz1l0-YCkUdT"
      },
      "outputs": [],
      "source": []
    },
    {
      "cell_type": "code",
      "execution_count": null,
      "metadata": {
        "id": "OfgFsFtOkUdT"
      },
      "outputs": [],
      "source": []
    },
    {
      "cell_type": "markdown",
      "metadata": {
        "id": "1LNvNpvA-AtM"
      },
      "source": [
        "# AI Tool Landscape"
      ]
    },
    {
      "cell_type": "markdown",
      "metadata": {
        "id": "KYNsFlcXo5_u"
      },
      "source": [
        "## AI Landscape\n",
        "<div>\n",
        "    <ul>\n",
        "        <li><b>Developing at high pace</b>: Due to advances in hardware, infrastructure, and models</li>\n",
        "        <li><b>Tools that make AI easy</b>: Modern tools allow focus on major architectural decisions</li>\n",
        "        <li><b>Python Integration</b>: Python is widely used for AI prototyping and inside products</li>\n",
        "    <ul>\n",
        "</div>"
      ]
    },
    {
      "cell_type": "markdown",
      "metadata": {
        "id": "WxPKE3Xqo70x"
      },
      "source": [
        "## Types of AI Tools\n",
        "\n",
        "<div>\n",
        "    <ul>\n",
        "        <li><b>Data Gathering</b> (Spark, Hadoop)</li>\n",
        "        <li><b>Data Pre-processing </b> (R, Pandas)</li>\n",
        "        <li><b>Model Building</b> (Tensor Flow, Keras)</li>\n",
        "        <li><b>Model Management</b> (MetaFlow, MLFlow)</li>\n",
        "        <li><b>Model Production</b> (TFServing, Azure Kubernetes Services)</li>\n",
        "        <li><b>Data Analytics and Visualisation</b> (Tableau, Ploty)</li>\n",
        "    </ul>\n",
        "</div>"
      ]
    },
    {
      "cell_type": "code",
      "execution_count": null,
      "metadata": {
        "id": "a7dR4uu-63tW"
      },
      "outputs": [],
      "source": []
    }
  ],
  "metadata": {
    "colab": {
      "provenance": []
    },
    "kernelspec": {
      "display_name": "Python 3 (ipykernel)",
      "language": "python",
      "name": "python3"
    },
    "language_info": {
      "codemirror_mode": {
        "name": "ipython",
        "version": 3
      },
      "file_extension": ".py",
      "mimetype": "text/x-python",
      "name": "python",
      "nbconvert_exporter": "python",
      "pygments_lexer": "ipython3",
      "version": "3.11.5"
    }
  },
  "nbformat": 4,
  "nbformat_minor": 0
}