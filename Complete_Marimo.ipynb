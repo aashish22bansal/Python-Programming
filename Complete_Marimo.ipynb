{
 "cells": [
  {
   "cell_type": "markdown",
   "metadata": {
    "id": "TSdPFlmD-yBh"
   },
   "source": [
    "<h1>Marimo</h1>\n",
    "<div>\n",
    "    <p>Marimo combines the power of Jupyter, Streamlit, ipywidgets (and more) in a reactive interface.</p>\n",
    "    <p>It also displays interactive Pandas DataFrames and you can query them with SQL.\n",
    "    <p><b>Key features</b>:</p>\n",
    "    <ul>\n",
    "        <li><b>Reactive execution</b> — change one cell, and dependent cells update automatically (no manual re-runs).</li>\n",
    "        <li><b>No hidden state</b> — every execution is deterministic, making debugging easier.</li>\n",
    "        <li><b>Interactive UI elements</b> — add sliders, tables, and plots without callbacks.</li>\n",
    "        <li><b>Runs as a Python script</b> — parameterize it via CLI or deploy as an app.</li>\n",
    "        <li><b>Git-friendly</b> — stored as .py files instead of a messy JSON format.</li>\n",
    "    </ul>\n",
    "</p>\n",
    "</div>"
   ]
  },
  {
   "cell_type": "code",
   "execution_count": 7,
   "metadata": {
    "colab": {
     "base_uri": "https://localhost:8080/"
    },
    "id": "yFemg6xxAW5s",
    "outputId": "65f3310d-15cc-4b2c-9ad6-d1a90e31f200"
   },
   "outputs": [
    {
     "name": "stdout",
     "output_type": "stream",
     "text": [
      "Collecting anyio==4.4.0\n",
      "  Downloading anyio-4.4.0-py3-none-any.whl.metadata (4.6 kB)\n",
      "Requirement already satisfied: idna>=2.8 in /usr/local/lib/python3.11/dist-packages (from anyio==4.4.0) (3.10)\n",
      "Requirement already satisfied: sniffio>=1.1 in /usr/local/lib/python3.11/dist-packages (from anyio==4.4.0) (1.3.1)\n",
      "Downloading anyio-4.4.0-py3-none-any.whl (86 kB)\n",
      "\u001b[?25l   \u001b[90m━━━━━━━━━━━━━━━━━━━━━━━━━━━━━━━━━━━━━━━━\u001b[0m \u001b[32m0.0/86.8 kB\u001b[0m \u001b[31m?\u001b[0m eta \u001b[36m-:--:--\u001b[0m\r",
      "\u001b[2K   \u001b[90m━━━━━━━━━━━━━━━━━━━━━━━━━━━━━━━━━━━━━━━━\u001b[0m \u001b[32m86.8/86.8 kB\u001b[0m \u001b[31m3.3 MB/s\u001b[0m eta \u001b[36m0:00:00\u001b[0m\n",
      "\u001b[?25hInstalling collected packages: anyio\n",
      "  Attempting uninstall: anyio\n",
      "    Found existing installation: anyio 4.8.0\n",
      "    Uninstalling anyio-4.8.0:\n",
      "      Successfully uninstalled anyio-4.8.0\n",
      "\u001b[31mERROR: pip's dependency resolver does not currently take into account all the packages that are installed. This behaviour is the source of the following dependency conflicts.\n",
      "jupyter-server 1.24.0 requires anyio<4,>=3.1.0, but you have anyio 4.4.0 which is incompatible.\u001b[0m\u001b[31m\n",
      "\u001b[0mSuccessfully installed anyio-4.4.0\n"
     ]
    }
   ],
   "source": [
    "!pip install anyio==4.4.0"
   ]
  },
  {
   "cell_type": "code",
   "execution_count": 8,
   "metadata": {
    "colab": {
     "base_uri": "https://localhost:8080/"
    },
    "id": "obzqdHBK69nD",
    "outputId": "c345d1b6-9934-4cfa-ee71-2818d50624c0"
   },
   "outputs": [
    {
     "name": "stdout",
     "output_type": "stream",
     "text": [
      "Requirement already satisfied: marimo in /usr/local/lib/python3.11/dist-packages (0.11.17)\n",
      "Requirement already satisfied: click<9,>=8.0 in /usr/local/lib/python3.11/dist-packages (from marimo) (8.1.8)\n",
      "Requirement already satisfied: docutils>=0.16.0 in /usr/local/lib/python3.11/dist-packages (from marimo) (0.21.2)\n",
      "Requirement already satisfied: itsdangerous>=2.0.0 in /usr/local/lib/python3.11/dist-packages (from marimo) (2.2.0)\n",
      "Requirement already satisfied: jedi>=0.18.0 in /usr/local/lib/python3.11/dist-packages (from marimo) (0.19.2)\n",
      "Requirement already satisfied: markdown<4,>=3.4 in /usr/local/lib/python3.11/dist-packages (from marimo) (3.7)\n",
      "Requirement already satisfied: narwhals>=1.12.0 in /usr/local/lib/python3.11/dist-packages (from marimo) (1.29.0)\n",
      "Requirement already satisfied: packaging in /usr/local/lib/python3.11/dist-packages (from marimo) (24.2)\n",
      "Requirement already satisfied: psutil>=5.0 in /usr/local/lib/python3.11/dist-packages (from marimo) (5.9.5)\n",
      "Requirement already satisfied: pycrdt<0.12.0,>=0.11.0 in /usr/local/lib/python3.11/dist-packages (from marimo) (0.11.1)\n",
      "Requirement already satisfied: pygments<3,>=2.13 in /usr/local/lib/python3.11/dist-packages (from marimo) (2.18.0)\n",
      "Requirement already satisfied: pymdown-extensions<11,>=10.11.2 in /usr/local/lib/python3.11/dist-packages (from marimo) (10.14.3)\n",
      "Requirement already satisfied: pyyaml>=6.0 in /usr/local/lib/python3.11/dist-packages (from marimo) (6.0.2)\n",
      "Requirement already satisfied: ruff in /usr/local/lib/python3.11/dist-packages (from marimo) (0.9.9)\n",
      "Requirement already satisfied: starlette!=0.36.0,>=0.26.1 in /usr/local/lib/python3.11/dist-packages (from marimo) (0.46.0)\n",
      "Requirement already satisfied: tomlkit>=0.12.0 in /usr/local/lib/python3.11/dist-packages (from marimo) (0.13.2)\n",
      "Requirement already satisfied: uvicorn>=0.22.0 in /usr/local/lib/python3.11/dist-packages (from marimo) (0.34.0)\n",
      "Requirement already satisfied: websockets>=10.0.0 in /usr/local/lib/python3.11/dist-packages (from marimo) (14.2)\n",
      "Requirement already satisfied: parso<0.9.0,>=0.8.4 in /usr/local/lib/python3.11/dist-packages (from jedi>=0.18.0->marimo) (0.8.4)\n",
      "Requirement already satisfied: anyio<5.0.0,>=4.4.0 in /usr/local/lib/python3.11/dist-packages (from pycrdt<0.12.0,>=0.11.0->marimo) (4.4.0)\n",
      "Requirement already satisfied: h11>=0.8 in /usr/local/lib/python3.11/dist-packages (from uvicorn>=0.22.0->marimo) (0.14.0)\n",
      "Requirement already satisfied: idna>=2.8 in /usr/local/lib/python3.11/dist-packages (from anyio<5.0.0,>=4.4.0->pycrdt<0.12.0,>=0.11.0->marimo) (3.10)\n",
      "Requirement already satisfied: sniffio>=1.1 in /usr/local/lib/python3.11/dist-packages (from anyio<5.0.0,>=4.4.0->pycrdt<0.12.0,>=0.11.0->marimo) (1.3.1)\n"
     ]
    }
   ],
   "source": [
    "!pip install marimo"
   ]
  },
  {
   "cell_type": "code",
   "execution_count": 10,
   "metadata": {
    "colab": {
     "base_uri": "https://localhost:8080/",
     "height": 106
    },
    "id": "zolTsfWR_-0g",
    "outputId": "03c483f9-aa64-490b-f6a8-b5bc8ae11991"
   },
   "outputs": [
    {
     "ename": "SyntaxError",
     "evalue": "invalid syntax (<ipython-input-10-3cec40fdac6e>, line 1)",
     "output_type": "error",
     "traceback": [
      "\u001b[0;36m  File \u001b[0;32m\"<ipython-input-10-3cec40fdac6e>\"\u001b[0;36m, line \u001b[0;32m1\u001b[0m\n\u001b[0;31m    marimo tutorial intro\u001b[0m\n\u001b[0m           ^\u001b[0m\n\u001b[0;31mSyntaxError\u001b[0m\u001b[0;31m:\u001b[0m invalid syntax\n"
     ]
    }
   ],
   "source": [
    "marimo tutorial intro"
   ]
  }
 ],
 "metadata": {
  "colab": {
   "provenance": []
  },
  "kernelspec": {
   "display_name": "Python [conda env:base] *",
   "language": "python",
   "name": "conda-base-py"
  },
  "language_info": {
   "codemirror_mode": {
    "name": "ipython",
    "version": 3
   },
   "file_extension": ".py",
   "mimetype": "text/x-python",
   "name": "python",
   "nbconvert_exporter": "python",
   "pygments_lexer": "ipython3",
   "version": "3.12.7"
  }
 },
 "nbformat": 4,
 "nbformat_minor": 4
}
