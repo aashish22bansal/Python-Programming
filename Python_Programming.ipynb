{
  "nbformat": 4,
  "nbformat_minor": 0,
  "metadata": {
    "colab": {
      "name": "Python Programming.ipynb",
      "provenance": []
    },
    "kernelspec": {
      "name": "python3",
      "display_name": "Python 3"
    },
    "language_info": {
      "name": "python"
    }
  },
  "cells": [
    {
      "cell_type": "markdown",
      "metadata": {
        "id": "1YPE1wIHx_1G"
      },
      "source": [
        "# Week 1\n",
        "\n",
        "## Welcome to Python 3"
      ]
    },
    {
      "cell_type": "markdown",
      "metadata": {
        "id": "tUhu6M0ByYe9"
      },
      "source": [
        "### Hello World\n",
        "This can be done as:"
      ]
    },
    {
      "cell_type": "code",
      "metadata": {
        "colab": {
          "base_uri": "https://localhost:8080/"
        },
        "id": "l7Z8Cpfvyf3s",
        "outputId": "b4a7f6f7-6150-4996-c332-8edeed5c0ade"
      },
      "source": [
        "print(\"hello world\") # The right way"
      ],
      "execution_count": 2,
      "outputs": [
        {
          "output_type": "stream",
          "name": "stdout",
          "text": [
            "hello world\n"
          ]
        }
      ]
    },
    {
      "cell_type": "markdown",
      "metadata": {
        "id": "_JHv0dY1yoIU"
      },
      "source": [
        "### Taking Input\n",
        "We can take input as:"
      ]
    },
    {
      "cell_type": "code",
      "metadata": {
        "colab": {
          "base_uri": "https://localhost:8080/",
          "height": 52
        },
        "id": "JgcCQpSvyuC1",
        "outputId": "78f6d4ce-bda2-40ff-90d2-d26b313c783f"
      },
      "source": [
        "input('What is your name?')"
      ],
      "execution_count": 4,
      "outputs": [
        {
          "name": "stdout",
          "output_type": "stream",
          "text": [
            "What is your name?Aashish Bansal\n"
          ]
        },
        {
          "output_type": "execute_result",
          "data": {
            "application/vnd.google.colaboratory.intrinsic+json": {
              "type": "string"
            },
            "text/plain": [
              "'Aashish Bansal'"
            ]
          },
          "metadata": {},
          "execution_count": 4
        }
      ]
    }
  ]
}