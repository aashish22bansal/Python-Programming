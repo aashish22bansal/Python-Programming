{
  "nbformat": 4,
  "nbformat_minor": 0,
  "metadata": {
    "colab": {
      "provenance": []
    },
    "kernelspec": {
      "name": "python3",
      "display_name": "Python 3"
    },
    "language_info": {
      "name": "python"
    }
  },
  "cells": [
    {
      "cell_type": "code",
      "source": [
        "import pandas as pd"
      ],
      "metadata": {
        "id": "MPGDMQkL_TOq"
      },
      "execution_count": null,
      "outputs": []
    },
    {
      "cell_type": "code",
      "source": [
        "url = 'https://raw.githubusercontent.com/aashish22bansal/Datasets/refs/heads/main/IRIS%20Dataset/Iris.csv'"
      ],
      "metadata": {
        "id": "2rsZK8ou_Nve"
      },
      "execution_count": null,
      "outputs": []
    },
    {
      "cell_type": "code",
      "source": [
        "df = pd.read_csv(url)"
      ],
      "metadata": {
        "id": "oDUs7q_o-sej"
      },
      "execution_count": null,
      "outputs": []
    },
    {
      "cell_type": "markdown",
      "source": [
        "# SQLAlchemy"
      ],
      "metadata": {
        "id": "3OAOLB4MCnMM"
      }
    },
    {
      "cell_type": "markdown",
      "source": [
        "# LightGBM"
      ],
      "metadata": {
        "id": "AifZGv4YTtmR"
      }
    },
    {
      "cell_type": "markdown",
      "source": [
        "# Plotly"
      ],
      "metadata": {
        "id": "4KYXSyKfY3Hd"
      }
    },
    {
      "cell_type": "markdown",
      "source": [
        "# Bokeh"
      ],
      "metadata": {
        "id": "n7JF3X3lY5ad"
      }
    },
    {
      "cell_type": "markdown",
      "source": [
        "# Altair"
      ],
      "metadata": {
        "id": "UpwJ_VRCY_cA"
      }
    },
    {
      "cell_type": "code",
      "execution_count": null,
      "metadata": {
        "id": "dh84R2sqCmR9"
      },
      "outputs": [],
      "source": []
    },
    {
      "cell_type": "markdown",
      "source": [
        "<h1>Marimo</h1>\n",
        "\n",
        "https://github.com/marimo-team/marimo\n",
        "\n",
        "\n",
        "(it's 100% open-source with 10k+ stars)\n",
        "\n",
        "marimo combines the power of Jupyter, Streamlit, ipywidgets (and more) in a reactive interface.\n",
        "\n",
        "It also displays interactive Pandas DFs and you can query them with SQL.\n",
        "\n",
        "Key features:\n",
        "☑ Reactive execution—change one cell, and dependent cells update automatically (no manual re-runs).\n",
        "☑ No hidden state—every execution is deterministic, making debugging easier.\n",
        "☑ Interactive UI elements—add sliders, tables, and plots without callbacks.\n",
        "☑ Runs as a Python script—parameterize it via CLI or deploy as an app.\n",
        "☑ Git-friendly—stored as .py files instead of a messy JSON format."
      ],
      "metadata": {
        "id": "6UiBWSCzOR6_"
      }
    },
    {
      "cell_type": "markdown",
      "source": [
        "<h1>skimpy</h1>\n",
        "https://aeturrell.github.io/skimpy/features.html\n",
        "\n",
        "Here's a better open-source alternative:\n",
        "\n",
        "Skimpy is a Jupyter-based tool that provides a standardized and comprehensive data summary.\n",
        "\n",
        "The report includes:\n",
        "- data shape\n",
        "- column data types\n",
        "- column summary statistics\n",
        "- distribution chart,\n",
        "- missing stats, etc.\n",
        "\n",
        "What's more, the summary is grouped by datatypes for faster analysis."
      ],
      "metadata": {
        "id": "5T5m851HOQn_"
      }
    },
    {
      "cell_type": "markdown",
      "source": [
        "What is Skimpy?\n",
        "Skimpy is an open-source python library that is used to generate a statistical summary of the quantitative datasets and can be used in Juptyer Notebook as console also.\n",
        "\n",
        "It provides a comprehensive set of tools for users to efficiently explore, manipulate, and derive insights from datasets. From loading and summarizing data to visualizing patterns and detecting anomalies, Skimpy offers a user-friendly interface and robust functionalities to facilitate effective data analysis tasks.\n",
        "\n",
        "The name “Skimpy” likely reflects its purpose of providing quick and concise insights into data. Just as “skimpy” means small or minimal, the library may aim to offer essential and succinct summaries of data without unnecessary complexity.\n",
        "\n",
        "Additionally, the term “skim” suggests the act of quickly examining or reviewing, aligning with the library’s focus on facilitating efficient data analysis. Overall, the name “Skimpy” may evoke the idea of a lightweight and straightforward tool for exploring and understanding data."
      ],
      "metadata": {
        "id": "q6VslnsyAFvp"
      }
    },
    {
      "cell_type": "markdown",
      "source": [
        "Installing required libraries\n",
        "We will start by installing Skimpy using pip installation. The command given below will install Skimpy using pip."
      ],
      "metadata": {
        "id": "6mb95OoYAJAm"
      }
    },
    {
      "cell_type": "code",
      "source": [
        "from IPython.display import clear_output\n",
        "!pip -q install skimpy\n",
        "clear_output()"
      ],
      "metadata": {
        "id": "gysXfgl0Asss"
      },
      "execution_count": null,
      "outputs": []
    },
    {
      "cell_type": "code",
      "source": [
        "!pip install skimpy"
      ],
      "metadata": {
        "colab": {
          "base_uri": "https://localhost:8080/"
        },
        "id": "u-YyNjfc_rVy",
        "outputId": "189b513b-b1b8-4693-db6d-3e1ab4827c42"
      },
      "execution_count": null,
      "outputs": [
        {
          "output_type": "stream",
          "name": "stdout",
          "text": [
            "Collecting skimpy\n",
            "  Downloading skimpy-0.0.18-py3-none-any.whl.metadata (34 kB)\n",
            "Requirement already satisfied: click>=8.1.7 in /usr/local/lib/python3.11/dist-packages (from skimpy) (8.1.8)\n",
            "Collecting ipykernel>=6.29.5 (from skimpy)\n",
            "  Downloading ipykernel-6.29.5-py3-none-any.whl.metadata (6.3 kB)\n",
            "Collecting numpy>=2.0.2 (from skimpy)\n",
            "  Downloading numpy-2.2.3-cp311-cp311-manylinux_2_17_x86_64.manylinux2014_x86_64.whl.metadata (62 kB)\n",
            "\u001b[2K     \u001b[90m━━━━━━━━━━━━━━━━━━━━━━━━━━━━━━━━━━━━━━━━\u001b[0m \u001b[32m62.0/62.0 kB\u001b[0m \u001b[31m2.8 MB/s\u001b[0m eta \u001b[36m0:00:00\u001b[0m\n",
            "\u001b[?25hRequirement already satisfied: pandas-stubs>=2.2.2.240807 in /usr/local/lib/python3.11/dist-packages (from skimpy) (2.2.2.240909)\n",
            "Collecting pandas>=2.2.3 (from skimpy)\n",
            "  Downloading pandas-2.2.3-cp311-cp311-manylinux_2_17_x86_64.manylinux2014_x86_64.whl.metadata (89 kB)\n",
            "\u001b[2K     \u001b[90m━━━━━━━━━━━━━━━━━━━━━━━━━━━━━━━━━━━━━━━━\u001b[0m \u001b[32m89.9/89.9 kB\u001b[0m \u001b[31m4.9 MB/s\u001b[0m eta \u001b[36m0:00:00\u001b[0m\n",
            "\u001b[?25hCollecting polars>=1.17.1 (from skimpy)\n",
            "  Downloading polars-1.22.0-cp39-abi3-manylinux_2_17_x86_64.manylinux2014_x86_64.whl.metadata (14 kB)\n",
            "Requirement already satisfied: pygments>=2.18.0 in /usr/local/lib/python3.11/dist-packages (from skimpy) (2.18.0)\n",
            "Requirement already satisfied: rich>=13.9.4 in /usr/local/lib/python3.11/dist-packages (from skimpy) (13.9.4)\n",
            "Requirement already satisfied: typeguard>=4.4.1 in /usr/local/lib/python3.11/dist-packages (from skimpy) (4.4.1)\n",
            "Requirement already satisfied: pyarrow>=17.0.0 in /usr/local/lib/python3.11/dist-packages (from skimpy) (17.0.0)\n",
            "Collecting comm>=0.1.1 (from ipykernel>=6.29.5->skimpy)\n",
            "  Downloading comm-0.2.2-py3-none-any.whl.metadata (3.7 kB)\n",
            "Requirement already satisfied: debugpy>=1.6.5 in /usr/local/lib/python3.11/dist-packages (from ipykernel>=6.29.5->skimpy) (1.8.0)\n",
            "Requirement already satisfied: ipython>=7.23.1 in /usr/local/lib/python3.11/dist-packages (from ipykernel>=6.29.5->skimpy) (7.34.0)\n",
            "Requirement already satisfied: jupyter-client>=6.1.12 in /usr/local/lib/python3.11/dist-packages (from ipykernel>=6.29.5->skimpy) (6.1.12)\n",
            "Requirement already satisfied: jupyter-core!=5.0.*,>=4.12 in /usr/local/lib/python3.11/dist-packages (from ipykernel>=6.29.5->skimpy) (5.7.2)\n",
            "Requirement already satisfied: matplotlib-inline>=0.1 in /usr/local/lib/python3.11/dist-packages (from ipykernel>=6.29.5->skimpy) (0.1.7)\n",
            "Requirement already satisfied: nest-asyncio in /usr/local/lib/python3.11/dist-packages (from ipykernel>=6.29.5->skimpy) (1.6.0)\n",
            "Requirement already satisfied: packaging in /usr/local/lib/python3.11/dist-packages (from ipykernel>=6.29.5->skimpy) (24.2)\n",
            "Requirement already satisfied: psutil in /usr/local/lib/python3.11/dist-packages (from ipykernel>=6.29.5->skimpy) (5.9.5)\n",
            "Requirement already satisfied: pyzmq>=24 in /usr/local/lib/python3.11/dist-packages (from ipykernel>=6.29.5->skimpy) (24.0.1)\n",
            "Requirement already satisfied: tornado>=6.1 in /usr/local/lib/python3.11/dist-packages (from ipykernel>=6.29.5->skimpy) (6.4.2)\n",
            "Requirement already satisfied: traitlets>=5.4.0 in /usr/local/lib/python3.11/dist-packages (from ipykernel>=6.29.5->skimpy) (5.7.1)\n",
            "Requirement already satisfied: python-dateutil>=2.8.2 in /usr/local/lib/python3.11/dist-packages (from pandas>=2.2.3->skimpy) (2.8.2)\n",
            "Requirement already satisfied: pytz>=2020.1 in /usr/local/lib/python3.11/dist-packages (from pandas>=2.2.3->skimpy) (2025.1)\n",
            "Requirement already satisfied: tzdata>=2022.7 in /usr/local/lib/python3.11/dist-packages (from pandas>=2.2.3->skimpy) (2025.1)\n",
            "Requirement already satisfied: types-pytz>=2022.1.1 in /usr/local/lib/python3.11/dist-packages (from pandas-stubs>=2.2.2.240807->skimpy) (2025.1.0.20250204)\n",
            "Requirement already satisfied: markdown-it-py>=2.2.0 in /usr/local/lib/python3.11/dist-packages (from rich>=13.9.4->skimpy) (3.0.0)\n",
            "Requirement already satisfied: typing-extensions>=4.10.0 in /usr/local/lib/python3.11/dist-packages (from typeguard>=4.4.1->skimpy) (4.12.2)\n",
            "Requirement already satisfied: setuptools>=18.5 in /usr/local/lib/python3.11/dist-packages (from ipython>=7.23.1->ipykernel>=6.29.5->skimpy) (75.1.0)\n",
            "Collecting jedi>=0.16 (from ipython>=7.23.1->ipykernel>=6.29.5->skimpy)\n",
            "  Downloading jedi-0.19.2-py2.py3-none-any.whl.metadata (22 kB)\n",
            "Requirement already satisfied: decorator in /usr/local/lib/python3.11/dist-packages (from ipython>=7.23.1->ipykernel>=6.29.5->skimpy) (4.4.2)\n",
            "Requirement already satisfied: pickleshare in /usr/local/lib/python3.11/dist-packages (from ipython>=7.23.1->ipykernel>=6.29.5->skimpy) (0.7.5)\n",
            "Requirement already satisfied: prompt-toolkit!=3.0.0,!=3.0.1,<3.1.0,>=2.0.0 in /usr/local/lib/python3.11/dist-packages (from ipython>=7.23.1->ipykernel>=6.29.5->skimpy) (3.0.50)\n",
            "Requirement already satisfied: backcall in /usr/local/lib/python3.11/dist-packages (from ipython>=7.23.1->ipykernel>=6.29.5->skimpy) (0.2.0)\n",
            "Requirement already satisfied: pexpect>4.3 in /usr/local/lib/python3.11/dist-packages (from ipython>=7.23.1->ipykernel>=6.29.5->skimpy) (4.9.0)\n",
            "Requirement already satisfied: platformdirs>=2.5 in /usr/local/lib/python3.11/dist-packages (from jupyter-core!=5.0.*,>=4.12->ipykernel>=6.29.5->skimpy) (4.3.6)\n",
            "Requirement already satisfied: mdurl~=0.1 in /usr/local/lib/python3.11/dist-packages (from markdown-it-py>=2.2.0->rich>=13.9.4->skimpy) (0.1.2)\n",
            "Requirement already satisfied: six>=1.5 in /usr/local/lib/python3.11/dist-packages (from python-dateutil>=2.8.2->pandas>=2.2.3->skimpy) (1.17.0)\n",
            "Requirement already satisfied: parso<0.9.0,>=0.8.4 in /usr/local/lib/python3.11/dist-packages (from jedi>=0.16->ipython>=7.23.1->ipykernel>=6.29.5->skimpy) (0.8.4)\n",
            "Requirement already satisfied: ptyprocess>=0.5 in /usr/local/lib/python3.11/dist-packages (from pexpect>4.3->ipython>=7.23.1->ipykernel>=6.29.5->skimpy) (0.7.0)\n",
            "Requirement already satisfied: wcwidth in /usr/local/lib/python3.11/dist-packages (from prompt-toolkit!=3.0.0,!=3.0.1,<3.1.0,>=2.0.0->ipython>=7.23.1->ipykernel>=6.29.5->skimpy) (0.2.13)\n",
            "Downloading skimpy-0.0.18-py3-none-any.whl (17 kB)\n",
            "Downloading ipykernel-6.29.5-py3-none-any.whl (117 kB)\n",
            "\u001b[2K   \u001b[90m━━━━━━━━━━━━━━━━━━━━━━━━━━━━━━━━━━━━━━━━\u001b[0m \u001b[32m117.2/117.2 kB\u001b[0m \u001b[31m9.5 MB/s\u001b[0m eta \u001b[36m0:00:00\u001b[0m\n",
            "\u001b[?25hDownloading numpy-2.2.3-cp311-cp311-manylinux_2_17_x86_64.manylinux2014_x86_64.whl (16.4 MB)\n",
            "\u001b[2K   \u001b[90m━━━━━━━━━━━━━━━━━━━━━━━━━━━━━━━━━━━━━━━━\u001b[0m \u001b[32m16.4/16.4 MB\u001b[0m \u001b[31m63.5 MB/s\u001b[0m eta \u001b[36m0:00:00\u001b[0m\n",
            "\u001b[?25hDownloading pandas-2.2.3-cp311-cp311-manylinux_2_17_x86_64.manylinux2014_x86_64.whl (13.1 MB)\n",
            "\u001b[2K   \u001b[90m━━━━━━━━━━━━━━━━━━━━━━━━━━━━━━━━━━━━━━━━\u001b[0m \u001b[32m13.1/13.1 MB\u001b[0m \u001b[31m57.7 MB/s\u001b[0m eta \u001b[36m0:00:00\u001b[0m\n",
            "\u001b[?25hDownloading polars-1.22.0-cp39-abi3-manylinux_2_17_x86_64.manylinux2014_x86_64.whl (32.9 MB)\n",
            "\u001b[2K   \u001b[90m━━━━━━━━━━━━━━━━━━━━━━━━━━━━━━━━━━━━━━━━\u001b[0m \u001b[32m32.9/32.9 MB\u001b[0m \u001b[31m19.1 MB/s\u001b[0m eta \u001b[36m0:00:00\u001b[0m\n",
            "\u001b[?25hDownloading comm-0.2.2-py3-none-any.whl (7.2 kB)\n",
            "Downloading jedi-0.19.2-py2.py3-none-any.whl (1.6 MB)\n",
            "\u001b[2K   \u001b[90m━━━━━━━━━━━━━━━━━━━━━━━━━━━━━━━━━━━━━━━━\u001b[0m \u001b[32m1.6/1.6 MB\u001b[0m \u001b[31m61.9 MB/s\u001b[0m eta \u001b[36m0:00:00\u001b[0m\n",
            "\u001b[?25hInstalling collected packages: polars, numpy, jedi, comm, pandas, ipykernel, skimpy\n",
            "  Attempting uninstall: polars\n",
            "    Found existing installation: polars 1.9.0\n",
            "    Uninstalling polars-1.9.0:\n",
            "      Successfully uninstalled polars-1.9.0\n",
            "  Attempting uninstall: numpy\n",
            "    Found existing installation: numpy 1.26.4\n",
            "    Uninstalling numpy-1.26.4:\n",
            "      Successfully uninstalled numpy-1.26.4\n",
            "  Attempting uninstall: pandas\n",
            "    Found existing installation: pandas 2.2.2\n",
            "    Uninstalling pandas-2.2.2:\n",
            "      Successfully uninstalled pandas-2.2.2\n",
            "  Attempting uninstall: ipykernel\n",
            "    Found existing installation: ipykernel 5.5.6\n",
            "    Uninstalling ipykernel-5.5.6:\n",
            "      Successfully uninstalled ipykernel-5.5.6\n",
            "\u001b[31mERROR: pip's dependency resolver does not currently take into account all the packages that are installed. This behaviour is the source of the following dependency conflicts.\n",
            "google-colab 1.0.0 requires ipykernel==5.5.6, but you have ipykernel 6.29.5 which is incompatible.\n",
            "google-colab 1.0.0 requires pandas==2.2.2, but you have pandas 2.2.3 which is incompatible.\n",
            "numba 0.61.0 requires numpy<2.2,>=1.24, but you have numpy 2.2.3 which is incompatible.\n",
            "gensim 4.3.3 requires numpy<2.0,>=1.18.5, but you have numpy 2.2.3 which is incompatible.\n",
            "tensorflow 2.18.0 requires numpy<2.1.0,>=1.26.0, but you have numpy 2.2.3 which is incompatible.\n",
            "thinc 8.2.5 requires numpy<2.0.0,>=1.19.0; python_version >= \"3.9\", but you have numpy 2.2.3 which is incompatible.\n",
            "langchain 0.3.18 requires numpy<2,>=1.26.4; python_version < \"3.12\", but you have numpy 2.2.3 which is incompatible.\n",
            "pytensor 2.27.1 requires numpy<2,>=1.17.0, but you have numpy 2.2.3 which is incompatible.\u001b[0m\u001b[31m\n",
            "\u001b[0mSuccessfully installed comm-0.2.2 ipykernel-6.29.5 jedi-0.19.2 numpy-2.2.3 pandas-2.2.3 polars-1.22.0 skimpy-0.0.18\n"
          ]
        }
      ]
    },
    {
      "cell_type": "markdown",
      "source": [
        "Importing required libraries\n",
        "In this step, we will import all the libraries that are required for creating the statistical analysis and loading the data."
      ],
      "metadata": {
        "id": "iRuJ-FEzALtJ"
      }
    },
    {
      "cell_type": "code",
      "source": [
        "from skimpy import skim"
      ],
      "metadata": {
        "id": "5qqzwUMY-nSE"
      },
      "execution_count": null,
      "outputs": []
    },
    {
      "cell_type": "markdown",
      "source": [
        "Creating Statistical Summary\n",
        "We will start by creating the statistical summary in a jupyter notebook, the dataset that we will be using here is defined under seaborn with the name Tips.\n",
        "\n",
        "Let’s create the Statistical Summary:"
      ],
      "metadata": {
        "id": "5JaEfc3AAOzZ"
      }
    },
    {
      "cell_type": "code",
      "source": [
        "skim(df)"
      ],
      "metadata": {
        "colab": {
          "base_uri": "https://localhost:8080/",
          "height": 505
        },
        "id": "RBph7UYK-pxu",
        "outputId": "10451273-7d5d-48c3-d258-2db35c121213"
      },
      "execution_count": null,
      "outputs": [
        {
          "output_type": "display_data",
          "data": {
            "text/plain": [
              "╭──────────────────────────────────────────────── skimpy summary ─────────────────────────────────────────────────╮\n",
              "│ \u001b[3m         Data Summary         \u001b[0m \u001b[3m      Data Types       \u001b[0m                                                          │\n",
              "│ ┏━━━━━━━━━━━━━━━━━━━┳━━━━━━━━┓ ┏━━━━━━━━━━━━━┳━━━━━━━┓                                                          │\n",
              "│ ┃\u001b[1;36m \u001b[0m\u001b[1;36mDataframe        \u001b[0m\u001b[1;36m \u001b[0m┃\u001b[1;36m \u001b[0m\u001b[1;36mValues\u001b[0m\u001b[1;36m \u001b[0m┃ ┃\u001b[1;36m \u001b[0m\u001b[1;36mColumn Type\u001b[0m\u001b[1;36m \u001b[0m┃\u001b[1;36m \u001b[0m\u001b[1;36mCount\u001b[0m\u001b[1;36m \u001b[0m┃                                                          │\n",
              "│ ┡━━━━━━━━━━━━━━━━━━━╇━━━━━━━━┩ ┡━━━━━━━━━━━━━╇━━━━━━━┩                                                          │\n",
              "│ │ Number of rows    │ 150    │ │ float64     │ 4     │                                                          │\n",
              "│ │ Number of columns │ 6      │ │ int64       │ 1     │                                                          │\n",
              "│ └───────────────────┴────────┘ │ string      │ 1     │                                                          │\n",
              "│                                └─────────────┴───────┘                                                          │\n",
              "│ \u001b[3m                                                    number                                                    \u001b[0m  │\n",
              "│ ┏━━━━━━━━━━━━━━━━━━━┳━━━━━┳━━━━━━━━┳━━━━━━━━━┳━━━━━━━━━━┳━━━━━━━┳━━━━━━━━━┳━━━━━━━┳━━━━━━━━┳━━━━━━━┳━━━━━━━━━┓  │\n",
              "│ ┃\u001b[1m \u001b[0m\u001b[1mcolumn           \u001b[0m\u001b[1m \u001b[0m┃\u001b[1m \u001b[0m\u001b[1mNA \u001b[0m\u001b[1m \u001b[0m┃\u001b[1m \u001b[0m\u001b[1mNA %  \u001b[0m\u001b[1m \u001b[0m┃\u001b[1m \u001b[0m\u001b[1mmean   \u001b[0m\u001b[1m \u001b[0m┃\u001b[1m \u001b[0m\u001b[1msd      \u001b[0m\u001b[1m \u001b[0m┃\u001b[1m \u001b[0m\u001b[1mp0   \u001b[0m\u001b[1m \u001b[0m┃\u001b[1m \u001b[0m\u001b[1mp25    \u001b[0m\u001b[1m \u001b[0m┃\u001b[1m \u001b[0m\u001b[1mp50  \u001b[0m\u001b[1m \u001b[0m┃\u001b[1m \u001b[0m\u001b[1mp75   \u001b[0m\u001b[1m \u001b[0m┃\u001b[1m \u001b[0m\u001b[1mp100 \u001b[0m\u001b[1m \u001b[0m┃\u001b[1m \u001b[0m\u001b[1mhist   \u001b[0m\u001b[1m \u001b[0m┃  │\n",
              "│ ┡━━━━━━━━━━━━━━━━━━━╇━━━━━╇━━━━━━━━╇━━━━━━━━━╇━━━━━━━━━━╇━━━━━━━╇━━━━━━━━━╇━━━━━━━╇━━━━━━━━╇━━━━━━━╇━━━━━━━━━┩  │\n",
              "│ │ \u001b[38;5;141mId               \u001b[0m │ \u001b[36m  0\u001b[0m │ \u001b[36m     0\u001b[0m │ \u001b[36m   75.5\u001b[0m │ \u001b[36m   43.45\u001b[0m │ \u001b[36m    1\u001b[0m │ \u001b[36m  38.25\u001b[0m │ \u001b[36m 75.5\u001b[0m │ \u001b[36m 112.8\u001b[0m │ \u001b[36m  150\u001b[0m │ \u001b[32m██████ \u001b[0m │  │\n",
              "│ │ \u001b[38;5;141mSepalLengthCm    \u001b[0m │ \u001b[36m  0\u001b[0m │ \u001b[36m     0\u001b[0m │ \u001b[36m  5.843\u001b[0m │ \u001b[36m  0.8281\u001b[0m │ \u001b[36m  4.3\u001b[0m │ \u001b[36m    5.1\u001b[0m │ \u001b[36m  5.8\u001b[0m │ \u001b[36m   6.4\u001b[0m │ \u001b[36m  7.9\u001b[0m │ \u001b[32m▃██▇▅▂ \u001b[0m │  │\n",
              "│ │ \u001b[38;5;141mSepalWidthCm     \u001b[0m │ \u001b[36m  0\u001b[0m │ \u001b[36m     0\u001b[0m │ \u001b[36m  3.054\u001b[0m │ \u001b[36m  0.4336\u001b[0m │ \u001b[36m    2\u001b[0m │ \u001b[36m    2.8\u001b[0m │ \u001b[36m    3\u001b[0m │ \u001b[36m   3.3\u001b[0m │ \u001b[36m  4.4\u001b[0m │ \u001b[32m▁▆█▇▂▁ \u001b[0m │  │\n",
              "│ │ \u001b[38;5;141mPetalLengthCm    \u001b[0m │ \u001b[36m  0\u001b[0m │ \u001b[36m     0\u001b[0m │ \u001b[36m  3.759\u001b[0m │ \u001b[36m   1.764\u001b[0m │ \u001b[36m    1\u001b[0m │ \u001b[36m    1.6\u001b[0m │ \u001b[36m 4.35\u001b[0m │ \u001b[36m   5.1\u001b[0m │ \u001b[36m  6.9\u001b[0m │ \u001b[32m█ ▂▇▆▂ \u001b[0m │  │\n",
              "│ │ \u001b[38;5;141mPetalWidthCm     \u001b[0m │ \u001b[36m  0\u001b[0m │ \u001b[36m     0\u001b[0m │ \u001b[36m  1.199\u001b[0m │ \u001b[36m  0.7632\u001b[0m │ \u001b[36m  0.1\u001b[0m │ \u001b[36m    0.3\u001b[0m │ \u001b[36m  1.3\u001b[0m │ \u001b[36m   1.8\u001b[0m │ \u001b[36m  2.5\u001b[0m │ \u001b[32m█ ▂▆▄▄ \u001b[0m │  │\n",
              "│ └───────────────────┴─────┴────────┴─────────┴──────────┴───────┴─────────┴───────┴────────┴───────┴─────────┘  │\n",
              "│ \u001b[3m                                                    string                                                    \u001b[0m  │\n",
              "│ ┏━━━━━━━━━┳━━━━┳━━━━━━┳━━━━━━━━━━━┳━━━━━━━━━━━┳━━━━━━━━━━━━┳━━━━━━━━━━━┳━━━━━━━━━━━━┳━━━━━━━━━━━┳━━━━━━━━━━━━┓  │\n",
              "│ ┃\u001b[1m         \u001b[0m┃\u001b[1m    \u001b[0m┃\u001b[1m      \u001b[0m┃\u001b[1m           \u001b[0m┃\u001b[1m           \u001b[0m┃\u001b[1m            \u001b[0m┃\u001b[1m           \u001b[0m┃\u001b[1m \u001b[0m\u001b[1mchars per \u001b[0m\u001b[1m \u001b[0m┃\u001b[1m \u001b[0m\u001b[1mwords per\u001b[0m\u001b[1m \u001b[0m┃\u001b[1m \u001b[0m\u001b[1mtotal     \u001b[0m\u001b[1m \u001b[0m┃  │\n",
              "│ ┃\u001b[1m \u001b[0m\u001b[1mcolumn \u001b[0m\u001b[1m \u001b[0m┃\u001b[1m \u001b[0m\u001b[1mNA\u001b[0m\u001b[1m \u001b[0m┃\u001b[1m \u001b[0m\u001b[1mNA %\u001b[0m\u001b[1m \u001b[0m┃\u001b[1m \u001b[0m\u001b[1mshortest \u001b[0m\u001b[1m \u001b[0m┃\u001b[1m \u001b[0m\u001b[1mlongest  \u001b[0m\u001b[1m \u001b[0m┃\u001b[1m \u001b[0m\u001b[1mmin       \u001b[0m\u001b[1m \u001b[0m┃\u001b[1m \u001b[0m\u001b[1mmax      \u001b[0m\u001b[1m \u001b[0m┃\u001b[1m \u001b[0m\u001b[1mrow       \u001b[0m\u001b[1m \u001b[0m┃\u001b[1m \u001b[0m\u001b[1mrow      \u001b[0m\u001b[1m \u001b[0m┃\u001b[1m \u001b[0m\u001b[1mwords     \u001b[0m\u001b[1m \u001b[0m┃  │\n",
              "│ ┡━━━━━━━━━╇━━━━╇━━━━━━╇━━━━━━━━━━━╇━━━━━━━━━━━╇━━━━━━━━━━━━╇━━━━━━━━━━━╇━━━━━━━━━━━━╇━━━━━━━━━━━╇━━━━━━━━━━━━┩  │\n",
              "│ │ \u001b[38;5;141mSpecies\u001b[0m │ \u001b[36m 0\u001b[0m │ \u001b[36m   0\u001b[0m │ \u001b[38;5;141mIris-seto\u001b[0m │ \u001b[38;5;141mIris-vers\u001b[0m │ \u001b[38;5;141mIris-setos\u001b[0m │ \u001b[38;5;141mIris-virg\u001b[0m │ \u001b[36m      13.3\u001b[0m │ \u001b[36m        1\u001b[0m │ \u001b[36m       150\u001b[0m │  │\n",
              "│ │         │    │      │ \u001b[38;5;141msa       \u001b[0m │ \u001b[38;5;141micolor   \u001b[0m │ \u001b[38;5;141ma         \u001b[0m │ \u001b[38;5;141minica    \u001b[0m │            │           │            │  │\n",
              "│ └─────────┴────┴──────┴───────────┴───────────┴────────────┴───────────┴────────────┴───────────┴────────────┘  │\n",
              "╰────────────────────────────────────────────────────── End ──────────────────────────────────────────────────────╯\n"
            ],
            "text/html": [
              "<pre style=\"white-space:pre;overflow-x:auto;line-height:normal;font-family:Menlo,'DejaVu Sans Mono',consolas,'Courier New',monospace\">╭──────────────────────────────────────────────── skimpy summary ─────────────────────────────────────────────────╮\n",
              "│ <span style=\"font-style: italic\">         Data Summary         </span> <span style=\"font-style: italic\">      Data Types       </span>                                                          │\n",
              "│ ┏━━━━━━━━━━━━━━━━━━━┳━━━━━━━━┓ ┏━━━━━━━━━━━━━┳━━━━━━━┓                                                          │\n",
              "│ ┃<span style=\"color: #008080; text-decoration-color: #008080; font-weight: bold\"> Dataframe         </span>┃<span style=\"color: #008080; text-decoration-color: #008080; font-weight: bold\"> Values </span>┃ ┃<span style=\"color: #008080; text-decoration-color: #008080; font-weight: bold\"> Column Type </span>┃<span style=\"color: #008080; text-decoration-color: #008080; font-weight: bold\"> Count </span>┃                                                          │\n",
              "│ ┡━━━━━━━━━━━━━━━━━━━╇━━━━━━━━┩ ┡━━━━━━━━━━━━━╇━━━━━━━┩                                                          │\n",
              "│ │ Number of rows    │ 150    │ │ float64     │ 4     │                                                          │\n",
              "│ │ Number of columns │ 6      │ │ int64       │ 1     │                                                          │\n",
              "│ └───────────────────┴────────┘ │ string      │ 1     │                                                          │\n",
              "│                                └─────────────┴───────┘                                                          │\n",
              "│ <span style=\"font-style: italic\">                                                    number                                                    </span>  │\n",
              "│ ┏━━━━━━━━━━━━━━━━━━━┳━━━━━┳━━━━━━━━┳━━━━━━━━━┳━━━━━━━━━━┳━━━━━━━┳━━━━━━━━━┳━━━━━━━┳━━━━━━━━┳━━━━━━━┳━━━━━━━━━┓  │\n",
              "│ ┃<span style=\"font-weight: bold\"> column            </span>┃<span style=\"font-weight: bold\"> NA  </span>┃<span style=\"font-weight: bold\"> NA %   </span>┃<span style=\"font-weight: bold\"> mean    </span>┃<span style=\"font-weight: bold\"> sd       </span>┃<span style=\"font-weight: bold\"> p0    </span>┃<span style=\"font-weight: bold\"> p25     </span>┃<span style=\"font-weight: bold\"> p50   </span>┃<span style=\"font-weight: bold\"> p75    </span>┃<span style=\"font-weight: bold\"> p100  </span>┃<span style=\"font-weight: bold\"> hist    </span>┃  │\n",
              "│ ┡━━━━━━━━━━━━━━━━━━━╇━━━━━╇━━━━━━━━╇━━━━━━━━━╇━━━━━━━━━━╇━━━━━━━╇━━━━━━━━━╇━━━━━━━╇━━━━━━━━╇━━━━━━━╇━━━━━━━━━┩  │\n",
              "│ │ <span style=\"color: #af87ff; text-decoration-color: #af87ff\">Id               </span> │ <span style=\"color: #008080; text-decoration-color: #008080\">  0</span> │ <span style=\"color: #008080; text-decoration-color: #008080\">     0</span> │ <span style=\"color: #008080; text-decoration-color: #008080\">   75.5</span> │ <span style=\"color: #008080; text-decoration-color: #008080\">   43.45</span> │ <span style=\"color: #008080; text-decoration-color: #008080\">    1</span> │ <span style=\"color: #008080; text-decoration-color: #008080\">  38.25</span> │ <span style=\"color: #008080; text-decoration-color: #008080\"> 75.5</span> │ <span style=\"color: #008080; text-decoration-color: #008080\"> 112.8</span> │ <span style=\"color: #008080; text-decoration-color: #008080\">  150</span> │ <span style=\"color: #008000; text-decoration-color: #008000\">██████ </span> │  │\n",
              "│ │ <span style=\"color: #af87ff; text-decoration-color: #af87ff\">SepalLengthCm    </span> │ <span style=\"color: #008080; text-decoration-color: #008080\">  0</span> │ <span style=\"color: #008080; text-decoration-color: #008080\">     0</span> │ <span style=\"color: #008080; text-decoration-color: #008080\">  5.843</span> │ <span style=\"color: #008080; text-decoration-color: #008080\">  0.8281</span> │ <span style=\"color: #008080; text-decoration-color: #008080\">  4.3</span> │ <span style=\"color: #008080; text-decoration-color: #008080\">    5.1</span> │ <span style=\"color: #008080; text-decoration-color: #008080\">  5.8</span> │ <span style=\"color: #008080; text-decoration-color: #008080\">   6.4</span> │ <span style=\"color: #008080; text-decoration-color: #008080\">  7.9</span> │ <span style=\"color: #008000; text-decoration-color: #008000\">▃██▇▅▂ </span> │  │\n",
              "│ │ <span style=\"color: #af87ff; text-decoration-color: #af87ff\">SepalWidthCm     </span> │ <span style=\"color: #008080; text-decoration-color: #008080\">  0</span> │ <span style=\"color: #008080; text-decoration-color: #008080\">     0</span> │ <span style=\"color: #008080; text-decoration-color: #008080\">  3.054</span> │ <span style=\"color: #008080; text-decoration-color: #008080\">  0.4336</span> │ <span style=\"color: #008080; text-decoration-color: #008080\">    2</span> │ <span style=\"color: #008080; text-decoration-color: #008080\">    2.8</span> │ <span style=\"color: #008080; text-decoration-color: #008080\">    3</span> │ <span style=\"color: #008080; text-decoration-color: #008080\">   3.3</span> │ <span style=\"color: #008080; text-decoration-color: #008080\">  4.4</span> │ <span style=\"color: #008000; text-decoration-color: #008000\">▁▆█▇▂▁ </span> │  │\n",
              "│ │ <span style=\"color: #af87ff; text-decoration-color: #af87ff\">PetalLengthCm    </span> │ <span style=\"color: #008080; text-decoration-color: #008080\">  0</span> │ <span style=\"color: #008080; text-decoration-color: #008080\">     0</span> │ <span style=\"color: #008080; text-decoration-color: #008080\">  3.759</span> │ <span style=\"color: #008080; text-decoration-color: #008080\">   1.764</span> │ <span style=\"color: #008080; text-decoration-color: #008080\">    1</span> │ <span style=\"color: #008080; text-decoration-color: #008080\">    1.6</span> │ <span style=\"color: #008080; text-decoration-color: #008080\"> 4.35</span> │ <span style=\"color: #008080; text-decoration-color: #008080\">   5.1</span> │ <span style=\"color: #008080; text-decoration-color: #008080\">  6.9</span> │ <span style=\"color: #008000; text-decoration-color: #008000\">█ ▂▇▆▂ </span> │  │\n",
              "│ │ <span style=\"color: #af87ff; text-decoration-color: #af87ff\">PetalWidthCm     </span> │ <span style=\"color: #008080; text-decoration-color: #008080\">  0</span> │ <span style=\"color: #008080; text-decoration-color: #008080\">     0</span> │ <span style=\"color: #008080; text-decoration-color: #008080\">  1.199</span> │ <span style=\"color: #008080; text-decoration-color: #008080\">  0.7632</span> │ <span style=\"color: #008080; text-decoration-color: #008080\">  0.1</span> │ <span style=\"color: #008080; text-decoration-color: #008080\">    0.3</span> │ <span style=\"color: #008080; text-decoration-color: #008080\">  1.3</span> │ <span style=\"color: #008080; text-decoration-color: #008080\">   1.8</span> │ <span style=\"color: #008080; text-decoration-color: #008080\">  2.5</span> │ <span style=\"color: #008000; text-decoration-color: #008000\">█ ▂▆▄▄ </span> │  │\n",
              "│ └───────────────────┴─────┴────────┴─────────┴──────────┴───────┴─────────┴───────┴────────┴───────┴─────────┘  │\n",
              "│ <span style=\"font-style: italic\">                                                    string                                                    </span>  │\n",
              "│ ┏━━━━━━━━━┳━━━━┳━━━━━━┳━━━━━━━━━━━┳━━━━━━━━━━━┳━━━━━━━━━━━━┳━━━━━━━━━━━┳━━━━━━━━━━━━┳━━━━━━━━━━━┳━━━━━━━━━━━━┓  │\n",
              "│ ┃<span style=\"font-weight: bold\">         </span>┃<span style=\"font-weight: bold\">    </span>┃<span style=\"font-weight: bold\">      </span>┃<span style=\"font-weight: bold\">           </span>┃<span style=\"font-weight: bold\">           </span>┃<span style=\"font-weight: bold\">            </span>┃<span style=\"font-weight: bold\">           </span>┃<span style=\"font-weight: bold\"> chars per  </span>┃<span style=\"font-weight: bold\"> words per </span>┃<span style=\"font-weight: bold\"> total      </span>┃  │\n",
              "│ ┃<span style=\"font-weight: bold\"> column  </span>┃<span style=\"font-weight: bold\"> NA </span>┃<span style=\"font-weight: bold\"> NA % </span>┃<span style=\"font-weight: bold\"> shortest  </span>┃<span style=\"font-weight: bold\"> longest   </span>┃<span style=\"font-weight: bold\"> min        </span>┃<span style=\"font-weight: bold\"> max       </span>┃<span style=\"font-weight: bold\"> row        </span>┃<span style=\"font-weight: bold\"> row       </span>┃<span style=\"font-weight: bold\"> words      </span>┃  │\n",
              "│ ┡━━━━━━━━━╇━━━━╇━━━━━━╇━━━━━━━━━━━╇━━━━━━━━━━━╇━━━━━━━━━━━━╇━━━━━━━━━━━╇━━━━━━━━━━━━╇━━━━━━━━━━━╇━━━━━━━━━━━━┩  │\n",
              "│ │ <span style=\"color: #af87ff; text-decoration-color: #af87ff\">Species</span> │ <span style=\"color: #008080; text-decoration-color: #008080\"> 0</span> │ <span style=\"color: #008080; text-decoration-color: #008080\">   0</span> │ <span style=\"color: #af87ff; text-decoration-color: #af87ff\">Iris-seto</span> │ <span style=\"color: #af87ff; text-decoration-color: #af87ff\">Iris-vers</span> │ <span style=\"color: #af87ff; text-decoration-color: #af87ff\">Iris-setos</span> │ <span style=\"color: #af87ff; text-decoration-color: #af87ff\">Iris-virg</span> │ <span style=\"color: #008080; text-decoration-color: #008080\">      13.3</span> │ <span style=\"color: #008080; text-decoration-color: #008080\">        1</span> │ <span style=\"color: #008080; text-decoration-color: #008080\">       150</span> │  │\n",
              "│ │         │    │      │ <span style=\"color: #af87ff; text-decoration-color: #af87ff\">sa       </span> │ <span style=\"color: #af87ff; text-decoration-color: #af87ff\">icolor   </span> │ <span style=\"color: #af87ff; text-decoration-color: #af87ff\">a         </span> │ <span style=\"color: #af87ff; text-decoration-color: #af87ff\">inica    </span> │            │           │            │  │\n",
              "│ └─────────┴────┴──────┴───────────┴───────────┴────────────┴───────────┴────────────┴───────────┴────────────┘  │\n",
              "╰────────────────────────────────────────────────────── End ──────────────────────────────────────────────────────╯\n",
              "</pre>\n"
            ]
          },
          "metadata": {}
        }
      ]
    },
    {
      "cell_type": "code",
      "source": [
        "skim(df, header_style=\"italic magenta\")"
      ],
      "metadata": {
        "colab": {
          "base_uri": "https://localhost:8080/",
          "height": 141
        },
        "id": "Rx9DWLE8AeCS",
        "outputId": "42efbbfa-e110-4529-b17e-706ffbd566bf"
      },
      "execution_count": null,
      "outputs": [
        {
          "output_type": "error",
          "ename": "TypeError",
          "evalue": "skim() got an unexpected keyword argument 'header_style'",
          "traceback": [
            "\u001b[0;31m---------------------------------------------------------------------------\u001b[0m",
            "\u001b[0;31mTypeError\u001b[0m                                 Traceback (most recent call last)",
            "\u001b[0;32m<ipython-input-10-432c630b19a0>\u001b[0m in \u001b[0;36m<cell line: 0>\u001b[0;34m()\u001b[0m\n\u001b[0;32m----> 1\u001b[0;31m \u001b[0mskim\u001b[0m\u001b[0;34m(\u001b[0m\u001b[0mdf\u001b[0m\u001b[0;34m,\u001b[0m\u001b[0mheader_style\u001b[0m\u001b[0;34m=\u001b[0m\u001b[0;34m\"italic magenta\"\u001b[0m\u001b[0;34m)\u001b[0m\u001b[0;34m\u001b[0m\u001b[0;34m\u001b[0m\u001b[0m\n\u001b[0m",
            "\u001b[0;31mTypeError\u001b[0m: skim() got an unexpected keyword argument 'header_style'"
          ]
        }
      ]
    },
    {
      "cell_type": "markdown",
      "source": [
        "Here we can clearly see the analysis generated which contains all the data points and summary related to it. It contains Data Types, categories, Missing data, etc.\n",
        "\n",
        "Now let us see how to create this analysis in the console. We can do that by simply running the command given below. Remember to change the file name while running the command."
      ],
      "metadata": {
        "id": "Rtkz3ewGASLK"
      }
    },
    {
      "cell_type": "code",
      "source": [
        "skimpy Diabetes.csv"
      ],
      "metadata": {
        "id": "_SOebN8fATs3"
      },
      "execution_count": null,
      "outputs": []
    },
    {
      "cell_type": "markdown",
      "source": [
        "Here you can see how easily we can create the statistical summary easily from both console and notebook.\n",
        "\n",
        "Try this with different datasets, create a Statistical Summary, and let me know your comments in the response section.\n",
        "\n",
        "Key Takeaways\n",
        "Skimpy is a Python library for generating statistical summaries of datasets.\n",
        "These summaries include information like data types, categories, and missing data."
      ],
      "metadata": {
        "id": "8Eed-ZdBAVkF"
      }
    },
    {
      "cell_type": "markdown",
      "source": [
        "<h1>TOP 4 Hyperparameter Tuning Libraries</h1>\n",
        "\n",
        "(with Pros and GitHub Stars)\n",
        "\n",
        "(Get more ML tutorials and resources from me here: https://lnkd.in/gddXakxh)\n",
        "\n",
        "🟢 𝐑𝐚𝐲 𝐓𝐮𝐧𝐞 - 12𝐤 ⭐\n",
        "Ray Tune is a robust library designed for scalable, distributed hyperparameter tuning.\n",
        "\n",
        "With an easy-to-use API, Ray Tune supports various optimization algorithms, including Bayesian Optimization and HyperBand, making it ideal for large-scale experiments.\n",
        "\n",
        "🟢 𝐎𝐩𝐭𝐮𝐧𝐚 - 10.7𝐤 ⭐\n",
        "Optuna is versatile framework offering a dynamic, define-by-run API for constructing search spaces.\n",
        "\n",
        "Optuna includes TPE and Random Searches, along with a real-time dashboard to monitor experiments in progress, making it user-friendly and powerful.\n",
        "\n",
        "🟢 𝐇𝐲𝐩𝐞𝐫𝐎𝐩𝐭 - 7.2𝐤 ⭐\n",
        "Known for its strong Bayesian Optimization, HyperOpt includes algorithms like TPE and Random Search.\n",
        "\n",
        "It can distribute computations across multiple machines, boosting performance on large-scale tasks.\n",
        "\n",
        "🟢 𝐒𝐜𝐢𝐤𝐢𝐭-𝐎𝐩𝐭𝐢𝐦𝐢𝐳𝐞 - 2.7𝐤 ⭐\n",
        "A convenient drop-in replacement for Scikit-Learn’s GridSearchCV, offering fewer evaluations to find optimal settings."
      ],
      "metadata": {
        "id": "8wyids2LEmpJ"
      }
    },
    {
      "cell_type": "code",
      "source": [],
      "metadata": {
        "id": "SNkgqz0CAV6R"
      },
      "execution_count": null,
      "outputs": []
    },
    {
      "cell_type": "markdown",
      "source": [
        "<h1>Loguru</h1>\n",
        "<p>The simplest, most powerful logging library. No more boilerplate.</p>"
      ],
      "metadata": {
        "id": "OLK3usf0PfGZ"
      }
    },
    {
      "cell_type": "code",
      "source": [
        "!pip install loguru"
      ],
      "metadata": {
        "colab": {
          "base_uri": "https://localhost:8080/"
        },
        "id": "OajV3w5XPnlf",
        "outputId": "db4b94e2-5cd1-49e0-dfc2-4e875b21a310"
      },
      "execution_count": null,
      "outputs": [
        {
          "output_type": "stream",
          "name": "stdout",
          "text": [
            "Collecting loguru\n",
            "  Downloading loguru-0.7.3-py3-none-any.whl.metadata (22 kB)\n",
            "Downloading loguru-0.7.3-py3-none-any.whl (61 kB)\n",
            "\u001b[?25l   \u001b[90m━━━━━━━━━━━━━━━━━━━━━━━━━━━━━━━━━━━━━━━━\u001b[0m \u001b[32m0.0/61.6 kB\u001b[0m \u001b[31m?\u001b[0m eta \u001b[36m-:--:--\u001b[0m\r\u001b[2K   \u001b[90m━━━━━━━━━━━━━━━━━━━━━━━━━━━━━━━━━━━━━━━━\u001b[0m \u001b[32m61.6/61.6 kB\u001b[0m \u001b[31m3.7 MB/s\u001b[0m eta \u001b[36m0:00:00\u001b[0m\n",
            "\u001b[?25hInstalling collected packages: loguru\n",
            "Successfully installed loguru-0.7.3\n"
          ]
        }
      ]
    },
    {
      "cell_type": "code",
      "source": [
        "from loguru import logger"
      ],
      "metadata": {
        "id": "8yuTKtvxQaC1"
      },
      "execution_count": null,
      "outputs": []
    },
    {
      "cell_type": "code",
      "source": [
        "def main():\n",
        "    logger.debug(\"This is a debug message\")\n",
        "    logger.info(\"This is an info message\")\n",
        "    logger.warning(\"This is a warning message\")\n",
        "    logger.error(\"This is an error message\")\n",
        "    logger.critical(\"This is a critical message\")"
      ],
      "metadata": {
        "id": "Ow3GTiF7QWLg"
      },
      "execution_count": null,
      "outputs": []
    },
    {
      "cell_type": "code",
      "source": [
        "if __name__ == \"__main__\":\n",
        "    main()"
      ],
      "metadata": {
        "colab": {
          "base_uri": "https://localhost:8080/"
        },
        "id": "-9CYCYN9QdWH",
        "outputId": "38939c70-25f6-4107-b560-8972cf79e764"
      },
      "execution_count": null,
      "outputs": [
        {
          "output_type": "stream",
          "name": "stderr",
          "text": [
            "\u001b[32m2025-02-18 18:11:48.544\u001b[0m | \u001b[34m\u001b[1mDEBUG   \u001b[0m | \u001b[36m__main__\u001b[0m:\u001b[36mmain\u001b[0m:\u001b[36m2\u001b[0m - \u001b[34m\u001b[1mThis is a debug message\u001b[0m\n",
            "\u001b[32m2025-02-18 18:11:48.545\u001b[0m | \u001b[1mINFO    \u001b[0m | \u001b[36m__main__\u001b[0m:\u001b[36mmain\u001b[0m:\u001b[36m3\u001b[0m - \u001b[1mThis is an info message\u001b[0m\n",
            "\u001b[32m2025-02-18 18:11:48.546\u001b[0m | \u001b[33m\u001b[1mWARNING \u001b[0m | \u001b[36m__main__\u001b[0m:\u001b[36mmain\u001b[0m:\u001b[36m4\u001b[0m - \u001b[33m\u001b[1mThis is a warning message\u001b[0m\n",
            "\u001b[32m2025-02-18 18:11:48.549\u001b[0m | \u001b[31m\u001b[1mERROR   \u001b[0m | \u001b[36m__main__\u001b[0m:\u001b[36mmain\u001b[0m:\u001b[36m5\u001b[0m - \u001b[31m\u001b[1mThis is an error message\u001b[0m\n",
            "\u001b[32m2025-02-18 18:11:48.550\u001b[0m | \u001b[41m\u001b[1mCRITICAL\u001b[0m | \u001b[36m__main__\u001b[0m:\u001b[36mmain\u001b[0m:\u001b[36m6\u001b[0m - \u001b[41m\u001b[1mThis is a critical message\u001b[0m\n"
          ]
        }
      ]
    },
    {
      "cell_type": "markdown",
      "source": [
        "<h1>Tenacity</h1>\n",
        "<p>Smart retries made easy. Perfect for handling flaky APIs.</p>"
      ],
      "metadata": {
        "id": "lW8ulPrCPn7U"
      }
    },
    {
      "cell_type": "code",
      "source": [
        "!pip install tenacity"
      ],
      "metadata": {
        "colab": {
          "base_uri": "https://localhost:8080/"
        },
        "id": "GOV0dBr9QLM2",
        "outputId": "f2f8af55-216b-4476-a7b2-938883b50540"
      },
      "execution_count": null,
      "outputs": [
        {
          "output_type": "stream",
          "name": "stdout",
          "text": [
            "Requirement already satisfied: tenacity in /usr/local/lib/python3.11/dist-packages (9.0.0)\n"
          ]
        }
      ]
    },
    {
      "cell_type": "code",
      "source": [
        "import tenacity as t"
      ],
      "metadata": {
        "id": "2PmXIKMUQoZd"
      },
      "execution_count": null,
      "outputs": []
    },
    {
      "cell_type": "code",
      "source": [
        "# Stop ater N attempts\n",
        "@retry(stop = t.stop_after_attempt(5))\n",
        "def stop_after_5_attempts():\n",
        "    print(\"Stop after 5 attempts\")\n",
        "    raise Exception"
      ],
      "metadata": {
        "colab": {
          "base_uri": "https://localhost:8080/",
          "height": 211
        },
        "id": "4zeHHDBtQrb9",
        "outputId": "eedc3b7b-facc-4195-c079-224431b89bc7"
      },
      "execution_count": null,
      "outputs": [
        {
          "output_type": "error",
          "ename": "NameError",
          "evalue": "name 'retry' is not defined",
          "traceback": [
            "\u001b[0;31m---------------------------------------------------------------------------\u001b[0m",
            "\u001b[0;31mNameError\u001b[0m                                 Traceback (most recent call last)",
            "\u001b[0;32m<ipython-input-11-c58f31598796>\u001b[0m in \u001b[0;36m<cell line: 0>\u001b[0;34m()\u001b[0m\n\u001b[1;32m      1\u001b[0m \u001b[0;31m# Stop ater N attempts\u001b[0m\u001b[0;34m\u001b[0m\u001b[0;34m\u001b[0m\u001b[0m\n\u001b[0;32m----> 2\u001b[0;31m \u001b[0;34m@\u001b[0m\u001b[0mretry\u001b[0m\u001b[0;34m(\u001b[0m\u001b[0mstop\u001b[0m \u001b[0;34m=\u001b[0m \u001b[0mt\u001b[0m\u001b[0;34m.\u001b[0m\u001b[0mstop_after_attempt\u001b[0m\u001b[0;34m(\u001b[0m\u001b[0;36m5\u001b[0m\u001b[0;34m)\u001b[0m\u001b[0;34m)\u001b[0m\u001b[0;34m\u001b[0m\u001b[0;34m\u001b[0m\u001b[0m\n\u001b[0m\u001b[1;32m      3\u001b[0m \u001b[0;32mdef\u001b[0m \u001b[0mstop_after_5_attempts\u001b[0m\u001b[0;34m(\u001b[0m\u001b[0;34m)\u001b[0m\u001b[0;34m:\u001b[0m\u001b[0;34m\u001b[0m\u001b[0;34m\u001b[0m\u001b[0m\n\u001b[1;32m      4\u001b[0m     \u001b[0mprint\u001b[0m\u001b[0;34m(\u001b[0m\u001b[0;34m\"Stop after 5 attempts\"\u001b[0m\u001b[0;34m)\u001b[0m\u001b[0;34m\u001b[0m\u001b[0;34m\u001b[0m\u001b[0m\n\u001b[1;32m      5\u001b[0m     \u001b[0;32mraise\u001b[0m \u001b[0mException\u001b[0m\u001b[0;34m\u001b[0m\u001b[0;34m\u001b[0m\u001b[0m\n",
            "\u001b[0;31mNameError\u001b[0m: name 'retry' is not defined"
          ]
        }
      ]
    },
    {
      "cell_type": "code",
      "source": [
        "# OR Condition\n",
        "@retry(stop = t.stop_after_delay(10) | t.stop_after_attempt(5))\n",
        "def stop_after_10_seconds_or_5_attempts():\n",
        "    print(\"Stop after 10 seconds or 5 attempts\")\n",
        "    raise Exception"
      ],
      "metadata": {
        "id": "TKMCeDflQ612"
      },
      "execution_count": null,
      "outputs": []
    },
    {
      "cell_type": "code",
      "source": [
        "# Wait for X Seconds\n",
        "@retry(wait = t.wait_fixed(2))\n",
        "def wait_for_2_seconds():\n",
        "    print(\"Wait for 2 seconds\")\n",
        "    raise Exception"
      ],
      "metadata": {
        "id": "rDOr6GS8RJZ0"
      },
      "execution_count": null,
      "outputs": []
    },
    {
      "cell_type": "code",
      "source": [
        "# Retry for specific Exceptions\n",
        "@retry(retry = t.retry_if_exception_type(IOError))\n",
        "def retry_io_error():\n",
        "    print(\"Retry forever with no wait if an IOError occurs, raise any other Errors\")\n",
        "    raise Exception"
      ],
      "metadata": {
        "id": "FOioLEPaROPK"
      },
      "execution_count": null,
      "outputs": []
    },
    {
      "cell_type": "markdown",
      "source": [
        "<h1>Pydantic-Settings</h1>\n",
        "<p>Effortless config management with environment variables.</p>"
      ],
      "metadata": {
        "id": "-VsgZ5ArPsCe"
      }
    },
    {
      "cell_type": "code",
      "source": [],
      "metadata": {
        "id": "HqUckmjrQK5F"
      },
      "execution_count": null,
      "outputs": []
    },
    {
      "cell_type": "markdown",
      "source": [
        "<h1>Pendulum</h1>\n",
        "<p>Datetime handling that actually makes sense. Say goodbye to datetime headaches.</p>"
      ],
      "metadata": {
        "id": "YsSCubaWPsVT"
      }
    },
    {
      "cell_type": "code",
      "source": [],
      "metadata": {
        "id": "TGbznnrOQKJ-"
      },
      "execution_count": null,
      "outputs": []
    },
    {
      "cell_type": "markdown",
      "source": [
        "<h1>Scalene</h1>\n",
        "<p>A high-performance, sampling-based Python profiler. Find slow code fast.</p>"
      ],
      "metadata": {
        "id": "vyvNICuiPssX"
      }
    },
    {
      "cell_type": "code",
      "source": [],
      "metadata": {
        "id": "LXyb4ocWQJwG"
      },
      "execution_count": null,
      "outputs": []
    },
    {
      "cell_type": "markdown",
      "source": [
        "<h1>HTTPS</h1>\n",
        "<p>Asynchronous requests with HTTP/2 support. A modern requests alternative.</p>"
      ],
      "metadata": {
        "id": "56VBImW2PtAV"
      }
    },
    {
      "cell_type": "code",
      "source": [],
      "metadata": {
        "id": "_u16IAv1QJQ1"
      },
      "execution_count": null,
      "outputs": []
    },
    {
      "cell_type": "markdown",
      "source": [
        "<h1>Rich</h1>\n",
        "<p>Beautiful progress bars. A great alternative to tqdm.</p>"
      ],
      "metadata": {
        "id": "cktYzEp2PtYn"
      }
    },
    {
      "cell_type": "code",
      "source": [],
      "metadata": {
        "id": "5fhwXC6AQI4r"
      },
      "execution_count": null,
      "outputs": []
    },
    {
      "cell_type": "markdown",
      "source": [
        "<h1>Typer</h1>\n",
        "<p>Build powerful CLI apps in minutes, not hours. Ditch argparse.</p>"
      ],
      "metadata": {
        "id": "2bJ9K2MCPtn-"
      }
    },
    {
      "cell_type": "code",
      "source": [],
      "metadata": {
        "id": "yaohBfCTQImt"
      },
      "execution_count": null,
      "outputs": []
    }
  ]
}