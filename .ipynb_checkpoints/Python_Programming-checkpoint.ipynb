{
 "cells": [
  {
   "cell_type": "markdown",
   "metadata": {
    "id": "1YPE1wIHx_1G"
   },
   "source": [
    "# Week 1\n",
    "\n",
    "## Welcome to Python 3"
   ]
  },
  {
   "cell_type": "markdown",
   "metadata": {
    "id": "tUhu6M0ByYe9"
   },
   "source": [
    "### Hello World\n",
    "This can be done as:"
   ]
  },
  {
   "cell_type": "code",
   "execution_count": 2,
   "metadata": {
    "colab": {
     "base_uri": "https://localhost:8080/"
    },
    "id": "l7Z8Cpfvyf3s",
    "outputId": "b4a7f6f7-6150-4996-c332-8edeed5c0ade"
   },
   "outputs": [
    {
     "name": "stdout",
     "output_type": "stream",
     "text": [
      "hello world\n"
     ]
    }
   ],
   "source": [
    "print(\"hello world\") # The right way"
   ]
  },
  {
   "cell_type": "markdown",
   "metadata": {
    "id": "_JHv0dY1yoIU"
   },
   "source": [
    "### Taking Input\n",
    "We can take input as:"
   ]
  },
  {
   "cell_type": "code",
   "execution_count": 4,
   "metadata": {
    "colab": {
     "base_uri": "https://localhost:8080/",
     "height": 52
    },
    "id": "JgcCQpSvyuC1",
    "outputId": "78f6d4ce-bda2-40ff-90d2-d26b313c783f"
   },
   "outputs": [
    {
     "name": "stdout",
     "output_type": "stream",
     "text": [
      "What is your name?Aashish Bansal\n"
     ]
    },
    {
     "data": {
      "application/vnd.google.colaboratory.intrinsic+json": {
       "type": "string"
      },
      "text/plain": [
       "'Aashish Bansal'"
      ]
     },
     "execution_count": 4,
     "metadata": {},
     "output_type": "execute_result"
    }
   ],
   "source": [
    "input('What is your name?')"
   ]
  }
 ],
 "metadata": {
  "colab": {
   "name": "Python Programming.ipynb",
   "provenance": []
  },
  "kernelspec": {
   "display_name": "Python 3 (ipykernel)",
   "language": "python",
   "name": "python3"
  },
  "language_info": {
   "codemirror_mode": {
    "name": "ipython",
    "version": 3
   },
   "file_extension": ".py",
   "mimetype": "text/x-python",
   "name": "python",
   "nbconvert_exporter": "python",
   "pygments_lexer": "ipython3",
   "version": "3.9.13"
  }
 },
 "nbformat": 4,
 "nbformat_minor": 1
}
