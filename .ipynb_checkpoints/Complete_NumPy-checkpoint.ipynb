{
 "cells": [
  {
   "cell_type": "markdown",
   "metadata": {
    "id": "LuSp8z_40-Bf"
   },
   "source": [
    "<h1>NumPy</h1>\n"
   ]
  },
  {
   "cell_type": "markdown",
   "metadata": {
    "id": "HmpFgICu1F0U"
   },
   "source": [
    "<div>\n",
    "    <h1>NumPy - Analogy</h1>\n",
    "    <p><b>NumPy</b> is like an extraordinary-powered calculator Python. It enables you to do math and paintings with numbers in a simple green manner.</p>\n",
    "    <p>Imagine you have got a gaggle of numbers you want to paintings with, like grades in a category or measurements from a test. NumPy lets you to organize these numbers into something called an array. An array is like a listing of numbers, but it can have a couple of dimensions, type of like a desk filled with numbers having many directions.</p>\n",
    "    <p>Once you have got your numbers in arrays, NumPy gives you lots of gear to do math with them. You can add these arrays, subtract them, multiply them, and divide them like you will with everyday numbers. But NumPy additionally helps you to extra superior math, like unit conversions, statistics, and linear algebra</p>\n",
    "    <p>One cool factor about NumPy is that it is really fast. It’s built to handle really large sets of numbers lightning-fast, which it incredible for things like reading large datasets or running complex simulations.</p>\n",
    "</div>"
   ]
  },
  {
   "cell_type": "markdown",
   "metadata": {
    "id": "qdUINWK-4Cuk"
   },
   "source": [
    "<div>\n",
    "    <h1>NumPy Introduction</h1>\n",
    "    <div>\n",
    "        <h2>What is NumPy?</h2>\n",
    "        <p>NumPy is a Python library for numerical computations and data manipulation. It provides support for creating and working with arrays, which are like multi-dimensional lists of numbers.</p>\n",
    "    </div>\n",
    "    <div>\n",
    "        <h2>Key Features</h2>\n",
    "        <ul>\n",
    "            <li>Efficient handling of large datasets and arrays.</li>\n",
    "            <li>Powerful mathematical functions and operations.</li>\n",
    "            <li>Support for multi-dimensional arrays (like tables), etc.</li>\n",
    "            <li>Integration with other Python libraries for data analysis and visualization.</li>\n",
    "        </ul>\n",
    "    </div>\n",
    "    <div>\n",
    "        <h2>Why use NumPy?</h2>\n",
    "        <p>NumPy is fast and efficient, making it ideal for working with large datasets and performing complex mathematical operations. It simplifies computations and provides tools for data manipulation and analysis.</p>\n",
    "    </div>\n",
    "    <div>\n",
    "        <h2>Example Use Cases</h2>\n",
    "        <ul>\n",
    "            <li>Analyzing scientific data and experimental results</li>\n",
    "            <li>Implementing machine learning algorithms</li>\n",
    "            <li>Performing signal processing and image manipulation</li>\n",
    "            <li>Simulating mathematical models and physical systems.</li>\n",
    "        </ul>\n",
    "    </div>\n",
    "    <p></p>\n",
    "</div>"
   ]
  },
  {
   "cell_type": "markdown",
   "metadata": {
    "id": "UilbtADA4En-"
   },
   "source": [
    "<div>\n",
    "    <h1>NumPy Installation</h1>\n",
    "    <p>Below is a step-by-step manual on the way to installation a Python package using pip and import it underneath an alias:</p>\n",
    "    <p><b>Step 1</b>: Install pip within the Package</p>\n",
    "    <div>\n",
    "        <p>You can like, effortlessly set up the Python package perhaps by means of the use of the elegant following command from your terminal or command activate:</p>\n",
    "        <code>pip install package_name</code>\n",
    "        <p>Replace package_name with the call of the package you, like, need to install. For example:</p>\n",
    "    </div>\n",
    "</div>"
   ]
  },
  {
   "cell_type": "code",
   "execution_count": null,
   "metadata": {
    "id": "1oZk4mP04D0f"
   },
   "outputs": [],
   "source": [
    "pip install numpy"
   ]
  },
  {
   "cell_type": "markdown",
   "metadata": {
    "id": "BggP4JDK4udI"
   },
   "source": [
    "<div>\n",
    "    <p>This command will, absolute confidence, download and set up the NumPy bundle in your device.</p>\n",
    "    <p><b>Step 2</b>: Import the bundle with the alias</p>\n",
    "    <p>Once the package is set up, you can import it into the Python script by making use of the <code>import</code> key-phrase. You can also assign an alias to a package for usage using the <code>as</code> key word. Here's how you can do it:</p>\n",
    "    <p><b>Syntax</b>: <code>import package_name as alias</code></p>\n",
    "    <p>Replace <code>package_name</code> with the name, <code>alias</code>, and non-compulsory alias of the package is established. For instance:</p>\n",
    "</div>"
   ]
  },
  {
   "cell_type": "code",
   "execution_count": null,
   "metadata": {
    "id": "NYOzd-rr0WFa"
   },
   "outputs": [],
   "source": [
    "import numpy as np"
   ]
  },
  {
   "cell_type": "markdown",
   "metadata": {
    "id": "GdSIqf_i5_r3"
   },
   "source": [
    "<div>\n",
    "    <p>This will, genuinely, exactly refer to the NumPy package and assign it the alias <code>np</code>, so we can use <code>np</code> as a shorthand for <code>numpy</code> in code.</p>\n",
    "</div>"
   ]
  },
  {
   "cell_type": "markdown",
   "metadata": {
    "id": "vRiR-rkb6Vh2"
   },
   "source": [
    "<div>\n",
    "    <h1>Conda Installation</h1>\n",
    "    <p>Conda installation is a command that is with Conda, which is like a package and environment manage gadget that is typically used for records science and clinical computing in Python. Conda comes bundled with the Anaconda distribution, but it may additionally be installed one after the other via Miniconda.</p>\n",
    "</div>"
   ]
  },
  {
   "cell_type": "markdown",
   "metadata": {
    "id": "WVtNqp7G75an"
   },
   "source": [
    "<div><h1>Differences between Conda and Pip</h1></div>"
   ]
  },
  {
   "cell_type": "markdown",
   "metadata": {
    "id": "TmLzG4mG6-YI"
   },
   "source": [
    "<div>\n",
    "    <h2>Package Management</h2>\n",
    "    <div>\n",
    "        <h3>Pip</h3>\n",
    "        <p>Pip, being the default package manager for Python, it installs Python applications from the Python Package Index (PyPI) and other repositories. Pip installs programs globally or within a digital surroundings.</p>\n",
    "    </div>\n",
    "    <div>\n",
    "        <h3>Conda</h3>\n",
    "        <p>Conda is a package supervisor who does things a bit differently. It installs applications from the Anaconda repository and can install both Python applications and non-Python packages. It can handle libraries written in different programming languages like R, C, C++, and so on. Conda moreover takes care of managing dependencies and can even install more than one version of the same bundle in remote environments.</p>\n",
    "    </div>\n",
    "</div>"
   ]
  },
  {
   "cell_type": "markdown",
   "metadata": {
    "id": "wKe4-2TR7y4g"
   },
   "source": [
    "<div>\n",
    "    <h2>Environment Management</h2>\n",
    "    <div>\n",
    "        <h3>Pip</h3>\n",
    "        <p>Although Pip is quite handy when it comes to package management, it doesn't offer any fancy built-in surroundings control capabilities. But we can still use virtual environments (virtualenv or venv) to create isolated environments for Python initiatives. </p>\n",
    "    </div>\n",
    "    <div>\n",
    "        <h3>Conda</h3>\n",
    "        <p>Now, Conda takes things to a whole new level with its built-in environment control functionality. With Conda, we can create isolated environments effortlessly. These environments enable us to install programs independently in each environment without affecting the system or other environments.  This is especially useful for managing dependencies and making sure that your Python projects are as reproducible as they can be!</p>\n",
    "    </div>\n",
    "</div>"
   ]
  },
  {
   "cell_type": "markdown",
   "metadata": {
    "id": "H-b7oGKV8wX6"
   },
   "source": [
    "<div>\n",
    "    <h2>Cross-Platform Compatibility</h2>\n",
    "    <div>\n",
    "        <h3>Pip</h3>\n",
    "        <p>Pip installs Python applications and is generally designed for Python environments. Pip is a helpful tool for installing Python applications. It has been specifically designed for Python environments.</p>\n",
    "    </div>\n",
    "    <div>\n",
    "        <h3>Conda</h3>\n",
    "        <p>Conda installs both Python and non-Python programs and is designed to handle multiple Operating Systems (Windows, MacOS, Linux). It manages applications and dependencies in a platform-impartial manner!</p>\n",
    "    </div>\n",
    "</div>"
   ]
  },
  {
   "cell_type": "markdown",
   "metadata": {
    "id": "8_p9fCFX9UOz"
   },
   "source": [
    "<div>\n",
    "    <h2>Package Sources</h2>\n",
    "    <div>\n",
    "        <h3>Pip</h3>\n",
    "        <p>Pip installs programs from the Python Package Index (PyPI) via default, but it can additionally set up packages from other resources like, model control repositories (Git, Mercurial), local directories, or URLs.</p>\n",
    "    </div>\n",
    "    <div>\n",
    "        <h3>Conda</h3>\n",
    "        <p>Conda installs packages from the Anaconda repository by default, however it can additionally deploy programs from other channels or resources, which, include PyPI. Conda channels allow users to get right of entry to applications no longer available inside the default Anaconda repository.</p>\n",
    "    </div>\n",
    "</div>"
   ]
  },
  {
   "cell_type": "markdown",
   "metadata": {
    "id": "Av-zIoNB9uvS"
   },
   "source": [
    "<div>\n",
    "    <h2>Summary</h2>\n",
    "    <div>\n",
    "        <p>In summary, while both pip and Conda are package managers for Python, Conda gives extra features, like, consisting of environment management, go-platform compatibility, and aid for non-Python programs. The choice between pip and Conda relies upon to your unique requirements and the characteristics of your Python projects!</p>\n",
    "    </div>\n",
    "</div>"
   ]
  },
  {
   "cell_type": "markdown",
   "metadata": {
    "id": "XHjtA0XI-Dij"
   },
   "source": [
    "<div>\n",
    "    <h1>Location Packages</h1>\n",
    "    <div>\n",
    "        <div>\n",
    "            <h2>Pip</h2>\n",
    "            <p>By default, programs established using pip are saved in a list known as website-packages. These website-packages lists contain various libraries and modules that facilitate the functionality of Python applications.</p>\n",
    "            <p>The area of website-applications varies depending on your Python installation as well as your strolling system. Sometimes, it may even be located erroneously due to compatibility issues.</p>\n",
    "            <p>Typically, for a worldwide Python set up, internet site-packages is placed in the Python installation directory, can also be falsely labelled “Python existence.”</p>\n",
    "            <p>For virtual environments created with virtualenv or venv, website online-programs is positioned in the digital surroundings list, might also be misspelled as “evirontment.”</p>\n",
    "        </div>\n",
    "        <div>\n",
    "            <h2>Conda</h2>\n",
    "            <p>Packages set up using conda are saved within the conda surroundings—an unconventional and perplexing structure.</p>\n",
    "            <p>Each conda environment has its very own list—some may say, a jumbled jigsaw puzzle—wherein programs are stored. The peculiar location of these jumbled pieces depends on in that you created it and your working device. Undoubtedly, it can be quite baffling if you are unfamiliar with the peculiarities of the conda system.</p>\n",
    "            <p>Typically, conda environments are saved inside a list named envs within the conda installation directory. However, locating this directory can sometimes be akin to finding a needle in a haystack, so a consecrated search might be required.</p>\n",
    "        </div>\n",
    "        <div>\n",
    "            <h2>Precis</h2>\n",
    "            <p>Python packages mounted with pip are stored in the web web page-packages listing, while applications installed with conda are stored in the cond environment list. The place might also vary depending on your Python setup and working system. Nevertheless, rest assured, that after navigating through these treacherous paths, your Python applications shall find their respective abodes.</p>\n",
    "        </div>\n",
    "    </div>\n",
    "</div>"
   ]
  },
  {
   "cell_type": "markdown",
   "metadata": {
    "id": "ILiy-ivH0VA8"
   },
   "source": [
    "<div>\n",
    "    <h1>Basic in Python</h1>\n",
    "    <div>\n",
    "        <h2>Tuple</h2>\n",
    "        <p>A tuple is an ordered collection of things, like a list, however, it is not changeable. It's created with the use of parentheses (<code>()</code>). Tuples are commonly used to maintain a set collection of objects.</p>\n",
    "        <p>Example: <code>my_tuple = (1, 'A', B, 0.14)</code></p>\n",
    "    </div>\n",
    "    <div>\n",
    "        <h2>List</h2>\n",
    "        <p>It's an ordered collection of elements that is mutable, which means that it can be modified every time. It's created with the use of rectangular brackets (<code>[]</code>). Lists can include elements of various data types.</p>\n",
    "        <p>Example: <code>my_list = [1, ‘hello’, 3.14]</code></p>\n",
    "    </div>\n",
    "    <div>\n",
    "        <h2>Dictionary</h2>\n",
    "        <p>It's an unordered series of key-price pairs. It's created using the ones curly braces (<code>{}</code>), with each key-fee pair separated by means of a colon. Dictionaries are extremely beneficial for mapping one piece of facts (the critical aspect) to every other (the value).</p>\n",
    "        <p>Example: <code>my_dict = {'name': 'John', 'age': 30, 'town': 'New York'}</code></p>\n",
    "    </div>\n",
    "    <div>\n",
    "        <h2>Set</h2>\n",
    "        <p>It's an unordered collection of points. It's created using curly braces or the set () constructor. Sets are beneficial for tasks that require valiadation and eliminating duplicates.</p>\n",
    "        <p>Example: <code>Example: my_set = {1, 2, three, four}</code></p>\n",
    "    </div>\n",
    "</div>"
   ]
  },
  {
   "cell_type": "markdown",
   "metadata": {
    "id": "Gm-ygAy03KB7"
   },
   "source": [
    "<div>\n",
    "    <h1>Characteristics of List, Tuple, Dictionary and Set</h1>\n",
    "    <div>\n",
    "        <ul>\n",
    "            <li><b>1D</b>: All these data systems are one-dimensional, which means they arrange data in a single collection.</li>\n",
    "            <li><b>Heterogeneous</b>: They can contain elements of different records kinds within the equal shape.</li>\n",
    "            <li><b>Don't allow broadcasting</b>: Unlike NumPy arrays, these basic Python information systems do not aid broadcasting, which means you cannot perform arithmetic operations on them with exceptional shapes.</li>\n",
    "            <li><b>Allow vectorization</b>: While they do not directly assist vectorized operations like NumPy arrays, you could still practice features or strategies to all factors of a statistics structure the use of listing comprehensions or other looping techniques.</li>\n",
    "        </ul>\n",
    "    </div>\n",
    "</div>"
   ]
  },
  {
   "cell_type": "markdown",
   "metadata": {
    "id": "b9e9fmTN32pP"
   },
   "source": [
    "<div>\n",
    "    <h1>N-dimensional Arrays: An Error-Ridden Explanation</h1>\n",
    "    <div>\n",
    "        <h2>Homogeneous Nature of NumPy Arrays</h2>\n",
    "        <div>\n",
    "            <p>NumPy arrays, also known as ndarrays, possess a feature that sets them apart from Python lists: the requirement for all elements to be of the same data type. This equality garanties efficient conservations and computations as NumPy can optimize performance based on known data sets.</p>\n",
    "        </div>\n",
    "    </div>\n",
    "    <div>\n",
    "        <h2>Allow Extensibility</h2>\n",
    "        <div>\n",
    "            <p>Extensibility allows calculations between systems of different sizes. When doing operations between arrays of different sizes, NumPy has this neat trick: it inflates the smaller array to match the size of the larger one, making element-wise possible.</p>\n",
    "        </div>\n",
    "    </div>\n",
    "    <div>\n",
    "        <h2>Vectorization</h2>\n",
    "        <div>\n",
    "            <p>Due to characteristics of Vectorization, NumPy can apply functions and actions to its arrays. It does it elementwise, without any needed looping. This vectorized approach is what makes the code concise and efficient. The hidden secret is the fancy C code that runs behind the scenes, making calculations go faster!</p>\n",
    "        </div>\n",
    "    </div>\n",
    "    <div>\n",
    "        <h2>Importance and Use case</h2>\n",
    "        <div>\n",
    "            <p>NumPy arrays are important for statistical and scientific computation in Python. They allow for N-dimensional representation, uniformity, propagation, and vectorization. We can perform linear algebra operations, statistical analysis, and machine learning algorithms.</p>\n",
    "        </div>\n",
    "    </div>\n",
    "</div>"
   ]
  },
  {
   "cell_type": "markdown",
   "metadata": {
    "id": "xiuZfBuV6xwZ"
   },
   "source": [
    "<div>\n",
    "    <h1>Introduction to NumPy and its Functions</h1>\n",
    "    <p>The <code>print(dir(np))</code> delaration prints all the attributes and techniques available within the NumPy module. Here’s what it typically consists of:</p>\n",
    "    <div>\n",
    "        <ol>\n",
    "            <li><b>Functions creating arrays</b>: array, zeros, ones, empty, full, arange, linspace, random, eye, and many others.</li>\n",
    "            <li><b>Mathematical features</b>: upload, subtract, multiply, divide, strength, sqrt, exp, log, sin, cos, tan, and many others.</li>\n",
    "            <li><b>Array manipulation capabilities</b>: reshape, flatten, ravel, transpose, concatenate, cut up, stack, vstack, hstack, resize, and so on.</li>\n",
    "            <li><b>Statistical features</b>: mean, median, std, var, sum, min, max, argmin, argmax, percentile, and different similar ones.</li>\n",
    "            <li><b>Linear algebra functions</b>: dot, vdot, internal, outer, matmul, pass, tensordot, einsum, svd, inv, pinv, qr, lstsq, etc.</li>\n",
    "            <li><b>Fourier rework features</b>: fft, ifft, fftn, ifftn, fftshift, ifftshift, and so on.</li>\n",
    "            <li><b>Random range era capabilities</b>: rand, randn, randint, random_sample, preference, shuffle, etc.</li>\n",
    "            <li><b>Constants:</b>: pi, e, inf, nan, and many others. Remember these constants, etc.</li>\n",
    "        </ol>\n",
    "    </div>\n",
    "</div>"
   ]
  },
  {
   "cell_type": "markdown",
   "metadata": {
    "id": "Uyw-fDjI7OId"
   },
   "source": [
    "<div>\n",
    "    <h1>Capabilities of NumPy</h1>\n",
    "    <div>\n",
    "        <ol>\n",
    "            <li><b>Combining Datasets</b>: Concatenating arrays vertically (<code>np.vstack()</code>) and horizontally (<code>np.hstack()</code>).</li>\n",
    "            <li><b>Broadcasting</b>: Automatically aligning arrays with different shapes for arithmetic operations.</li>\n",
    "            <li><b>Vectorization</b>: Efficiently applying operations to entire arrays without explicity looping.</li>\n",
    "            <li><b>Data Types</b>: Specifying the type of data stored in an array.</li>\n",
    "            <li><b>Shape and Size</b>: Understanding the dimensions and size of an array.</li>\n",
    "            <li><b>Reshaping</b>: Changing the shape of an array.</li>\n",
    "            <li><b>Iterating</b>: Iterating over elements of an array.</li>\n",
    "            <li><b>Copy vs. View</b>: Understanding the difference between copying and viewing arrays.</li>\n",
    "            <li><b>Random Module</b>: Generating random numbers and arrays with the NumPy random module.</li>\n",
    "            <li><b>Universal Functions (ufunc)</b>: Functions that operate element-wise on arrays.</li>\n",
    "        </ol>\n",
    "    </div>\n",
    "</div>"
   ]
  },
  {
   "cell_type": "markdown",
   "metadata": {
    "id": "j4108x69-QxY"
   },
   "source": [
    "<h1>Simple NumPy Array</h1>"
   ]
  },
  {
   "cell_type": "code",
   "execution_count": null,
   "metadata": {
    "id": "euMz8IvM-uiP"
   },
   "outputs": [],
   "source": [
    "import numpy as np"
   ]
  },
  {
   "cell_type": "code",
   "execution_count": null,
   "metadata": {
    "id": "9zbMYD8g-V98"
   },
   "outputs": [],
   "source": [
    "l1 = [1, 2, 3, 4]"
   ]
  },
  {
   "cell_type": "code",
   "execution_count": null,
   "metadata": {
    "id": "Jeqtd3_b-YnU"
   },
   "outputs": [],
   "source": [
    "np_arr = np.array(l1)"
   ]
  },
  {
   "cell_type": "markdown",
   "metadata": {
    "id": "Xth_y6bA-eJ6"
   },
   "source": [
    "<h1>Type Conversion</h1>"
   ]
  },
  {
   "cell_type": "code",
   "execution_count": null,
   "metadata": {
    "colab": {
     "base_uri": "https://localhost:8080/"
    },
    "id": "klIPi4oC-gyS",
    "outputId": "ab77f006-ea44-4516-f2d1-e3ad6d2f8626"
   },
   "outputs": [
    {
     "name": "stdout",
     "output_type": "stream",
     "text": [
      "Type of the array: <class 'numpy.ndarray'>\n"
     ]
    }
   ],
   "source": [
    "print(\"Type of the array: {}\".format(type(np_arr)))"
   ]
  },
  {
   "cell_type": "markdown",
   "metadata": {
    "id": "K8GCWDQn7Oe1"
   },
   "source": [
    "<div>\n",
    "    <h1>Function Introduction</h1>\n",
    "    <div>\n",
    "        <p>NumPy gives the <code>np()</code> function to effortlessly create an array from a listing or tuple. It converts the entered data into a ndarray.</p>\n",
    "    </div>\n",
    "</div>"
   ]
  },
  {
   "cell_type": "markdown",
   "metadata": {
    "id": "HkpWjw0Q7Ozc"
   },
   "source": [
    "<div>\n",
    "    <h1>Understanding <code>dtype</code></h1>\n",
    "    <div>\n",
    "        <h2>Basics of <code>dtype</code></h2>\n",
    "        <div>\n",
    "            <p>In Python, <code>dtype</code> stands for “data type.” It refers to the form of information stored in a variable or an array. This is mainly used for numerical computing in Python. <code>dtype</code> is particularly useful for specifying the statistical form of factors in arrays.</p>\n",
    "        </div>\n",
    "    </div>\n",
    "    <div>\n",
    "        <h2>Usage of <code>dtype</code> in NumPy</h2>\n",
    "        <div>\n",
    "            <p>With NumPy, we can create arrays with integers, floats, or other file sorts. The <code>dtype</code> parameter allows us to imply the desired facts' type for our array. Here's an instance kind of showcasing this capability:</p>\n",
    "            <p>For instance, consider we need to create an array form known as <code>arr_int</code> which may, accommodate 32-bit integers. Similarly, <code>arr_float</code> should comprise 64-bit floating-point numbers.</p>\n",
    "        </div>\n",
    "    </div>\n",
    "    <div>\n",
    "        <h2>Controlling Memory Utilization and Precision</h2>\n",
    "        <div>\n",
    "            <p>By specifying the <code>dtype</code>, we can control the memory utilization and precision of the records saved in arrays. This element simply proves to be essential for both numerical computations and overall performance.</p>\n",
    "            <p>We can use the <code>dtype</code> parameter in NumPy to explicitly specify the kind of statistics we need to apply.</p>\n",
    "        </div>\n",
    "    </div>\n",
    "    <div>\n",
    "        <h2>Examples of <code>dtype</code> Usage</h2>\n",
    "        <div>\n",
    "            <p>To illustrate the usage of <code>dtype</code>, consider the following example:</p>\n",
    "            <p>In this situation, <code>arr_int</code> comprises of 32-bit integers, and on the other hand, <code>dtype='float64'</code> specifies that the array <code>arr_float</code> that incorporates 64-bit floating-point numbers.</p>\n",
    "        </div>\n",
    "    </div>\n",
    "    <div>\n",
    "        <h2>Conclusion</h2>\n",
    "        <div>\n",
    "            <p>Specifying the <code>dtype</code> parameter in NumPy grants you the ability to govern the memory usage and precision of the facts stored in arrays. This level of control proves to be critical for numerical computations and memory performance.</p>\n",
    "        </div>\n",
    "    </div>\n",
    "</div>"
   ]
  },
  {
   "cell_type": "markdown",
   "metadata": {
    "id": "diVYG_fk7PHM"
   },
   "source": [
    "<div>\n",
    "    <h1>In-build Methods</h1>\n",
    "    <div>\n",
    "        <h2><code>nbytes</code></h2>\n",
    "        <div>\n",
    "            <p><code>nbytes</code> in Python's NumPy library represents the complete memory length in bytes occupied by an array's records, considering its data type and structure. It calculates the complete memory with all the factors inside the array, along with any necessary padding for alignment, and returns the result in bytes.</p>\n",
    "            <p></p>\n",
    "        </div>\n",
    "    </div>\n",
    "</div>"
   ]
  },
  {
   "cell_type": "code",
   "execution_count": null,
   "metadata": {
    "id": "XwIcmRVh16et"
   },
   "outputs": [],
   "source": [
    "l2 = [11,12,13,14,15,16]"
   ]
  },
  {
   "cell_type": "code",
   "execution_count": null,
   "metadata": {
    "id": "FRV4Yf2m1_lM"
   },
   "outputs": [],
   "source": [
    "a2 = np.array(l2)\n",
    "a3 = np.array(l2, dtype = 'int8')"
   ]
  },
  {
   "cell_type": "code",
   "execution_count": null,
   "metadata": {
    "id": "iYTJXfV82FwD"
   },
   "outputs": [],
   "source": [
    "print(\"No. of bytes for a2: \".format(a2.nbytes))\n",
    "print(\"No. of bytes for a3: \".format(a3.nbytes))"
   ]
  },
  {
   "cell_type": "markdown",
   "metadata": {
    "id": "FARnUqHL7Pa8"
   },
   "source": [
    "<div>\n",
    "    <div>\n",
    "        <h2><code>ndim</code></h2>\n",
    "        <div>\n",
    "            <p><code>ndim</code> in NumPy refers to da wide variety of dimensions (axes) of an array.</p>\n",
    "            <p></p>\n",
    "        </div>\n",
    "    </div>\n",
    "</div>"
   ]
  },
  {
   "cell_type": "code",
   "execution_count": null,
   "metadata": {
    "id": "yfABdb812edh"
   },
   "outputs": [],
   "source": [
    "print(\"No. of dimensions for a3: \".format(a2.ndim))"
   ]
  },
  {
   "cell_type": "markdown",
   "metadata": {
    "id": "KEj4Py3IDJMV"
   },
   "source": [
    "<div>\n",
    "    <div>\n",
    "        <h2><code>np.zeros()</code></h2>\n",
    "        <div>\n",
    "            <p>This feature creates an array full of zeros. We specify the form of the array we need, like (3, 4) for a 3x4 array, and it fills each element with zeros.</p>\n",
    "            <p></p>\n",
    "        </div>\n",
    "    </div>\n",
    "</div>"
   ]
  },
  {
   "cell_type": "code",
   "execution_count": null,
   "metadata": {
    "id": "4sYXq7PY21_c"
   },
   "outputs": [],
   "source": [
    "np.zeros(5)"
   ]
  },
  {
   "cell_type": "code",
   "execution_count": null,
   "metadata": {
    "id": "fGJW_nve3GFg"
   },
   "outputs": [],
   "source": [
    "np.zeros(5, dtype = 'int8')"
   ]
  },
  {
   "cell_type": "code",
   "execution_count": null,
   "metadata": {
    "id": "LSyse5Bk3K4Y"
   },
   "outputs": [],
   "source": [
    "np.zeros((3, 5), dtype = 'int8')"
   ]
  },
  {
   "cell_type": "code",
   "execution_count": null,
   "metadata": {
    "id": "lE8Tz6d43Zw5"
   },
   "outputs": [],
   "source": [
    "np.zeros?"
   ]
  },
  {
   "cell_type": "code",
   "execution_count": null,
   "metadata": {
    "id": "TGKucDZ73cwn"
   },
   "outputs": [],
   "source": [
    "np.zeros((2, 3, 5), dtype = 'int8')"
   ]
  },
  {
   "cell_type": "markdown",
   "metadata": {
    "id": "PM3jd1TlDJTJ"
   },
   "source": [
    "<div>\n",
    "    <div>\n",
    "        <h2><code>np.ones()</code></h2>\n",
    "        <div>\n",
    "            <p>Like <code>np.ones()</code>, but it creates an array filled with ones in place of zeros.</p>\n",
    "            <p></p>\n",
    "        </div>\n",
    "    </div>\n",
    "</div>"
   ]
  },
  {
   "cell_type": "code",
   "execution_count": null,
   "metadata": {
    "id": "ObK2jQMY4Hoa"
   },
   "outputs": [],
   "source": [
    "np.ones(10)"
   ]
  },
  {
   "cell_type": "code",
   "execution_count": null,
   "metadata": {
    "id": "YqSMUATz4Kco"
   },
   "outputs": [],
   "source": [
    "np.ones((10, 5))"
   ]
  },
  {
   "cell_type": "code",
   "execution_count": null,
   "metadata": {
    "id": "WXkROX6O4PVC"
   },
   "outputs": [],
   "source": [
    "np.ones((2, 3, 2, 4))"
   ]
  },
  {
   "cell_type": "markdown",
   "metadata": {
    "id": "YS32jTLTDJWd"
   },
   "source": [
    "<div>\n",
    "    <div>\n",
    "        <h2><code>np.full(shape, fill_value)</code></h2>\n",
    "        <div>\n",
    "            <p>This characteristic creates an array of the specified shape (like (2, three) for a 2x3 array) and fills it with the desired value (like five or 0.1).</p>\n",
    "            <p></p>\n",
    "        </div>\n",
    "        <div>\n",
    "            <b>Signature: </b>\n",
    "            <pre><code>np.full(\n",
    "      shape\n",
    "    , fill_value\n",
    "    , dtype = None\n",
    "    , order = 'C'\n",
    "    , *\n",
    "    , like = None\n",
    ")</code></pre>\n",
    "        </div>\n",
    "        <div>\n",
    "            <p><b>Docstring: </b><span>Return a new array of given and type, filled with <code>fill_value</code>.</span></p>\n",
    "        </div>\n",
    "        <div>\n",
    "            <p><b>Parameters: </b></p>\n",
    "            <div>\n",
    "                <ol>\n",
    "                    <li>\n",
    "                        <b><code>shape</code></b>:\n",
    "                        <div>\n",
    "                            <p><b>Input</b>: int or sequence of ints</p>\n",
    "                            <p><b>Requirement</b>: Necessary</p>\n",
    "                            <p><b>Description</b>: Shape of the new array, e.g., <code>(2, 3)</code>, <code>2</code>.</p>\n",
    "                        </div>\n",
    "                    </li>\n",
    "                    <li>\n",
    "                        <b><code>fill_value</code></b>:\n",
    "                        <div>\n",
    "                            <p><b>Input</b>: scalar or array_like</p>\n",
    "                            <p><b>Requirement</b>: Necessary</p>\n",
    "                            <p><b>Description</b>: The NumPy array will contain the provided value.</p>\n",
    "                        </div>\n",
    "                    </li>\n",
    "                    <li>\n",
    "                        <b><code>dtype</code></b>:\n",
    "                        <div>\n",
    "                            <p><b>Input</b>: data-type</p>\n",
    "                            <p><b>Requirement</b>: Optional</p>\n",
    "                            <p><b>Description</b>: The desired data-type for the array. The default value, <code>None</code>, means <code>np.array(fill_value).dtype</code>.</p>\n",
    "                        </div>\n",
    "                    </li>\n",
    "                    <li>\n",
    "                        <b><code>order</code></b>:\n",
    "                        <div>\n",
    "                            <p><b>Input</b>: {'C', 'F'}</p>\n",
    "                            <p><b>Requirement</b>: Optional</p>\n",
    "                            <p><b>Description</b>: Whether to store multidimensional data in C- or Fortran-contiguous (row-wise or colum-wise) order in memory.</p>\n",
    "                        </div>\n",
    "                    </li>\n",
    "                    <li>\n",
    "                        <b><code>like</code></b>:\n",
    "                        <div>\n",
    "                            <p><b>Input</b>: array_like</p>\n",
    "                            <p><b>Requirement</b>: Optional</p>\n",
    "                            <p><b>Description</b>: Reference Object to allow the creation of arrays which are not NumPy arrays. If an array-like passed in as <code>like</code> supports the <code>__array_function__</code>protocol, the result will be defined by it. In this case, it ensures the creation of an array object compatible with that passed in via this argument.</p>\n",
    "                        </div>\n",
    "                    </li>\n",
    "                </ol>\n",
    "            </div>\n",
    "        </div>\n",
    "        <div>\n",
    "            <p><b>Returns: </b></p>\n",
    "            <div>\n",
    "                <ol>\n",
    "                    <li>\n",
    "                        <b><code>out</code></b>:\n",
    "                        <div>\n",
    "                            <p><b>Data Type</b>: ndarray</p>\n",
    "                            <p><b>Description</b>: Array of <code>fill_value</code> with the given shape, dtype, and order.</p>\n",
    "                        </div>\n",
    "                    </li>\n",
    "                </ol>\n",
    "            </div>\n",
    "        </div>\n",
    "        <div>\n",
    "            <p><b>See Also: </b></p>\n",
    "            <div>\n",
    "                <ol>\n",
    "                    <li>\n",
    "                        <b><code>full_like</code></b>:\n",
    "                        <div>\n",
    "                            <p><b>Description</b>: Returns a new array with shape of input filled with value.</p>\n",
    "                        </div>\n",
    "                    </li>\n",
    "                    <li>\n",
    "                        <b><code>empty</code></b>:\n",
    "                        <div>\n",
    "                            <p><b>Description</b>: Returns a new uninitialized array.</p>\n",
    "                        </div>\n",
    "                    </li>\n",
    "                    <li>\n",
    "                        <b><code>ones</code></b>:\n",
    "                        <div>\n",
    "                            <p><b>Description</b>:Returns a new array setting values to one.</p>\n",
    "                        </div>\n",
    "                    </li>\n",
    "                    <li>\n",
    "                        <b><code>zeros</code></b>:\n",
    "                        <div>\n",
    "                            <p><b>Description</b>: Returns a new array setting values to zero.</p>\n",
    "                        </div>\n",
    "                    </li>\n",
    "                </ol>\n",
    "            </div>\n",
    "        </div>\n",
    "        <div>\n",
    "            <p><b>Examples: </b></p>\n",
    "            <div>\n",
    "                <ul>\n",
    "                    <li>\n",
    "                        <b><code>np.full((2, 2), np.inf)</code></b>:\n",
    "                        <div>\n",
    "                            <p><b>Output</b>: </p>\n",
    "                            <pre><code>array(\n",
    "    [\n",
    "        [inf, inf],\n",
    "        [inf, inf]\n",
    "    ]\n",
    ")</code></pre>\n",
    "                        </div>\n",
    "                    </li>\n",
    "                    <li>\n",
    "                        <b><code>np.full((2, 2), 10)</code></b>:\n",
    "                        <div>\n",
    "                            <p><b>Output</b>: </p>\n",
    "                            <pre><code>array(\n",
    "    [\n",
    "        [10, 10],\n",
    "        [10, 10]\n",
    "    ]\n",
    ")</code></pre>\n",
    "                        </div>\n",
    "                    </li>\n",
    "                    <li>\n",
    "                        <b><code>np.full((2, 2), [1, 2])</code></b>:\n",
    "                        <div>\n",
    "                            <p><b>Output</b>: </p>\n",
    "                            <pre><code>array(\n",
    "    [\n",
    "        [1, 2],\n",
    "        [1, 2]\n",
    "    ]\n",
    ")</code></pre>\n",
    "                        </div>\n",
    "                    </li>\n",
    "                </ul>\n",
    "            </div>\n",
    "        </div>\n",
    "    </div>\n",
    "</div>"
   ]
  },
  {
   "cell_type": "code",
   "execution_count": null,
   "metadata": {
    "colab": {
     "base_uri": "https://localhost:8080/"
    },
    "id": "jv3LIoWe5d_r",
    "outputId": "0026b0bd-9586-472f-c32c-f56a82142e41"
   },
   "outputs": [
    {
     "data": {
      "text/plain": [
       "array([['np', 'np', 'np', 'np', 'np'],\n",
       "       ['np', 'np', 'np', 'np', 'np']], dtype='<U2')"
      ]
     },
     "execution_count": 3,
     "metadata": {},
     "output_type": "execute_result"
    }
   ],
   "source": [
    "np.full((2, 5), \"np\")"
   ]
  },
  {
   "cell_type": "code",
   "execution_count": null,
   "metadata": {
    "colab": {
     "base_uri": "https://localhost:8080/"
    },
    "id": "BCz-ELfu5l8G",
    "outputId": "29175cac-2801-4656-fd49-704920fabbf9"
   },
   "outputs": [
    {
     "data": {
      "text/plain": [
       "array([[7, 7, 7, 7, 7],\n",
       "       [7, 7, 7, 7, 7],\n",
       "       [7, 7, 7, 7, 7]])"
      ]
     },
     "execution_count": 4,
     "metadata": {},
     "output_type": "execute_result"
    }
   ],
   "source": [
    "np.full((3, 5), 7)"
   ]
  },
  {
   "cell_type": "markdown",
   "metadata": {
    "id": "IHivmCDt57Ul"
   },
   "source": [
    "<div>\n",
    "    <div>\n",
    "        <h2><code>np.arange(begin, quit, step)</code></h2>\n",
    "        <div>\n",
    "            <p>This creates an array with evenly spaced values inside the given variety. We specify the begin, stop and step between the values. For instance, <code>np.arange(0, 10, 2)</code> will create the following array: <code>[0, 2, 4, 6, 8]</code>.</p>\n",
    "            <p></p>\n",
    "        </div>\n",
    "        <div>\n",
    "            <b>Signature: </b>\n",
    "            <pre><code>np.full(\n",
    "      shape\n",
    "    , fill_value\n",
    "    , dtype = None\n",
    "    , order = 'C'\n",
    "    , *\n",
    "    , like = None\n",
    ")</code></pre>\n",
    "        </div>\n",
    "    </div>\n",
    "</div>"
   ]
  },
  {
   "cell_type": "code",
   "execution_count": null,
   "metadata": {
    "colab": {
     "base_uri": "https://localhost:8080/"
    },
    "id": "UxDd2eEB6oEb",
    "outputId": "3b8fe9dc-a6ec-45bd-e12d-39b7467b2418"
   },
   "outputs": [
    {
     "data": {
      "text/plain": [
       "array([ 5, 10, 15, 20, 25, 30, 35, 40, 45, 50])"
      ]
     },
     "execution_count": 5,
     "metadata": {},
     "output_type": "execute_result"
    }
   ],
   "source": [
    "np.array(range(5, 51, 5))"
   ]
  },
  {
   "cell_type": "code",
   "execution_count": null,
   "metadata": {
    "colab": {
     "base_uri": "https://localhost:8080/"
    },
    "id": "6Y2MvMeb6z33",
    "outputId": "9d11e360-d35b-4ac0-fafb-84062ba8a792"
   },
   "outputs": [
    {
     "data": {
      "text/plain": [
       "array([ 5, 10, 15, 20, 25, 30, 35, 40, 45, 50])"
      ]
     },
     "execution_count": 7,
     "metadata": {},
     "output_type": "execute_result"
    }
   ],
   "source": [
    "np.arange(5, 51, 5)"
   ]
  },
  {
   "cell_type": "code",
   "execution_count": null,
   "metadata": {
    "colab": {
     "base_uri": "https://localhost:8080/"
    },
    "id": "aVc_eYu36taG",
    "outputId": "9ffa617f-e7d8-4c10-9fc2-a9203475b8df"
   },
   "outputs": [
    {
     "data": {
      "text/plain": [
       "array([0.  , 0.01, 0.02, 0.03, 0.04, 0.05, 0.06, 0.07, 0.08, 0.09, 0.1 ,\n",
       "       0.11, 0.12, 0.13, 0.14, 0.15, 0.16, 0.17, 0.18, 0.19, 0.2 , 0.21,\n",
       "       0.22, 0.23, 0.24, 0.25, 0.26, 0.27, 0.28, 0.29, 0.3 , 0.31, 0.32,\n",
       "       0.33, 0.34, 0.35, 0.36, 0.37, 0.38, 0.39, 0.4 , 0.41, 0.42, 0.43,\n",
       "       0.44, 0.45, 0.46, 0.47, 0.48, 0.49, 0.5 , 0.51, 0.52, 0.53, 0.54,\n",
       "       0.55, 0.56, 0.57, 0.58, 0.59, 0.6 , 0.61, 0.62, 0.63, 0.64, 0.65,\n",
       "       0.66, 0.67, 0.68, 0.69, 0.7 , 0.71, 0.72, 0.73, 0.74, 0.75, 0.76,\n",
       "       0.77, 0.78, 0.79, 0.8 , 0.81, 0.82, 0.83, 0.84, 0.85, 0.86, 0.87,\n",
       "       0.88, 0.89, 0.9 , 0.91, 0.92, 0.93, 0.94, 0.95, 0.96, 0.97, 0.98,\n",
       "       0.99])"
      ]
     },
     "execution_count": 6,
     "metadata": {},
     "output_type": "execute_result"
    }
   ],
   "source": [
    "np.arange(0, 1, 0.01)"
   ]
  },
  {
   "cell_type": "markdown",
   "metadata": {
    "id": "Ekm3imj0DJZe"
   },
   "source": [
    "<div>\n",
    "    <div>\n",
    "        <div>\n",
    "            <p><b>Note</b>: In Python's integrated <code>range()</code> feature, best integer values can be used to specify the variety. However, in NumPy, <code>np.arange()</code> feature, floating-factor numbers can also be used to define the variety.</p>\n",
    "            <p></p>\n",
    "        </div>\n",
    "    </div>\n",
    "</div>"
   ]
  },
  {
   "cell_type": "markdown",
   "metadata": {
    "id": "P57-TErJDJdX"
   },
   "source": [
    "<div>\n",
    "    <h1><code>np.linspace(shape, fill_value, no_of_values)</code></h1>\n",
    "    <div>\n",
    "        <h2></h2>\n",
    "        <div>\n",
    "            <p>Like <code>np.arange()</code>, but rather than the steps, we specify the number of evenly spaced values we want over a targeted variety. It's useful while we need a selected number of points as opposed to a particular step.</p>\n",
    "            <p></p>\n",
    "        </div>\n",
    "    </div>\n",
    "</div>"
   ]
  },
  {
   "cell_type": "code",
   "execution_count": null,
   "metadata": {
    "colab": {
     "base_uri": "https://localhost:8080/"
    },
    "id": "Qyjzjilw74mg",
    "outputId": "b4699534-1185-4bdf-cadd-8a23f5497aba"
   },
   "outputs": [
    {
     "data": {
      "text/plain": [
       "array([0.        , 0.01010101, 0.02020202, 0.03030303, 0.04040404,\n",
       "       0.05050505, 0.06060606, 0.07070707, 0.08080808, 0.09090909,\n",
       "       0.1010101 , 0.11111111, 0.12121212, 0.13131313, 0.14141414,\n",
       "       0.15151515, 0.16161616, 0.17171717, 0.18181818, 0.19191919,\n",
       "       0.2020202 , 0.21212121, 0.22222222, 0.23232323, 0.24242424,\n",
       "       0.25252525, 0.26262626, 0.27272727, 0.28282828, 0.29292929,\n",
       "       0.3030303 , 0.31313131, 0.32323232, 0.33333333, 0.34343434,\n",
       "       0.35353535, 0.36363636, 0.37373737, 0.38383838, 0.39393939,\n",
       "       0.4040404 , 0.41414141, 0.42424242, 0.43434343, 0.44444444,\n",
       "       0.45454545, 0.46464646, 0.47474747, 0.48484848, 0.49494949,\n",
       "       0.50505051, 0.51515152, 0.52525253, 0.53535354, 0.54545455,\n",
       "       0.55555556, 0.56565657, 0.57575758, 0.58585859, 0.5959596 ,\n",
       "       0.60606061, 0.61616162, 0.62626263, 0.63636364, 0.64646465,\n",
       "       0.65656566, 0.66666667, 0.67676768, 0.68686869, 0.6969697 ,\n",
       "       0.70707071, 0.71717172, 0.72727273, 0.73737374, 0.74747475,\n",
       "       0.75757576, 0.76767677, 0.77777778, 0.78787879, 0.7979798 ,\n",
       "       0.80808081, 0.81818182, 0.82828283, 0.83838384, 0.84848485,\n",
       "       0.85858586, 0.86868687, 0.87878788, 0.88888889, 0.8989899 ,\n",
       "       0.90909091, 0.91919192, 0.92929293, 0.93939394, 0.94949495,\n",
       "       0.95959596, 0.96969697, 0.97979798, 0.98989899, 1.        ])"
      ]
     },
     "execution_count": 9,
     "metadata": {},
     "output_type": "execute_result"
    }
   ],
   "source": [
    "np.linspace(0, 1, 100)"
   ]
  },
  {
   "cell_type": "markdown",
   "metadata": {
    "id": "C3Gua8PWDJgr"
   },
   "source": [
    "<div>\n",
    "    <h1><ode>np.random.random(size)</code></h1>\n",
    "    <div>\n",
    "        <h2></h2>\n",
    "        <div>\n",
    "            <p>This creates an array of random numbers sampled from a uniform distribution between 0 and 1. We specify the dimension of the array we need, like (3, three) for a 3x3 array.</p>\n",
    "            <p></p>\n",
    "        </div>\n",
    "    </div>\n",
    "</div>"
   ]
  },
  {
   "cell_type": "code",
   "execution_count": null,
   "metadata": {
    "colab": {
     "base_uri": "https://localhost:8080/"
    },
    "id": "VTAzejJq8vXu",
    "outputId": "032d5b69-5699-4312-fb72-55aa64b09d8d"
   },
   "outputs": [
    {
     "data": {
      "text/plain": [
       "0.08970532592923308"
      ]
     },
     "execution_count": 10,
     "metadata": {},
     "output_type": "execute_result"
    }
   ],
   "source": [
    "np.random.random()"
   ]
  },
  {
   "cell_type": "code",
   "execution_count": null,
   "metadata": {
    "colab": {
     "base_uri": "https://localhost:8080/"
    },
    "id": "HCcVaB5l80C3",
    "outputId": "c342ca6b-ab5f-4d4d-cbc9-4087de828139"
   },
   "outputs": [
    {
     "data": {
      "text/plain": [
       "array([0.70410658, 0.41166173, 0.14952611, 0.98700193, 0.04152282,\n",
       "       0.94008759, 0.82225772, 0.32383619, 0.32839839, 0.27438063])"
      ]
     },
     "execution_count": 11,
     "metadata": {},
     "output_type": "execute_result"
    }
   ],
   "source": [
    "np.random.random(10)"
   ]
  },
  {
   "cell_type": "markdown",
   "metadata": {
    "id": "32uZHkE0DJj3"
   },
   "source": [
    "<div>\n",
    "    <h1><ode>np.random.randint(low, high, size)</code></h1>\n",
    "    <div>\n",
    "        <h2></h2>\n",
    "        <div>\n",
    "            <p>This creates an array of random integers inside the designated range. We specify the low (inclusive) and high (extraordinary) endpoints of the range, in addition to the size of the array.</p>\n",
    "            <p></p>\n",
    "        </div>\n",
    "    </div>\n",
    "</div>"
   ]
  },
  {
   "cell_type": "code",
   "execution_count": null,
   "metadata": {
    "colab": {
     "base_uri": "https://localhost:8080/"
    },
    "id": "vqrGYFOf9N44",
    "outputId": "b99c17b4-f0a4-41de-ef73-7904736a990d"
   },
   "outputs": [
    {
     "data": {
      "text/plain": [
       "array([90, 88, 14, 18, 45, 43, 83, 87, 83, 98])"
      ]
     },
     "execution_count": 12,
     "metadata": {},
     "output_type": "execute_result"
    }
   ],
   "source": [
    "np.random.randint(10, 100, 10)"
   ]
  },
  {
   "cell_type": "markdown",
   "metadata": {
    "id": "GKrZ0na0DJnI"
   },
   "source": [
    "<div>\n",
    "    <div>\n",
    "        <div>\n",
    "            <p>We can create a 4x5 NumPy array filled with two-digit random numbers as:</p>\n",
    "            <p></p>\n",
    "        </div>\n",
    "    </div>\n",
    "</div>"
   ]
  },
  {
   "cell_type": "code",
   "execution_count": null,
   "metadata": {
    "colab": {
     "base_uri": "https://localhost:8080/"
    },
    "id": "FE8yZKL_9hsZ",
    "outputId": "cab08d1d-f977-4e13-e076-7a6805dc0267"
   },
   "outputs": [
    {
     "data": {
      "text/plain": [
       "array([[82, 21, 27, 52, 82],\n",
       "       [99, 12, 51, 86, 56],\n",
       "       [11, 48, 11, 93, 16],\n",
       "       [37, 53, 86, 80, 50]])"
      ]
     },
     "execution_count": 13,
     "metadata": {},
     "output_type": "execute_result"
    }
   ],
   "source": [
    "np.random.randint(10, 100, 20).reshape(4, 5)"
   ]
  },
  {
   "cell_type": "code",
   "execution_count": null,
   "metadata": {
    "colab": {
     "base_uri": "https://localhost:8080/"
    },
    "id": "LGqb9qYI9tbB",
    "outputId": "1ba978ef-780a-4f63-dcd3-ab8d21248218"
   },
   "outputs": [
    {
     "data": {
      "text/plain": [
       "array([[[86, 67],\n",
       "        [94, 54],\n",
       "        [42, 91],\n",
       "        [89, 59],\n",
       "        [57, 23]],\n",
       "\n",
       "       [[75, 34],\n",
       "        [35, 97],\n",
       "        [46, 56],\n",
       "        [11, 26],\n",
       "        [80, 96]]])"
      ]
     },
     "execution_count": 14,
     "metadata": {},
     "output_type": "execute_result"
    }
   ],
   "source": [
    "np.random.randint(10, 100, 20).reshape(2, 5, 2)"
   ]
  },
  {
   "cell_type": "markdown",
   "metadata": {
    "id": "wAjZrxbt9ZEH"
   },
   "source": [
    "<div>\n",
    "    <h1><code>transpose()</code></h1>\n",
    "    <div>\n",
    "        <h2></h2>\n",
    "        <div>\n",
    "            <p>This function returns the transpose of the array, which is basically flipping the array along its diagonal. It swaps the rows and columns of the array.</p>\n",
    "            <p></p>\n",
    "        </div>\n",
    "    </div>\n",
    "</div>"
   ]
  },
  {
   "cell_type": "code",
   "execution_count": null,
   "metadata": {
    "id": "qQdwXZP2-XqD"
   },
   "outputs": [],
   "source": [
    "a = np.random.randint(10, 100, 20).reshape(4, 5)"
   ]
  },
  {
   "cell_type": "code",
   "execution_count": null,
   "metadata": {
    "colab": {
     "base_uri": "https://localhost:8080/"
    },
    "id": "inOwUJi--cR_",
    "outputId": "49b9b06f-5c53-4f21-dfa6-88b282b3a9d5"
   },
   "outputs": [
    {
     "data": {
      "text/plain": [
       "array([[51, 89, 22, 26, 14],\n",
       "       [37, 59, 57, 94, 79],\n",
       "       [74, 76, 31, 31, 55],\n",
       "       [13, 49, 68, 48, 51]])"
      ]
     },
     "execution_count": 17,
     "metadata": {},
     "output_type": "execute_result"
    }
   ],
   "source": [
    "a"
   ]
  },
  {
   "cell_type": "code",
   "execution_count": null,
   "metadata": {
    "colab": {
     "base_uri": "https://localhost:8080/"
    },
    "id": "aBpgMZqv-aNq",
    "outputId": "96fae968-fcdb-4cee-f6ce-76be65c08377"
   },
   "outputs": [
    {
     "data": {
      "text/plain": [
       "array([[51, 37, 74, 13],\n",
       "       [89, 59, 76, 49],\n",
       "       [22, 57, 31, 68],\n",
       "       [26, 94, 31, 48],\n",
       "       [14, 79, 55, 51]])"
      ]
     },
     "execution_count": 16,
     "metadata": {},
     "output_type": "execute_result"
    }
   ],
   "source": [
    "a.T"
   ]
  },
  {
   "cell_type": "code",
   "execution_count": null,
   "metadata": {
    "colab": {
     "base_uri": "https://localhost:8080/"
    },
    "id": "8DVWmA4Q-eyC",
    "outputId": "8cc572a8-3720-4fd9-cfb5-b53ac03dd851"
   },
   "outputs": [
    {
     "data": {
      "text/plain": [
       "array([[51, 37, 74, 13],\n",
       "       [89, 59, 76, 49],\n",
       "       [22, 57, 31, 68],\n",
       "       [26, 94, 31, 48],\n",
       "       [14, 79, 55, 51]])"
      ]
     },
     "execution_count": 18,
     "metadata": {},
     "output_type": "execute_result"
    }
   ],
   "source": [
    "a.transpose()"
   ]
  },
  {
   "cell_type": "code",
   "execution_count": null,
   "metadata": {
    "id": "WxocWjnO-kVI"
   },
   "outputs": [],
   "source": [
    "b = np.random.randint(10, 100, 20).reshape(2, 5, 2)"
   ]
  },
  {
   "cell_type": "code",
   "execution_count": null,
   "metadata": {
    "colab": {
     "base_uri": "https://localhost:8080/"
    },
    "id": "BK81t1cH-lYn",
    "outputId": "b601350b-df97-496a-9bde-2318297f321b"
   },
   "outputs": [
    {
     "data": {
      "text/plain": [
       "array([[[93, 25],\n",
       "        [22, 82],\n",
       "        [57, 25],\n",
       "        [42, 83],\n",
       "        [39, 25]],\n",
       "\n",
       "       [[49, 15],\n",
       "        [82, 33],\n",
       "        [91, 85],\n",
       "        [72, 78],\n",
       "        [76, 62]]])"
      ]
     },
     "execution_count": 20,
     "metadata": {},
     "output_type": "execute_result"
    }
   ],
   "source": [
    "b"
   ]
  },
  {
   "cell_type": "code",
   "execution_count": null,
   "metadata": {
    "colab": {
     "base_uri": "https://localhost:8080/"
    },
    "id": "3K0xjkG9-mKt",
    "outputId": "df763c8f-359b-482d-fe69-3651bfab8aaa"
   },
   "outputs": [
    {
     "data": {
      "text/plain": [
       "array([[[93, 49],\n",
       "        [22, 82],\n",
       "        [57, 91],\n",
       "        [42, 72],\n",
       "        [39, 76]],\n",
       "\n",
       "       [[25, 15],\n",
       "        [82, 33],\n",
       "        [25, 85],\n",
       "        [83, 78],\n",
       "        [25, 62]]])"
      ]
     },
     "execution_count": 21,
     "metadata": {},
     "output_type": "execute_result"
    }
   ],
   "source": [
    "b.T"
   ]
  },
  {
   "cell_type": "code",
   "execution_count": null,
   "metadata": {
    "colab": {
     "base_uri": "https://localhost:8080/"
    },
    "id": "w1Uz0JKr-oJx",
    "outputId": "bf7cbf71-3293-4a5d-bccc-ebb7873c8f14"
   },
   "outputs": [
    {
     "data": {
      "text/plain": [
       "array([[[93, 49],\n",
       "        [22, 82],\n",
       "        [57, 91],\n",
       "        [42, 72],\n",
       "        [39, 76]],\n",
       "\n",
       "       [[25, 15],\n",
       "        [82, 33],\n",
       "        [25, 85],\n",
       "        [83, 78],\n",
       "        [25, 62]]])"
      ]
     },
     "execution_count": 22,
     "metadata": {},
     "output_type": "execute_result"
    }
   ],
   "source": [
    "b.transpose()"
   ]
  },
  {
   "cell_type": "markdown",
   "metadata": {
    "id": "Ncg2zwzB9ZL_"
   },
   "source": [
    "<div>\n",
    "    <h1><code>reshape()</code></h1>\n",
    "    <div>\n",
    "        <h2></h2>\n",
    "        <div>\n",
    "            <p>This approach reshapes the array into a new shape without changing its information. We specify the dimensions in which we want to rearrange the array.</p>\n",
    "            <p></p>\n",
    "        </div>\n",
    "    </div>\n",
    "</div>"
   ]
  },
  {
   "cell_type": "code",
   "execution_count": null,
   "metadata": {
    "colab": {
     "base_uri": "https://localhost:8080/"
    },
    "id": "g2Tf2a4g_Qmd",
    "outputId": "de3a88a4-5ca8-45e4-8656-31f9558c739d"
   },
   "outputs": [
    {
     "data": {
      "text/plain": [
       "array([[[12, 25],\n",
       "        [87, 24],\n",
       "        [69, 34],\n",
       "        [75, 74],\n",
       "        [70, 33]],\n",
       "\n",
       "       [[80, 96],\n",
       "        [50, 72],\n",
       "        [64, 82],\n",
       "        [11, 46],\n",
       "        [16, 37]]])"
      ]
     },
     "execution_count": 23,
     "metadata": {},
     "output_type": "execute_result"
    }
   ],
   "source": [
    "np.random.randint(10, 100, 20).reshape(2, 5, 2)"
   ]
  },
  {
   "cell_type": "markdown",
   "metadata": {
    "id": "pj88d8rf9ZPm"
   },
   "source": [
    "<div>\n",
    "    <h1></h1>\n",
    "    <div>\n",
    "        <h2></h2>\n",
    "        <div>\n",
    "            <p></p>\n",
    "            <p></p>\n",
    "        </div>\n",
    "    </div>\n",
    "</div>"
   ]
  },
  {
   "cell_type": "markdown",
   "metadata": {
    "id": "dyi2IPHT9ZS7"
   },
   "source": [
    "<div>\n",
    "    <h1></h1>\n",
    "    <div>\n",
    "        <h2></h2>\n",
    "        <div>\n",
    "            <p></p>\n",
    "            <p></p>\n",
    "        </div>\n",
    "    </div>\n",
    "</div>"
   ]
  },
  {
   "cell_type": "markdown",
   "metadata": {
    "id": "448RbWu59ZV-"
   },
   "source": [
    "<div>\n",
    "    <h1></h1>\n",
    "    <div>\n",
    "        <h2></h2>\n",
    "        <div>\n",
    "            <p></p>\n",
    "            <p></p>\n",
    "        </div>\n",
    "    </div>\n",
    "</div>"
   ]
  },
  {
   "cell_type": "markdown",
   "metadata": {
    "id": "qBa0OPl79ZZR"
   },
   "source": [
    "<div>\n",
    "    <h1></h1>\n",
    "    <div>\n",
    "        <h2></h2>\n",
    "        <div>\n",
    "            <p></p>\n",
    "            <p></p>\n",
    "        </div>\n",
    "    </div>\n",
    "</div>"
   ]
  },
  {
   "cell_type": "markdown",
   "metadata": {
    "id": "kMbtenva9Zce"
   },
   "source": [
    "<div>\n",
    "    <h1></h1>\n",
    "    <div>\n",
    "        <h2></h2>\n",
    "        <div>\n",
    "            <p></p>\n",
    "            <p></p>\n",
    "        </div>\n",
    "    </div>\n",
    "</div>"
   ]
  },
  {
   "cell_type": "markdown",
   "metadata": {
    "id": "JZCbenyi9Zfj"
   },
   "source": [
    "<div>\n",
    "    <h1></h1>\n",
    "    <div>\n",
    "        <h2></h2>\n",
    "        <div>\n",
    "            <p></p>\n",
    "            <p></p>\n",
    "        </div>\n",
    "    </div>\n",
    "</div>"
   ]
  },
  {
   "cell_type": "markdown",
   "metadata": {
    "id": "7wVp_kzDDJqv"
   },
   "source": [
    "<div>\n",
    "    <h1></h1>\n",
    "    <div>\n",
    "        <h2></h2>\n",
    "        <div>\n",
    "            <p></p>\n",
    "            <p></p>\n",
    "        </div>\n",
    "    </div>\n",
    "</div>"
   ]
  },
  {
   "cell_type": "markdown",
   "metadata": {
    "id": "jN7cGb1HDJua"
   },
   "source": [
    "<div>\n",
    "    <h1></h1>\n",
    "    <div>\n",
    "        <h2></h2>\n",
    "        <div>\n",
    "            <p></p>\n",
    "            <p></p>\n",
    "        </div>\n",
    "    </div>\n",
    "</div>"
   ]
  },
  {
   "cell_type": "markdown",
   "metadata": {
    "id": "JFgYnZ2YDJ0_"
   },
   "source": [
    "<div>\n",
    "    <h1></h1>\n",
    "    <div>\n",
    "        <h2></h2>\n",
    "        <div>\n",
    "            <p></p>\n",
    "            <p></p>\n",
    "        </div>\n",
    "    </div>\n",
    "</div>"
   ]
  },
  {
   "cell_type": "markdown",
   "metadata": {
    "id": "6iwaSK20DJ4M"
   },
   "source": [
    "<div>\n",
    "    <h1></h1>\n",
    "    <div>\n",
    "        <h2></h2>\n",
    "        <div>\n",
    "            <p></p>\n",
    "            <p></p>\n",
    "        </div>\n",
    "    </div>\n",
    "</div>"
   ]
  },
  {
   "cell_type": "code",
   "execution_count": null,
   "metadata": {
    "id": "XC-V-lIg_VU9"
   },
   "outputs": [],
   "source": []
  }
 ],
 "metadata": {
  "colab": {
   "provenance": []
  },
  "kernelspec": {
   "display_name": "Python 3 (ipykernel)",
   "language": "python",
   "name": "python3"
  },
  "language_info": {
   "codemirror_mode": {
    "name": "ipython",
    "version": 3
   },
   "file_extension": ".py",
   "mimetype": "text/x-python",
   "name": "python",
   "nbconvert_exporter": "python",
   "pygments_lexer": "ipython3",
   "version": "3.11.5"
  }
 },
 "nbformat": 4,
 "nbformat_minor": 1
}
