{
  "nbformat": 4,
  "nbformat_minor": 0,
  "metadata": {
    "colab": {
      "provenance": []
    },
    "kernelspec": {
      "name": "python3",
      "display_name": "Python 3"
    },
    "language_info": {
      "name": "python"
    }
  },
  "cells": [
    {
      "cell_type": "markdown",
      "source": [
        "<h1>NumPy</h1>\n"
      ],
      "metadata": {
        "id": "LuSp8z_40-Bf"
      }
    },
    {
      "cell_type": "markdown",
      "source": [
        "<div>\n",
        "    <h1>NumPy - Analogy</h1>\n",
        "    <p><b>NumPy</b> is like an extraordinary-powered calculator Python. It enables you to do math and paintings with numbers in a simple green manner.</p>\n",
        "    <p>Imagine you have got a gaggle of numbers you want to paintings with, like grades in a category or measurements from a test. NumPy lets you to organize these numbers into something called an array. An array is like a listing of numbers, but it can have a couple of dimensions, type of like a desk filled with numbers having many directions.</p>\n",
        "    <p>Once you have got your numbers in arrays, NumPy gives you lots of gear to do math with them. You can add these arrays, subtract them, multiply them, and divide them like you will with everyday numbers. But NumPy additionally helps you to extra superior math, like unit conversions, statistics, and linear algebra</p>\n",
        "    <p>One cool factor about NumPy is that it is really fast. It’s built to handle really large sets of numbers lightning-fast, which it incredible for things like reading large datasets or running complex simulations.</p>\n",
        "</div>"
      ],
      "metadata": {
        "id": "HmpFgICu1F0U"
      }
    },
    {
      "cell_type": "markdown",
      "source": [
        "<div>\n",
        "    <h1>NumPy Introduction</h1>\n",
        "    <div>\n",
        "        <h2>What is NumPy?</h2>\n",
        "        <p>NumPy is a Python library for numerical computations and data manipulation. It provides support for creating and working with arrays, which are like multi-dimensional lists of numbers.</p>\n",
        "    </div>\n",
        "    <div>\n",
        "        <h2>Key Features</h2>\n",
        "        <ul>\n",
        "            <li>Efficient handling of large datasets and arrays.</li>\n",
        "            <li>Powerful mathematical functions and operations.</li>\n",
        "            <li>Support for multi-dimensional arrays (like tables), etc.</li>\n",
        "            <li>Integration with other Python libraries for data analysis and visualization.</li>\n",
        "        </ul>\n",
        "    </div>\n",
        "    <div>\n",
        "        <h2>Why use NumPy?</h2>\n",
        "        <p>NumPy is fast and efficient, making it ideal for working with large datasets and performing complex mathematical operations. It simplifies computations and provides tools for data manipulation and analysis.</p>\n",
        "    </div>\n",
        "    <div>\n",
        "        <h2>Example Use Cases</h2>\n",
        "        <ul>\n",
        "            <li>Analyzing scientific data and experimental results</li>\n",
        "            <li>Implementing machine learning algorithms</li>\n",
        "            <li>Performing signal processing and image manipulation</li>\n",
        "            <li>Simulating mathematical models and physical systems.</li>\n",
        "        </ul>\n",
        "    </div>\n",
        "    <p></p>\n",
        "</div>"
      ],
      "metadata": {
        "id": "qdUINWK-4Cuk"
      }
    },
    {
      "cell_type": "markdown",
      "source": [
        "<div>\n",
        "    <h1>NumPy Installation</h1>\n",
        "    <p>Below is a step-by-step manual on the way to installation a Python package using pip and import it underneath an alias:</p>\n",
        "    <p><b>Step 1</b>: Install pip within the Package</p>\n",
        "    <div>\n",
        "        <p>You can like, effortlessly set up the Python package perhaps by means of the use of the elegant following command from your terminal or command activate:</p>\n",
        "        <code>pip install package_name</code>\n",
        "        <p>Replace package_name with the call of the package you, like, need to install. For example:</p>\n",
        "    </div>\n",
        "</div>"
      ],
      "metadata": {
        "id": "UilbtADA4En-"
      }
    },
    {
      "cell_type": "code",
      "source": [
        "pip install numpy"
      ],
      "metadata": {
        "id": "1oZk4mP04D0f"
      },
      "execution_count": null,
      "outputs": []
    },
    {
      "cell_type": "markdown",
      "source": [
        "<div>\n",
        "    <p>This command will, absolute confidence, download and set up the NumPy bundle in your device.</p>\n",
        "    <p><b>Step 2</b>: Import the bundle with the alias</p>\n",
        "    <p>Once the package is set up, you can import it into the Python script by making use of the <code>import</code> key-phrase. You can also assign an alias to a package for usage using the <code>as</code> key word. Here's how you can do it:</p>\n",
        "    <p><b>Syntax</b>: <code>import package_name as alias</code></p>\n",
        "    <p>Replace <code>package_name</code> with the name, <code>alias</code>, and non-compulsory alias of the package is established. For instance:</p>\n",
        "</div>"
      ],
      "metadata": {
        "id": "BggP4JDK4udI"
      }
    },
    {
      "cell_type": "code",
      "execution_count": null,
      "metadata": {
        "id": "NYOzd-rr0WFa"
      },
      "outputs": [],
      "source": [
        "import numpy as np"
      ]
    },
    {
      "cell_type": "markdown",
      "source": [
        "<div>\n",
        "    <p>This will, genuinely, exactly refer to the NumPy package and assign it the alias <code>np</code>, so we can use <code>np</code> as a shorthand for <code>numpy</code> in code.</p>\n",
        "</div>"
      ],
      "metadata": {
        "id": "GdSIqf_i5_r3"
      }
    },
    {
      "cell_type": "markdown",
      "source": [
        "<div>\n",
        "    <h1>Conda Installation</h1>\n",
        "    <p>Conda installation is a command that is with Conda, which is like a package and environment manage gadget that is typically used for records science and clinical computing in Python. Conda comes bundled with the Anaconda distribution, but it may additionally be installed one after the other via Miniconda.</p>\n",
        "</div>"
      ],
      "metadata": {
        "id": "vRiR-rkb6Vh2"
      }
    },
    {
      "cell_type": "markdown",
      "source": [
        "<div><h1>Differences between Conda and Pip</h1></div>"
      ],
      "metadata": {
        "id": "WVtNqp7G75an"
      }
    },
    {
      "cell_type": "markdown",
      "source": [
        "<div>\n",
        "    <h2>Package Management</h2>\n",
        "    <div>\n",
        "        <h3>Pip</h3>\n",
        "        <p>Pip, being the default package manager for Python, it installs Python applications from the Python Package Index (PyPI) and other repositories. Pip installs programs globally or within a digital surroundings.</p>\n",
        "    </div>\n",
        "    <div>\n",
        "        <h3>Conda</h3>\n",
        "        <p>Conda is a package supervisor who does things a bit differently. It installs applications from the Anaconda repository and can install both Python applications and non-Python packages. It can handle libraries written in different programming languages like R, C, C++, and so on. Conda moreover takes care of managing dependencies and can even install more than one version of the same bundle in remote environments.</p>\n",
        "    </div>\n",
        "</div>"
      ],
      "metadata": {
        "id": "TmLzG4mG6-YI"
      }
    },
    {
      "cell_type": "markdown",
      "source": [
        "<div>\n",
        "    <h2>Environment Management</h2>\n",
        "    <div>\n",
        "        <h3>Pip</h3>\n",
        "        <p>Although Pip is quite handy when it comes to package management, it doesn't offer any fancy built-in surroundings control capabilities. But we can still use virtual environments (virtualenv or venv) to create isolated environments for Python initiatives. </p>\n",
        "    </div>\n",
        "    <div>\n",
        "        <h3>Conda</h3>\n",
        "        <p>Now, Conda takes things to a whole new level with its built-in environment control functionality. With Conda, we can create isolated environments effortlessly. These environments enable us to install programs independently in each environment without affecting the system or other environments.  This is especially useful for managing dependencies and making sure that your Python projects are as reproducible as they can be!</p>\n",
        "    </div>\n",
        "</div>"
      ],
      "metadata": {
        "id": "wKe4-2TR7y4g"
      }
    },
    {
      "cell_type": "markdown",
      "source": [
        "<div>\n",
        "    <h2>Cross-Platform Compatibility</h2>\n",
        "    <div>\n",
        "        <h3>Pip</h3>\n",
        "        <p>Pip installs Python applications and is generally designed for Python environments. Pip is a helpful tool for installing Python applications. It has been specifically designed for Python environments.</p>\n",
        "    </div>\n",
        "    <div>\n",
        "        <h3>Conda</h3>\n",
        "        <p>Conda installs both Python and non-Python programs and is designed to handle multiple Operating Systems (Windows, MacOS, Linux). It manages applications and dependencies in a platform-impartial manner!</p>\n",
        "    </div>\n",
        "</div>"
      ],
      "metadata": {
        "id": "H-b7oGKV8wX6"
      }
    },
    {
      "cell_type": "markdown",
      "source": [
        "<div>\n",
        "    <h2>Package Sources</h2>\n",
        "    <div>\n",
        "        <h3>Pip</h3>\n",
        "        <p>Pip installs programs from the Python Package Index (PyPI) via default, but it can additionally set up packages from other resources like, model control repositories (Git, Mercurial), local directories, or URLs.</p>\n",
        "    </div>\n",
        "    <div>\n",
        "        <h3>Conda</h3>\n",
        "        <p>Conda installs packages from the Anaconda repository by default, however it can additionally deploy programs from other channels or resources, which, include PyPI. Conda channels allow users to get right of entry to applications no longer available inside the default Anaconda repository.</p>\n",
        "    </div>\n",
        "</div>"
      ],
      "metadata": {
        "id": "8_p9fCFX9UOz"
      }
    },
    {
      "cell_type": "markdown",
      "source": [
        "<div>\n",
        "    <h2>Summary</h2>\n",
        "    <div>\n",
        "        <p>In summary, while both pip and Conda are package managers for Python, Conda gives extra features, like, consisting of environment management, go-platform compatibility, and aid for non-Python programs. The choice between pip and Conda relies upon to your unique requirements and the characteristics of your Python projects!</p>\n",
        "    </div>\n",
        "</div>"
      ],
      "metadata": {
        "id": "Av-zIoNB9uvS"
      }
    },
    {
      "cell_type": "markdown",
      "source": [
        "<div>\n",
        "    <h1>Location Packages</h1>\n",
        "    <div>\n",
        "        <div>\n",
        "            <h2>Pip</h2>\n",
        "            <p>By default, programs established using pip are saved in a list known as website-packages. These website-packages lists contain various libraries and modules that facilitate the functionality of Python applications.</p>\n",
        "            <p>The area of website-applications varies depending on your Python installation as well as your strolling system. Sometimes, it may even be located erroneously due to compatibility issues.</p>\n",
        "            <p>Typically, for a worldwide Python set up, internet site-packages is placed in the Python installation directory, can also be falsely labelled “Python existence.”</p>\n",
        "            <p>For virtual environments created with virtualenv or venv, website online-programs is positioned in the digital surroundings list, might also be misspelled as “evirontment.”</p>\n",
        "        </div>\n",
        "        <div>\n",
        "            <h2>Conda</h2>\n",
        "            <p>Packages set up using conda are saved within the conda surroundings—an unconventional and perplexing structure.</p>\n",
        "            <p>Each conda environment has its very own list—some may say, a jumbled jigsaw puzzle—wherein programs are stored. The peculiar location of these jumbled pieces depends on in that you created it and your working device. Undoubtedly, it can be quite baffling if you are unfamiliar with the peculiarities of the conda system.</p>\n",
        "            <p>Typically, conda environments are saved inside a list named envs within the conda installation directory. However, locating this directory can sometimes be akin to finding a needle in a haystack, so a consecrated search might be required.</p>\n",
        "        </div>\n",
        "        <div>\n",
        "            <h2>Precis</h2>\n",
        "            <p>Python packages mounted with pip are stored in the web web page-packages listing, while applications installed with conda are stored in the cond environment list. The place might also vary depending on your Python setup and working system. Nevertheless, rest assured, that after navigating through these treacherous paths, your Python applications shall find their respective abodes.</p>\n",
        "        </div>\n",
        "    </div>\n",
        "</div>"
      ],
      "metadata": {
        "id": "XHjtA0XI-Dij"
      }
    },
    {
      "cell_type": "markdown",
      "source": [
        "<div>\n",
        "    <h1>Basic in Python</h1>\n",
        "    <div>\n",
        "        <h2>Tuple</h2>\n",
        "        <p>A tuple is an ordered collection of things, like a list, however, it is not changeable. It's created with the use of parentheses (<code>()</code>). Tuples are commonly used to maintain a set collection of objects.</p>\n",
        "        <p>Example: <code>my_tuple = (1, 'A', B, 0.14)</code></p>\n",
        "    </div>\n",
        "    <div>\n",
        "        <h2>List</h2>\n",
        "        <p>It's an ordered collection of elements that is mutable, which means that it can be modified every time. It's created with the use of rectangular brackets (<code>[]</code>). Lists can include elements of various data types.</p>\n",
        "        <p>Example: <code>my_list = [1, ‘hello’, 3.14]</code></p>\n",
        "    </div>\n",
        "    <div>\n",
        "        <h2>Dictionary</h2>\n",
        "        <p>It's an unordered series of key-price pairs. It's created using the ones curly braces (<code>{}</code>), with each key-fee pair separated by means of a colon. Dictionaries are extremely beneficial for mapping one piece of facts (the critical aspect) to every other (the value).</p>\n",
        "        <p>Example: <code>my_dict = {'name': 'John', 'age': 30, 'town': 'New York'}</code></p>\n",
        "    </div>\n",
        "    <div>\n",
        "        <h2>Set</h2>\n",
        "        <p>It's an unordered collection of points. It's created using curly braces or the set () constructor. Sets are beneficial for tasks that require valiadation and eliminating duplicates.</p>\n",
        "        <p>Example: <code>Example: my_set = {1, 2, three, four}</code></p>\n",
        "    </div>\n",
        "</div>"
      ],
      "metadata": {
        "id": "ILiy-ivH0VA8"
      }
    },
    {
      "cell_type": "markdown",
      "source": [
        "<div>\n",
        "    <h1>Characteristics of List, Tuple, Dictionary and Set</h1>\n",
        "    <div>\n",
        "        <ul>\n",
        "            <li><b>1D</b>: All these data systems are one-dimensional, which means they arrange data in a single collection.</li>\n",
        "            <li><b>Heterogeneous</b>: They can contain elements of different records kinds within the equal shape.</li>\n",
        "            <li><b>Don't allow broadcasting</b>: Unlike NumPy arrays, these basic Python information systems do not aid broadcasting, which means you cannot perform arithmetic operations on them with exceptional shapes.</li>\n",
        "            <li><b>Allow vectorization</b>: While they do not directly assist vectorized operations like NumPy arrays, you could still practice features or strategies to all factors of a statistics structure the use of listing comprehensions or other looping techniques.</li>\n",
        "        </ul>\n",
        "    </div>\n",
        "</div>"
      ],
      "metadata": {
        "id": "Gm-ygAy03KB7"
      }
    },
    {
      "cell_type": "markdown",
      "source": [
        "<div>\n",
        "    <h1>N-dimensional Arrays: An Error-Ridden Explanation</h1>\n",
        "    <div>\n",
        "        <h2>Homogeneous Nature of NumPy Arrays</h2>\n",
        "        <div>\n",
        "            <p>NumPy arrays, also known as ndarrays, possess a feature that sets them apart from Python lists: the requirement for all elements to be of the same data type. This equality garanties efficient conservations and computations as NumPy can optimize performance based on known data sets.</p>\n",
        "        </div>\n",
        "    </div>\n",
        "    <div>\n",
        "        <h2>Allow Extensibility</h2>\n",
        "        <div>\n",
        "            <p>Extensibility allows calculations between systems of different sizes. When doing operations between arrays of different sizes, NumPy has this neat trick: it inflates the smaller array to match the size of the larger one, making element-wise possible.</p>\n",
        "        </div>\n",
        "    </div>\n",
        "    <div>\n",
        "        <h2>Vectorization</h2>\n",
        "        <div>\n",
        "            <p>Due to characteristics of Vectorization, NumPy can apply functions and actions to its arrays. It does it elementwise, without any needed looping. This vectorized approach is what makes the code concise and efficient. The hidden secret is the fancy C code that runs behind the scenes, making calculations go faster!</p>\n",
        "        </div>\n",
        "    </div>\n",
        "    <div>\n",
        "        <h2>Importance and Use case</h2>\n",
        "        <div>\n",
        "            <p>NumPy arrays are important for statistical and scientific computation in Python. They allow for N-dimensional representation, uniformity, propagation, and vectorization. We can perform linear algebra operations, statistical analysis, and machine learning algorithms.</p>\n",
        "        </div>\n",
        "    </div>\n",
        "</div>"
      ],
      "metadata": {
        "id": "b9e9fmTN32pP"
      }
    },
    {
      "cell_type": "markdown",
      "source": [
        "<div>\n",
        "    <h1>Introduction to NumPy and its Functions</h1>\n",
        "    <p>The <code>print(dir(np))</code> delaration prints all the attributes and techniques available within the NumPy module. Here’s what it typically consists of:</p>\n",
        "    <div>\n",
        "        <ol>\n",
        "            <li><b>Functions creating arrays</b>: array, zeros, ones, empty, full, arange, linspace, random, eye, and many others.</li>\n",
        "            <li><b>Mathematical features</b>: upload, subtract, multiply, divide, strength, sqrt, exp, log, sin, cos, tan, and many others.</li>\n",
        "            <li><b>Array manipulation capabilities</b>: reshape, flatten, ravel, transpose, concatenate, cut up, stack, vstack, hstack, resize, and so on.</li>\n",
        "            <li><b>Statistical features</b>: mean, median, std, var, sum, min, max, argmin, argmax, percentile, and different similar ones.</li>\n",
        "            <li><b>Linear algebra functions</b>: dot, vdot, internal, outer, matmul, pass, tensordot, einsum, svd, inv, pinv, qr, lstsq, etc.</li>\n",
        "            <li><b>Fourier rework features</b>: fft, ifft, fftn, ifftn, fftshift, ifftshift, and so on.</li>\n",
        "            <li><b>Random range era capabilities</b>: rand, randn, randint, random_sample, preference, shuffle, etc.</li>\n",
        "            <li><b>Constants:</b>: pi, e, inf, nan, and many others. Remember these constants, etc.</li>\n",
        "        </ol>\n",
        "    </div>\n",
        "</div>"
      ],
      "metadata": {
        "id": "xiuZfBuV6xwZ"
      }
    },
    {
      "cell_type": "markdown",
      "source": [
        "<div>\n",
        "    <h1>Capabilities of NumPy</h1>\n",
        "    <div>\n",
        "        <ol>\n",
        "            <li><b>Combining Datasets</b>: Concatenating arrays vertically (<code>np.vstack()</code>) and horizontally (<code>np.hstack()</code>).</li>\n",
        "            <li><b>Broadcasting</b>: Automatically aligning arrays with different shapes for arithmetic operations.</li>\n",
        "            <li><b>Vectorization</b>: Efficiently applying operations to entire arrays without explicity looping.</li>\n",
        "            <li><b>Data Types</b>: Specifying the type of data stored in an array.</li>\n",
        "            <li><b>Shape and Size</b>: Understanding the dimensions and size of an array.</li>\n",
        "            <li><b>Reshaping</b>: Changing the shape of an array.</li>\n",
        "            <li><b>Iterating</b>: Iterating over elements of an array.</li>\n",
        "            <li><b>Copy vs. View</b>: Understanding the difference between copying and viewing arrays.</li>\n",
        "            <li><b>Random Module</b>: Generating random numbers and arrays with the NumPy random module.</li>\n",
        "            <li><b>Universal Functions (ufunc)</b>: Functions that operate element-wise on arrays.</li>\n",
        "        </ol>\n",
        "    </div>\n",
        "</div>"
      ],
      "metadata": {
        "id": "Uyw-fDjI7OId"
      }
    },
    {
      "cell_type": "markdown",
      "source": [
        "<h1>Simple NumPy Array</h1>"
      ],
      "metadata": {
        "id": "j4108x69-QxY"
      }
    },
    {
      "cell_type": "code",
      "source": [
        "import numpy as np"
      ],
      "metadata": {
        "id": "euMz8IvM-uiP"
      },
      "execution_count": 3,
      "outputs": []
    },
    {
      "cell_type": "code",
      "source": [
        "l1 = [1, 2, 3, 4]"
      ],
      "metadata": {
        "id": "9zbMYD8g-V98"
      },
      "execution_count": 4,
      "outputs": []
    },
    {
      "cell_type": "code",
      "source": [
        "np_arr = np.array(l1)"
      ],
      "metadata": {
        "id": "Jeqtd3_b-YnU"
      },
      "execution_count": 5,
      "outputs": []
    },
    {
      "cell_type": "markdown",
      "source": [
        "<h1>Type Conversion</h1>"
      ],
      "metadata": {
        "id": "Xth_y6bA-eJ6"
      }
    },
    {
      "cell_type": "code",
      "source": [
        "print(\"Type of the array: {}\".format(type(np_arr)))"
      ],
      "metadata": {
        "colab": {
          "base_uri": "https://localhost:8080/"
        },
        "id": "klIPi4oC-gyS",
        "outputId": "ab77f006-ea44-4516-f2d1-e3ad6d2f8626"
      },
      "execution_count": 6,
      "outputs": [
        {
          "output_type": "stream",
          "name": "stdout",
          "text": [
            "Type of the array: <class 'numpy.ndarray'>\n"
          ]
        }
      ]
    },
    {
      "cell_type": "markdown",
      "source": [
        "<div>\n",
        "    <h1></h1>\n",
        "    <div>\n",
        "        <h2></h2>\n",
        "        <div>\n",
        "            <p></p>\n",
        "            <p></p>\n",
        "        </div>\n",
        "    </div>\n",
        "</div>"
      ],
      "metadata": {
        "id": "K8GCWDQn7Oe1"
      }
    },
    {
      "cell_type": "markdown",
      "source": [
        "<div>\n",
        "    <h1></h1>\n",
        "    <div>\n",
        "        <h2></h2>\n",
        "        <div>\n",
        "            <p></p>\n",
        "            <p></p>\n",
        "        </div>\n",
        "    </div>\n",
        "</div>"
      ],
      "metadata": {
        "id": "HkpWjw0Q7Ozc"
      }
    },
    {
      "cell_type": "markdown",
      "source": [
        "<div>\n",
        "    <h1></h1>\n",
        "    <div>\n",
        "        <h2></h2>\n",
        "        <div>\n",
        "            <p></p>\n",
        "            <p></p>\n",
        "        </div>\n",
        "    </div>\n",
        "</div>"
      ],
      "metadata": {
        "id": "diVYG_fk7PHM"
      }
    },
    {
      "cell_type": "markdown",
      "source": [
        "<div>\n",
        "    <h1></h1>\n",
        "    <div>\n",
        "        <h2></h2>\n",
        "        <div>\n",
        "            <p></p>\n",
        "            <p></p>\n",
        "        </div>\n",
        "    </div>\n",
        "</div>"
      ],
      "metadata": {
        "id": "FARnUqHL7Pa8"
      }
    },
    {
      "cell_type": "code",
      "source": [],
      "metadata": {
        "id": "XC-V-lIg_VU9"
      },
      "execution_count": null,
      "outputs": []
    }
  ]
}